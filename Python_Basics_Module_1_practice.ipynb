{
  "cells": [
    {
      "cell_type": "markdown",
      "metadata": {
        "id": "view-in-github",
        "colab_type": "text"
      },
      "source": [
        "<a href=\"https://colab.research.google.com/github/ripal64/Python_Excel_Automation/blob/main/Python_Basics_Module_1_practice.ipynb\" target=\"_parent\"><img src=\"https://colab.research.google.com/assets/colab-badge.svg\" alt=\"Open In Colab\"/></a>"
      ]
    },
    {
      "cell_type": "markdown",
      "metadata": {
        "id": "ItZ8Qh9B16ek"
      },
      "source": [
        "This is a brief overview of basics concepts of Python programming"
      ]
    },
    {
      "cell_type": "markdown",
      "metadata": {
        "id": "y8Vyx71SCZGY"
      },
      "source": [
        "**Topics:**\n",
        "\n",
        "1. Syntax, comments, operations\n",
        "2. Workflow & Indentation\n",
        "3. True, False\n",
        "4. Conditions: IF, ELSE, ELIF\n",
        "5. Variable Types \n",
        "6. Lists\n",
        "7. Strings\n",
        "8. Tuples\n",
        "9. Dictionaries\n",
        "10. DataFrames\n",
        "11. Loops\n",
        "12. Functions\n",
        "\n",
        "\n",
        "\n"
      ]
    },
    {
      "cell_type": "markdown",
      "source": [
        "Helpfull links:\n",
        "\n",
        "\n",
        "\n",
        "*   https://www.datacamp.com/\n",
        "*   https://stackoverflow.com/\n",
        "*   https://www.w3schools.com/python/default.asp\n",
        "*   https://pynative.com/python/\n",
        "*   https://www.programiz.com/python-programming\n",
        "\n",
        "\n"
      ],
      "metadata": {
        "id": "gz83JTQVHJVk"
      }
    },
    {
      "cell_type": "markdown",
      "metadata": {
        "id": "UyZje8VICleI"
      },
      "source": [
        "# 1.&nbsp;Syntax"
      ]
    },
    {
      "cell_type": "code",
      "execution_count": 2,
      "metadata": {
        "id": "-j4USlfaCzNh"
      },
      "outputs": [],
      "source": [
        "# Comment\n",
        "\n",
        "# This is a comment !"
      ]
    },
    {
      "cell_type": "markdown",
      "source": [
        "Function"
      ],
      "metadata": {
        "id": "liSOdcBXIqEc"
      }
    },
    {
      "cell_type": "code",
      "source": [
        "# this function called print()\n",
        "\n",
        "print()"
      ],
      "metadata": {
        "id": "LRcfx6_vIveg",
        "outputId": "140ddf6a-395c-4dc9-fe53-f5e4c77d4066",
        "colab": {
          "base_uri": "https://localhost:8080/"
        }
      },
      "execution_count": 3,
      "outputs": [
        {
          "output_type": "stream",
          "name": "stdout",
          "text": [
            "\n"
          ]
        }
      ]
    },
    {
      "cell_type": "markdown",
      "source": [
        "The *print()* function prints the specified message to the screen, or other standard output device.\n",
        "\n",
        "The message can be a string, or any other object, the object will be converted into a string before written to the screen."
      ],
      "metadata": {
        "id": "SbxPjINSrWoH"
      }
    },
    {
      "cell_type": "code",
      "execution_count": 4,
      "metadata": {
        "id": "1EED_IDgCn85",
        "outputId": "6b08a458-31fe-4d0a-82a4-1805e1aa4cb2",
        "colab": {
          "base_uri": "https://localhost:8080/"
        }
      },
      "outputs": [
        {
          "output_type": "stream",
          "name": "stdout",
          "text": [
            "Hello world\n"
          ]
        }
      ],
      "source": [
        "# to display the string 'Hello world' use the function print()\n",
        "\n",
        "# as Hello world is a string you have to add single or double quotations marks\n",
        "\n",
        "print('Hello world')"
      ]
    },
    {
      "cell_type": "code",
      "execution_count": 5,
      "metadata": {
        "id": "9U7laFcWDHKQ",
        "outputId": "93af315b-abba-49b1-bfdd-b53fe9aa2960",
        "colab": {
          "base_uri": "https://localhost:8080/"
        }
      },
      "outputs": [
        {
          "output_type": "stream",
          "name": "stdout",
          "text": [
            "2\n"
          ]
        }
      ],
      "source": [
        "# numbers\n",
        "\n",
        "print(2)"
      ]
    },
    {
      "cell_type": "code",
      "execution_count": 6,
      "metadata": {
        "id": "2tl2osBcCwqx",
        "outputId": "71904c8f-78d1-4e3e-859f-6c3ea2cad7a4",
        "colab": {
          "base_uri": "https://localhost:8080/"
        }
      },
      "outputs": [
        {
          "output_type": "stream",
          "name": "stdout",
          "text": [
            "5\n"
          ]
        }
      ],
      "source": [
        "# operations / calculation\n",
        "\n",
        "print(2+3)"
      ]
    },
    {
      "cell_type": "code",
      "source": [
        "2+3"
      ],
      "metadata": {
        "id": "UIb69VacKr5g",
        "outputId": "741d61c7-2188-4f11-867c-10154879d5af",
        "colab": {
          "base_uri": "https://localhost:8080/"
        }
      },
      "execution_count": 7,
      "outputs": [
        {
          "output_type": "execute_result",
          "data": {
            "text/plain": [
              "5"
            ]
          },
          "metadata": {},
          "execution_count": 7
        }
      ]
    },
    {
      "cell_type": "code",
      "source": [
        "2+4\n",
        "print(2+3)\n",
        "print(1*8)"
      ],
      "metadata": {
        "id": "-FJFYI2LLe8V",
        "colab": {
          "base_uri": "https://localhost:8080/"
        },
        "outputId": "e4acf876-9a4f-4114-bfaf-098e324a4c2c"
      },
      "execution_count": 8,
      "outputs": [
        {
          "output_type": "stream",
          "name": "stdout",
          "text": [
            "5\n",
            "8\n"
          ]
        }
      ]
    },
    {
      "cell_type": "code",
      "execution_count": 9,
      "metadata": {
        "id": "d9dgKKRhDJGV",
        "outputId": "5a6f5a42-9efa-4828-a8c7-88d1e4fad59e",
        "colab": {
          "base_uri": "https://localhost:8080/"
        }
      },
      "outputs": [
        {
          "output_type": "stream",
          "name": "stdout",
          "text": [
            "This is a string\n",
            "This is a string\n"
          ]
        }
      ],
      "source": [
        "# string/text ==> quotation marks: single or double\n",
        "\n",
        "print('This is a string')\n",
        "print(\"This is a string\")"
      ]
    },
    {
      "cell_type": "code",
      "execution_count": 10,
      "metadata": {
        "id": "Wyr2-8pnDQmw",
        "colab": {
          "base_uri": "https://localhost:8080/"
        },
        "outputId": "6c6b3c6b-720a-4f8c-eb35-7c602d87b7c3"
      },
      "outputs": [
        {
          "output_type": "stream",
          "name": "stdout",
          "text": [
            "2\n",
            "3\n",
            "2 3\n"
          ]
        }
      ],
      "source": [
        "# variables\n",
        "\n",
        "# to assign a value use the symbol =\n",
        "# assign a numerical variables\n",
        "\n",
        "x = 2\n",
        "y = 3\n",
        "\n",
        "print(x)\n",
        "print(y)\n",
        "print(x, y)"
      ]
    },
    {
      "cell_type": "code",
      "execution_count": 11,
      "metadata": {
        "id": "pM5wsL-3DcDs",
        "colab": {
          "base_uri": "https://localhost:8080/"
        },
        "outputId": "fd9cc806-9767-4324-d34e-e38ab42b9738"
      },
      "outputs": [
        {
          "output_type": "execute_result",
          "data": {
            "text/plain": [
              "5"
            ]
          },
          "metadata": {},
          "execution_count": 11
        }
      ],
      "source": [
        "# make operations with assigned variables\n",
        "\n",
        "x+y"
      ]
    },
    {
      "cell_type": "code",
      "source": [
        "# assign a 'text' value to a variable\n",
        "# make operations with strings\n",
        "\n",
        "string1='love'\n",
        "string2='data'\n",
        "\n",
        "print(string1)\n",
        "print(string2)\n",
        "\n",
        "# concatenate them\n",
        "print(string1 + string2)"
      ],
      "metadata": {
        "id": "-qkRXhjWz393",
        "colab": {
          "base_uri": "https://localhost:8080/"
        },
        "outputId": "00a5decc-e212-4bd2-a0fc-9ddb1a5325fa"
      },
      "execution_count": 12,
      "outputs": [
        {
          "output_type": "stream",
          "name": "stdout",
          "text": [
            "love\n",
            "data\n",
            "lovedata\n"
          ]
        }
      ]
    },
    {
      "cell_type": "code",
      "source": [
        "# add a space\n",
        "print(string1 + ' ' + string2)"
      ],
      "metadata": {
        "id": "VAxYSLO6MHsJ",
        "colab": {
          "base_uri": "https://localhost:8080/"
        },
        "outputId": "ef0aef4f-5b4d-484e-e427-2505a60286c0"
      },
      "execution_count": 13,
      "outputs": [
        {
          "output_type": "stream",
          "name": "stdout",
          "text": [
            "love data\n"
          ]
        }
      ]
    },
    {
      "cell_type": "markdown",
      "source": [
        "# 2.&nbsp;Workflow & Indentation"
      ],
      "metadata": {
        "id": "yDHbUKWR6rEq"
      }
    },
    {
      "cell_type": "markdown",
      "source": [
        "Workflow is the series of activities that are necessary to complete a task"
      ],
      "metadata": {
        "id": "KvnMKa6Q6Vog"
      }
    },
    {
      "cell_type": "markdown",
      "source": [
        "Indentation refers to the spaces at the beginning of a code line.\n",
        "\n",
        "Where in other programming languages the indentation in code is for readability only, the indentation in Python is very important.\n",
        "\n",
        "Python uses indentation to indicate a block of code. The standard Python indentation is 4 spaces, although tabs and any other space size will work, as long as it is consistent. \n",
        "\n",
        "\n"
      ],
      "metadata": {
        "id": "RFVAV3c_6pSF"
      }
    },
    {
      "cell_type": "code",
      "source": [
        "# Python will give you an error if you skip the indentation:\n",
        "\n",
        "a=5\n",
        "b=2\n",
        "\n",
        "'''\n",
        "if a > b:\n",
        "print(\"a is greater than b !\")'''"
      ],
      "metadata": {
        "id": "wwiv1Tb47B86",
        "colab": {
          "base_uri": "https://localhost:8080/",
          "height": 35
        },
        "outputId": "79ced0b7-c132-4aa6-a583-480ff9c47b8f"
      },
      "execution_count": 14,
      "outputs": [
        {
          "output_type": "execute_result",
          "data": {
            "text/plain": [
              "'\\nif a > b:\\nprint(\"a is greater than b !\")'"
            ],
            "application/vnd.google.colaboratory.intrinsic+json": {
              "type": "string"
            }
          },
          "metadata": {},
          "execution_count": 14
        }
      ]
    },
    {
      "cell_type": "code",
      "source": [
        "# the correct way to use indentation\n",
        "# ends with a colon (:)\n",
        "\n",
        "a=5\n",
        "\n",
        "b=2\n",
        "\n",
        "if a > b:\n",
        "  print(\"a is greater than b ! \")"
      ],
      "metadata": {
        "id": "32nwt5pG6om_",
        "colab": {
          "base_uri": "https://localhost:8080/"
        },
        "outputId": "d754bdb8-abec-47b5-b089-35f4161f6fef"
      },
      "execution_count": 15,
      "outputs": [
        {
          "output_type": "stream",
          "name": "stdout",
          "text": [
            "a is greater than b ! \n"
          ]
        }
      ]
    },
    {
      "cell_type": "markdown",
      "source": [
        "# 3.&nbsp;True, False"
      ],
      "metadata": {
        "id": "Ghvv-PtA8E3_"
      }
    },
    {
      "cell_type": "code",
      "source": [
        "# Boolean True, False\n",
        "\n",
        "# If a statement is correct then it will return True\n",
        "# IF the statement is NOT correct , it will return False\n",
        "# use == symbol\n",
        "\n",
        "a=1\n",
        "b=2\n",
        "c=1\n",
        "\n",
        "print(a==b)"
      ],
      "metadata": {
        "id": "yyqL-2dO7x38",
        "colab": {
          "base_uri": "https://localhost:8080/"
        },
        "outputId": "4eea412d-5726-43c4-e666-2e487e8f664e"
      },
      "execution_count": 16,
      "outputs": [
        {
          "output_type": "stream",
          "name": "stdout",
          "text": [
            "False\n"
          ]
        }
      ]
    },
    {
      "cell_type": "code",
      "source": [
        "var_1 = 2\n",
        "print(var_1)"
      ],
      "metadata": {
        "id": "x1foPZNrlPXx",
        "colab": {
          "base_uri": "https://localhost:8080/"
        },
        "outputId": "aca7a993-eb31-4f44-a6d9-d42334a5ad49"
      },
      "execution_count": 17,
      "outputs": [
        {
          "output_type": "stream",
          "name": "stdout",
          "text": [
            "2\n"
          ]
        }
      ]
    },
    {
      "cell_type": "code",
      "source": [
        "print(a==c)"
      ],
      "metadata": {
        "id": "qcV_vGkY8pZk",
        "colab": {
          "base_uri": "https://localhost:8080/"
        },
        "outputId": "60244b2c-20f7-45a3-89cb-aa93fdef4433"
      },
      "execution_count": 18,
      "outputs": [
        {
          "output_type": "stream",
          "name": "stdout",
          "text": [
            "True\n"
          ]
        }
      ]
    },
    {
      "cell_type": "markdown",
      "source": [
        "# 4.&nbsp; Condition: IF, ELSE, ELIF"
      ],
      "metadata": {
        "id": "jhEHMTfE7o9K"
      }
    },
    {
      "cell_type": "code",
      "execution_count": 19,
      "metadata": {
        "id": "a6UxeOH3DdZb",
        "outputId": "30ea236f-e1d4-4abc-9948-b57c8bdf0524",
        "colab": {
          "base_uri": "https://localhost:8080/"
        }
      },
      "outputs": [
        {
          "output_type": "stream",
          "name": "stdout",
          "text": [
            "x is grater then 0\n"
          ]
        }
      ],
      "source": [
        "# IF the statement is true then..do something\n",
        "\n",
        "x = 1\n",
        "\n",
        "if x > 0:\n",
        "  print('x is grater then 0')"
      ]
    },
    {
      "cell_type": "code",
      "execution_count": 20,
      "metadata": {
        "id": "NBBxbc7FD6OU"
      },
      "outputs": [],
      "source": [
        "x = -2\n",
        "\n",
        "if x > 0:\n",
        "  print('x is greater then 0')"
      ]
    },
    {
      "cell_type": "code",
      "execution_count": 21,
      "metadata": {
        "id": "anr0MY6ND8SS",
        "outputId": "73b39b8c-ccda-40c8-895f-216b551ef7a6",
        "colab": {
          "base_uri": "https://localhost:8080/"
        }
      },
      "outputs": [
        {
          "output_type": "stream",
          "name": "stdout",
          "text": [
            "x is less then 0\n"
          ]
        }
      ],
      "source": [
        "# IF the statement is true then..do something, ELSE otherwise do something else\n",
        "\n",
        "x= -5\n",
        "\n",
        "if x>0:\n",
        "  print('x is grater then 0')\n",
        "else:\n",
        "  print('x is less then 0')\n"
      ]
    },
    {
      "cell_type": "code",
      "execution_count": 22,
      "metadata": {
        "id": "W5dMiQ1uEHul",
        "colab": {
          "base_uri": "https://localhost:8080/"
        },
        "outputId": "95ab0026-450f-4c41-a3b2-eca59165b0c5"
      },
      "outputs": [
        {
          "output_type": "stream",
          "name": "stdout",
          "text": [
            "x is less then 0\n"
          ]
        }
      ],
      "source": [
        "x=0\n",
        "\n",
        "if x>0:\n",
        "  print('x is grater then 0')\n",
        "else:\n",
        "  print('x is less then 0')\n"
      ]
    },
    {
      "cell_type": "code",
      "execution_count": 23,
      "metadata": {
        "id": "BfmAv-flEjNn",
        "colab": {
          "base_uri": "https://localhost:8080/"
        },
        "outputId": "f9781ad5-6037-45ac-8e4b-e3c596137a7a"
      },
      "outputs": [
        {
          "output_type": "stream",
          "name": "stdout",
          "text": [
            "x is zqual to 0\n"
          ]
        }
      ],
      "source": [
        "x = 0\n",
        "\n",
        "if x>0:\n",
        "  print('x is grater then 0')\n",
        "elif x==0:\n",
        "  print('x is zqual to 0')\n",
        "else:\n",
        "  print('x is less then 0')\n"
      ]
    },
    {
      "cell_type": "code",
      "source": [
        "grade = 4\n",
        "\n",
        "if grade < 5:\n",
        "  # Code lines within each condition are grouped through indentation\n",
        "  print('You failed')\n",
        "  print('2nd \"You failed\" line')\n",
        "elif grade <= 8:\n",
        "  print('You passed')\n",
        "else:\n",
        "  print('You excelled')\n",
        "print('End of Code')\n"
      ],
      "metadata": {
        "colab": {
          "base_uri": "https://localhost:8080/"
        },
        "id": "Dst58_WiaeAV",
        "outputId": "0fcae70a-19fc-4a19-bebd-e490eaf07db4"
      },
      "execution_count": 24,
      "outputs": [
        {
          "output_type": "stream",
          "name": "stdout",
          "text": [
            "You failed\n",
            "2nd \"You failed\" line\n",
            "End of Code\n"
          ]
        }
      ]
    },
    {
      "cell_type": "markdown",
      "source": [
        "## IF, ELIF, ELSE Practice ***\n",
        "\n",
        "Write a code to return the evaluation of a variable called \"grade\". \n",
        "The grade has to be a numerical variable from 1 to 10.\n",
        ">If the grade is below 5 return \"You failed\".\n",
        "\n",
        ">If the grade is between 5 and 8 included return \"You passed\"\n",
        "\n",
        ">If the grade is over 8 then return \"You excelled\"\n",
        "\n",
        "Hint:\n",
        "\n",
        "\n",
        "1.   create a variable called grade, and give it a randome value from 1 to 10\n",
        "2.   Then imagine possible scenarios of what value that variable can get, to correctly use IF, ELIF, ELSE\n",
        "\n",
        "grade = ???\n",
        "\n",
        "if grade ??? 5:\n",
        "\n",
        "____print(????)\n",
        "\n",
        "elif grade ??? 5 and ????:\n",
        "\n",
        "____print(????)\n",
        "\n",
        "else:\n",
        "____???? \n",
        "\n",
        "\n",
        "\n"
      ],
      "metadata": {
        "id": "Krs-SXVzB5Kp"
      }
    },
    {
      "cell_type": "markdown",
      "source": [
        "In order to better understand how to work with IF, ELIF, ELSE, please try to write by yourself the code for the following tasks.\n",
        "\n",
        "If you don't figure out how to do it, or you just want to check if you got the right solution, just click the arrow next to \"Display Solution\" and click on \"Run button\" to execute the code"
      ],
      "metadata": {
        "id": "PisGGzmnGI7K"
      }
    },
    {
      "cell_type": "code",
      "source": [],
      "metadata": {
        "id": "hY75hckiiNhH"
      },
      "execution_count": 24,
      "outputs": []
    },
    {
      "cell_type": "code",
      "source": [
        "#  return the evaluation of a variable called \"grade\". The grade has to be a numerical variable from 1 to 10.\n",
        "\n",
        "# create a variable 'grade' and assign a random value from 1 to 10\n",
        "\n",
        "# use IF, ELIF, ELSE statements\n",
        "\n",
        "### If the grade is below 5 return \"You failed\".\n",
        "\n",
        "### If the grade is between 5 and 8 included return \"You passed\"\n",
        "\n",
        "##  If the grade is over 8 then return \"You excelled\"\n",
        "\n",
        "\n",
        "\n",
        "# your code here ..."
      ],
      "metadata": {
        "id": "SPc_ZtjjGdAU"
      },
      "execution_count": 25,
      "outputs": []
    },
    {
      "cell_type": "code",
      "source": [
        "#@title Display the solution \n",
        "\n",
        "#  return the evaluation of a variable called \"grade\". The grade has to be a numerical variable from 1 to 10.\n",
        "\n",
        "# create a variable 'grade' and assign a random value from 1 to 10\n",
        "\n",
        "grade = 8\n",
        "\n",
        "if grade < 5:\n",
        "  print('You failed')\n",
        "elif grade >= 5 and grade <=8:\n",
        "  print('You passed')\n",
        "else:\n",
        "  print('You excelled')"
      ],
      "metadata": {
        "id": "UGZVe8bA5NLE",
        "cellView": "form",
        "outputId": "8bbec754-e5ff-441d-8bde-4600c9a1e16c",
        "colab": {
          "base_uri": "https://localhost:8080/"
        }
      },
      "execution_count": 26,
      "outputs": [
        {
          "output_type": "stream",
          "name": "stdout",
          "text": [
            "You passed\n"
          ]
        }
      ]
    },
    {
      "cell_type": "markdown",
      "metadata": {
        "id": "BIG_swA1FbTA"
      },
      "source": [
        "# 5.&nbsp;Variable types"
      ]
    },
    {
      "cell_type": "markdown",
      "source": [
        "## Integer"
      ],
      "metadata": {
        "id": "tFIFcXo4G6lY"
      }
    },
    {
      "cell_type": "code",
      "execution_count": 27,
      "metadata": {
        "id": "0ICbAeHDFgON",
        "colab": {
          "base_uri": "https://localhost:8080/"
        },
        "outputId": "fa9fdbfa-8cc3-43af-9ea7-39cfa48de8e8"
      },
      "outputs": [
        {
          "output_type": "stream",
          "name": "stdout",
          "text": [
            "<class 'int'>\n"
          ]
        }
      ],
      "source": [
        "# integer\n",
        "age = 7\n",
        "print(type(age))"
      ]
    },
    {
      "cell_type": "markdown",
      "source": [
        "##Float"
      ],
      "metadata": {
        "id": "__n8FPACG86I"
      }
    },
    {
      "cell_type": "code",
      "source": [
        "var_1 = '7.5'\n",
        "var_1"
      ],
      "metadata": {
        "id": "bXy5pi4L10ZP",
        "colab": {
          "base_uri": "https://localhost:8080/",
          "height": 35
        },
        "outputId": "32816f5d-6fe4-4d28-c6b6-9bb5877d1173"
      },
      "execution_count": 28,
      "outputs": [
        {
          "output_type": "execute_result",
          "data": {
            "text/plain": [
              "'7.5'"
            ],
            "application/vnd.google.colaboratory.intrinsic+json": {
              "type": "string"
            }
          },
          "metadata": {},
          "execution_count": 28
        }
      ]
    },
    {
      "cell_type": "code",
      "execution_count": 29,
      "metadata": {
        "id": "LqbLd6yQGGg8",
        "colab": {
          "base_uri": "https://localhost:8080/"
        },
        "outputId": "b125d9bb-182f-44dc-b14a-2ac0b61a7858"
      },
      "outputs": [
        {
          "output_type": "stream",
          "name": "stdout",
          "text": [
            "<class 'float'>\n",
            "7.5\n"
          ]
        }
      ],
      "source": [
        "# float\n",
        "age = 7.5\n",
        "print(type(age))\n",
        "print(age)"
      ]
    },
    {
      "cell_type": "markdown",
      "source": [
        "## String"
      ],
      "metadata": {
        "id": "r0Ky2ZlTG_9u"
      }
    },
    {
      "cell_type": "code",
      "execution_count": 30,
      "metadata": {
        "id": "LiP3qLRcF5MP",
        "colab": {
          "base_uri": "https://localhost:8080/"
        },
        "outputId": "afd1bc0a-b631-4466-a0b4-aa1c05600a31"
      },
      "outputs": [
        {
          "output_type": "stream",
          "name": "stdout",
          "text": [
            "Jessica\n",
            "<class 'str'>\n"
          ]
        }
      ],
      "source": [
        "# str\n",
        "name = \"Jessica\"\n",
        "print(name)\n",
        "print(type(name))"
      ]
    },
    {
      "cell_type": "code",
      "execution_count": 31,
      "metadata": {
        "id": "BdS6G_aJ4mMe",
        "colab": {
          "base_uri": "https://localhost:8080/"
        },
        "outputId": "fae8aba7-3d7a-410d-fc7e-73ec19d4f91d"
      },
      "outputs": [
        {
          "output_type": "stream",
          "name": "stdout",
          "text": [
            "the type of pi_string variable:  <class 'str'>\n",
            "the value of pi_string variable:  3.1415926\n",
            "\n"
          ]
        }
      ],
      "source": [
        "# Definition of pi_string\n",
        "pi_string = \"3.1415926\"\n",
        "print('the type of pi_string variable: ', type(pi_string))\n",
        "print('the value of pi_string variable: ', pi_string)\n",
        "print('')\n",
        "\n"
      ]
    },
    {
      "cell_type": "code",
      "source": [
        "# convert string to float\n",
        "pi_float= float(pi_string)\n",
        "print('the type of pi_float variable: ', type(pi_float))\n",
        "print('the value of pi_float variable: ', pi_float)\n",
        "print('')\n",
        "\n"
      ],
      "metadata": {
        "id": "W40ZiUzqUX68",
        "colab": {
          "base_uri": "https://localhost:8080/"
        },
        "outputId": "47f5868e-fdbc-49d0-e9ee-d4ba9c52d2bd"
      },
      "execution_count": 32,
      "outputs": [
        {
          "output_type": "stream",
          "name": "stdout",
          "text": [
            "the type of pi_float variable:  <class 'float'>\n",
            "the value of pi_float variable:  3.1415926\n",
            "\n"
          ]
        }
      ]
    },
    {
      "cell_type": "code",
      "source": [
        "# convert float to integer\n",
        "pi_int= int(pi_float)\n",
        "print('the type of pi_int variable: ', type(pi_int))\n",
        "print('the value of pi_int variable: ', pi_int)\n",
        "print('')"
      ],
      "metadata": {
        "id": "klj49EnvUZad",
        "colab": {
          "base_uri": "https://localhost:8080/"
        },
        "outputId": "333701b9-d059-43f2-9b13-7f8ecb878051"
      },
      "execution_count": 33,
      "outputs": [
        {
          "output_type": "stream",
          "name": "stdout",
          "text": [
            "the type of pi_int variable:  <class 'int'>\n",
            "the value of pi_int variable:  3\n",
            "\n"
          ]
        }
      ]
    },
    {
      "cell_type": "code",
      "source": [
        "var_float = round(3.6, 0)\n",
        "int(var_float)"
      ],
      "metadata": {
        "id": "uwI6KkCnqsug",
        "outputId": "0d803e5e-dd70-4644-9bf9-a19fbfbdde70",
        "colab": {
          "base_uri": "https://localhost:8080/"
        }
      },
      "execution_count": 34,
      "outputs": [
        {
          "output_type": "execute_result",
          "data": {
            "text/plain": [
              "4"
            ]
          },
          "metadata": {},
          "execution_count": 34
        }
      ]
    },
    {
      "cell_type": "markdown",
      "source": [
        "More about convertion of string and int\n",
        "https://realpython.com/convert-python-string-to-int/"
      ],
      "metadata": {
        "id": "nmKufxbPI9Na"
      }
    },
    {
      "cell_type": "markdown",
      "source": [
        "##Tuple"
      ],
      "metadata": {
        "id": "yF9kwxHAHDKg"
      }
    },
    {
      "cell_type": "code",
      "execution_count": 35,
      "metadata": {
        "id": "T4jrai7pF-Og",
        "colab": {
          "base_uri": "https://localhost:8080/"
        },
        "outputId": "eb777116-298b-4ab8-8859-fe96b8bf5197"
      },
      "outputs": [
        {
          "output_type": "stream",
          "name": "stdout",
          "text": [
            "('Jessica', 7.5)\n",
            "<class 'tuple'>\n"
          ]
        }
      ],
      "source": [
        "# tuple\n",
        "name_age = (name, age)\n",
        "print(name_age)\n",
        "print(type(name_age))"
      ]
    },
    {
      "cell_type": "markdown",
      "source": [
        "## Date"
      ],
      "metadata": {
        "id": "gsOtlqqEHFFf"
      }
    },
    {
      "cell_type": "code",
      "execution_count": 36,
      "metadata": {
        "id": "yPDOQZXwGZHM",
        "colab": {
          "base_uri": "https://localhost:8080/"
        },
        "outputId": "2450a56d-43ed-482f-af8f-e41bac6818f2"
      },
      "outputs": [
        {
          "output_type": "stream",
          "name": "stdout",
          "text": [
            "2022-12-31\n",
            "<class 'str'>\n"
          ]
        }
      ],
      "source": [
        "# date\n",
        "date = '2022-12-31' # separated by hyphens\n",
        "print(date)\n",
        "print(type(date))"
      ]
    },
    {
      "cell_type": "code",
      "source": [
        "# To manipulate dates in Python ...\n",
        "# we need to import datetime package from datetime module ( very important !!! )\n",
        "\n",
        "from datetime import datetime"
      ],
      "metadata": {
        "id": "QhYhHsrosnqe"
      },
      "execution_count": 37,
      "outputs": []
    },
    {
      "cell_type": "code",
      "source": [
        "# to convert the string into a date object...\n",
        "\n",
        "# with .strptime method  we tell Python how to read the string, by specifying which part is the year (%Y), month (%m), day (%d), \n",
        "# all separated by hyphen '%Y-%m-%d'\n",
        "\n",
        "date = datetime.strptime(date, '%Y-%m-%d')\n",
        "\n",
        "print(date)\n",
        "print(type(date))\n"
      ],
      "metadata": {
        "id": "L_ki3poOq-9b",
        "colab": {
          "base_uri": "https://localhost:8080/"
        },
        "outputId": "14337c42-d1d9-4d36-8364-ebd121535889"
      },
      "execution_count": 38,
      "outputs": [
        {
          "output_type": "stream",
          "name": "stdout",
          "text": [
            "2022-12-31 00:00:00\n",
            "<class 'datetime.datetime'>\n"
          ]
        }
      ]
    },
    {
      "cell_type": "code",
      "source": [
        "# if we want to omitt time (hous, minutes, seconds)\n",
        "\n",
        "# to convert the string into a date object...\n",
        "\n",
        "# with .strptime method  we tell Python how to read the string, by specifying which part is the year (%Y), month (%m), day (%d), \n",
        "# all separated by hyphen '%Y-%m-%d'\n",
        "\n",
        "# we need to add .date() in the end, to tell python to convert it to date\n",
        "\n",
        "date = '2022-12-31' # separated by hyphens\n",
        "\n",
        "date = datetime.strptime(date, '%Y-%m-%d').date()\n",
        "\n",
        "print(date)\n",
        "print(type(date))\n",
        "\n"
      ],
      "metadata": {
        "id": "aV28-ZDD5IXZ",
        "colab": {
          "base_uri": "https://localhost:8080/"
        },
        "outputId": "6b3379d8-d294-4244-d76e-d8546af94cb2"
      },
      "execution_count": 39,
      "outputs": [
        {
          "output_type": "stream",
          "name": "stdout",
          "text": [
            "2022-12-31\n",
            "<class 'datetime.date'>\n"
          ]
        }
      ]
    },
    {
      "cell_type": "code",
      "execution_count": 40,
      "metadata": {
        "id": "Gq7qbSFhGrn-",
        "colab": {
          "base_uri": "https://localhost:8080/"
        },
        "outputId": "70741582-799b-422d-8aec-fb28773fdff9"
      },
      "outputs": [
        {
          "output_type": "stream",
          "name": "stdout",
          "text": [
            "<class 'datetime.datetime'>\n",
            "2018-09-19 13:55:26\n"
          ]
        }
      ],
      "source": [
        "# to convert a string that have date + time (hours, minutes, seconds...)\n",
        "# we need to tell python that the 1st bit of the string is the month, separated by a slash, \n",
        "# then day, \n",
        "# then year (with format %y, meaning 18 instead of 2018)\n",
        "# the hours, (%H) separated by :\n",
        "# then minutes, (%M) separated by :\n",
        "# the seconds, (%S)\n",
        "\n",
        "datetime_time = '09/19/18 13:55:26'\n",
        "\n",
        "datetime_time = datetime.strptime(datetime_time, '%m/%d/%y %H:%M:%S')\n",
        "\n",
        "print(type(datetime_time))\n",
        "print(datetime_time)  # printed in default format"
      ]
    },
    {
      "cell_type": "code",
      "source": [
        "# Print the date in the format 'YYYY-MM'\n",
        "\n",
        "# our datetime_time variable is already perceived as a date by Python...\n",
        "\n",
        "\n",
        "print(datetime_time.strftime('%Y/%m'))"
      ],
      "metadata": {
        "id": "6FCkTBmppZQh",
        "colab": {
          "base_uri": "https://localhost:8080/"
        },
        "outputId": "26c40abc-4333-400a-d201-3c26d9d6febb"
      },
      "execution_count": 41,
      "outputs": [
        {
          "output_type": "stream",
          "name": "stdout",
          "text": [
            "2018/09\n"
          ]
        }
      ]
    },
    {
      "cell_type": "code",
      "source": [
        "# if we want the month first and then the year\n",
        "print(datetime_time.strftime('%m-%Y'))"
      ],
      "metadata": {
        "id": "Kle7LCEI_9rb",
        "colab": {
          "base_uri": "https://localhost:8080/"
        },
        "outputId": "4775e97b-c8b7-425a-a114-3587f8613b36"
      },
      "execution_count": 42,
      "outputs": [
        {
          "output_type": "stream",
          "name": "stdout",
          "text": [
            "09-2018\n"
          ]
        }
      ]
    },
    {
      "cell_type": "markdown",
      "source": [
        "The date conversions can be helpfull, as when working with excels, often, Python reads the dates as a string.\n",
        "\n",
        "So, you'll need to convert the strings that are supposed to be read as a date ...."
      ],
      "metadata": {
        "id": "Me8gk10A6CX8"
      }
    },
    {
      "cell_type": "code",
      "source": [
        "# ... But, Python allows you create a date from the start\n",
        "\n",
        "# to do so, you need to import package date from datetime module\n",
        "\n",
        "from datetime import date\n",
        "\n",
        "anniversary_date = date(1992, 8, 24) # year, month, day\n",
        "print(anniversary_date)\n",
        "print(type(anniversary_date))"
      ],
      "metadata": {
        "id": "Ofxog2KK5_eo",
        "colab": {
          "base_uri": "https://localhost:8080/"
        },
        "outputId": "c5f65411-ac0f-4751-f659-8e896a427eee"
      },
      "execution_count": 43,
      "outputs": [
        {
          "output_type": "stream",
          "name": "stdout",
          "text": [
            "1992-08-24\n",
            "<class 'datetime.date'>\n"
          ]
        }
      ]
    },
    {
      "cell_type": "markdown",
      "source": [
        "More about date conversion\n",
        "https://www.digitalocean.com/community/tutorials/python-string-to-datetime-strptime\n",
        "\n",
        "More about dates https://www.w3schools.com/python/python_datetime.asp\n",
        "\n",
        "More about date and time manipulation https://www.programiz.com/python-programming/datetime\n",
        "\n",
        "How to format dates https://www.geeksforgeeks.org/how-to-format-date-using-strftime-in-python/\n",
        "\n",
        "Practice dates https://campus.datacamp.com/courses/working-with-dates-and-times-in-python/dates-and-calendars?ex=1"
      ],
      "metadata": {
        "id": "Nw6iK08OJQnX"
      }
    },
    {
      "cell_type": "markdown",
      "metadata": {
        "id": "NjB4qFKcJrjh"
      },
      "source": [
        "# 6.&nbsp;Lists"
      ]
    },
    {
      "cell_type": "markdown",
      "source": [
        "Lists are used to store multiple items in a single variable."
      ],
      "metadata": {
        "id": "3iihaoGCxjUM"
      }
    },
    {
      "cell_type": "markdown",
      "source": [
        "More about lists https://www.w3schools.com/python/python_lists.asp"
      ],
      "metadata": {
        "id": "62gzT1Qkz7CO"
      }
    },
    {
      "cell_type": "markdown",
      "source": [
        "## List creation"
      ],
      "metadata": {
        "id": "YonfVue1LYmX"
      }
    },
    {
      "cell_type": "code",
      "source": [
        "# Using list constructor\n",
        "my_list1 = list((1, 2, 3))\n",
        "print(my_list1)"
      ],
      "metadata": {
        "id": "GTl4nyT3K9e_",
        "colab": {
          "base_uri": "https://localhost:8080/"
        },
        "outputId": "928b91ed-493c-4bd4-d7c3-172ad5733ae2"
      },
      "execution_count": 44,
      "outputs": [
        {
          "output_type": "stream",
          "name": "stdout",
          "text": [
            "[1, 2, 3]\n"
          ]
        }
      ]
    },
    {
      "cell_type": "code",
      "execution_count": 45,
      "metadata": {
        "id": "R53W5QqYJtFz",
        "colab": {
          "base_uri": "https://localhost:8080/"
        },
        "outputId": "4beb6bca-7bcb-4b96-8fcd-d5fed43b26d7"
      },
      "outputs": [
        {
          "output_type": "stream",
          "name": "stdout",
          "text": [
            "the type of our_list <class 'list'>\n",
            "['a', 'b', 'c', 1, 1.5]\n"
          ]
        }
      ],
      "source": [
        "# create a list\n",
        "our_list = [\"a\",\"b\",\"c\", 1, 1.5]\n",
        "print('the type of our_list', type(our_list))\n",
        "print(our_list)"
      ]
    },
    {
      "cell_type": "markdown",
      "source": [
        "## Append an element"
      ],
      "metadata": {
        "id": "BvQyUPBdLcDg"
      }
    },
    {
      "cell_type": "code",
      "execution_count": 46,
      "metadata": {
        "id": "qbDBvcLKJv89",
        "colab": {
          "base_uri": "https://localhost:8080/"
        },
        "outputId": "8d132fd2-d6eb-4569-f43b-11c6c548a242"
      },
      "outputs": [
        {
          "output_type": "stream",
          "name": "stdout",
          "text": [
            "['a', 'b', 'c', 1, 1.5, 'd']\n"
          ]
        }
      ],
      "source": [
        "# append an element to the list\n",
        "\n",
        "our_list.append(\"d\") # it will append 'd' at the end of the list\n",
        "print(our_list)"
      ]
    },
    {
      "cell_type": "markdown",
      "source": [
        "## Index and Slicing"
      ],
      "metadata": {
        "id": "VNNw5dTVLsQv"
      }
    },
    {
      "cell_type": "markdown",
      "source": [
        "The items in a list can be accessed through indexing and slicing. This section will guide you by accessing the list using the following two ways\n",
        "\n",
        "\n",
        "\n",
        "*   **Using indexing**, we can access any item from a list using its index number\n",
        "*   **Using slicing** , we can access a range of items from a list"
      ],
      "metadata": {
        "id": "E8UrdgcGMFEu"
      }
    },
    {
      "cell_type": "markdown",
      "source": [
        "Index"
      ],
      "metadata": {
        "id": "YaAEJS58NNUK"
      }
    },
    {
      "cell_type": "code",
      "execution_count": 47,
      "metadata": {
        "id": "mxihBDedKIN1",
        "colab": {
          "base_uri": "https://localhost:8080/",
          "height": 35
        },
        "outputId": "4dbb2ce6-43be-4f91-a21f-3a7da3c9e74b"
      },
      "outputs": [
        {
          "output_type": "execute_result",
          "data": {
            "text/plain": [
              "'a'"
            ],
            "application/vnd.google.colaboratory.intrinsic+json": {
              "type": "string"
            }
          },
          "metadata": {},
          "execution_count": 47
        }
      ],
      "source": [
        "# access element in the list\n",
        "\n",
        "# list indexing starts a 0\n",
        "\n",
        "# access first element in the list\n",
        "our_list[0]"
      ]
    },
    {
      "cell_type": "code",
      "execution_count": 48,
      "metadata": {
        "id": "s2KS0Vy9KhJd",
        "colab": {
          "base_uri": "https://localhost:8080/",
          "height": 35
        },
        "outputId": "cbb1b7d0-aa6f-499c-b929-250c382334a2"
      },
      "outputs": [
        {
          "output_type": "execute_result",
          "data": {
            "text/plain": [
              "'d'"
            ],
            "application/vnd.google.colaboratory.intrinsic+json": {
              "type": "string"
            }
          },
          "metadata": {},
          "execution_count": 48
        }
      ],
      "source": [
        "# access last element in the list\n",
        "our_list[-1]"
      ]
    },
    {
      "cell_type": "code",
      "source": [
        "# negative index: the seconf element from the end of the list\n",
        "\n",
        "our_list[-2]"
      ],
      "metadata": {
        "id": "q6_N3_VOMyBp",
        "colab": {
          "base_uri": "https://localhost:8080/"
        },
        "outputId": "261412d9-4d6c-4506-8123-88f14eca01db"
      },
      "execution_count": 49,
      "outputs": [
        {
          "output_type": "execute_result",
          "data": {
            "text/plain": [
              "1.5"
            ]
          },
          "metadata": {},
          "execution_count": 49
        }
      ]
    },
    {
      "cell_type": "code",
      "source": [
        "# access the 3rd element of the list\n",
        "\n",
        "print(our_list)\n",
        "our_list[2] # because our first index is 0"
      ],
      "metadata": {
        "id": "a24Xzhr6MfDG",
        "colab": {
          "base_uri": "https://localhost:8080/",
          "height": 53
        },
        "outputId": "6d8d34b6-d459-4350-d1d8-c5998472bea3"
      },
      "execution_count": 50,
      "outputs": [
        {
          "output_type": "stream",
          "name": "stdout",
          "text": [
            "['a', 'b', 'c', 1, 1.5, 'd']\n"
          ]
        },
        {
          "output_type": "execute_result",
          "data": {
            "text/plain": [
              "'c'"
            ],
            "application/vnd.google.colaboratory.intrinsic+json": {
              "type": "string"
            }
          },
          "metadata": {},
          "execution_count": 50
        }
      ]
    },
    {
      "cell_type": "markdown",
      "source": [
        "Slicing"
      ],
      "metadata": {
        "id": "P_qDJkWnNP9h"
      }
    },
    {
      "cell_type": "code",
      "source": [
        "# the first 2 elements\n",
        "\n",
        "print(our_list)\n",
        "print(our_list[2])\n",
        "our_list[:2] "
      ],
      "metadata": {
        "id": "Fr3S-xjsMs6h",
        "colab": {
          "base_uri": "https://localhost:8080/"
        },
        "outputId": "45f6af87-411e-42ba-96f1-8d783e9347ac"
      },
      "execution_count": 51,
      "outputs": [
        {
          "output_type": "stream",
          "name": "stdout",
          "text": [
            "['a', 'b', 'c', 1, 1.5, 'd']\n",
            "c\n"
          ]
        },
        {
          "output_type": "execute_result",
          "data": {
            "text/plain": [
              "['a', 'b']"
            ]
          },
          "metadata": {},
          "execution_count": 51
        }
      ]
    },
    {
      "cell_type": "code",
      "source": [
        "# Stating from 2nd item to last item ==> ['c', 1, 1.5, 'd']\n",
        "\n",
        "print(our_list)\n",
        "print(our_list[2:]) # not that here the lower limit is included"
      ],
      "metadata": {
        "id": "PwfDJYlPPkrk",
        "colab": {
          "base_uri": "https://localhost:8080/"
        },
        "outputId": "fecf385d-e8a0-48cb-e64e-0c16c05bd8eb"
      },
      "execution_count": 52,
      "outputs": [
        {
          "output_type": "stream",
          "name": "stdout",
          "text": [
            "['a', 'b', 'c', 1, 1.5, 'd']\n",
            "['c', 1, 1.5, 'd']\n"
          ]
        }
      ]
    },
    {
      "cell_type": "code",
      "source": [
        "# access the sublist c to 1.5 ==> ['c', 1, 1.5]\n",
        "\n",
        "print(our_list)\n",
        "print(our_list[2])\n",
        "print(our_list[4])\n"
      ],
      "metadata": {
        "id": "0opo7jc0NwYy",
        "colab": {
          "base_uri": "https://localhost:8080/"
        },
        "outputId": "4eca3dd9-9f89-413d-8621-c34a2e89323e"
      },
      "execution_count": 53,
      "outputs": [
        {
          "output_type": "stream",
          "name": "stdout",
          "text": [
            "['a', 'b', 'c', 1, 1.5, 'd']\n",
            "c\n",
            "1.5\n"
          ]
        }
      ]
    },
    {
      "cell_type": "code",
      "source": [
        "our_list[2:4] # note that upper limit is not included"
      ],
      "metadata": {
        "id": "vPvF_0pfgvC4",
        "colab": {
          "base_uri": "https://localhost:8080/"
        },
        "outputId": "a20c7494-7e4e-4ea1-a451-b11791a0c596"
      },
      "execution_count": 54,
      "outputs": [
        {
          "output_type": "execute_result",
          "data": {
            "text/plain": [
              "['c', 1]"
            ]
          },
          "metadata": {},
          "execution_count": 54
        }
      ]
    },
    {
      "cell_type": "code",
      "source": [
        "our_list[2:5] # we have to add +1 to upper limit if we want to include 1.5"
      ],
      "metadata": {
        "id": "st8AYAIHgTGm",
        "colab": {
          "base_uri": "https://localhost:8080/"
        },
        "outputId": "f919c531-ee5c-4432-9e7d-72b9d5fffe03"
      },
      "execution_count": 55,
      "outputs": [
        {
          "output_type": "execute_result",
          "data": {
            "text/plain": [
              "['c', 1, 1.5]"
            ]
          },
          "metadata": {},
          "execution_count": 55
        }
      ]
    },
    {
      "cell_type": "markdown",
      "source": [
        "##Length"
      ],
      "metadata": {
        "id": "qSTSlqy6MbgR"
      }
    },
    {
      "cell_type": "code",
      "execution_count": 56,
      "metadata": {
        "id": "ohnrobWmKV4p",
        "colab": {
          "base_uri": "https://localhost:8080/"
        },
        "outputId": "96d7f6cf-5d07-462c-8a25-ff2333922170"
      },
      "outputs": [
        {
          "output_type": "execute_result",
          "data": {
            "text/plain": [
              "6"
            ]
          },
          "metadata": {},
          "execution_count": 56
        }
      ],
      "source": [
        "# length of the list\n",
        "len(our_list)"
      ]
    },
    {
      "cell_type": "markdown",
      "source": [
        "## Insertions"
      ],
      "metadata": {
        "id": "_1NpXj6sYXwB"
      }
    },
    {
      "cell_type": "code",
      "execution_count": 57,
      "metadata": {
        "id": "cf3_W70uJzK8",
        "colab": {
          "base_uri": "https://localhost:8080/"
        },
        "outputId": "bfd85ac3-7af3-46d6-9e81-9fe3a3e7672b"
      },
      "outputs": [
        {
          "output_type": "stream",
          "name": "stdout",
          "text": [
            "['First element', 'a', 'b', 'c', 1, 1.5, 'd']\n"
          ]
        }
      ],
      "source": [
        "# insert an element in the list at 1st position\n",
        "\n",
        "our_list.insert(0, \"First element\") # instert before 1st element\n",
        "print(our_list)"
      ]
    },
    {
      "cell_type": "code",
      "execution_count": 58,
      "metadata": {
        "id": "3iKzh86PKybY",
        "colab": {
          "base_uri": "https://localhost:8080/"
        },
        "outputId": "15d0d728-fa56-4e4e-e558-8009a1cc1ce8"
      },
      "outputs": [
        {
          "output_type": "stream",
          "name": "stdout",
          "text": [
            "['First element', 'a', 'b', 'c', 1, 1.5, 'element', 'd']\n"
          ]
        }
      ],
      "source": [
        "# insert an element in the list before the last one\n",
        "\n",
        "our_list.insert(-1,\"element\") # instert before last element\n",
        "print(our_list)\n"
      ]
    },
    {
      "cell_type": "markdown",
      "source": [
        "## Remove"
      ],
      "metadata": {
        "id": "Xd9B-CAkZSfJ"
      }
    },
    {
      "cell_type": "code",
      "execution_count": 59,
      "metadata": {
        "id": "Gb4Zet70J1Cd",
        "colab": {
          "base_uri": "https://localhost:8080/"
        },
        "outputId": "a991431d-992c-4ae0-93b8-7eeeeebfa0c8"
      },
      "outputs": [
        {
          "output_type": "stream",
          "name": "stdout",
          "text": [
            "['First element', 'a', 'b', 1, 1.5, 'element', 'd']\n"
          ]
        }
      ],
      "source": [
        "# remove element\n",
        "our_list.remove(\"c\")\n",
        "print(our_list)\n"
      ]
    },
    {
      "cell_type": "code",
      "execution_count": 60,
      "metadata": {
        "id": "mSalYk6YJ2sG",
        "colab": {
          "base_uri": "https://localhost:8080/"
        },
        "outputId": "c4747da4-0eb3-48ad-9862-c21476e9e0a8"
      },
      "outputs": [
        {
          "output_type": "stream",
          "name": "stdout",
          "text": [
            "['a', 'b', 1, 1.5, 'element', 'd']\n"
          ]
        }
      ],
      "source": [
        "# remove element by its index\n",
        "\n",
        "our_list.pop(0)\n",
        "print(our_list)\n"
      ]
    },
    {
      "cell_type": "code",
      "source": [
        "print(our_list)"
      ],
      "metadata": {
        "colab": {
          "base_uri": "https://localhost:8080/"
        },
        "id": "3uwWRbnb7a5A",
        "outputId": "121b7f28-2a60-40c2-c3f0-cf82ce25643a"
      },
      "execution_count": 61,
      "outputs": [
        {
          "output_type": "stream",
          "name": "stdout",
          "text": [
            "['a', 'b', 1, 1.5, 'element', 'd']\n"
          ]
        }
      ]
    },
    {
      "cell_type": "markdown",
      "source": [
        "## Nested List"
      ],
      "metadata": {
        "id": "4uxmO7G7dBlm"
      }
    },
    {
      "cell_type": "code",
      "execution_count": 62,
      "metadata": {
        "id": "MYHwxGC7J6i_",
        "colab": {
          "base_uri": "https://localhost:8080/"
        },
        "outputId": "fb7b5351-da09-4441-dcab-0aae31079ddb"
      },
      "outputs": [
        {
          "output_type": "stream",
          "name": "stdout",
          "text": [
            "[[1, 2, 3], 6, 7, 5]\n"
          ]
        }
      ],
      "source": [
        "# we can have nested lists\n",
        "\n",
        "nested_list = [[1,2,3],6,7,5]\n",
        "print(nested_list)"
      ]
    },
    {
      "cell_type": "code",
      "execution_count": 63,
      "metadata": {
        "id": "HoXeJgLULVYI",
        "colab": {
          "base_uri": "https://localhost:8080/"
        },
        "outputId": "2d1f831b-4faa-447e-cfdb-407baa635dec"
      },
      "outputs": [
        {
          "output_type": "execute_result",
          "data": {
            "text/plain": [
              "4"
            ]
          },
          "metadata": {},
          "execution_count": 63
        }
      ],
      "source": [
        "# length of nested ==> the list within my_list [1, 2, 3] will be considered a single element\n",
        "len(nested_list)"
      ]
    },
    {
      "cell_type": "code",
      "execution_count": 64,
      "metadata": {
        "id": "lWfUBRmDLZ0i",
        "colab": {
          "base_uri": "https://localhost:8080/"
        },
        "outputId": "a5ea5ad3-0197-4b85-df1a-9b953f2a9c3a"
      },
      "outputs": [
        {
          "output_type": "execute_result",
          "data": {
            "text/plain": [
              "[1, 2, 3]"
            ]
          },
          "metadata": {},
          "execution_count": 64
        }
      ],
      "source": [
        "# access 1st element of nested list\n",
        "nested_list[0]"
      ]
    },
    {
      "cell_type": "code",
      "execution_count": 65,
      "metadata": {
        "id": "OESQK8qeLi6z",
        "colab": {
          "base_uri": "https://localhost:8080/"
        },
        "outputId": "76e95d57-5928-4448-f78a-d0240e562a8a"
      },
      "outputs": [
        {
          "output_type": "execute_result",
          "data": {
            "text/plain": [
              "6"
            ]
          },
          "metadata": {},
          "execution_count": 65
        }
      ],
      "source": [
        "# access 2nd element of nested list\n",
        "nested_list[1]"
      ]
    },
    {
      "cell_type": "code",
      "execution_count": 66,
      "metadata": {
        "id": "0XjmRBPILf6J",
        "colab": {
          "base_uri": "https://localhost:8080/"
        },
        "outputId": "a73cc958-3d15-468b-f377-0672e5993993"
      },
      "outputs": [
        {
          "output_type": "execute_result",
          "data": {
            "text/plain": [
              "2"
            ]
          },
          "metadata": {},
          "execution_count": 66
        }
      ],
      "source": [
        "# access an element from a list within the nested list 2\n",
        "nested_list[0][1]"
      ]
    },
    {
      "cell_type": "markdown",
      "source": [
        "More about lists https://pynative.com/python-lists/"
      ],
      "metadata": {
        "id": "tTIB5A1pKRJA"
      }
    },
    {
      "cell_type": "markdown",
      "source": [
        "## List Practice ***"
      ],
      "metadata": {
        "id": "3TRz4t_DVRLK"
      }
    },
    {
      "cell_type": "markdown",
      "source": [
        "In order to better understand how to work with lists, please try to write by yourself the code for the following tasks.\n",
        "\n",
        "If you don't figure out how to do it, or you just want to check if you got the right solution, just click the arrow next to \"Display Solution\" and click on \"Run button\" to execute the code"
      ],
      "metadata": {
        "id": "OxpelYw0350M"
      }
    },
    {
      "cell_type": "markdown",
      "source": [
        "### Assigment 1"
      ],
      "metadata": {
        "id": "FCk68AJIz8CW"
      }
    },
    {
      "cell_type": "code",
      "source": [
        "# Create a list called 'my_list' with elements 'John', 'Emma', 10, 5, 3, 'Daniel', 'Tom', 34, 30 and print it out\n",
        "\n",
        "# you code here ...\n",
        "\n",
        "my_list = ['John', 'Emma', 10, 5, 3, 'Daniel', 'Tom', 34, 30]\n",
        "print(my_list)"
      ],
      "metadata": {
        "id": "TpOMoqlb7eZG",
        "colab": {
          "base_uri": "https://localhost:8080/"
        },
        "outputId": "da57ccd9-1e8b-43a2-a499-c08beb5616e0"
      },
      "execution_count": 67,
      "outputs": [
        {
          "output_type": "stream",
          "name": "stdout",
          "text": [
            "['John', 'Emma', 10, 5, 3, 'Daniel', 'Tom', 34, 30]\n"
          ]
        }
      ]
    },
    {
      "cell_type": "code",
      "source": [
        "#@title Display the solution 1\n",
        "\n",
        "my_list= ['John', 'Emma', 10, 5, 3, 'Daniel', 'Tom', 34, 30]\n",
        "print(my_list)\n"
      ],
      "metadata": {
        "cellView": "form",
        "id": "f2kwHEt27X8Z",
        "colab": {
          "base_uri": "https://localhost:8080/"
        },
        "outputId": "d51b2fe0-ffe7-4915-d6d9-8e8b07d6b0f8"
      },
      "execution_count": 68,
      "outputs": [
        {
          "output_type": "stream",
          "name": "stdout",
          "text": [
            "['John', 'Emma', 10, 5, 3, 'Daniel', 'Tom', 34, 30]\n"
          ]
        }
      ]
    },
    {
      "cell_type": "markdown",
      "source": [
        "### Assigment 2"
      ],
      "metadata": {
        "id": "hMa2u4uy0GlN"
      }
    },
    {
      "cell_type": "code",
      "source": [
        "# Write a code to check how many element my_list have (the lengh of my_list)\n",
        "\n",
        "# your code here ....\n",
        "len(my_list)"
      ],
      "metadata": {
        "id": "ccflDIoX8Q9Y",
        "colab": {
          "base_uri": "https://localhost:8080/"
        },
        "outputId": "df7612f6-ee7e-4faf-9fbe-d7e27c54b35a"
      },
      "execution_count": 69,
      "outputs": [
        {
          "output_type": "execute_result",
          "data": {
            "text/plain": [
              "9"
            ]
          },
          "metadata": {},
          "execution_count": 69
        }
      ]
    },
    {
      "cell_type": "code",
      "source": [
        "#@title Display the solution 2\n",
        "\n",
        "# how many elements my_list has ?\n",
        "\n",
        "len(my_list)"
      ],
      "metadata": {
        "cellView": "form",
        "id": "ESR6Bgti0sTE",
        "colab": {
          "base_uri": "https://localhost:8080/"
        },
        "outputId": "cdaab3c1-f0ac-4b52-8e3b-669c1a852fb9"
      },
      "execution_count": 70,
      "outputs": [
        {
          "output_type": "execute_result",
          "data": {
            "text/plain": [
              "9"
            ]
          },
          "metadata": {},
          "execution_count": 70
        }
      ]
    },
    {
      "cell_type": "markdown",
      "source": [
        "### Assigment 3"
      ],
      "metadata": {
        "id": "tT3oyXP00M8i"
      }
    },
    {
      "cell_type": "code",
      "source": [
        "# append 'Bill' to the list and check now its length\n",
        "\n",
        "# your code here...\n",
        "my_list.append('Bill')\n",
        "print(my_list)\n",
        "len(my_list)"
      ],
      "metadata": {
        "id": "AWMnUF-o0wq9",
        "colab": {
          "base_uri": "https://localhost:8080/"
        },
        "outputId": "653cf04d-9336-4641-ea36-b7cc951f13e8"
      },
      "execution_count": 71,
      "outputs": [
        {
          "output_type": "stream",
          "name": "stdout",
          "text": [
            "['John', 'Emma', 10, 5, 3, 'Daniel', 'Tom', 34, 30, 'Bill']\n"
          ]
        },
        {
          "output_type": "execute_result",
          "data": {
            "text/plain": [
              "10"
            ]
          },
          "metadata": {},
          "execution_count": 71
        }
      ]
    },
    {
      "cell_type": "code",
      "source": [
        "#@title Display the solution 3\n",
        "\n",
        "# append 'Bill' to the list and check now its length\n",
        "\n",
        "my_list.append('Bill')\n",
        "print('Now the modified my_list is: ', my_list)\n",
        "print('The length of the modified list is: ', len(my_list))"
      ],
      "metadata": {
        "id": "eolhEZfE8tDZ",
        "colab": {
          "base_uri": "https://localhost:8080/"
        },
        "outputId": "8fb565f9-afb9-4729-f87e-cca9fe9ea5f9"
      },
      "execution_count": 72,
      "outputs": [
        {
          "output_type": "stream",
          "name": "stdout",
          "text": [
            "Now the modified my_list is:  ['John', 'Emma', 10, 5, 3, 'Daniel', 'Tom', 34, 30, 'Bill', 'Bill']\n",
            "The length of the modified list is:  11\n"
          ]
        }
      ]
    },
    {
      "cell_type": "markdown",
      "source": [
        "### Assigment 4"
      ],
      "metadata": {
        "id": "Z3twAlXt0QFC"
      }
    },
    {
      "cell_type": "code",
      "source": [
        "# return the element 'John' from my_list\n",
        "\n",
        "# your code here\n",
        "print(my_list[0])"
      ],
      "metadata": {
        "id": "wCCL9VRG8tIQ",
        "colab": {
          "base_uri": "https://localhost:8080/"
        },
        "outputId": "05d5bffc-084b-45ba-ed75-4d2151c7d7d1"
      },
      "execution_count": 73,
      "outputs": [
        {
          "output_type": "stream",
          "name": "stdout",
          "text": [
            "John\n"
          ]
        }
      ]
    },
    {
      "cell_type": "code",
      "source": [
        "#@title Display the solution 4\n",
        "\n",
        "# return 'John'\n",
        "my_list[0]"
      ],
      "metadata": {
        "id": "Pu6H_5kH0zL9",
        "colab": {
          "base_uri": "https://localhost:8080/",
          "height": 35
        },
        "outputId": "36599058-ffc6-4a74-8ede-77b2a93109d5"
      },
      "execution_count": 74,
      "outputs": [
        {
          "output_type": "execute_result",
          "data": {
            "text/plain": [
              "'John'"
            ],
            "application/vnd.google.colaboratory.intrinsic+json": {
              "type": "string"
            }
          },
          "metadata": {},
          "execution_count": 74
        }
      ]
    },
    {
      "cell_type": "markdown",
      "source": [
        "### Assigment 5"
      ],
      "metadata": {
        "id": "Caof_lLu0Ttn"
      }
    },
    {
      "cell_type": "code",
      "source": [
        "# return 'Bill'\n",
        "\n",
        "# your code here ...\n",
        "print(my_list[-1])"
      ],
      "metadata": {
        "id": "Cp_ZWUNZ01ka",
        "colab": {
          "base_uri": "https://localhost:8080/"
        },
        "outputId": "3c4896fa-fb42-482c-db08-db76e2867a61"
      },
      "execution_count": 75,
      "outputs": [
        {
          "output_type": "stream",
          "name": "stdout",
          "text": [
            "Bill\n"
          ]
        }
      ]
    },
    {
      "cell_type": "code",
      "source": [
        "#@title Display the solution 5\n",
        "\n",
        "# return 'Bill'\n",
        "my_list[-1]"
      ],
      "metadata": {
        "id": "-qikJLpT_wGK",
        "colab": {
          "base_uri": "https://localhost:8080/",
          "height": 35
        },
        "outputId": "4c87e34b-9e1f-4278-ecf0-f7d034a97774"
      },
      "execution_count": 76,
      "outputs": [
        {
          "output_type": "execute_result",
          "data": {
            "text/plain": [
              "'Bill'"
            ],
            "application/vnd.google.colaboratory.intrinsic+json": {
              "type": "string"
            }
          },
          "metadata": {},
          "execution_count": 76
        }
      ]
    },
    {
      "cell_type": "markdown",
      "source": [
        "### Assigment 6"
      ],
      "metadata": {
        "id": "qzzDmXP50WV4"
      }
    },
    {
      "cell_type": "code",
      "source": [
        "# return element 34 from my_list\n",
        "\n",
        "# your code here ...\n",
        "my_list[-3]"
      ],
      "metadata": {
        "id": "p_r4X73j03g4",
        "colab": {
          "base_uri": "https://localhost:8080/"
        },
        "outputId": "ce7ff090-c903-4ed5-8024-a6d197bf0725"
      },
      "execution_count": 77,
      "outputs": [
        {
          "output_type": "execute_result",
          "data": {
            "text/plain": [
              "30"
            ]
          },
          "metadata": {},
          "execution_count": 77
        }
      ]
    },
    {
      "cell_type": "code",
      "source": [
        "#@title Display the solution 6\n",
        "\n",
        "# return 34\n",
        "my_list[-3]"
      ],
      "metadata": {
        "id": "rJk9aBWm_5Kd",
        "colab": {
          "base_uri": "https://localhost:8080/"
        },
        "outputId": "a8dbd817-22b1-4c2d-abd9-c97767bdfcd4"
      },
      "execution_count": 78,
      "outputs": [
        {
          "output_type": "execute_result",
          "data": {
            "text/plain": [
              "30"
            ]
          },
          "metadata": {},
          "execution_count": 78
        }
      ]
    },
    {
      "cell_type": "markdown",
      "source": [
        "### Assigment 7"
      ],
      "metadata": {
        "id": "hfMAicI90bLd"
      }
    },
    {
      "cell_type": "code",
      "source": [
        "# return John and Emma\n",
        "\n",
        "# your code here ...\n",
        "my_list[:2]"
      ],
      "metadata": {
        "id": "bRzniT7f06Dg",
        "colab": {
          "base_uri": "https://localhost:8080/"
        },
        "outputId": "509d10f1-5127-4556-b219-a4b913ccbb32"
      },
      "execution_count": 79,
      "outputs": [
        {
          "output_type": "execute_result",
          "data": {
            "text/plain": [
              "['John', 'Emma']"
            ]
          },
          "metadata": {},
          "execution_count": 79
        }
      ]
    },
    {
      "cell_type": "code",
      "source": [
        "#@title Display the solution 7\n",
        "\n",
        "# return John and Emma\n",
        "my_list[:2]\n"
      ],
      "metadata": {
        "id": "6_sszPvX_7ew",
        "colab": {
          "base_uri": "https://localhost:8080/"
        },
        "outputId": "9387f2a2-d50f-45cf-e1a7-f0b55da5d8ca"
      },
      "execution_count": 80,
      "outputs": [
        {
          "output_type": "execute_result",
          "data": {
            "text/plain": [
              "['John', 'Emma']"
            ]
          },
          "metadata": {},
          "execution_count": 80
        }
      ]
    },
    {
      "cell_type": "markdown",
      "source": [
        "### Assigment 8"
      ],
      "metadata": {
        "id": "oiMxynEb0duz"
      }
    },
    {
      "cell_type": "code",
      "source": [
        "# return Emma, 10, 5\n",
        "\n",
        "# your code here ...\n",
        "my_list[1:4]"
      ],
      "metadata": {
        "id": "oVecGaro1AQA",
        "colab": {
          "base_uri": "https://localhost:8080/"
        },
        "outputId": "a6d1a945-1763-400d-bf63-4fdb5a1f8a42"
      },
      "execution_count": 81,
      "outputs": [
        {
          "output_type": "execute_result",
          "data": {
            "text/plain": [
              "['Emma', 10, 5]"
            ]
          },
          "metadata": {},
          "execution_count": 81
        }
      ]
    },
    {
      "cell_type": "code",
      "source": [
        "#@title Display the solution 8\n",
        "\n",
        "# return Emma, 10, 5\n",
        "my_list[1:4]"
      ],
      "metadata": {
        "id": "1aiLIcAO_88I",
        "colab": {
          "base_uri": "https://localhost:8080/"
        },
        "outputId": "02fc36b1-51bb-4ad2-a8cb-18d75a5d7af7"
      },
      "execution_count": 82,
      "outputs": [
        {
          "output_type": "execute_result",
          "data": {
            "text/plain": [
              "['Emma', 10, 5]"
            ]
          },
          "metadata": {},
          "execution_count": 82
        }
      ]
    },
    {
      "cell_type": "markdown",
      "source": [
        "### Assigment 9"
      ],
      "metadata": {
        "id": "-GYQ5QU40hXh"
      }
    },
    {
      "cell_type": "code",
      "source": [
        "# return Tom, 34, 30, Bill\n",
        "\n",
        "# your code here ...\n",
        "my_list[-4:]\n"
      ],
      "metadata": {
        "id": "XkfCFLNc1A2W",
        "colab": {
          "base_uri": "https://localhost:8080/"
        },
        "outputId": "f00fd3b0-e242-4fea-cbba-ec0263b11bc0"
      },
      "execution_count": 83,
      "outputs": [
        {
          "output_type": "execute_result",
          "data": {
            "text/plain": [
              "[34, 30, 'Bill', 'Bill']"
            ]
          },
          "metadata": {},
          "execution_count": 83
        }
      ]
    },
    {
      "cell_type": "code",
      "source": [
        "#@title Display the solution 9\n",
        "\n",
        "# return Tom, 34, 30, Bill\n",
        "\n",
        "print(my_list[-4:])\n",
        "\n",
        "#  OR\n",
        "\n",
        "my_list[6:]"
      ],
      "metadata": {
        "id": "Wv7dlrbT_-RM",
        "colab": {
          "base_uri": "https://localhost:8080/"
        },
        "outputId": "0c898b18-9bea-4f02-f376-f697c450b8c3"
      },
      "execution_count": 84,
      "outputs": [
        {
          "output_type": "stream",
          "name": "stdout",
          "text": [
            "[34, 30, 'Bill', 'Bill']\n"
          ]
        },
        {
          "output_type": "execute_result",
          "data": {
            "text/plain": [
              "['Tom', 34, 30, 'Bill', 'Bill']"
            ]
          },
          "metadata": {},
          "execution_count": 84
        }
      ]
    },
    {
      "cell_type": "markdown",
      "source": [
        "### Assigment 10"
      ],
      "metadata": {
        "id": "0AnNMt6W0jof"
      }
    },
    {
      "cell_type": "code",
      "source": [
        "# insert an element 'Julia' in the list at 2nd position\n",
        "\n",
        "# your code here ...\n",
        "my_list.insert(1,'Julia')\n",
        "print(my_list)"
      ],
      "metadata": {
        "id": "yYdO-ouJ1DXh",
        "colab": {
          "base_uri": "https://localhost:8080/"
        },
        "outputId": "bf2b546b-f595-4381-d963-c48e7ded4027"
      },
      "execution_count": 85,
      "outputs": [
        {
          "output_type": "stream",
          "name": "stdout",
          "text": [
            "['John', 'Julia', 'Emma', 10, 5, 3, 'Daniel', 'Tom', 34, 30, 'Bill', 'Bill']\n"
          ]
        }
      ]
    },
    {
      "cell_type": "code",
      "source": [
        "#@title Display the solution 10\n",
        "\n",
        "# insert an element 'Julia' in the list at 2nd position (*** or 1st position in Python logic ***)\n",
        "\n",
        "my_list.insert(1, \"Julia\") # instert before 1st element\n",
        "print(my_list)"
      ],
      "metadata": {
        "id": "KgJMrnT6AAJw",
        "colab": {
          "base_uri": "https://localhost:8080/"
        },
        "outputId": "91cce42f-570f-40b5-c4c1-f8c924bb9f03"
      },
      "execution_count": 86,
      "outputs": [
        {
          "output_type": "stream",
          "name": "stdout",
          "text": [
            "['John', 'Julia', 'Julia', 'Emma', 10, 5, 3, 'Daniel', 'Tom', 34, 30, 'Bill', 'Bill']\n"
          ]
        }
      ]
    },
    {
      "cell_type": "markdown",
      "source": [
        "### Assigment 11"
      ],
      "metadata": {
        "id": "nSKQ5pX60s7H"
      }
    },
    {
      "cell_type": "code",
      "source": [
        "# insert an element 'Anna\" in the list before 30\n",
        "\n",
        "# your code here ...\n",
        "my_list.insert(-2, 'Anna')\n",
        "print(my_list)"
      ],
      "metadata": {
        "id": "kl0wyky61GL1",
        "colab": {
          "base_uri": "https://localhost:8080/"
        },
        "outputId": "22d96e39-a4e6-498f-bc48-ace3adf865d5"
      },
      "execution_count": 87,
      "outputs": [
        {
          "output_type": "stream",
          "name": "stdout",
          "text": [
            "['John', 'Julia', 'Julia', 'Emma', 10, 5, 3, 'Daniel', 'Tom', 34, 30, 'Anna', 'Bill', 'Bill']\n"
          ]
        }
      ]
    },
    {
      "cell_type": "code",
      "source": [
        "#@title Display the solution 11\n",
        "\n",
        "# insert an element 'Anna\" in the list before 30\n",
        "\n",
        "my_list.insert(-2,\"Anna\") # instert before last element\n",
        "print(my_list)"
      ],
      "metadata": {
        "id": "sNOfr1AMABhX",
        "colab": {
          "base_uri": "https://localhost:8080/"
        },
        "outputId": "55bd2d4f-e774-4fe7-ab0b-701ab9123e68"
      },
      "execution_count": 88,
      "outputs": [
        {
          "output_type": "stream",
          "name": "stdout",
          "text": [
            "['John', 'Julia', 'Julia', 'Emma', 10, 5, 3, 'Daniel', 'Tom', 34, 30, 'Anna', 'Anna', 'Bill', 'Bill']\n"
          ]
        }
      ]
    },
    {
      "cell_type": "markdown",
      "source": [
        "### Assigment 12"
      ],
      "metadata": {
        "id": "G751GJAv0vWG"
      }
    },
    {
      "cell_type": "code",
      "source": [
        "# remove element 'Emma' \n",
        "#  ==> 2 ways to remove it: \n",
        "# with .remove method (if you want tu use the value of the element) \n",
        "# or .pop method (using the index of the eelement)\n",
        "\n",
        "# your code here ...\n",
        "# my_list.remove('Emma')\n",
        "# OR\n",
        "my_list.pop(1)\n",
        "print(my_list)\n"
      ],
      "metadata": {
        "id": "JYUIiYBP1IYu",
        "colab": {
          "base_uri": "https://localhost:8080/"
        },
        "outputId": "311a4341-815c-41ac-f559-38a770575729"
      },
      "execution_count": 89,
      "outputs": [
        {
          "output_type": "stream",
          "name": "stdout",
          "text": [
            "['John', 'Julia', 'Emma', 10, 5, 3, 'Daniel', 'Tom', 34, 30, 'Anna', 'Anna', 'Bill', 'Bill']\n"
          ]
        }
      ]
    },
    {
      "cell_type": "code",
      "source": [
        "#@title Display the solution 12\n",
        "\n",
        "# remove element 'Emma'\n",
        "my_list.remove(\"Emma\")\n",
        "print(my_list)\n",
        "\n",
        "## OR \n",
        "my_list.insert(2,\"Emma\")\n",
        "my_list.pop(2)\n",
        "print(my_list)"
      ],
      "metadata": {
        "id": "cLCiGth-AC8m",
        "colab": {
          "base_uri": "https://localhost:8080/"
        },
        "outputId": "6f240ff0-d24f-4d3e-e44f-96da829dfc36"
      },
      "execution_count": 90,
      "outputs": [
        {
          "output_type": "stream",
          "name": "stdout",
          "text": [
            "['John', 'Julia', 10, 5, 3, 'Daniel', 'Tom', 34, 30, 'Anna', 'Anna', 'Bill', 'Bill']\n",
            "['John', 'Julia', 10, 5, 3, 'Daniel', 'Tom', 34, 30, 'Anna', 'Anna', 'Bill', 'Bill']\n"
          ]
        }
      ]
    },
    {
      "cell_type": "markdown",
      "source": [
        "### Assigment 13"
      ],
      "metadata": {
        "id": "QsrL1vHL0y3q"
      }
    },
    {
      "cell_type": "code",
      "source": [
        "# append a new list [Sarah, 42, Jerry] ==> to obtain a nested list\n",
        "\n",
        "# your code here ...\n",
        "my_list.append(['Sarah', 42, 'Jerry'])\n",
        "print(my_list)"
      ],
      "metadata": {
        "id": "MhMG8MjS1Phm",
        "colab": {
          "base_uri": "https://localhost:8080/"
        },
        "outputId": "39efd525-c9b5-4aa4-958a-d6e1a7f333e4"
      },
      "execution_count": 91,
      "outputs": [
        {
          "output_type": "stream",
          "name": "stdout",
          "text": [
            "['John', 'Julia', 10, 5, 3, 'Daniel', 'Tom', 34, 30, 'Anna', 'Anna', 'Bill', 'Bill', ['Sarah', 42, 'Jerry']]\n"
          ]
        }
      ]
    },
    {
      "cell_type": "code",
      "source": [
        "#@title Display the solution 13\n",
        "\n",
        "my_list.append(['Sarah', 42, 'Jerry'])\n",
        "print(my_list)"
      ],
      "metadata": {
        "id": "S_pYT0Z4AEZw",
        "colab": {
          "base_uri": "https://localhost:8080/"
        },
        "outputId": "522d8076-6c09-4d4d-9e76-1e7deeae4b8f"
      },
      "execution_count": 92,
      "outputs": [
        {
          "output_type": "stream",
          "name": "stdout",
          "text": [
            "['John', 'Julia', 10, 5, 3, 'Daniel', 'Tom', 34, 30, 'Anna', 'Anna', 'Bill', 'Bill', ['Sarah', 42, 'Jerry'], ['Sarah', 42, 'Jerry']]\n"
          ]
        }
      ]
    },
    {
      "cell_type": "markdown",
      "source": [
        "### Assigment 14"
      ],
      "metadata": {
        "id": "FzBJ403d00ra"
      }
    },
    {
      "cell_type": "code",
      "source": [
        "# return 'Sarah' (*** keep in mind that you have a nested list ***)\n",
        "\n",
        "# your code here ...\n",
        "my_list[-1][0]"
      ],
      "metadata": {
        "id": "5ZSjSfnO1Lap",
        "colab": {
          "base_uri": "https://localhost:8080/",
          "height": 35
        },
        "outputId": "c2887065-24e0-47eb-9f13-db3247fcd56b"
      },
      "execution_count": 93,
      "outputs": [
        {
          "output_type": "execute_result",
          "data": {
            "text/plain": [
              "'Sarah'"
            ],
            "application/vnd.google.colaboratory.intrinsic+json": {
              "type": "string"
            }
          },
          "metadata": {},
          "execution_count": 93
        }
      ]
    },
    {
      "cell_type": "code",
      "source": [
        "#@title Display the solution 14\n",
        "\n",
        "# return 'Sarah'\n",
        "my_list[-1][0]"
      ],
      "metadata": {
        "id": "iwLCEY4jAFjI",
        "colab": {
          "base_uri": "https://localhost:8080/",
          "height": 35
        },
        "outputId": "5eb34b57-5512-4b8b-a8d7-a8b8b4f35a82"
      },
      "execution_count": 94,
      "outputs": [
        {
          "output_type": "execute_result",
          "data": {
            "text/plain": [
              "'Sarah'"
            ],
            "application/vnd.google.colaboratory.intrinsic+json": {
              "type": "string"
            }
          },
          "metadata": {},
          "execution_count": 94
        }
      ]
    },
    {
      "cell_type": "markdown",
      "metadata": {
        "id": "ZCMxntYXMDiH"
      },
      "source": [
        "# 7.&nbsp;Strings"
      ]
    },
    {
      "cell_type": "code",
      "execution_count": 95,
      "metadata": {
        "id": "Yq-DuAVSLw8K",
        "colab": {
          "base_uri": "https://localhost:8080/",
          "height": 35
        },
        "outputId": "5d01e407-c1d2-41bc-c84f-f13918494d35"
      },
      "outputs": [
        {
          "output_type": "execute_result",
          "data": {
            "text/plain": [
              "'text'"
            ],
            "application/vnd.google.colaboratory.intrinsic+json": {
              "type": "string"
            }
          },
          "metadata": {},
          "execution_count": 95
        }
      ],
      "source": [
        "string_a = 'text'\n",
        "string_a"
      ]
    },
    {
      "cell_type": "code",
      "execution_count": 96,
      "metadata": {
        "id": "xyCf0t6TMKuG",
        "colab": {
          "base_uri": "https://localhost:8080/",
          "height": 35
        },
        "outputId": "9f2f1f63-1647-4b7f-8d21-2fac82ef8eee"
      },
      "outputs": [
        {
          "output_type": "execute_result",
          "data": {
            "text/plain": [
              "'This is a '"
            ],
            "application/vnd.google.colaboratory.intrinsic+json": {
              "type": "string"
            }
          },
          "metadata": {},
          "execution_count": 96
        }
      ],
      "source": [
        "string_b = 'This is a '\n",
        "string_b"
      ]
    },
    {
      "cell_type": "code",
      "execution_count": 97,
      "metadata": {
        "id": "LA_YJDp1MRhu",
        "colab": {
          "base_uri": "https://localhost:8080/",
          "height": 35
        },
        "outputId": "dc64ffd4-3a88-45fc-a048-1cd94102f642"
      },
      "outputs": [
        {
          "output_type": "execute_result",
          "data": {
            "text/plain": [
              "'This is a text'"
            ],
            "application/vnd.google.colaboratory.intrinsic+json": {
              "type": "string"
            }
          },
          "metadata": {},
          "execution_count": 97
        }
      ],
      "source": [
        "string_b + string_a"
      ]
    },
    {
      "cell_type": "code",
      "execution_count": 98,
      "metadata": {
        "id": "OIRgk1h8MTuU",
        "colab": {
          "base_uri": "https://localhost:8080/",
          "height": 35
        },
        "outputId": "8125878a-ecf1-4d51-9635-ca88989810ba"
      },
      "outputs": [
        {
          "output_type": "execute_result",
          "data": {
            "text/plain": [
              "'This is a text'"
            ],
            "application/vnd.google.colaboratory.intrinsic+json": {
              "type": "string"
            }
          },
          "metadata": {},
          "execution_count": 98
        }
      ],
      "source": [
        "string_c = string_b + string_a\n",
        "string_c"
      ]
    },
    {
      "cell_type": "code",
      "source": [
        "string_c.lower()"
      ],
      "metadata": {
        "id": "D1iQ5vBOe25p",
        "colab": {
          "base_uri": "https://localhost:8080/",
          "height": 35
        },
        "outputId": "66678d14-5675-4b04-e7fa-9870d06b7a33"
      },
      "execution_count": 99,
      "outputs": [
        {
          "output_type": "execute_result",
          "data": {
            "text/plain": [
              "'this is a text'"
            ],
            "application/vnd.google.colaboratory.intrinsic+json": {
              "type": "string"
            }
          },
          "metadata": {},
          "execution_count": 99
        }
      ]
    },
    {
      "cell_type": "code",
      "execution_count": 100,
      "metadata": {
        "id": "GHaA3MWoMjZ2",
        "colab": {
          "base_uri": "https://localhost:8080/",
          "height": 35
        },
        "outputId": "b8a3a641-bdab-4bc3-aa59-a64ab06ada88"
      },
      "outputs": [
        {
          "output_type": "execute_result",
          "data": {
            "text/plain": [
              "'THIS IS A TEXT'"
            ],
            "application/vnd.google.colaboratory.intrinsic+json": {
              "type": "string"
            }
          },
          "metadata": {},
          "execution_count": 100
        }
      ],
      "source": [
        "string_c.upper()"
      ]
    },
    {
      "cell_type": "code",
      "execution_count": 101,
      "metadata": {
        "id": "dnmLHQCLMr1j",
        "colab": {
          "base_uri": "https://localhost:8080/",
          "height": 35
        },
        "outputId": "09259e1b-6297-4641-938c-f00de3d638ff"
      },
      "outputs": [
        {
          "output_type": "execute_result",
          "data": {
            "text/plain": [
              "'T'"
            ],
            "application/vnd.google.colaboratory.intrinsic+json": {
              "type": "string"
            }
          },
          "metadata": {},
          "execution_count": 101
        }
      ],
      "source": [
        "# access a string\n",
        "string_c[0]"
      ]
    },
    {
      "cell_type": "code",
      "execution_count": 102,
      "metadata": {
        "id": "WnNXuxDCMveW",
        "colab": {
          "base_uri": "https://localhost:8080/"
        },
        "outputId": "5f5a9d8e-3f46-48fe-941e-8af23ee24e6b"
      },
      "outputs": [
        {
          "output_type": "execute_result",
          "data": {
            "text/plain": [
              "14"
            ]
          },
          "metadata": {},
          "execution_count": 102
        }
      ],
      "source": [
        "# length (the space is counted a 1)\n",
        "len(string_c)"
      ]
    },
    {
      "cell_type": "code",
      "execution_count": 103,
      "metadata": {
        "id": "-OZKGMHVM0S-",
        "colab": {
          "base_uri": "https://localhost:8080/"
        },
        "outputId": "11e6aa5d-6d0f-42e6-bb70-4f15bbfdc9de"
      },
      "outputs": [
        {
          "output_type": "stream",
          "name": "stdout",
          "text": [
            "Derrick.Matt@gmail.com\n"
          ]
        }
      ],
      "source": [
        "# splitting strings\n",
        "string_d = \"Derrick.Matt@gmail.com\"\n",
        "print(string_d)"
      ]
    },
    {
      "cell_type": "code",
      "source": [
        "# Split a string into a list where each word is a list item, use split() function\n",
        "# split by hyphen\n",
        "\n",
        "print(string_d.split(\"@\"))"
      ],
      "metadata": {
        "id": "zVhs3mBvfWBf",
        "colab": {
          "base_uri": "https://localhost:8080/"
        },
        "outputId": "b8ec7fbe-a9fb-4127-c9a2-9d15100bf04e"
      },
      "execution_count": 104,
      "outputs": [
        {
          "output_type": "stream",
          "name": "stdout",
          "text": [
            "['Derrick.Matt', 'gmail.com']\n"
          ]
        }
      ]
    },
    {
      "cell_type": "markdown",
      "source": [
        "More about splitting strings https://www.w3schools.com/python/ref_string_split.asp\n",
        "\n",
        "More about strings manipulations https://www.w3schools.com/python/python_ref_string.asp\n",
        "\n",
        "More about string theory https://www.programiz.com/python-programming/string"
      ],
      "metadata": {
        "id": "oWCzQow4fu29"
      }
    },
    {
      "cell_type": "markdown",
      "source": [
        "## String Practice ***"
      ],
      "metadata": {
        "id": "VwkObPWr1Upf"
      }
    },
    {
      "cell_type": "markdown",
      "source": [
        "### Assigment 1"
      ],
      "metadata": {
        "id": "He_h7lHy1adv"
      }
    },
    {
      "cell_type": "code",
      "source": [
        "# create a string variable called \"name\", and assign the value 'AdaM Smith'\n",
        "# modify this variable so all the characters of the string are in CAPITAL LETTERS\n",
        "# return the modified variable\n",
        "\n",
        "\n",
        "# your code here ..."
      ],
      "metadata": {
        "id": "i2oDUQrT1e2O"
      },
      "execution_count": 105,
      "outputs": []
    },
    {
      "cell_type": "code",
      "source": [
        "#@title Display the solution 1\n",
        "\n",
        "# create a string variable called \"name\", and assign the value 'AdaM Smith'\n",
        "name = 'AdaM Smith'\n",
        "\n",
        "# modify this variable so all the characters of the string are in CAPITAL LETTERS\n",
        "name = name.upper()\n",
        "\n",
        "# return the modified variable\n",
        "print(name)\n"
      ],
      "metadata": {
        "cellView": "form",
        "id": "r0763MYR1qFx",
        "colab": {
          "base_uri": "https://localhost:8080/"
        },
        "outputId": "3217cc15-1265-460e-e0bf-80dc5716ccbd"
      },
      "execution_count": 106,
      "outputs": [
        {
          "output_type": "stream",
          "name": "stdout",
          "text": [
            "ADAM SMITH\n"
          ]
        }
      ]
    },
    {
      "cell_type": "markdown",
      "source": [
        "### Assigment 2"
      ],
      "metadata": {
        "id": "qFWK_2QY1fji"
      }
    },
    {
      "cell_type": "code",
      "source": [
        "# access a the 1st letter of variable \"name\" \n",
        "# ... the outcome should be 'A'\n",
        "\n",
        "# your code here ...\n"
      ],
      "metadata": {
        "id": "vIVu4gbw3MtX"
      },
      "execution_count": 107,
      "outputs": []
    },
    {
      "cell_type": "code",
      "source": [
        "#@title Display the solution 2\n",
        "\n",
        "# access a the 1st letter of variable \"name\"\n",
        "\n",
        "name[0]"
      ],
      "metadata": {
        "cellView": "form",
        "id": "VxBY3GAQ1yym",
        "colab": {
          "base_uri": "https://localhost:8080/",
          "height": 35
        },
        "outputId": "db6cd7da-f8bb-4f11-ffec-7928a8fc3a05"
      },
      "execution_count": 108,
      "outputs": [
        {
          "output_type": "execute_result",
          "data": {
            "text/plain": [
              "'A'"
            ],
            "application/vnd.google.colaboratory.intrinsic+json": {
              "type": "string"
            }
          },
          "metadata": {},
          "execution_count": 108
        }
      ]
    },
    {
      "cell_type": "markdown",
      "source": [
        "### Assignment 3"
      ],
      "metadata": {
        "id": "VZudvfew3qkk"
      }
    },
    {
      "cell_type": "code",
      "source": [
        "# access a the last letter of variable \"name\" \n",
        "# ... the outcome should be 'H'\n",
        "\n",
        "# your code here ..."
      ],
      "metadata": {
        "id": "g47DpeoH3u62"
      },
      "execution_count": 109,
      "outputs": []
    },
    {
      "cell_type": "code",
      "source": [
        "#@title Display the solution 3\n",
        "\n",
        "# access a the last letter of variable \"name\" \n",
        "# ... the outcome should be 'H'\n",
        "\n",
        "name[-1]"
      ],
      "metadata": {
        "cellView": "form",
        "id": "TiA-m27f34p7",
        "colab": {
          "base_uri": "https://localhost:8080/",
          "height": 35
        },
        "outputId": "50511a92-d552-4f95-867e-17bb1805b820"
      },
      "execution_count": 110,
      "outputs": [
        {
          "output_type": "execute_result",
          "data": {
            "text/plain": [
              "'H'"
            ],
            "application/vnd.google.colaboratory.intrinsic+json": {
              "type": "string"
            }
          },
          "metadata": {},
          "execution_count": 110
        }
      ]
    },
    {
      "cell_type": "markdown",
      "source": [
        "### Assignment 4"
      ],
      "metadata": {
        "id": "bNkqvfTJ4EQI"
      }
    },
    {
      "cell_type": "code",
      "source": [
        "# how many characters tha variable \"name\" has ?\n",
        "\n",
        "# your code here .."
      ],
      "metadata": {
        "id": "kh_ZbiPl4HaA"
      },
      "execution_count": null,
      "outputs": []
    },
    {
      "cell_type": "code",
      "source": [
        "#@title Display the solution 4\n",
        "\n",
        "# how many characters tha variable \"name\" has ?\n",
        "\n",
        "len(name)"
      ],
      "metadata": {
        "cellView": "form",
        "id": "uqcAMLct4Pyb",
        "colab": {
          "base_uri": "https://localhost:8080/"
        },
        "outputId": "7fd309ff-e96b-4fd9-c6c2-b18e92633ef3"
      },
      "execution_count": 111,
      "outputs": [
        {
          "output_type": "execute_result",
          "data": {
            "text/plain": [
              "10"
            ]
          },
          "metadata": {},
          "execution_count": 111
        }
      ]
    },
    {
      "cell_type": "markdown",
      "metadata": {
        "id": "-Z4YCvbvNRp6"
      },
      "source": [
        "# 8.&nbsp;Tuples"
      ]
    },
    {
      "cell_type": "markdown",
      "metadata": {
        "id": "X_zcTMzYNu9R"
      },
      "source": [
        "A tuple is a collection which is ordered and unchangeable (imuatable)\n",
        "."
      ]
    },
    {
      "cell_type": "code",
      "execution_count": 113,
      "metadata": {
        "id": "6S7ixeisOEv3",
        "colab": {
          "base_uri": "https://localhost:8080/"
        },
        "outputId": "f0c89df8-d60b-46d6-892b-84ab7522d529"
      },
      "outputs": [
        {
          "output_type": "stream",
          "name": "stdout",
          "text": [
            "('Dog', 'Cat', 'Frog')\n"
          ]
        }
      ],
      "source": [
        "tuple_a = ('Dog', 'Cat', 'Frog')\n",
        "print(tuple_a)"
      ]
    },
    {
      "cell_type": "code",
      "execution_count": null,
      "metadata": {
        "id": "-cGHSxSYPlT2"
      },
      "outputs": [],
      "source": [
        "# inmutable\n",
        "\n",
        "# remove the hasgtag (#) in front of the below line code if you want to run the cell \n",
        "# tuple_a.append('Mouse')"
      ]
    },
    {
      "cell_type": "code",
      "execution_count": 114,
      "metadata": {
        "id": "H4i9_vbfPx3y",
        "colab": {
          "base_uri": "https://localhost:8080/",
          "height": 35
        },
        "outputId": "0c3fd880-b6be-47ae-9cb1-2b6668e100d4"
      },
      "outputs": [
        {
          "output_type": "execute_result",
          "data": {
            "text/plain": [
              "'Dog'"
            ],
            "application/vnd.google.colaboratory.intrinsic+json": {
              "type": "string"
            }
          },
          "metadata": {},
          "execution_count": 114
        }
      ],
      "source": [
        "# ordered\n",
        "\n",
        "tuple_a[0]"
      ]
    },
    {
      "cell_type": "markdown",
      "source": [
        "More about Tuples https://www.w3schools.com/python/python_tuples.asp"
      ],
      "metadata": {
        "id": "KeNK13iEhNgZ"
      }
    },
    {
      "cell_type": "markdown",
      "metadata": {
        "id": "VkCZO2ptNTTG"
      },
      "source": [
        "# 9.&nbsp;Dictionaries\n"
      ]
    },
    {
      "cell_type": "markdown",
      "source": [
        "Dictionaries are used to store data values in key:value pairs.\n",
        "\n",
        "A dictionary is a collection which is ordered*, changeable and do not allow duplicates."
      ],
      "metadata": {
        "id": "moJTUTDDicq0"
      }
    },
    {
      "cell_type": "code",
      "execution_count": 117,
      "metadata": {
        "id": "l_3rD9hUQNxF",
        "colab": {
          "base_uri": "https://localhost:8080/"
        },
        "outputId": "b1f31f05-80cd-4c8b-aa9a-3afa1162b63e"
      },
      "outputs": [
        {
          "output_type": "execute_result",
          "data": {
            "text/plain": [
              "{'key_1': 'value_0', 'key_2': 'value_2', 'key_3': 'value_3'}"
            ]
          },
          "metadata": {},
          "execution_count": 117
        }
      ],
      "source": [
        "# a dictionary is made of keys and values\n",
        "# dictionary have curly brackets\n",
        "\n",
        "dictionary = {\"key_1\":\"value_0\",\n",
        "               \"key_2\":\"value_2\",\n",
        "               \"key_3\":\"value_3\"}\n",
        "\n",
        "dictionary"
      ]
    },
    {
      "cell_type": "code",
      "execution_count": 118,
      "metadata": {
        "id": "ixlvde_9NEkX",
        "colab": {
          "base_uri": "https://localhost:8080/"
        },
        "outputId": "e12b99dd-ed9e-42b4-ab70-5b80bae27166"
      },
      "outputs": [
        {
          "output_type": "execute_result",
          "data": {
            "text/plain": [
              "{'name': 'Derrick', 'height': \"6'0\", 'location': 'Lost'}"
            ]
          },
          "metadata": {},
          "execution_count": 118
        }
      ],
      "source": [
        "# create a dictionary called 'our_dictionnary'\n",
        "\n",
        "our_dictionary = {\"name\":\"Derrick\",\n",
        "                  \"height\":\"6'0\",\n",
        "                  \"location\":\"Lost\"}\n",
        "                  \n",
        "# here \"name\" is the key and 'Derrick' is the value\n",
        "our_dictionary"
      ]
    },
    {
      "cell_type": "code",
      "execution_count": 119,
      "metadata": {
        "id": "DXd9Sn8sQ86w",
        "colab": {
          "base_uri": "https://localhost:8080/"
        },
        "outputId": "25b72619-b31d-4f6b-9275-df55501eaf9e"
      },
      "outputs": [
        {
          "output_type": "stream",
          "name": "stdout",
          "text": [
            "value_0\n"
          ]
        }
      ],
      "source": [
        "# access dictionary by key\n",
        "\n",
        "print(dictionary[\"key_1\"])"
      ]
    },
    {
      "cell_type": "code",
      "execution_count": 120,
      "metadata": {
        "id": "pevivAIGRD2F",
        "colab": {
          "base_uri": "https://localhost:8080/"
        },
        "outputId": "85830306-78f4-4d96-a359-3b3827479792"
      },
      "outputs": [
        {
          "output_type": "stream",
          "name": "stdout",
          "text": [
            "{'key_1': 'value_1', 'key_2': 'value_2', 'key_3': 'value_3'}\n"
          ]
        }
      ],
      "source": [
        "# change a value by key\n",
        "\n",
        "dictionary[\"key_1\"] = \"value_1\"\n",
        "print(dictionary)\n"
      ]
    },
    {
      "cell_type": "code",
      "execution_count": 122,
      "metadata": {
        "id": "ly62zAkdRVsE",
        "colab": {
          "base_uri": "https://localhost:8080/"
        },
        "outputId": "217de89a-9d11-4b8e-ec53-2d6342b590cb"
      },
      "outputs": [
        {
          "output_type": "stream",
          "name": "stdout",
          "text": [
            "{'key_1': 'value_1', 'key_2': 'value_2', 'key_3': 'value_3', 'eye color': 'blue'}\n"
          ]
        }
      ],
      "source": [
        "# add an element to dictionary\n",
        "\n",
        "dictionary[\"eye color\"] = \"blue\"\n",
        "print(dictionary)"
      ]
    },
    {
      "cell_type": "code",
      "execution_count": 123,
      "metadata": {
        "id": "MSSZPPFTRcA6",
        "colab": {
          "base_uri": "https://localhost:8080/"
        },
        "outputId": "2e2cd65f-5e5c-4fc7-9c02-fea3f83ec502"
      },
      "outputs": [
        {
          "output_type": "stream",
          "name": "stdout",
          "text": [
            "{'key_1': 'value_1', 'key_2': 'value_2', 'key_3': 'value_3'}\n"
          ]
        }
      ],
      "source": [
        "# remove element\n",
        "dictionary.pop(\"eye color\")\n",
        "print(dictionary)\n"
      ]
    },
    {
      "cell_type": "markdown",
      "source": [
        "## Dictionary Practice ***"
      ],
      "metadata": {
        "id": "O0a13QpTjWcr"
      }
    },
    {
      "cell_type": "markdown",
      "source": [
        "### Assignment 1"
      ],
      "metadata": {
        "id": "OY_D2rFh40PD"
      }
    },
    {
      "cell_type": "code",
      "source": [
        "# create a dictionary \"my_dictionary\"\n",
        "# 1st key: 'names'\n",
        "# values of 1st key: ['Anna', 'John', 'Matt']\n",
        "# 2nd key: 'age'\n",
        "# values of 2nd key: [23, 42, 12]\n",
        "# print \"my_dictionary\"\n",
        "\n",
        "# your code here ....\n",
        "my_dictionary = {\"names\":['Anna', 'John', 'Matt'],\n",
        "                 \"age\":[23, 42, 12]}\n",
        "print(my_dictionary)"
      ],
      "metadata": {
        "id": "cCbfZyfAjY76",
        "colab": {
          "base_uri": "https://localhost:8080/"
        },
        "outputId": "977c4fd4-892d-4c7f-db50-35e0dd5a9573"
      },
      "execution_count": 125,
      "outputs": [
        {
          "output_type": "stream",
          "name": "stdout",
          "text": [
            "{'names': ['Anna', 'John', 'Matt'], 'age': [23, 42, 12]}\n"
          ]
        }
      ]
    },
    {
      "cell_type": "code",
      "source": [
        "#@title Display the solution 1\n",
        "\n",
        "# create a dictionary \"my_dictionary\"\n",
        "# 1st key: 'names'\n",
        "# values of 1st key: ['Anna', 'John', 'Matt']\n",
        "# 2nd key: 'age'\n",
        "# values of 2nd key: [23, 42, 12]\n",
        "\n",
        "my_dictionary = {'names': ['Anna', 'John', 'Matt'],\n",
        "                 'age': [23, 42, 12]   \n",
        "                }\n",
        "\n",
        "# print \"my_dictionary\"\n",
        "print(my_dictionary)"
      ],
      "metadata": {
        "id": "oQEo8yWbHcqk",
        "colab": {
          "base_uri": "https://localhost:8080/"
        },
        "outputId": "e3412b4e-1d9a-49ef-ea4b-4ff88e563e4d"
      },
      "execution_count": 126,
      "outputs": [
        {
          "output_type": "stream",
          "name": "stdout",
          "text": [
            "{'names': ['Anna', 'John', 'Matt'], 'age': [23, 42, 12]}\n"
          ]
        }
      ]
    },
    {
      "cell_type": "markdown",
      "source": [
        "### Assignment 2"
      ],
      "metadata": {
        "id": "NzmmTZjY44lb"
      }
    },
    {
      "cell_type": "code",
      "source": [
        "# add a new element with their gender: key='gender', values: ['F', 'M', 'M']\n",
        "\n",
        "# your code here ...\n",
        "my_dictionary['gender'] = ['F', 'M', 'M']\n",
        "print(my_dictionary)\n"
      ],
      "metadata": {
        "id": "mpikw-IqHxdL",
        "colab": {
          "base_uri": "https://localhost:8080/"
        },
        "outputId": "a28fd79d-8f33-41bf-9d1b-4015ae0f3739"
      },
      "execution_count": 127,
      "outputs": [
        {
          "output_type": "stream",
          "name": "stdout",
          "text": [
            "{'names': ['Anna', 'John', 'Matt'], 'age': [23, 42, 12], 'gender': ['F', 'M', 'M']}\n"
          ]
        }
      ]
    },
    {
      "cell_type": "code",
      "source": [
        "#@title Display the solution 2\n",
        "\n",
        "# add a new element with their gender: key='gender', values: ['F', 'M', 'M']\n",
        "my_dictionary['gender']= ['F', 'M', 'M']\n",
        "print(my_dictionary)"
      ],
      "metadata": {
        "id": "K5evWdkQH2Mo"
      },
      "execution_count": null,
      "outputs": []
    },
    {
      "cell_type": "markdown",
      "source": [
        "### Assignment 3"
      ],
      "metadata": {
        "id": "tTLbH9rQ46wB"
      }
    },
    {
      "cell_type": "code",
      "source": [
        "# remove key age\n",
        "\n",
        "# your code here\n",
        "my_dictionary.pop('age')\n",
        "print(my_dictionary)"
      ],
      "metadata": {
        "id": "IIapMz2UHy6M",
        "colab": {
          "base_uri": "https://localhost:8080/"
        },
        "outputId": "d5fc61b8-e30e-4fb5-d713-ff6e6936df48"
      },
      "execution_count": 128,
      "outputs": [
        {
          "output_type": "stream",
          "name": "stdout",
          "text": [
            "{'names': ['Anna', 'John', 'Matt'], 'gender': ['F', 'M', 'M']}\n"
          ]
        }
      ]
    },
    {
      "cell_type": "code",
      "source": [
        "#@title Display the solution 3\n",
        "\n",
        "# remove key age\n",
        "my_dictionary.pop(\"age\")\n",
        "print(my_dictionary)"
      ],
      "metadata": {
        "id": "ZACWoPZJH_W6"
      },
      "execution_count": null,
      "outputs": []
    },
    {
      "cell_type": "markdown",
      "metadata": {
        "id": "SvqYQEAVRr5q"
      },
      "source": [
        "# 10.&nbsp;DataFrame"
      ]
    },
    {
      "cell_type": "markdown",
      "source": [
        "The dataframe is like a table with 2 dimensions, where you have columns and rows"
      ],
      "metadata": {
        "id": "Do7mXNyhlYmN"
      }
    },
    {
      "cell_type": "code",
      "execution_count": 131,
      "metadata": {
        "id": "20L4u09nRlXK",
        "colab": {
          "base_uri": "https://localhost:8080/"
        },
        "outputId": "15001f83-4984-48b0-f7cf-e59f65f2bccd"
      },
      "outputs": [
        {
          "output_type": "execute_result",
          "data": {
            "text/plain": [
              "{'name': ['Jess', 'Nick', 'Winston', 'Tom', 'Alex'],\n",
              " 'age': ['30', '35', '40', '27', '52'],\n",
              " 'city': ['Paris', 'Berlin', 'Madrid', 'Paris', 'London'],\n",
              " 'country': ['France', 'Germany', 'Spain', 'France', 'UK']}"
            ]
          },
          "metadata": {},
          "execution_count": 131
        }
      ],
      "source": [
        "dic = {\"name\":['Jess', 'Nick', 'Winston', 'Tom', 'Alex'],\n",
        "              \"age\":['30', '35', '40', '27', '52'],\n",
        "              \"city\":['Paris', 'Berlin', 'Madrid', 'Paris', 'London'],\n",
        "             \"country\": ['France', 'Germany', 'Spain', 'France', 'UK']}\n",
        "\n",
        "dic"
      ]
    },
    {
      "cell_type": "code",
      "source": [
        "# import pandas package\n",
        "\n",
        "import pandas as pd"
      ],
      "metadata": {
        "id": "DA2iU__p_Dsg"
      },
      "execution_count": 130,
      "outputs": []
    },
    {
      "cell_type": "markdown",
      "source": [
        "More about pandas package https://pandas.pydata.org/"
      ],
      "metadata": {
        "id": "CsIMpaaj_LiP"
      }
    },
    {
      "cell_type": "code",
      "execution_count": 132,
      "metadata": {
        "id": "zsvwKaUsSKaI",
        "colab": {
          "base_uri": "https://localhost:8080/",
          "height": 206
        },
        "outputId": "bf537298-f8b5-4158-929b-b8b1c3a57b0c"
      },
      "outputs": [
        {
          "output_type": "execute_result",
          "data": {
            "text/plain": [
              "      name age    city  country\n",
              "0     Jess  30   Paris   France\n",
              "1     Nick  35  Berlin  Germany\n",
              "2  Winston  40  Madrid    Spain\n",
              "3      Tom  27   Paris   France\n",
              "4     Alex  52  London       UK"
            ],
            "text/html": [
              "\n",
              "  <div id=\"df-2a9d9995-b667-402a-a93f-8cceb4f6d12c\">\n",
              "    <div class=\"colab-df-container\">\n",
              "      <div>\n",
              "<style scoped>\n",
              "    .dataframe tbody tr th:only-of-type {\n",
              "        vertical-align: middle;\n",
              "    }\n",
              "\n",
              "    .dataframe tbody tr th {\n",
              "        vertical-align: top;\n",
              "    }\n",
              "\n",
              "    .dataframe thead th {\n",
              "        text-align: right;\n",
              "    }\n",
              "</style>\n",
              "<table border=\"1\" class=\"dataframe\">\n",
              "  <thead>\n",
              "    <tr style=\"text-align: right;\">\n",
              "      <th></th>\n",
              "      <th>name</th>\n",
              "      <th>age</th>\n",
              "      <th>city</th>\n",
              "      <th>country</th>\n",
              "    </tr>\n",
              "  </thead>\n",
              "  <tbody>\n",
              "    <tr>\n",
              "      <th>0</th>\n",
              "      <td>Jess</td>\n",
              "      <td>30</td>\n",
              "      <td>Paris</td>\n",
              "      <td>France</td>\n",
              "    </tr>\n",
              "    <tr>\n",
              "      <th>1</th>\n",
              "      <td>Nick</td>\n",
              "      <td>35</td>\n",
              "      <td>Berlin</td>\n",
              "      <td>Germany</td>\n",
              "    </tr>\n",
              "    <tr>\n",
              "      <th>2</th>\n",
              "      <td>Winston</td>\n",
              "      <td>40</td>\n",
              "      <td>Madrid</td>\n",
              "      <td>Spain</td>\n",
              "    </tr>\n",
              "    <tr>\n",
              "      <th>3</th>\n",
              "      <td>Tom</td>\n",
              "      <td>27</td>\n",
              "      <td>Paris</td>\n",
              "      <td>France</td>\n",
              "    </tr>\n",
              "    <tr>\n",
              "      <th>4</th>\n",
              "      <td>Alex</td>\n",
              "      <td>52</td>\n",
              "      <td>London</td>\n",
              "      <td>UK</td>\n",
              "    </tr>\n",
              "  </tbody>\n",
              "</table>\n",
              "</div>\n",
              "      <button class=\"colab-df-convert\" onclick=\"convertToInteractive('df-2a9d9995-b667-402a-a93f-8cceb4f6d12c')\"\n",
              "              title=\"Convert this dataframe to an interactive table.\"\n",
              "              style=\"display:none;\">\n",
              "        \n",
              "  <svg xmlns=\"http://www.w3.org/2000/svg\" height=\"24px\"viewBox=\"0 0 24 24\"\n",
              "       width=\"24px\">\n",
              "    <path d=\"M0 0h24v24H0V0z\" fill=\"none\"/>\n",
              "    <path d=\"M18.56 5.44l.94 2.06.94-2.06 2.06-.94-2.06-.94-.94-2.06-.94 2.06-2.06.94zm-11 1L8.5 8.5l.94-2.06 2.06-.94-2.06-.94L8.5 2.5l-.94 2.06-2.06.94zm10 10l.94 2.06.94-2.06 2.06-.94-2.06-.94-.94-2.06-.94 2.06-2.06.94z\"/><path d=\"M17.41 7.96l-1.37-1.37c-.4-.4-.92-.59-1.43-.59-.52 0-1.04.2-1.43.59L10.3 9.45l-7.72 7.72c-.78.78-.78 2.05 0 2.83L4 21.41c.39.39.9.59 1.41.59.51 0 1.02-.2 1.41-.59l7.78-7.78 2.81-2.81c.8-.78.8-2.07 0-2.86zM5.41 20L4 18.59l7.72-7.72 1.47 1.35L5.41 20z\"/>\n",
              "  </svg>\n",
              "      </button>\n",
              "      \n",
              "  <style>\n",
              "    .colab-df-container {\n",
              "      display:flex;\n",
              "      flex-wrap:wrap;\n",
              "      gap: 12px;\n",
              "    }\n",
              "\n",
              "    .colab-df-convert {\n",
              "      background-color: #E8F0FE;\n",
              "      border: none;\n",
              "      border-radius: 50%;\n",
              "      cursor: pointer;\n",
              "      display: none;\n",
              "      fill: #1967D2;\n",
              "      height: 32px;\n",
              "      padding: 0 0 0 0;\n",
              "      width: 32px;\n",
              "    }\n",
              "\n",
              "    .colab-df-convert:hover {\n",
              "      background-color: #E2EBFA;\n",
              "      box-shadow: 0px 1px 2px rgba(60, 64, 67, 0.3), 0px 1px 3px 1px rgba(60, 64, 67, 0.15);\n",
              "      fill: #174EA6;\n",
              "    }\n",
              "\n",
              "    [theme=dark] .colab-df-convert {\n",
              "      background-color: #3B4455;\n",
              "      fill: #D2E3FC;\n",
              "    }\n",
              "\n",
              "    [theme=dark] .colab-df-convert:hover {\n",
              "      background-color: #434B5C;\n",
              "      box-shadow: 0px 1px 3px 1px rgba(0, 0, 0, 0.15);\n",
              "      filter: drop-shadow(0px 1px 2px rgba(0, 0, 0, 0.3));\n",
              "      fill: #FFFFFF;\n",
              "    }\n",
              "  </style>\n",
              "\n",
              "      <script>\n",
              "        const buttonEl =\n",
              "          document.querySelector('#df-2a9d9995-b667-402a-a93f-8cceb4f6d12c button.colab-df-convert');\n",
              "        buttonEl.style.display =\n",
              "          google.colab.kernel.accessAllowed ? 'block' : 'none';\n",
              "\n",
              "        async function convertToInteractive(key) {\n",
              "          const element = document.querySelector('#df-2a9d9995-b667-402a-a93f-8cceb4f6d12c');\n",
              "          const dataTable =\n",
              "            await google.colab.kernel.invokeFunction('convertToInteractive',\n",
              "                                                     [key], {});\n",
              "          if (!dataTable) return;\n",
              "\n",
              "          const docLinkHtml = 'Like what you see? Visit the ' +\n",
              "            '<a target=\"_blank\" href=https://colab.research.google.com/notebooks/data_table.ipynb>data table notebook</a>'\n",
              "            + ' to learn more about interactive tables.';\n",
              "          element.innerHTML = '';\n",
              "          dataTable['output_type'] = 'display_data';\n",
              "          await google.colab.output.renderOutput(dataTable, element);\n",
              "          const docLink = document.createElement('div');\n",
              "          docLink.innerHTML = docLinkHtml;\n",
              "          element.appendChild(docLink);\n",
              "        }\n",
              "      </script>\n",
              "    </div>\n",
              "  </div>\n",
              "  "
            ]
          },
          "metadata": {},
          "execution_count": 132
        }
      ],
      "source": [
        "# create a dataframe\n",
        "\n",
        "# load the the dictionary into a dataframe\n",
        "df1 = pd.DataFrame(dic)\n",
        "\n",
        "df1"
      ]
    },
    {
      "cell_type": "code",
      "execution_count": 133,
      "metadata": {
        "id": "JKCmX_eaSeeo",
        "colab": {
          "base_uri": "https://localhost:8080/",
          "height": 143
        },
        "outputId": "03017d0f-2c1a-4b7f-cbb3-6eb296963897"
      },
      "outputs": [
        {
          "output_type": "execute_result",
          "data": {
            "text/plain": [
              "      name age    city  country\n",
              "0     Jess  30   Paris   France\n",
              "1     Nick  35  Berlin  Germany\n",
              "2  Winston  40  Madrid    Spain"
            ],
            "text/html": [
              "\n",
              "  <div id=\"df-35015567-b7de-479f-b208-f0f5df8f7d76\">\n",
              "    <div class=\"colab-df-container\">\n",
              "      <div>\n",
              "<style scoped>\n",
              "    .dataframe tbody tr th:only-of-type {\n",
              "        vertical-align: middle;\n",
              "    }\n",
              "\n",
              "    .dataframe tbody tr th {\n",
              "        vertical-align: top;\n",
              "    }\n",
              "\n",
              "    .dataframe thead th {\n",
              "        text-align: right;\n",
              "    }\n",
              "</style>\n",
              "<table border=\"1\" class=\"dataframe\">\n",
              "  <thead>\n",
              "    <tr style=\"text-align: right;\">\n",
              "      <th></th>\n",
              "      <th>name</th>\n",
              "      <th>age</th>\n",
              "      <th>city</th>\n",
              "      <th>country</th>\n",
              "    </tr>\n",
              "  </thead>\n",
              "  <tbody>\n",
              "    <tr>\n",
              "      <th>0</th>\n",
              "      <td>Jess</td>\n",
              "      <td>30</td>\n",
              "      <td>Paris</td>\n",
              "      <td>France</td>\n",
              "    </tr>\n",
              "    <tr>\n",
              "      <th>1</th>\n",
              "      <td>Nick</td>\n",
              "      <td>35</td>\n",
              "      <td>Berlin</td>\n",
              "      <td>Germany</td>\n",
              "    </tr>\n",
              "    <tr>\n",
              "      <th>2</th>\n",
              "      <td>Winston</td>\n",
              "      <td>40</td>\n",
              "      <td>Madrid</td>\n",
              "      <td>Spain</td>\n",
              "    </tr>\n",
              "  </tbody>\n",
              "</table>\n",
              "</div>\n",
              "      <button class=\"colab-df-convert\" onclick=\"convertToInteractive('df-35015567-b7de-479f-b208-f0f5df8f7d76')\"\n",
              "              title=\"Convert this dataframe to an interactive table.\"\n",
              "              style=\"display:none;\">\n",
              "        \n",
              "  <svg xmlns=\"http://www.w3.org/2000/svg\" height=\"24px\"viewBox=\"0 0 24 24\"\n",
              "       width=\"24px\">\n",
              "    <path d=\"M0 0h24v24H0V0z\" fill=\"none\"/>\n",
              "    <path d=\"M18.56 5.44l.94 2.06.94-2.06 2.06-.94-2.06-.94-.94-2.06-.94 2.06-2.06.94zm-11 1L8.5 8.5l.94-2.06 2.06-.94-2.06-.94L8.5 2.5l-.94 2.06-2.06.94zm10 10l.94 2.06.94-2.06 2.06-.94-2.06-.94-.94-2.06-.94 2.06-2.06.94z\"/><path d=\"M17.41 7.96l-1.37-1.37c-.4-.4-.92-.59-1.43-.59-.52 0-1.04.2-1.43.59L10.3 9.45l-7.72 7.72c-.78.78-.78 2.05 0 2.83L4 21.41c.39.39.9.59 1.41.59.51 0 1.02-.2 1.41-.59l7.78-7.78 2.81-2.81c.8-.78.8-2.07 0-2.86zM5.41 20L4 18.59l7.72-7.72 1.47 1.35L5.41 20z\"/>\n",
              "  </svg>\n",
              "      </button>\n",
              "      \n",
              "  <style>\n",
              "    .colab-df-container {\n",
              "      display:flex;\n",
              "      flex-wrap:wrap;\n",
              "      gap: 12px;\n",
              "    }\n",
              "\n",
              "    .colab-df-convert {\n",
              "      background-color: #E8F0FE;\n",
              "      border: none;\n",
              "      border-radius: 50%;\n",
              "      cursor: pointer;\n",
              "      display: none;\n",
              "      fill: #1967D2;\n",
              "      height: 32px;\n",
              "      padding: 0 0 0 0;\n",
              "      width: 32px;\n",
              "    }\n",
              "\n",
              "    .colab-df-convert:hover {\n",
              "      background-color: #E2EBFA;\n",
              "      box-shadow: 0px 1px 2px rgba(60, 64, 67, 0.3), 0px 1px 3px 1px rgba(60, 64, 67, 0.15);\n",
              "      fill: #174EA6;\n",
              "    }\n",
              "\n",
              "    [theme=dark] .colab-df-convert {\n",
              "      background-color: #3B4455;\n",
              "      fill: #D2E3FC;\n",
              "    }\n",
              "\n",
              "    [theme=dark] .colab-df-convert:hover {\n",
              "      background-color: #434B5C;\n",
              "      box-shadow: 0px 1px 3px 1px rgba(0, 0, 0, 0.15);\n",
              "      filter: drop-shadow(0px 1px 2px rgba(0, 0, 0, 0.3));\n",
              "      fill: #FFFFFF;\n",
              "    }\n",
              "  </style>\n",
              "\n",
              "      <script>\n",
              "        const buttonEl =\n",
              "          document.querySelector('#df-35015567-b7de-479f-b208-f0f5df8f7d76 button.colab-df-convert');\n",
              "        buttonEl.style.display =\n",
              "          google.colab.kernel.accessAllowed ? 'block' : 'none';\n",
              "\n",
              "        async function convertToInteractive(key) {\n",
              "          const element = document.querySelector('#df-35015567-b7de-479f-b208-f0f5df8f7d76');\n",
              "          const dataTable =\n",
              "            await google.colab.kernel.invokeFunction('convertToInteractive',\n",
              "                                                     [key], {});\n",
              "          if (!dataTable) return;\n",
              "\n",
              "          const docLinkHtml = 'Like what you see? Visit the ' +\n",
              "            '<a target=\"_blank\" href=https://colab.research.google.com/notebooks/data_table.ipynb>data table notebook</a>'\n",
              "            + ' to learn more about interactive tables.';\n",
              "          element.innerHTML = '';\n",
              "          dataTable['output_type'] = 'display_data';\n",
              "          await google.colab.output.renderOutput(dataTable, element);\n",
              "          const docLink = document.createElement('div');\n",
              "          docLink.innerHTML = docLinkHtml;\n",
              "          element.appendChild(docLink);\n",
              "        }\n",
              "      </script>\n",
              "    </div>\n",
              "  </div>\n",
              "  "
            ]
          },
          "metadata": {},
          "execution_count": 133
        }
      ],
      "source": [
        "# visualize the first 3 rows of df\n",
        "\n",
        "df1.head(3) # please note that the row index start at 0"
      ]
    },
    {
      "cell_type": "code",
      "source": [
        "# visualize the last 3 rows of df\n",
        "\n",
        "df1.tail(3) # please note that the row index start at 0"
      ],
      "metadata": {
        "id": "iQjspbRK5vH3",
        "colab": {
          "base_uri": "https://localhost:8080/",
          "height": 143
        },
        "outputId": "10578024-ac35-40fe-ce72-b087b78baabe"
      },
      "execution_count": 135,
      "outputs": [
        {
          "output_type": "execute_result",
          "data": {
            "text/plain": [
              "      name age    city country\n",
              "2  Winston  40  Madrid   Spain\n",
              "3      Tom  27   Paris  France\n",
              "4     Alex  52  London      UK"
            ],
            "text/html": [
              "\n",
              "  <div id=\"df-198ca3bb-7a79-4081-96db-b8782e7aa0bb\">\n",
              "    <div class=\"colab-df-container\">\n",
              "      <div>\n",
              "<style scoped>\n",
              "    .dataframe tbody tr th:only-of-type {\n",
              "        vertical-align: middle;\n",
              "    }\n",
              "\n",
              "    .dataframe tbody tr th {\n",
              "        vertical-align: top;\n",
              "    }\n",
              "\n",
              "    .dataframe thead th {\n",
              "        text-align: right;\n",
              "    }\n",
              "</style>\n",
              "<table border=\"1\" class=\"dataframe\">\n",
              "  <thead>\n",
              "    <tr style=\"text-align: right;\">\n",
              "      <th></th>\n",
              "      <th>name</th>\n",
              "      <th>age</th>\n",
              "      <th>city</th>\n",
              "      <th>country</th>\n",
              "    </tr>\n",
              "  </thead>\n",
              "  <tbody>\n",
              "    <tr>\n",
              "      <th>2</th>\n",
              "      <td>Winston</td>\n",
              "      <td>40</td>\n",
              "      <td>Madrid</td>\n",
              "      <td>Spain</td>\n",
              "    </tr>\n",
              "    <tr>\n",
              "      <th>3</th>\n",
              "      <td>Tom</td>\n",
              "      <td>27</td>\n",
              "      <td>Paris</td>\n",
              "      <td>France</td>\n",
              "    </tr>\n",
              "    <tr>\n",
              "      <th>4</th>\n",
              "      <td>Alex</td>\n",
              "      <td>52</td>\n",
              "      <td>London</td>\n",
              "      <td>UK</td>\n",
              "    </tr>\n",
              "  </tbody>\n",
              "</table>\n",
              "</div>\n",
              "      <button class=\"colab-df-convert\" onclick=\"convertToInteractive('df-198ca3bb-7a79-4081-96db-b8782e7aa0bb')\"\n",
              "              title=\"Convert this dataframe to an interactive table.\"\n",
              "              style=\"display:none;\">\n",
              "        \n",
              "  <svg xmlns=\"http://www.w3.org/2000/svg\" height=\"24px\"viewBox=\"0 0 24 24\"\n",
              "       width=\"24px\">\n",
              "    <path d=\"M0 0h24v24H0V0z\" fill=\"none\"/>\n",
              "    <path d=\"M18.56 5.44l.94 2.06.94-2.06 2.06-.94-2.06-.94-.94-2.06-.94 2.06-2.06.94zm-11 1L8.5 8.5l.94-2.06 2.06-.94-2.06-.94L8.5 2.5l-.94 2.06-2.06.94zm10 10l.94 2.06.94-2.06 2.06-.94-2.06-.94-.94-2.06-.94 2.06-2.06.94z\"/><path d=\"M17.41 7.96l-1.37-1.37c-.4-.4-.92-.59-1.43-.59-.52 0-1.04.2-1.43.59L10.3 9.45l-7.72 7.72c-.78.78-.78 2.05 0 2.83L4 21.41c.39.39.9.59 1.41.59.51 0 1.02-.2 1.41-.59l7.78-7.78 2.81-2.81c.8-.78.8-2.07 0-2.86zM5.41 20L4 18.59l7.72-7.72 1.47 1.35L5.41 20z\"/>\n",
              "  </svg>\n",
              "      </button>\n",
              "      \n",
              "  <style>\n",
              "    .colab-df-container {\n",
              "      display:flex;\n",
              "      flex-wrap:wrap;\n",
              "      gap: 12px;\n",
              "    }\n",
              "\n",
              "    .colab-df-convert {\n",
              "      background-color: #E8F0FE;\n",
              "      border: none;\n",
              "      border-radius: 50%;\n",
              "      cursor: pointer;\n",
              "      display: none;\n",
              "      fill: #1967D2;\n",
              "      height: 32px;\n",
              "      padding: 0 0 0 0;\n",
              "      width: 32px;\n",
              "    }\n",
              "\n",
              "    .colab-df-convert:hover {\n",
              "      background-color: #E2EBFA;\n",
              "      box-shadow: 0px 1px 2px rgba(60, 64, 67, 0.3), 0px 1px 3px 1px rgba(60, 64, 67, 0.15);\n",
              "      fill: #174EA6;\n",
              "    }\n",
              "\n",
              "    [theme=dark] .colab-df-convert {\n",
              "      background-color: #3B4455;\n",
              "      fill: #D2E3FC;\n",
              "    }\n",
              "\n",
              "    [theme=dark] .colab-df-convert:hover {\n",
              "      background-color: #434B5C;\n",
              "      box-shadow: 0px 1px 3px 1px rgba(0, 0, 0, 0.15);\n",
              "      filter: drop-shadow(0px 1px 2px rgba(0, 0, 0, 0.3));\n",
              "      fill: #FFFFFF;\n",
              "    }\n",
              "  </style>\n",
              "\n",
              "      <script>\n",
              "        const buttonEl =\n",
              "          document.querySelector('#df-198ca3bb-7a79-4081-96db-b8782e7aa0bb button.colab-df-convert');\n",
              "        buttonEl.style.display =\n",
              "          google.colab.kernel.accessAllowed ? 'block' : 'none';\n",
              "\n",
              "        async function convertToInteractive(key) {\n",
              "          const element = document.querySelector('#df-198ca3bb-7a79-4081-96db-b8782e7aa0bb');\n",
              "          const dataTable =\n",
              "            await google.colab.kernel.invokeFunction('convertToInteractive',\n",
              "                                                     [key], {});\n",
              "          if (!dataTable) return;\n",
              "\n",
              "          const docLinkHtml = 'Like what you see? Visit the ' +\n",
              "            '<a target=\"_blank\" href=https://colab.research.google.com/notebooks/data_table.ipynb>data table notebook</a>'\n",
              "            + ' to learn more about interactive tables.';\n",
              "          element.innerHTML = '';\n",
              "          dataTable['output_type'] = 'display_data';\n",
              "          await google.colab.output.renderOutput(dataTable, element);\n",
              "          const docLink = document.createElement('div');\n",
              "          docLink.innerHTML = docLinkHtml;\n",
              "          element.appendChild(docLink);\n",
              "        }\n",
              "      </script>\n",
              "    </div>\n",
              "  </div>\n",
              "  "
            ]
          },
          "metadata": {},
          "execution_count": 135
        }
      ]
    },
    {
      "cell_type": "code",
      "execution_count": 136,
      "metadata": {
        "id": "Qbj76q-xTEYB",
        "colab": {
          "base_uri": "https://localhost:8080/"
        },
        "outputId": "28da7152-92f5-4278-cbd1-1323f7125c8d"
      },
      "outputs": [
        {
          "output_type": "execute_result",
          "data": {
            "text/plain": [
              "(5, 4)"
            ]
          },
          "metadata": {},
          "execution_count": 136
        }
      ],
      "source": [
        "# df dimensions\n",
        "\n",
        "df1.shape # return nb of rows, and nb of columns"
      ]
    },
    {
      "cell_type": "code",
      "execution_count": 137,
      "metadata": {
        "id": "KHLBVTXjTH0W",
        "colab": {
          "base_uri": "https://localhost:8080/"
        },
        "outputId": "c12613f0-35a7-4afe-8774-e9dc761b04d6"
      },
      "outputs": [
        {
          "output_type": "execute_result",
          "data": {
            "text/plain": [
              "5"
            ]
          },
          "metadata": {},
          "execution_count": 137
        }
      ],
      "source": [
        "# nb of rows\n",
        "\n",
        "df1.shape[0]"
      ]
    },
    {
      "cell_type": "code",
      "execution_count": 142,
      "metadata": {
        "id": "5IUZErk6TOhS",
        "colab": {
          "base_uri": "https://localhost:8080/"
        },
        "outputId": "92bdb341-50cd-465a-c869-8f0a48dd5328"
      },
      "outputs": [
        {
          "output_type": "execute_result",
          "data": {
            "text/plain": [
              "5"
            ]
          },
          "metadata": {},
          "execution_count": 142
        }
      ],
      "source": [
        "len(df1)"
      ]
    },
    {
      "cell_type": "code",
      "execution_count": 139,
      "metadata": {
        "id": "QFprcZGjTQSZ",
        "colab": {
          "base_uri": "https://localhost:8080/"
        },
        "outputId": "a8f575fc-2a94-42da-f5ba-32de7db72693"
      },
      "outputs": [
        {
          "output_type": "execute_result",
          "data": {
            "text/plain": [
              "4"
            ]
          },
          "metadata": {},
          "execution_count": 139
        }
      ],
      "source": [
        "# nb. of columns\n",
        "df1.shape[1]"
      ]
    },
    {
      "cell_type": "code",
      "execution_count": 140,
      "metadata": {
        "id": "5Yqcxa8aTUPD",
        "colab": {
          "base_uri": "https://localhost:8080/"
        },
        "outputId": "aec43a7d-2446-4b03-d0f6-a6929a50d8f5"
      },
      "outputs": [
        {
          "output_type": "execute_result",
          "data": {
            "text/plain": [
              "4"
            ]
          },
          "metadata": {},
          "execution_count": 140
        }
      ],
      "source": [
        "len(df1.columns)"
      ]
    },
    {
      "cell_type": "code",
      "execution_count": 143,
      "metadata": {
        "id": "N7UPeznrTXaF",
        "colab": {
          "base_uri": "https://localhost:8080/"
        },
        "outputId": "f9cd005b-80a8-49f2-dfde-2ae88aaad646"
      },
      "outputs": [
        {
          "output_type": "execute_result",
          "data": {
            "text/plain": [
              "Index(['name', 'age', 'city', 'country'], dtype='object')"
            ]
          },
          "metadata": {},
          "execution_count": 143
        }
      ],
      "source": [
        "# get df columns\n",
        "\n",
        "df1.columns"
      ]
    },
    {
      "cell_type": "code",
      "execution_count": 147,
      "metadata": {
        "id": "gMZxm5PBTbbT",
        "colab": {
          "base_uri": "https://localhost:8080/",
          "height": 35
        },
        "outputId": "b5bdeb6f-1376-4848-ae93-6b67eea9720f"
      },
      "outputs": [
        {
          "output_type": "execute_result",
          "data": {
            "text/plain": [
              "'name'"
            ],
            "application/vnd.google.colaboratory.intrinsic+json": {
              "type": "string"
            }
          },
          "metadata": {},
          "execution_count": 147
        }
      ],
      "source": [
        "# 1st column index: starts at 0\n",
        "\n",
        "df1.columns[0]\n"
      ]
    },
    {
      "cell_type": "markdown",
      "metadata": {
        "id": "6LU-ODP8TpPl"
      },
      "source": [
        "## Locations: .iloc & .loc"
      ]
    },
    {
      "cell_type": "code",
      "execution_count": 150,
      "metadata": {
        "id": "CIVlcWu7TjH7",
        "colab": {
          "base_uri": "https://localhost:8080/"
        },
        "outputId": "fe948670-6268-4410-cc47-185b9ba42862"
      },
      "outputs": [
        {
          "output_type": "execute_result",
          "data": {
            "text/plain": [
              "0    30\n",
              "1    35\n",
              "2    40\n",
              "3    27\n",
              "4    52\n",
              "Name: age, dtype: object"
            ]
          },
          "metadata": {},
          "execution_count": 150
        }
      ],
      "source": [
        "# access values by column name\n",
        "\n",
        "df1['age']"
      ]
    },
    {
      "cell_type": "code",
      "source": [
        "# another way to get values of a column\n",
        "\n",
        "df1.age"
      ],
      "metadata": {
        "id": "xZf_1Ox8iEO5",
        "colab": {
          "base_uri": "https://localhost:8080/"
        },
        "outputId": "a9ff484a-580f-4edc-c91b-343904240806"
      },
      "execution_count": 152,
      "outputs": [
        {
          "output_type": "execute_result",
          "data": {
            "text/plain": [
              "0    30\n",
              "1    35\n",
              "2    40\n",
              "3    27\n",
              "4    52\n",
              "Name: age, dtype: object"
            ]
          },
          "metadata": {},
          "execution_count": 152
        }
      ]
    },
    {
      "cell_type": "markdown",
      "source": [
        "TO access values from dataframe we use **.iloc** and **.loc** attributes"
      ],
      "metadata": {
        "id": "B0-676TUtflQ"
      }
    },
    {
      "cell_type": "markdown",
      "source": [
        "**.iloc**"
      ],
      "metadata": {
        "id": "MY-NbgI53D-M"
      }
    },
    {
      "cell_type": "markdown",
      "source": [
        "The pandas.DataFrame.iloc attribute is used to access elements from a pandas DataFrame using the integer position. \n",
        "\n",
        "The “.iloc” attribute allows inputs like an integer value, a list of integer values, and a slicing object with integers, and boolean array, etc.\n",
        "\n",
        "The attribute will raise an “IndexError” if the requested index is out of bounds, except for the slicing indexer object."
      ],
      "metadata": {
        "id": "ULjHVL_GtvJu"
      }
    },
    {
      "cell_type": "markdown",
      "source": [
        "iloc[row_position, column_position]"
      ],
      "metadata": {
        "id": "UpVrqgNPypXm"
      }
    },
    {
      "cell_type": "code",
      "source": [
        "print(df1)\n",
        "print('')\n",
        "\n",
        "# acces 1st row with .iloc\n",
        "df1.iloc[0] # a sing argument"
      ],
      "metadata": {
        "id": "raOFtmy6uq11",
        "colab": {
          "base_uri": "https://localhost:8080/"
        },
        "outputId": "dd41def5-af9c-470e-a898-b54585c6fe33"
      },
      "execution_count": 153,
      "outputs": [
        {
          "output_type": "stream",
          "name": "stdout",
          "text": [
            "      name age    city  country\n",
            "0     Jess  30   Paris   France\n",
            "1     Nick  35  Berlin  Germany\n",
            "2  Winston  40  Madrid    Spain\n",
            "3      Tom  27   Paris   France\n",
            "4     Alex  52  London       UK\n",
            "\n"
          ]
        },
        {
          "output_type": "execute_result",
          "data": {
            "text/plain": [
              "name         Jess\n",
              "age            30\n",
              "city        Paris\n",
              "country    France\n",
              "Name: 0, dtype: object"
            ]
          },
          "metadata": {},
          "execution_count": 153
        }
      ]
    },
    {
      "cell_type": "code",
      "source": [
        "print(df1)\n",
        "print('')\n",
        "\n",
        "# acces the last row with .iloc\n",
        "df1.iloc[-1]"
      ],
      "metadata": {
        "id": "BvHA_OaCu9w3",
        "colab": {
          "base_uri": "https://localhost:8080/"
        },
        "outputId": "e71021e3-4df2-414a-c8d5-ceab2dec441a"
      },
      "execution_count": 154,
      "outputs": [
        {
          "output_type": "stream",
          "name": "stdout",
          "text": [
            "      name age    city  country\n",
            "0     Jess  30   Paris   France\n",
            "1     Nick  35  Berlin  Germany\n",
            "2  Winston  40  Madrid    Spain\n",
            "3      Tom  27   Paris   France\n",
            "4     Alex  52  London       UK\n",
            "\n"
          ]
        },
        {
          "output_type": "execute_result",
          "data": {
            "text/plain": [
              "name         Alex\n",
              "age            52\n",
              "city       London\n",
              "country        UK\n",
              "Name: 4, dtype: object"
            ]
          },
          "metadata": {},
          "execution_count": 154
        }
      ]
    },
    {
      "cell_type": "code",
      "execution_count": 155,
      "metadata": {
        "id": "mCZA0A_MTwJ5",
        "colab": {
          "base_uri": "https://localhost:8080/"
        },
        "outputId": "5482ec31-7693-4375-aa00-5f4381218c25"
      },
      "outputs": [
        {
          "output_type": "stream",
          "name": "stdout",
          "text": [
            "      name age    city  country\n",
            "0     Jess  30   Paris   France\n",
            "1     Nick  35  Berlin  Germany\n",
            "2  Winston  40  Madrid    Spain\n",
            "3      Tom  27   Paris   France\n",
            "4     Alex  52  London       UK\n",
            "\n",
            "the 1st element of df is:  Jess\n"
          ]
        }
      ],
      "source": [
        "# accessing a single element by index with .iloc attribute\n",
        "\n",
        "print(df1)\n",
        "print('')\n",
        "print('the 1st element of df is: ', df1.iloc[0, 0])"
      ]
    },
    {
      "cell_type": "code",
      "execution_count": 156,
      "metadata": {
        "id": "6h4TipVET-4y",
        "colab": {
          "base_uri": "https://localhost:8080/",
          "height": 35
        },
        "outputId": "65da922a-7492-4d4c-9c91-ac848052c196"
      },
      "outputs": [
        {
          "output_type": "execute_result",
          "data": {
            "text/plain": [
              "'UK'"
            ],
            "application/vnd.google.colaboratory.intrinsic+json": {
              "type": "string"
            }
          },
          "metadata": {},
          "execution_count": 156
        }
      ],
      "source": [
        "# accessing the last element of the df\n",
        "df1.iloc[-1, -1]"
      ]
    },
    {
      "cell_type": "code",
      "execution_count": 157,
      "metadata": {
        "id": "2TmwbnFJUEME",
        "colab": {
          "base_uri": "https://localhost:8080/",
          "height": 157
        },
        "outputId": "21d83725-325f-4f14-a050-4d562d83a5c5"
      },
      "outputs": [
        {
          "output_type": "stream",
          "name": "stdout",
          "text": [
            "      name age    city  country\n",
            "0     Jess  30   Paris   France\n",
            "1     Nick  35  Berlin  Germany\n",
            "2  Winston  40  Madrid    Spain\n",
            "3      Tom  27   Paris   France\n",
            "4     Alex  52  London       UK\n",
            "\n"
          ]
        },
        {
          "output_type": "execute_result",
          "data": {
            "text/plain": [
              "'40'"
            ],
            "application/vnd.google.colaboratory.intrinsic+json": {
              "type": "string"
            }
          },
          "metadata": {},
          "execution_count": 157
        }
      ],
      "source": [
        "# return element with value 40\n",
        "\n",
        "print(df1)\n",
        "print('')\n",
        "df1.iloc[2,1] # row index 2 and col index 1"
      ]
    },
    {
      "cell_type": "code",
      "source": [
        "# out of bounds index\n",
        "# ... romove the hashtag (#) in front of the line with code if you want to run the cell...\n",
        "\n",
        "# df1.iloc[12,2]"
      ],
      "metadata": {
        "id": "0HMhG2BduBtO"
      },
      "execution_count": null,
      "outputs": []
    },
    {
      "cell_type": "code",
      "source": [
        "print(df1)\n",
        "print('')\n",
        "\n",
        "# accessing a range of values by index\n",
        "df1.iloc[:3, 1:3] # all elements till the row index 3 (not included) and columns from 1 to 3 (where 3 not included)"
      ],
      "metadata": {
        "id": "sTX-Dk8JvQPc",
        "colab": {
          "base_uri": "https://localhost:8080/",
          "height": 265
        },
        "outputId": "73cfc16f-579d-49a7-aa1f-26ff5d932071"
      },
      "execution_count": 169,
      "outputs": [
        {
          "output_type": "stream",
          "name": "stdout",
          "text": [
            "      name age    city  country\n",
            "0     Jess  30   Paris   France\n",
            "1     Nick  35  Berlin  Germany\n",
            "2  Winston  40  Madrid    Spain\n",
            "3      Tom  27   Paris   France\n",
            "4     Alex  52  London       UK\n",
            "\n"
          ]
        },
        {
          "output_type": "execute_result",
          "data": {
            "text/plain": [
              "  age    city\n",
              "0  30   Paris\n",
              "1  35  Berlin\n",
              "2  40  Madrid"
            ],
            "text/html": [
              "\n",
              "  <div id=\"df-ec55e2a6-1c36-4efc-9195-46c5538bbce5\">\n",
              "    <div class=\"colab-df-container\">\n",
              "      <div>\n",
              "<style scoped>\n",
              "    .dataframe tbody tr th:only-of-type {\n",
              "        vertical-align: middle;\n",
              "    }\n",
              "\n",
              "    .dataframe tbody tr th {\n",
              "        vertical-align: top;\n",
              "    }\n",
              "\n",
              "    .dataframe thead th {\n",
              "        text-align: right;\n",
              "    }\n",
              "</style>\n",
              "<table border=\"1\" class=\"dataframe\">\n",
              "  <thead>\n",
              "    <tr style=\"text-align: right;\">\n",
              "      <th></th>\n",
              "      <th>age</th>\n",
              "      <th>city</th>\n",
              "    </tr>\n",
              "  </thead>\n",
              "  <tbody>\n",
              "    <tr>\n",
              "      <th>0</th>\n",
              "      <td>30</td>\n",
              "      <td>Paris</td>\n",
              "    </tr>\n",
              "    <tr>\n",
              "      <th>1</th>\n",
              "      <td>35</td>\n",
              "      <td>Berlin</td>\n",
              "    </tr>\n",
              "    <tr>\n",
              "      <th>2</th>\n",
              "      <td>40</td>\n",
              "      <td>Madrid</td>\n",
              "    </tr>\n",
              "  </tbody>\n",
              "</table>\n",
              "</div>\n",
              "      <button class=\"colab-df-convert\" onclick=\"convertToInteractive('df-ec55e2a6-1c36-4efc-9195-46c5538bbce5')\"\n",
              "              title=\"Convert this dataframe to an interactive table.\"\n",
              "              style=\"display:none;\">\n",
              "        \n",
              "  <svg xmlns=\"http://www.w3.org/2000/svg\" height=\"24px\"viewBox=\"0 0 24 24\"\n",
              "       width=\"24px\">\n",
              "    <path d=\"M0 0h24v24H0V0z\" fill=\"none\"/>\n",
              "    <path d=\"M18.56 5.44l.94 2.06.94-2.06 2.06-.94-2.06-.94-.94-2.06-.94 2.06-2.06.94zm-11 1L8.5 8.5l.94-2.06 2.06-.94-2.06-.94L8.5 2.5l-.94 2.06-2.06.94zm10 10l.94 2.06.94-2.06 2.06-.94-2.06-.94-.94-2.06-.94 2.06-2.06.94z\"/><path d=\"M17.41 7.96l-1.37-1.37c-.4-.4-.92-.59-1.43-.59-.52 0-1.04.2-1.43.59L10.3 9.45l-7.72 7.72c-.78.78-.78 2.05 0 2.83L4 21.41c.39.39.9.59 1.41.59.51 0 1.02-.2 1.41-.59l7.78-7.78 2.81-2.81c.8-.78.8-2.07 0-2.86zM5.41 20L4 18.59l7.72-7.72 1.47 1.35L5.41 20z\"/>\n",
              "  </svg>\n",
              "      </button>\n",
              "      \n",
              "  <style>\n",
              "    .colab-df-container {\n",
              "      display:flex;\n",
              "      flex-wrap:wrap;\n",
              "      gap: 12px;\n",
              "    }\n",
              "\n",
              "    .colab-df-convert {\n",
              "      background-color: #E8F0FE;\n",
              "      border: none;\n",
              "      border-radius: 50%;\n",
              "      cursor: pointer;\n",
              "      display: none;\n",
              "      fill: #1967D2;\n",
              "      height: 32px;\n",
              "      padding: 0 0 0 0;\n",
              "      width: 32px;\n",
              "    }\n",
              "\n",
              "    .colab-df-convert:hover {\n",
              "      background-color: #E2EBFA;\n",
              "      box-shadow: 0px 1px 2px rgba(60, 64, 67, 0.3), 0px 1px 3px 1px rgba(60, 64, 67, 0.15);\n",
              "      fill: #174EA6;\n",
              "    }\n",
              "\n",
              "    [theme=dark] .colab-df-convert {\n",
              "      background-color: #3B4455;\n",
              "      fill: #D2E3FC;\n",
              "    }\n",
              "\n",
              "    [theme=dark] .colab-df-convert:hover {\n",
              "      background-color: #434B5C;\n",
              "      box-shadow: 0px 1px 3px 1px rgba(0, 0, 0, 0.15);\n",
              "      filter: drop-shadow(0px 1px 2px rgba(0, 0, 0, 0.3));\n",
              "      fill: #FFFFFF;\n",
              "    }\n",
              "  </style>\n",
              "\n",
              "      <script>\n",
              "        const buttonEl =\n",
              "          document.querySelector('#df-ec55e2a6-1c36-4efc-9195-46c5538bbce5 button.colab-df-convert');\n",
              "        buttonEl.style.display =\n",
              "          google.colab.kernel.accessAllowed ? 'block' : 'none';\n",
              "\n",
              "        async function convertToInteractive(key) {\n",
              "          const element = document.querySelector('#df-ec55e2a6-1c36-4efc-9195-46c5538bbce5');\n",
              "          const dataTable =\n",
              "            await google.colab.kernel.invokeFunction('convertToInteractive',\n",
              "                                                     [key], {});\n",
              "          if (!dataTable) return;\n",
              "\n",
              "          const docLinkHtml = 'Like what you see? Visit the ' +\n",
              "            '<a target=\"_blank\" href=https://colab.research.google.com/notebooks/data_table.ipynb>data table notebook</a>'\n",
              "            + ' to learn more about interactive tables.';\n",
              "          element.innerHTML = '';\n",
              "          dataTable['output_type'] = 'display_data';\n",
              "          await google.colab.output.renderOutput(dataTable, element);\n",
              "          const docLink = document.createElement('div');\n",
              "          docLink.innerHTML = docLinkHtml;\n",
              "          element.appendChild(docLink);\n",
              "        }\n",
              "      </script>\n",
              "    </div>\n",
              "  </div>\n",
              "  "
            ]
          },
          "metadata": {},
          "execution_count": 169
        }
      ]
    },
    {
      "cell_type": "markdown",
      "source": [
        "**.loc** "
      ],
      "metadata": {
        "id": "2HV9UOOS3JOI"
      }
    },
    {
      "cell_type": "markdown",
      "source": [
        "The “.loc” is an attribute of the pandas.DataFrame. it is used to access elements from DataFrame based on row/column label indexing."
      ],
      "metadata": {
        "id": "7bZXVxdbs0t5"
      }
    },
    {
      "cell_type": "markdown",
      "source": [
        "loc[row_label, column_label]"
      ],
      "metadata": {
        "id": "UDgRy2cFywRY"
      }
    },
    {
      "cell_type": "code",
      "source": [
        "# the rows have indices, but no labels\n",
        "\n",
        "print(df1.shape)\n",
        "\n",
        "df1"
      ],
      "metadata": {
        "id": "AqWGf5FB5Y9s",
        "colab": {
          "base_uri": "https://localhost:8080/",
          "height": 224
        },
        "outputId": "9db16e9a-a6ec-45f2-9647-e8676d5ae6fd"
      },
      "execution_count": 170,
      "outputs": [
        {
          "output_type": "stream",
          "name": "stdout",
          "text": [
            "(5, 4)\n"
          ]
        },
        {
          "output_type": "execute_result",
          "data": {
            "text/plain": [
              "      name age    city  country\n",
              "0     Jess  30   Paris   France\n",
              "1     Nick  35  Berlin  Germany\n",
              "2  Winston  40  Madrid    Spain\n",
              "3      Tom  27   Paris   France\n",
              "4     Alex  52  London       UK"
            ],
            "text/html": [
              "\n",
              "  <div id=\"df-e66da7e1-6dbe-4c84-8866-e37694ec7239\">\n",
              "    <div class=\"colab-df-container\">\n",
              "      <div>\n",
              "<style scoped>\n",
              "    .dataframe tbody tr th:only-of-type {\n",
              "        vertical-align: middle;\n",
              "    }\n",
              "\n",
              "    .dataframe tbody tr th {\n",
              "        vertical-align: top;\n",
              "    }\n",
              "\n",
              "    .dataframe thead th {\n",
              "        text-align: right;\n",
              "    }\n",
              "</style>\n",
              "<table border=\"1\" class=\"dataframe\">\n",
              "  <thead>\n",
              "    <tr style=\"text-align: right;\">\n",
              "      <th></th>\n",
              "      <th>name</th>\n",
              "      <th>age</th>\n",
              "      <th>city</th>\n",
              "      <th>country</th>\n",
              "    </tr>\n",
              "  </thead>\n",
              "  <tbody>\n",
              "    <tr>\n",
              "      <th>0</th>\n",
              "      <td>Jess</td>\n",
              "      <td>30</td>\n",
              "      <td>Paris</td>\n",
              "      <td>France</td>\n",
              "    </tr>\n",
              "    <tr>\n",
              "      <th>1</th>\n",
              "      <td>Nick</td>\n",
              "      <td>35</td>\n",
              "      <td>Berlin</td>\n",
              "      <td>Germany</td>\n",
              "    </tr>\n",
              "    <tr>\n",
              "      <th>2</th>\n",
              "      <td>Winston</td>\n",
              "      <td>40</td>\n",
              "      <td>Madrid</td>\n",
              "      <td>Spain</td>\n",
              "    </tr>\n",
              "    <tr>\n",
              "      <th>3</th>\n",
              "      <td>Tom</td>\n",
              "      <td>27</td>\n",
              "      <td>Paris</td>\n",
              "      <td>France</td>\n",
              "    </tr>\n",
              "    <tr>\n",
              "      <th>4</th>\n",
              "      <td>Alex</td>\n",
              "      <td>52</td>\n",
              "      <td>London</td>\n",
              "      <td>UK</td>\n",
              "    </tr>\n",
              "  </tbody>\n",
              "</table>\n",
              "</div>\n",
              "      <button class=\"colab-df-convert\" onclick=\"convertToInteractive('df-e66da7e1-6dbe-4c84-8866-e37694ec7239')\"\n",
              "              title=\"Convert this dataframe to an interactive table.\"\n",
              "              style=\"display:none;\">\n",
              "        \n",
              "  <svg xmlns=\"http://www.w3.org/2000/svg\" height=\"24px\"viewBox=\"0 0 24 24\"\n",
              "       width=\"24px\">\n",
              "    <path d=\"M0 0h24v24H0V0z\" fill=\"none\"/>\n",
              "    <path d=\"M18.56 5.44l.94 2.06.94-2.06 2.06-.94-2.06-.94-.94-2.06-.94 2.06-2.06.94zm-11 1L8.5 8.5l.94-2.06 2.06-.94-2.06-.94L8.5 2.5l-.94 2.06-2.06.94zm10 10l.94 2.06.94-2.06 2.06-.94-2.06-.94-.94-2.06-.94 2.06-2.06.94z\"/><path d=\"M17.41 7.96l-1.37-1.37c-.4-.4-.92-.59-1.43-.59-.52 0-1.04.2-1.43.59L10.3 9.45l-7.72 7.72c-.78.78-.78 2.05 0 2.83L4 21.41c.39.39.9.59 1.41.59.51 0 1.02-.2 1.41-.59l7.78-7.78 2.81-2.81c.8-.78.8-2.07 0-2.86zM5.41 20L4 18.59l7.72-7.72 1.47 1.35L5.41 20z\"/>\n",
              "  </svg>\n",
              "      </button>\n",
              "      \n",
              "  <style>\n",
              "    .colab-df-container {\n",
              "      display:flex;\n",
              "      flex-wrap:wrap;\n",
              "      gap: 12px;\n",
              "    }\n",
              "\n",
              "    .colab-df-convert {\n",
              "      background-color: #E8F0FE;\n",
              "      border: none;\n",
              "      border-radius: 50%;\n",
              "      cursor: pointer;\n",
              "      display: none;\n",
              "      fill: #1967D2;\n",
              "      height: 32px;\n",
              "      padding: 0 0 0 0;\n",
              "      width: 32px;\n",
              "    }\n",
              "\n",
              "    .colab-df-convert:hover {\n",
              "      background-color: #E2EBFA;\n",
              "      box-shadow: 0px 1px 2px rgba(60, 64, 67, 0.3), 0px 1px 3px 1px rgba(60, 64, 67, 0.15);\n",
              "      fill: #174EA6;\n",
              "    }\n",
              "\n",
              "    [theme=dark] .colab-df-convert {\n",
              "      background-color: #3B4455;\n",
              "      fill: #D2E3FC;\n",
              "    }\n",
              "\n",
              "    [theme=dark] .colab-df-convert:hover {\n",
              "      background-color: #434B5C;\n",
              "      box-shadow: 0px 1px 3px 1px rgba(0, 0, 0, 0.15);\n",
              "      filter: drop-shadow(0px 1px 2px rgba(0, 0, 0, 0.3));\n",
              "      fill: #FFFFFF;\n",
              "    }\n",
              "  </style>\n",
              "\n",
              "      <script>\n",
              "        const buttonEl =\n",
              "          document.querySelector('#df-e66da7e1-6dbe-4c84-8866-e37694ec7239 button.colab-df-convert');\n",
              "        buttonEl.style.display =\n",
              "          google.colab.kernel.accessAllowed ? 'block' : 'none';\n",
              "\n",
              "        async function convertToInteractive(key) {\n",
              "          const element = document.querySelector('#df-e66da7e1-6dbe-4c84-8866-e37694ec7239');\n",
              "          const dataTable =\n",
              "            await google.colab.kernel.invokeFunction('convertToInteractive',\n",
              "                                                     [key], {});\n",
              "          if (!dataTable) return;\n",
              "\n",
              "          const docLinkHtml = 'Like what you see? Visit the ' +\n",
              "            '<a target=\"_blank\" href=https://colab.research.google.com/notebooks/data_table.ipynb>data table notebook</a>'\n",
              "            + ' to learn more about interactive tables.';\n",
              "          element.innerHTML = '';\n",
              "          dataTable['output_type'] = 'display_data';\n",
              "          await google.colab.output.renderOutput(dataTable, element);\n",
              "          const docLink = document.createElement('div');\n",
              "          docLink.innerHTML = docLinkHtml;\n",
              "          element.appendChild(docLink);\n",
              "        }\n",
              "      </script>\n",
              "    </div>\n",
              "  </div>\n",
              "  "
            ]
          },
          "metadata": {},
          "execution_count": 170
        }
      ]
    },
    {
      "cell_type": "code",
      "source": [
        "# reset the index of df, use the column name as index\n",
        "\n",
        "df1 = df1.set_index('name')\n",
        "print('the new shape of df1 is: ', df1.shape)\n",
        "print('')\n",
        "df1"
      ],
      "metadata": {
        "id": "jv7Kheu60Yrx",
        "colab": {
          "base_uri": "https://localhost:8080/",
          "height": 272
        },
        "outputId": "f2eb4d97-aeb9-40ad-cc26-2ee86bdea0c2"
      },
      "execution_count": 171,
      "outputs": [
        {
          "output_type": "stream",
          "name": "stdout",
          "text": [
            "the new shape of df1 is:  (5, 3)\n",
            "\n"
          ]
        },
        {
          "output_type": "execute_result",
          "data": {
            "text/plain": [
              "        age    city  country\n",
              "name                        \n",
              "Jess     30   Paris   France\n",
              "Nick     35  Berlin  Germany\n",
              "Winston  40  Madrid    Spain\n",
              "Tom      27   Paris   France\n",
              "Alex     52  London       UK"
            ],
            "text/html": [
              "\n",
              "  <div id=\"df-f92b2fb1-e144-4de0-870e-29a144c5cd66\">\n",
              "    <div class=\"colab-df-container\">\n",
              "      <div>\n",
              "<style scoped>\n",
              "    .dataframe tbody tr th:only-of-type {\n",
              "        vertical-align: middle;\n",
              "    }\n",
              "\n",
              "    .dataframe tbody tr th {\n",
              "        vertical-align: top;\n",
              "    }\n",
              "\n",
              "    .dataframe thead th {\n",
              "        text-align: right;\n",
              "    }\n",
              "</style>\n",
              "<table border=\"1\" class=\"dataframe\">\n",
              "  <thead>\n",
              "    <tr style=\"text-align: right;\">\n",
              "      <th></th>\n",
              "      <th>age</th>\n",
              "      <th>city</th>\n",
              "      <th>country</th>\n",
              "    </tr>\n",
              "    <tr>\n",
              "      <th>name</th>\n",
              "      <th></th>\n",
              "      <th></th>\n",
              "      <th></th>\n",
              "    </tr>\n",
              "  </thead>\n",
              "  <tbody>\n",
              "    <tr>\n",
              "      <th>Jess</th>\n",
              "      <td>30</td>\n",
              "      <td>Paris</td>\n",
              "      <td>France</td>\n",
              "    </tr>\n",
              "    <tr>\n",
              "      <th>Nick</th>\n",
              "      <td>35</td>\n",
              "      <td>Berlin</td>\n",
              "      <td>Germany</td>\n",
              "    </tr>\n",
              "    <tr>\n",
              "      <th>Winston</th>\n",
              "      <td>40</td>\n",
              "      <td>Madrid</td>\n",
              "      <td>Spain</td>\n",
              "    </tr>\n",
              "    <tr>\n",
              "      <th>Tom</th>\n",
              "      <td>27</td>\n",
              "      <td>Paris</td>\n",
              "      <td>France</td>\n",
              "    </tr>\n",
              "    <tr>\n",
              "      <th>Alex</th>\n",
              "      <td>52</td>\n",
              "      <td>London</td>\n",
              "      <td>UK</td>\n",
              "    </tr>\n",
              "  </tbody>\n",
              "</table>\n",
              "</div>\n",
              "      <button class=\"colab-df-convert\" onclick=\"convertToInteractive('df-f92b2fb1-e144-4de0-870e-29a144c5cd66')\"\n",
              "              title=\"Convert this dataframe to an interactive table.\"\n",
              "              style=\"display:none;\">\n",
              "        \n",
              "  <svg xmlns=\"http://www.w3.org/2000/svg\" height=\"24px\"viewBox=\"0 0 24 24\"\n",
              "       width=\"24px\">\n",
              "    <path d=\"M0 0h24v24H0V0z\" fill=\"none\"/>\n",
              "    <path d=\"M18.56 5.44l.94 2.06.94-2.06 2.06-.94-2.06-.94-.94-2.06-.94 2.06-2.06.94zm-11 1L8.5 8.5l.94-2.06 2.06-.94-2.06-.94L8.5 2.5l-.94 2.06-2.06.94zm10 10l.94 2.06.94-2.06 2.06-.94-2.06-.94-.94-2.06-.94 2.06-2.06.94z\"/><path d=\"M17.41 7.96l-1.37-1.37c-.4-.4-.92-.59-1.43-.59-.52 0-1.04.2-1.43.59L10.3 9.45l-7.72 7.72c-.78.78-.78 2.05 0 2.83L4 21.41c.39.39.9.59 1.41.59.51 0 1.02-.2 1.41-.59l7.78-7.78 2.81-2.81c.8-.78.8-2.07 0-2.86zM5.41 20L4 18.59l7.72-7.72 1.47 1.35L5.41 20z\"/>\n",
              "  </svg>\n",
              "      </button>\n",
              "      \n",
              "  <style>\n",
              "    .colab-df-container {\n",
              "      display:flex;\n",
              "      flex-wrap:wrap;\n",
              "      gap: 12px;\n",
              "    }\n",
              "\n",
              "    .colab-df-convert {\n",
              "      background-color: #E8F0FE;\n",
              "      border: none;\n",
              "      border-radius: 50%;\n",
              "      cursor: pointer;\n",
              "      display: none;\n",
              "      fill: #1967D2;\n",
              "      height: 32px;\n",
              "      padding: 0 0 0 0;\n",
              "      width: 32px;\n",
              "    }\n",
              "\n",
              "    .colab-df-convert:hover {\n",
              "      background-color: #E2EBFA;\n",
              "      box-shadow: 0px 1px 2px rgba(60, 64, 67, 0.3), 0px 1px 3px 1px rgba(60, 64, 67, 0.15);\n",
              "      fill: #174EA6;\n",
              "    }\n",
              "\n",
              "    [theme=dark] .colab-df-convert {\n",
              "      background-color: #3B4455;\n",
              "      fill: #D2E3FC;\n",
              "    }\n",
              "\n",
              "    [theme=dark] .colab-df-convert:hover {\n",
              "      background-color: #434B5C;\n",
              "      box-shadow: 0px 1px 3px 1px rgba(0, 0, 0, 0.15);\n",
              "      filter: drop-shadow(0px 1px 2px rgba(0, 0, 0, 0.3));\n",
              "      fill: #FFFFFF;\n",
              "    }\n",
              "  </style>\n",
              "\n",
              "      <script>\n",
              "        const buttonEl =\n",
              "          document.querySelector('#df-f92b2fb1-e144-4de0-870e-29a144c5cd66 button.colab-df-convert');\n",
              "        buttonEl.style.display =\n",
              "          google.colab.kernel.accessAllowed ? 'block' : 'none';\n",
              "\n",
              "        async function convertToInteractive(key) {\n",
              "          const element = document.querySelector('#df-f92b2fb1-e144-4de0-870e-29a144c5cd66');\n",
              "          const dataTable =\n",
              "            await google.colab.kernel.invokeFunction('convertToInteractive',\n",
              "                                                     [key], {});\n",
              "          if (!dataTable) return;\n",
              "\n",
              "          const docLinkHtml = 'Like what you see? Visit the ' +\n",
              "            '<a target=\"_blank\" href=https://colab.research.google.com/notebooks/data_table.ipynb>data table notebook</a>'\n",
              "            + ' to learn more about interactive tables.';\n",
              "          element.innerHTML = '';\n",
              "          dataTable['output_type'] = 'display_data';\n",
              "          await google.colab.output.renderOutput(dataTable, element);\n",
              "          const docLink = document.createElement('div');\n",
              "          docLink.innerHTML = docLinkHtml;\n",
              "          element.appendChild(docLink);\n",
              "        }\n",
              "      </script>\n",
              "    </div>\n",
              "  </div>\n",
              "  "
            ]
          },
          "metadata": {},
          "execution_count": 171
        }
      ]
    },
    {
      "cell_type": "code",
      "execution_count": 172,
      "metadata": {
        "id": "-sFSyWUiUM2W",
        "colab": {
          "base_uri": "https://localhost:8080/",
          "height": 192
        },
        "outputId": "f50e856e-ce63-443c-9582-d1c686e6d6c3"
      },
      "outputs": [
        {
          "output_type": "stream",
          "name": "stdout",
          "text": [
            "        age    city  country\n",
            "name                        \n",
            "Jess     30   Paris   France\n",
            "Nick     35  Berlin  Germany\n",
            "Winston  40  Madrid    Spain\n",
            "Tom      27   Paris   France\n",
            "Alex     52  London       UK\n",
            "\n",
            "The country of Nick is: ... \n"
          ]
        },
        {
          "output_type": "execute_result",
          "data": {
            "text/plain": [
              "'Germany'"
            ],
            "application/vnd.google.colaboratory.intrinsic+json": {
              "type": "string"
            }
          },
          "metadata": {},
          "execution_count": 172
        }
      ],
      "source": [
        "# access an element by labels\n",
        "\n",
        "print(df1)\n",
        "print('')\n",
        "print('The country of Nick is: ... ')\n",
        "df1.loc['Nick', 'country']"
      ]
    },
    {
      "cell_type": "code",
      "source": [
        "# access a range of elements by labels\n",
        "print(df1)\n",
        "print('')\n",
        "print('The countries of Nick and Winston is: ... ')\n",
        "df1.loc['Nick':'Tom', 'country']\n"
      ],
      "metadata": {
        "id": "aLnMucbz0XRT",
        "colab": {
          "base_uri": "https://localhost:8080/"
        },
        "outputId": "0204ad3c-e265-447d-f5c7-30857cae6796"
      },
      "execution_count": 174,
      "outputs": [
        {
          "output_type": "stream",
          "name": "stdout",
          "text": [
            "        age    city  country\n",
            "name                        \n",
            "Jess     30   Paris   France\n",
            "Nick     35  Berlin  Germany\n",
            "Winston  40  Madrid    Spain\n",
            "Tom      27   Paris   France\n",
            "Alex     52  London       UK\n",
            "\n",
            "The countries of Nick and Winston is: ... \n"
          ]
        },
        {
          "output_type": "execute_result",
          "data": {
            "text/plain": [
              "name\n",
              "Nick       Germany\n",
              "Winston      Spain\n",
              "Tom         France\n",
              "Name: country, dtype: object"
            ]
          },
          "metadata": {},
          "execution_count": 174
        }
      ]
    },
    {
      "cell_type": "code",
      "execution_count": 175,
      "metadata": {
        "id": "hAS784HJUTsa",
        "colab": {
          "base_uri": "https://localhost:8080/"
        },
        "outputId": "92cd57f7-8044-48f8-835a-05bc097a2d25"
      },
      "outputs": [
        {
          "output_type": "execute_result",
          "data": {
            "text/plain": [
              "name\n",
              "Alex         UK\n",
              "Nick    Germany\n",
              "Name: country, dtype: object"
            ]
          },
          "metadata": {},
          "execution_count": 175
        }
      ],
      "source": [
        "# the country of specific rows\n",
        "\n",
        "df1.loc[['Alex', 'Nick'], 'country']"
      ]
    },
    {
      "cell_type": "code",
      "source": [
        "# the country and city of specific rows\n",
        "\n",
        "df1.loc[['Alex', 'Nick'], ['country', 'city']]"
      ],
      "metadata": {
        "id": "GqJ-vGab68fm",
        "colab": {
          "base_uri": "https://localhost:8080/",
          "height": 143
        },
        "outputId": "5f16e98e-a4d7-4357-8435-2a9d1e5b856f"
      },
      "execution_count": 176,
      "outputs": [
        {
          "output_type": "execute_result",
          "data": {
            "text/plain": [
              "      country    city\n",
              "name                 \n",
              "Alex       UK  London\n",
              "Nick  Germany  Berlin"
            ],
            "text/html": [
              "\n",
              "  <div id=\"df-a7aefec2-c82e-4600-8d93-b822002cc5f8\">\n",
              "    <div class=\"colab-df-container\">\n",
              "      <div>\n",
              "<style scoped>\n",
              "    .dataframe tbody tr th:only-of-type {\n",
              "        vertical-align: middle;\n",
              "    }\n",
              "\n",
              "    .dataframe tbody tr th {\n",
              "        vertical-align: top;\n",
              "    }\n",
              "\n",
              "    .dataframe thead th {\n",
              "        text-align: right;\n",
              "    }\n",
              "</style>\n",
              "<table border=\"1\" class=\"dataframe\">\n",
              "  <thead>\n",
              "    <tr style=\"text-align: right;\">\n",
              "      <th></th>\n",
              "      <th>country</th>\n",
              "      <th>city</th>\n",
              "    </tr>\n",
              "    <tr>\n",
              "      <th>name</th>\n",
              "      <th></th>\n",
              "      <th></th>\n",
              "    </tr>\n",
              "  </thead>\n",
              "  <tbody>\n",
              "    <tr>\n",
              "      <th>Alex</th>\n",
              "      <td>UK</td>\n",
              "      <td>London</td>\n",
              "    </tr>\n",
              "    <tr>\n",
              "      <th>Nick</th>\n",
              "      <td>Germany</td>\n",
              "      <td>Berlin</td>\n",
              "    </tr>\n",
              "  </tbody>\n",
              "</table>\n",
              "</div>\n",
              "      <button class=\"colab-df-convert\" onclick=\"convertToInteractive('df-a7aefec2-c82e-4600-8d93-b822002cc5f8')\"\n",
              "              title=\"Convert this dataframe to an interactive table.\"\n",
              "              style=\"display:none;\">\n",
              "        \n",
              "  <svg xmlns=\"http://www.w3.org/2000/svg\" height=\"24px\"viewBox=\"0 0 24 24\"\n",
              "       width=\"24px\">\n",
              "    <path d=\"M0 0h24v24H0V0z\" fill=\"none\"/>\n",
              "    <path d=\"M18.56 5.44l.94 2.06.94-2.06 2.06-.94-2.06-.94-.94-2.06-.94 2.06-2.06.94zm-11 1L8.5 8.5l.94-2.06 2.06-.94-2.06-.94L8.5 2.5l-.94 2.06-2.06.94zm10 10l.94 2.06.94-2.06 2.06-.94-2.06-.94-.94-2.06-.94 2.06-2.06.94z\"/><path d=\"M17.41 7.96l-1.37-1.37c-.4-.4-.92-.59-1.43-.59-.52 0-1.04.2-1.43.59L10.3 9.45l-7.72 7.72c-.78.78-.78 2.05 0 2.83L4 21.41c.39.39.9.59 1.41.59.51 0 1.02-.2 1.41-.59l7.78-7.78 2.81-2.81c.8-.78.8-2.07 0-2.86zM5.41 20L4 18.59l7.72-7.72 1.47 1.35L5.41 20z\"/>\n",
              "  </svg>\n",
              "      </button>\n",
              "      \n",
              "  <style>\n",
              "    .colab-df-container {\n",
              "      display:flex;\n",
              "      flex-wrap:wrap;\n",
              "      gap: 12px;\n",
              "    }\n",
              "\n",
              "    .colab-df-convert {\n",
              "      background-color: #E8F0FE;\n",
              "      border: none;\n",
              "      border-radius: 50%;\n",
              "      cursor: pointer;\n",
              "      display: none;\n",
              "      fill: #1967D2;\n",
              "      height: 32px;\n",
              "      padding: 0 0 0 0;\n",
              "      width: 32px;\n",
              "    }\n",
              "\n",
              "    .colab-df-convert:hover {\n",
              "      background-color: #E2EBFA;\n",
              "      box-shadow: 0px 1px 2px rgba(60, 64, 67, 0.3), 0px 1px 3px 1px rgba(60, 64, 67, 0.15);\n",
              "      fill: #174EA6;\n",
              "    }\n",
              "\n",
              "    [theme=dark] .colab-df-convert {\n",
              "      background-color: #3B4455;\n",
              "      fill: #D2E3FC;\n",
              "    }\n",
              "\n",
              "    [theme=dark] .colab-df-convert:hover {\n",
              "      background-color: #434B5C;\n",
              "      box-shadow: 0px 1px 3px 1px rgba(0, 0, 0, 0.15);\n",
              "      filter: drop-shadow(0px 1px 2px rgba(0, 0, 0, 0.3));\n",
              "      fill: #FFFFFF;\n",
              "    }\n",
              "  </style>\n",
              "\n",
              "      <script>\n",
              "        const buttonEl =\n",
              "          document.querySelector('#df-a7aefec2-c82e-4600-8d93-b822002cc5f8 button.colab-df-convert');\n",
              "        buttonEl.style.display =\n",
              "          google.colab.kernel.accessAllowed ? 'block' : 'none';\n",
              "\n",
              "        async function convertToInteractive(key) {\n",
              "          const element = document.querySelector('#df-a7aefec2-c82e-4600-8d93-b822002cc5f8');\n",
              "          const dataTable =\n",
              "            await google.colab.kernel.invokeFunction('convertToInteractive',\n",
              "                                                     [key], {});\n",
              "          if (!dataTable) return;\n",
              "\n",
              "          const docLinkHtml = 'Like what you see? Visit the ' +\n",
              "            '<a target=\"_blank\" href=https://colab.research.google.com/notebooks/data_table.ipynb>data table notebook</a>'\n",
              "            + ' to learn more about interactive tables.';\n",
              "          element.innerHTML = '';\n",
              "          dataTable['output_type'] = 'display_data';\n",
              "          await google.colab.output.renderOutput(dataTable, element);\n",
              "          const docLink = document.createElement('div');\n",
              "          docLink.innerHTML = docLinkHtml;\n",
              "          element.appendChild(docLink);\n",
              "        }\n",
              "      </script>\n",
              "    </div>\n",
              "  </div>\n",
              "  "
            ]
          },
          "metadata": {},
          "execution_count": 176
        }
      ]
    },
    {
      "cell_type": "markdown",
      "source": [
        "More about locations https://towardsdatascience.com/how-to-use-loc-and-iloc-for-selecting-data-in-pandas-bd09cb4c3d79\n",
        "\n",
        "https://www.tutorialspoint.com/how-to-access-pandas-dataframe-elements-using-the-loc-attribute\n",
        "\n",
        "https://www.tutorialspoint.com/how-to-access-pandas-dataframe-elements-using-the-iloc-attribute"
      ],
      "metadata": {
        "id": "8w69PGY29rJv"
      }
    },
    {
      "cell_type": "markdown",
      "metadata": {
        "id": "ak4ZKHL5WPFB"
      },
      "source": [
        "## Filter"
      ]
    },
    {
      "cell_type": "code",
      "source": [
        "df1"
      ],
      "metadata": {
        "id": "K3ieWuq0h_gF",
        "colab": {
          "base_uri": "https://localhost:8080/",
          "height": 238
        },
        "outputId": "203e5147-3608-433d-8ec4-6cd6467aefda"
      },
      "execution_count": 177,
      "outputs": [
        {
          "output_type": "execute_result",
          "data": {
            "text/plain": [
              "        age    city  country\n",
              "name                        \n",
              "Jess     30   Paris   France\n",
              "Nick     35  Berlin  Germany\n",
              "Winston  40  Madrid    Spain\n",
              "Tom      27   Paris   France\n",
              "Alex     52  London       UK"
            ],
            "text/html": [
              "\n",
              "  <div id=\"df-27ac3b6a-fa60-4562-aa3a-9b46257b488a\">\n",
              "    <div class=\"colab-df-container\">\n",
              "      <div>\n",
              "<style scoped>\n",
              "    .dataframe tbody tr th:only-of-type {\n",
              "        vertical-align: middle;\n",
              "    }\n",
              "\n",
              "    .dataframe tbody tr th {\n",
              "        vertical-align: top;\n",
              "    }\n",
              "\n",
              "    .dataframe thead th {\n",
              "        text-align: right;\n",
              "    }\n",
              "</style>\n",
              "<table border=\"1\" class=\"dataframe\">\n",
              "  <thead>\n",
              "    <tr style=\"text-align: right;\">\n",
              "      <th></th>\n",
              "      <th>age</th>\n",
              "      <th>city</th>\n",
              "      <th>country</th>\n",
              "    </tr>\n",
              "    <tr>\n",
              "      <th>name</th>\n",
              "      <th></th>\n",
              "      <th></th>\n",
              "      <th></th>\n",
              "    </tr>\n",
              "  </thead>\n",
              "  <tbody>\n",
              "    <tr>\n",
              "      <th>Jess</th>\n",
              "      <td>30</td>\n",
              "      <td>Paris</td>\n",
              "      <td>France</td>\n",
              "    </tr>\n",
              "    <tr>\n",
              "      <th>Nick</th>\n",
              "      <td>35</td>\n",
              "      <td>Berlin</td>\n",
              "      <td>Germany</td>\n",
              "    </tr>\n",
              "    <tr>\n",
              "      <th>Winston</th>\n",
              "      <td>40</td>\n",
              "      <td>Madrid</td>\n",
              "      <td>Spain</td>\n",
              "    </tr>\n",
              "    <tr>\n",
              "      <th>Tom</th>\n",
              "      <td>27</td>\n",
              "      <td>Paris</td>\n",
              "      <td>France</td>\n",
              "    </tr>\n",
              "    <tr>\n",
              "      <th>Alex</th>\n",
              "      <td>52</td>\n",
              "      <td>London</td>\n",
              "      <td>UK</td>\n",
              "    </tr>\n",
              "  </tbody>\n",
              "</table>\n",
              "</div>\n",
              "      <button class=\"colab-df-convert\" onclick=\"convertToInteractive('df-27ac3b6a-fa60-4562-aa3a-9b46257b488a')\"\n",
              "              title=\"Convert this dataframe to an interactive table.\"\n",
              "              style=\"display:none;\">\n",
              "        \n",
              "  <svg xmlns=\"http://www.w3.org/2000/svg\" height=\"24px\"viewBox=\"0 0 24 24\"\n",
              "       width=\"24px\">\n",
              "    <path d=\"M0 0h24v24H0V0z\" fill=\"none\"/>\n",
              "    <path d=\"M18.56 5.44l.94 2.06.94-2.06 2.06-.94-2.06-.94-.94-2.06-.94 2.06-2.06.94zm-11 1L8.5 8.5l.94-2.06 2.06-.94-2.06-.94L8.5 2.5l-.94 2.06-2.06.94zm10 10l.94 2.06.94-2.06 2.06-.94-2.06-.94-.94-2.06-.94 2.06-2.06.94z\"/><path d=\"M17.41 7.96l-1.37-1.37c-.4-.4-.92-.59-1.43-.59-.52 0-1.04.2-1.43.59L10.3 9.45l-7.72 7.72c-.78.78-.78 2.05 0 2.83L4 21.41c.39.39.9.59 1.41.59.51 0 1.02-.2 1.41-.59l7.78-7.78 2.81-2.81c.8-.78.8-2.07 0-2.86zM5.41 20L4 18.59l7.72-7.72 1.47 1.35L5.41 20z\"/>\n",
              "  </svg>\n",
              "      </button>\n",
              "      \n",
              "  <style>\n",
              "    .colab-df-container {\n",
              "      display:flex;\n",
              "      flex-wrap:wrap;\n",
              "      gap: 12px;\n",
              "    }\n",
              "\n",
              "    .colab-df-convert {\n",
              "      background-color: #E8F0FE;\n",
              "      border: none;\n",
              "      border-radius: 50%;\n",
              "      cursor: pointer;\n",
              "      display: none;\n",
              "      fill: #1967D2;\n",
              "      height: 32px;\n",
              "      padding: 0 0 0 0;\n",
              "      width: 32px;\n",
              "    }\n",
              "\n",
              "    .colab-df-convert:hover {\n",
              "      background-color: #E2EBFA;\n",
              "      box-shadow: 0px 1px 2px rgba(60, 64, 67, 0.3), 0px 1px 3px 1px rgba(60, 64, 67, 0.15);\n",
              "      fill: #174EA6;\n",
              "    }\n",
              "\n",
              "    [theme=dark] .colab-df-convert {\n",
              "      background-color: #3B4455;\n",
              "      fill: #D2E3FC;\n",
              "    }\n",
              "\n",
              "    [theme=dark] .colab-df-convert:hover {\n",
              "      background-color: #434B5C;\n",
              "      box-shadow: 0px 1px 3px 1px rgba(0, 0, 0, 0.15);\n",
              "      filter: drop-shadow(0px 1px 2px rgba(0, 0, 0, 0.3));\n",
              "      fill: #FFFFFF;\n",
              "    }\n",
              "  </style>\n",
              "\n",
              "      <script>\n",
              "        const buttonEl =\n",
              "          document.querySelector('#df-27ac3b6a-fa60-4562-aa3a-9b46257b488a button.colab-df-convert');\n",
              "        buttonEl.style.display =\n",
              "          google.colab.kernel.accessAllowed ? 'block' : 'none';\n",
              "\n",
              "        async function convertToInteractive(key) {\n",
              "          const element = document.querySelector('#df-27ac3b6a-fa60-4562-aa3a-9b46257b488a');\n",
              "          const dataTable =\n",
              "            await google.colab.kernel.invokeFunction('convertToInteractive',\n",
              "                                                     [key], {});\n",
              "          if (!dataTable) return;\n",
              "\n",
              "          const docLinkHtml = 'Like what you see? Visit the ' +\n",
              "            '<a target=\"_blank\" href=https://colab.research.google.com/notebooks/data_table.ipynb>data table notebook</a>'\n",
              "            + ' to learn more about interactive tables.';\n",
              "          element.innerHTML = '';\n",
              "          dataTable['output_type'] = 'display_data';\n",
              "          await google.colab.output.renderOutput(dataTable, element);\n",
              "          const docLink = document.createElement('div');\n",
              "          docLink.innerHTML = docLinkHtml;\n",
              "          element.appendChild(docLink);\n",
              "        }\n",
              "      </script>\n",
              "    </div>\n",
              "  </div>\n",
              "  "
            ]
          },
          "metadata": {},
          "execution_count": 177
        }
      ]
    },
    {
      "cell_type": "code",
      "execution_count": 181,
      "metadata": {
        "id": "c6kUmHEKVxYQ",
        "colab": {
          "base_uri": "https://localhost:8080/",
          "height": 265
        },
        "outputId": "a4a64a2f-52d8-48d8-8fd9-d596eab4f8a7"
      },
      "outputs": [
        {
          "output_type": "stream",
          "name": "stdout",
          "text": [
            "name\n",
            "Jess        True\n",
            "Nick       False\n",
            "Winston    False\n",
            "Tom         True\n",
            "Alex       False\n",
            "Name: city, dtype: bool\n"
          ]
        },
        {
          "output_type": "execute_result",
          "data": {
            "text/plain": [
              "     age   city country\n",
              "name                   \n",
              "Jess  30  Paris  France\n",
              "Tom   27  Paris  France"
            ],
            "text/html": [
              "\n",
              "  <div id=\"df-2118576b-fc33-4822-b603-e058be2071ef\">\n",
              "    <div class=\"colab-df-container\">\n",
              "      <div>\n",
              "<style scoped>\n",
              "    .dataframe tbody tr th:only-of-type {\n",
              "        vertical-align: middle;\n",
              "    }\n",
              "\n",
              "    .dataframe tbody tr th {\n",
              "        vertical-align: top;\n",
              "    }\n",
              "\n",
              "    .dataframe thead th {\n",
              "        text-align: right;\n",
              "    }\n",
              "</style>\n",
              "<table border=\"1\" class=\"dataframe\">\n",
              "  <thead>\n",
              "    <tr style=\"text-align: right;\">\n",
              "      <th></th>\n",
              "      <th>age</th>\n",
              "      <th>city</th>\n",
              "      <th>country</th>\n",
              "    </tr>\n",
              "    <tr>\n",
              "      <th>name</th>\n",
              "      <th></th>\n",
              "      <th></th>\n",
              "      <th></th>\n",
              "    </tr>\n",
              "  </thead>\n",
              "  <tbody>\n",
              "    <tr>\n",
              "      <th>Jess</th>\n",
              "      <td>30</td>\n",
              "      <td>Paris</td>\n",
              "      <td>France</td>\n",
              "    </tr>\n",
              "    <tr>\n",
              "      <th>Tom</th>\n",
              "      <td>27</td>\n",
              "      <td>Paris</td>\n",
              "      <td>France</td>\n",
              "    </tr>\n",
              "  </tbody>\n",
              "</table>\n",
              "</div>\n",
              "      <button class=\"colab-df-convert\" onclick=\"convertToInteractive('df-2118576b-fc33-4822-b603-e058be2071ef')\"\n",
              "              title=\"Convert this dataframe to an interactive table.\"\n",
              "              style=\"display:none;\">\n",
              "        \n",
              "  <svg xmlns=\"http://www.w3.org/2000/svg\" height=\"24px\"viewBox=\"0 0 24 24\"\n",
              "       width=\"24px\">\n",
              "    <path d=\"M0 0h24v24H0V0z\" fill=\"none\"/>\n",
              "    <path d=\"M18.56 5.44l.94 2.06.94-2.06 2.06-.94-2.06-.94-.94-2.06-.94 2.06-2.06.94zm-11 1L8.5 8.5l.94-2.06 2.06-.94-2.06-.94L8.5 2.5l-.94 2.06-2.06.94zm10 10l.94 2.06.94-2.06 2.06-.94-2.06-.94-.94-2.06-.94 2.06-2.06.94z\"/><path d=\"M17.41 7.96l-1.37-1.37c-.4-.4-.92-.59-1.43-.59-.52 0-1.04.2-1.43.59L10.3 9.45l-7.72 7.72c-.78.78-.78 2.05 0 2.83L4 21.41c.39.39.9.59 1.41.59.51 0 1.02-.2 1.41-.59l7.78-7.78 2.81-2.81c.8-.78.8-2.07 0-2.86zM5.41 20L4 18.59l7.72-7.72 1.47 1.35L5.41 20z\"/>\n",
              "  </svg>\n",
              "      </button>\n",
              "      \n",
              "  <style>\n",
              "    .colab-df-container {\n",
              "      display:flex;\n",
              "      flex-wrap:wrap;\n",
              "      gap: 12px;\n",
              "    }\n",
              "\n",
              "    .colab-df-convert {\n",
              "      background-color: #E8F0FE;\n",
              "      border: none;\n",
              "      border-radius: 50%;\n",
              "      cursor: pointer;\n",
              "      display: none;\n",
              "      fill: #1967D2;\n",
              "      height: 32px;\n",
              "      padding: 0 0 0 0;\n",
              "      width: 32px;\n",
              "    }\n",
              "\n",
              "    .colab-df-convert:hover {\n",
              "      background-color: #E2EBFA;\n",
              "      box-shadow: 0px 1px 2px rgba(60, 64, 67, 0.3), 0px 1px 3px 1px rgba(60, 64, 67, 0.15);\n",
              "      fill: #174EA6;\n",
              "    }\n",
              "\n",
              "    [theme=dark] .colab-df-convert {\n",
              "      background-color: #3B4455;\n",
              "      fill: #D2E3FC;\n",
              "    }\n",
              "\n",
              "    [theme=dark] .colab-df-convert:hover {\n",
              "      background-color: #434B5C;\n",
              "      box-shadow: 0px 1px 3px 1px rgba(0, 0, 0, 0.15);\n",
              "      filter: drop-shadow(0px 1px 2px rgba(0, 0, 0, 0.3));\n",
              "      fill: #FFFFFF;\n",
              "    }\n",
              "  </style>\n",
              "\n",
              "      <script>\n",
              "        const buttonEl =\n",
              "          document.querySelector('#df-2118576b-fc33-4822-b603-e058be2071ef button.colab-df-convert');\n",
              "        buttonEl.style.display =\n",
              "          google.colab.kernel.accessAllowed ? 'block' : 'none';\n",
              "\n",
              "        async function convertToInteractive(key) {\n",
              "          const element = document.querySelector('#df-2118576b-fc33-4822-b603-e058be2071ef');\n",
              "          const dataTable =\n",
              "            await google.colab.kernel.invokeFunction('convertToInteractive',\n",
              "                                                     [key], {});\n",
              "          if (!dataTable) return;\n",
              "\n",
              "          const docLinkHtml = 'Like what you see? Visit the ' +\n",
              "            '<a target=\"_blank\" href=https://colab.research.google.com/notebooks/data_table.ipynb>data table notebook</a>'\n",
              "            + ' to learn more about interactive tables.';\n",
              "          element.innerHTML = '';\n",
              "          dataTable['output_type'] = 'display_data';\n",
              "          await google.colab.output.renderOutput(dataTable, element);\n",
              "          const docLink = document.createElement('div');\n",
              "          docLink.innerHTML = docLinkHtml;\n",
              "          element.appendChild(docLink);\n",
              "        }\n",
              "      </script>\n",
              "    </div>\n",
              "  </div>\n",
              "  "
            ]
          },
          "metadata": {},
          "execution_count": 181
        }
      ],
      "source": [
        "# filter all data that are in Paris\n",
        "\n",
        "print(df1['city'] == 'Paris')\n",
        "df1[df1['city'] == 'Paris']"
      ]
    },
    {
      "cell_type": "markdown",
      "metadata": {
        "id": "nQMIX8T4WujJ"
      },
      "source": [
        "## Join dataframes"
      ]
    },
    {
      "cell_type": "code",
      "execution_count": 197,
      "metadata": {
        "id": "W3dCne-CWc9v",
        "colab": {
          "base_uri": "https://localhost:8080/",
          "height": 112
        },
        "outputId": "160e8d11-2510-4895-8174-bfbb784195d9"
      },
      "outputs": [
        {
          "output_type": "execute_result",
          "data": {
            "text/plain": [
              "     prénom age    city pays\n",
              "0   Matthew  32  London   UK\n",
              "1  Philippe  45  London   UK"
            ],
            "text/html": [
              "\n",
              "  <div id=\"df-f7e6e816-868a-4ddf-b3dc-b76221b717bc\">\n",
              "    <div class=\"colab-df-container\">\n",
              "      <div>\n",
              "<style scoped>\n",
              "    .dataframe tbody tr th:only-of-type {\n",
              "        vertical-align: middle;\n",
              "    }\n",
              "\n",
              "    .dataframe tbody tr th {\n",
              "        vertical-align: top;\n",
              "    }\n",
              "\n",
              "    .dataframe thead th {\n",
              "        text-align: right;\n",
              "    }\n",
              "</style>\n",
              "<table border=\"1\" class=\"dataframe\">\n",
              "  <thead>\n",
              "    <tr style=\"text-align: right;\">\n",
              "      <th></th>\n",
              "      <th>prénom</th>\n",
              "      <th>age</th>\n",
              "      <th>city</th>\n",
              "      <th>pays</th>\n",
              "    </tr>\n",
              "  </thead>\n",
              "  <tbody>\n",
              "    <tr>\n",
              "      <th>0</th>\n",
              "      <td>Matthew</td>\n",
              "      <td>32</td>\n",
              "      <td>London</td>\n",
              "      <td>UK</td>\n",
              "    </tr>\n",
              "    <tr>\n",
              "      <th>1</th>\n",
              "      <td>Philippe</td>\n",
              "      <td>45</td>\n",
              "      <td>London</td>\n",
              "      <td>UK</td>\n",
              "    </tr>\n",
              "  </tbody>\n",
              "</table>\n",
              "</div>\n",
              "      <button class=\"colab-df-convert\" onclick=\"convertToInteractive('df-f7e6e816-868a-4ddf-b3dc-b76221b717bc')\"\n",
              "              title=\"Convert this dataframe to an interactive table.\"\n",
              "              style=\"display:none;\">\n",
              "        \n",
              "  <svg xmlns=\"http://www.w3.org/2000/svg\" height=\"24px\"viewBox=\"0 0 24 24\"\n",
              "       width=\"24px\">\n",
              "    <path d=\"M0 0h24v24H0V0z\" fill=\"none\"/>\n",
              "    <path d=\"M18.56 5.44l.94 2.06.94-2.06 2.06-.94-2.06-.94-.94-2.06-.94 2.06-2.06.94zm-11 1L8.5 8.5l.94-2.06 2.06-.94-2.06-.94L8.5 2.5l-.94 2.06-2.06.94zm10 10l.94 2.06.94-2.06 2.06-.94-2.06-.94-.94-2.06-.94 2.06-2.06.94z\"/><path d=\"M17.41 7.96l-1.37-1.37c-.4-.4-.92-.59-1.43-.59-.52 0-1.04.2-1.43.59L10.3 9.45l-7.72 7.72c-.78.78-.78 2.05 0 2.83L4 21.41c.39.39.9.59 1.41.59.51 0 1.02-.2 1.41-.59l7.78-7.78 2.81-2.81c.8-.78.8-2.07 0-2.86zM5.41 20L4 18.59l7.72-7.72 1.47 1.35L5.41 20z\"/>\n",
              "  </svg>\n",
              "      </button>\n",
              "      \n",
              "  <style>\n",
              "    .colab-df-container {\n",
              "      display:flex;\n",
              "      flex-wrap:wrap;\n",
              "      gap: 12px;\n",
              "    }\n",
              "\n",
              "    .colab-df-convert {\n",
              "      background-color: #E8F0FE;\n",
              "      border: none;\n",
              "      border-radius: 50%;\n",
              "      cursor: pointer;\n",
              "      display: none;\n",
              "      fill: #1967D2;\n",
              "      height: 32px;\n",
              "      padding: 0 0 0 0;\n",
              "      width: 32px;\n",
              "    }\n",
              "\n",
              "    .colab-df-convert:hover {\n",
              "      background-color: #E2EBFA;\n",
              "      box-shadow: 0px 1px 2px rgba(60, 64, 67, 0.3), 0px 1px 3px 1px rgba(60, 64, 67, 0.15);\n",
              "      fill: #174EA6;\n",
              "    }\n",
              "\n",
              "    [theme=dark] .colab-df-convert {\n",
              "      background-color: #3B4455;\n",
              "      fill: #D2E3FC;\n",
              "    }\n",
              "\n",
              "    [theme=dark] .colab-df-convert:hover {\n",
              "      background-color: #434B5C;\n",
              "      box-shadow: 0px 1px 3px 1px rgba(0, 0, 0, 0.15);\n",
              "      filter: drop-shadow(0px 1px 2px rgba(0, 0, 0, 0.3));\n",
              "      fill: #FFFFFF;\n",
              "    }\n",
              "  </style>\n",
              "\n",
              "      <script>\n",
              "        const buttonEl =\n",
              "          document.querySelector('#df-f7e6e816-868a-4ddf-b3dc-b76221b717bc button.colab-df-convert');\n",
              "        buttonEl.style.display =\n",
              "          google.colab.kernel.accessAllowed ? 'block' : 'none';\n",
              "\n",
              "        async function convertToInteractive(key) {\n",
              "          const element = document.querySelector('#df-f7e6e816-868a-4ddf-b3dc-b76221b717bc');\n",
              "          const dataTable =\n",
              "            await google.colab.kernel.invokeFunction('convertToInteractive',\n",
              "                                                     [key], {});\n",
              "          if (!dataTable) return;\n",
              "\n",
              "          const docLinkHtml = 'Like what you see? Visit the ' +\n",
              "            '<a target=\"_blank\" href=https://colab.research.google.com/notebooks/data_table.ipynb>data table notebook</a>'\n",
              "            + ' to learn more about interactive tables.';\n",
              "          element.innerHTML = '';\n",
              "          dataTable['output_type'] = 'display_data';\n",
              "          await google.colab.output.renderOutput(dataTable, element);\n",
              "          const docLink = document.createElement('div');\n",
              "          docLink.innerHTML = docLinkHtml;\n",
              "          element.appendChild(docLink);\n",
              "        }\n",
              "      </script>\n",
              "    </div>\n",
              "  </div>\n",
              "  "
            ]
          },
          "metadata": {},
          "execution_count": 197
        }
      ],
      "source": [
        "dic_1 = {\"prénom\":['Matthew', 'Philippe'],\n",
        "              \"age\":['32', '45'],\n",
        "              \"city\":['London', 'London'],\n",
        "               \"pays\": ['UK', 'UK']}\n",
        "\n",
        "df2 = pd.DataFrame(dic_1)\n",
        "\n",
        "df2.head()"
      ]
    },
    {
      "cell_type": "code",
      "execution_count": 198,
      "metadata": {
        "id": "xIvXdfzNXCCq",
        "colab": {
          "base_uri": "https://localhost:8080/"
        },
        "outputId": "78a5cea5-d647-434e-85b2-30a59d68387b"
      },
      "outputs": [
        {
          "output_type": "stream",
          "name": "stdout",
          "text": [
            "Index(['prénom', 'age', 'city', 'pays'], dtype='object')\n"
          ]
        }
      ],
      "source": [
        "print(df2.columns)\n"
      ]
    },
    {
      "cell_type": "code",
      "execution_count": 202,
      "metadata": {
        "id": "_ARwE949XNVH",
        "colab": {
          "base_uri": "https://localhost:8080/"
        },
        "outputId": "c03f056d-94b3-4411-d5cc-1107d8da61fd"
      },
      "outputs": [
        {
          "output_type": "stream",
          "name": "stdout",
          "text": [
            "the df1 Shape is :  (5, 3)\n",
            "the df2 Shape is :  (2, 4)\n"
          ]
        }
      ],
      "source": [
        "# change df columns names\n",
        "\n",
        "df2.columns = ['name', 'age', 'city', 'country']\n",
        "df2.head()"
      ]
    },
    {
      "cell_type": "code",
      "source": [
        "# compare both dfs column names\n",
        "\n",
        "print('the column names of 1st df are: ', df1.columns)\n",
        "print('the column names of 2nd df are: ', df2.columns)"
      ],
      "metadata": {
        "id": "5ahVjwLU4J1d",
        "colab": {
          "base_uri": "https://localhost:8080/"
        },
        "outputId": "801ccde9-e0d8-4b81-888e-c37b8f09e7bd"
      },
      "execution_count": 195,
      "outputs": [
        {
          "output_type": "stream",
          "name": "stdout",
          "text": [
            "the column names of 1st df are:  Index(['age', 'city', 'country'], dtype='object')\n",
            "the column names of 2nd df are:  Index(['age', 'city', 'country'], dtype='object')\n"
          ]
        }
      ]
    },
    {
      "cell_type": "code",
      "execution_count": 188,
      "metadata": {
        "id": "U76Y_nvdXf_B",
        "colab": {
          "base_uri": "https://localhost:8080/",
          "height": 373
        },
        "outputId": "8ba808b9-c57a-4aaa-afac-a91c1041326c"
      },
      "outputs": [
        {
          "output_type": "stream",
          "name": "stdout",
          "text": [
            "the df1 Shape is :  (5, 3)\n",
            "the df2 Shape is :  (2, 4)\n",
            "the new joined Dataframe Shape is :  (7, 4)\n",
            "\n",
            "\n",
            "The output is not what we really wanted as we have NaN values in columns and not all indices are the names...\n"
          ]
        },
        {
          "output_type": "execute_result",
          "data": {
            "text/plain": [
              "        age    city  country      name\n",
              "Jess     30   Paris   France       NaN\n",
              "Nick     35  Berlin  Germany       NaN\n",
              "Winston  40  Madrid    Spain       NaN\n",
              "Tom      27   Paris   France       NaN\n",
              "Alex     52  London       UK       NaN\n",
              "0        32  London       UK   Matthew\n",
              "1        45  London       UK  Philippe"
            ],
            "text/html": [
              "\n",
              "  <div id=\"df-5886c61a-4869-4b22-886e-c93814e0bdcd\">\n",
              "    <div class=\"colab-df-container\">\n",
              "      <div>\n",
              "<style scoped>\n",
              "    .dataframe tbody tr th:only-of-type {\n",
              "        vertical-align: middle;\n",
              "    }\n",
              "\n",
              "    .dataframe tbody tr th {\n",
              "        vertical-align: top;\n",
              "    }\n",
              "\n",
              "    .dataframe thead th {\n",
              "        text-align: right;\n",
              "    }\n",
              "</style>\n",
              "<table border=\"1\" class=\"dataframe\">\n",
              "  <thead>\n",
              "    <tr style=\"text-align: right;\">\n",
              "      <th></th>\n",
              "      <th>age</th>\n",
              "      <th>city</th>\n",
              "      <th>country</th>\n",
              "      <th>name</th>\n",
              "    </tr>\n",
              "  </thead>\n",
              "  <tbody>\n",
              "    <tr>\n",
              "      <th>Jess</th>\n",
              "      <td>30</td>\n",
              "      <td>Paris</td>\n",
              "      <td>France</td>\n",
              "      <td>NaN</td>\n",
              "    </tr>\n",
              "    <tr>\n",
              "      <th>Nick</th>\n",
              "      <td>35</td>\n",
              "      <td>Berlin</td>\n",
              "      <td>Germany</td>\n",
              "      <td>NaN</td>\n",
              "    </tr>\n",
              "    <tr>\n",
              "      <th>Winston</th>\n",
              "      <td>40</td>\n",
              "      <td>Madrid</td>\n",
              "      <td>Spain</td>\n",
              "      <td>NaN</td>\n",
              "    </tr>\n",
              "    <tr>\n",
              "      <th>Tom</th>\n",
              "      <td>27</td>\n",
              "      <td>Paris</td>\n",
              "      <td>France</td>\n",
              "      <td>NaN</td>\n",
              "    </tr>\n",
              "    <tr>\n",
              "      <th>Alex</th>\n",
              "      <td>52</td>\n",
              "      <td>London</td>\n",
              "      <td>UK</td>\n",
              "      <td>NaN</td>\n",
              "    </tr>\n",
              "    <tr>\n",
              "      <th>0</th>\n",
              "      <td>32</td>\n",
              "      <td>London</td>\n",
              "      <td>UK</td>\n",
              "      <td>Matthew</td>\n",
              "    </tr>\n",
              "    <tr>\n",
              "      <th>1</th>\n",
              "      <td>45</td>\n",
              "      <td>London</td>\n",
              "      <td>UK</td>\n",
              "      <td>Philippe</td>\n",
              "    </tr>\n",
              "  </tbody>\n",
              "</table>\n",
              "</div>\n",
              "      <button class=\"colab-df-convert\" onclick=\"convertToInteractive('df-5886c61a-4869-4b22-886e-c93814e0bdcd')\"\n",
              "              title=\"Convert this dataframe to an interactive table.\"\n",
              "              style=\"display:none;\">\n",
              "        \n",
              "  <svg xmlns=\"http://www.w3.org/2000/svg\" height=\"24px\"viewBox=\"0 0 24 24\"\n",
              "       width=\"24px\">\n",
              "    <path d=\"M0 0h24v24H0V0z\" fill=\"none\"/>\n",
              "    <path d=\"M18.56 5.44l.94 2.06.94-2.06 2.06-.94-2.06-.94-.94-2.06-.94 2.06-2.06.94zm-11 1L8.5 8.5l.94-2.06 2.06-.94-2.06-.94L8.5 2.5l-.94 2.06-2.06.94zm10 10l.94 2.06.94-2.06 2.06-.94-2.06-.94-.94-2.06-.94 2.06-2.06.94z\"/><path d=\"M17.41 7.96l-1.37-1.37c-.4-.4-.92-.59-1.43-.59-.52 0-1.04.2-1.43.59L10.3 9.45l-7.72 7.72c-.78.78-.78 2.05 0 2.83L4 21.41c.39.39.9.59 1.41.59.51 0 1.02-.2 1.41-.59l7.78-7.78 2.81-2.81c.8-.78.8-2.07 0-2.86zM5.41 20L4 18.59l7.72-7.72 1.47 1.35L5.41 20z\"/>\n",
              "  </svg>\n",
              "      </button>\n",
              "      \n",
              "  <style>\n",
              "    .colab-df-container {\n",
              "      display:flex;\n",
              "      flex-wrap:wrap;\n",
              "      gap: 12px;\n",
              "    }\n",
              "\n",
              "    .colab-df-convert {\n",
              "      background-color: #E8F0FE;\n",
              "      border: none;\n",
              "      border-radius: 50%;\n",
              "      cursor: pointer;\n",
              "      display: none;\n",
              "      fill: #1967D2;\n",
              "      height: 32px;\n",
              "      padding: 0 0 0 0;\n",
              "      width: 32px;\n",
              "    }\n",
              "\n",
              "    .colab-df-convert:hover {\n",
              "      background-color: #E2EBFA;\n",
              "      box-shadow: 0px 1px 2px rgba(60, 64, 67, 0.3), 0px 1px 3px 1px rgba(60, 64, 67, 0.15);\n",
              "      fill: #174EA6;\n",
              "    }\n",
              "\n",
              "    [theme=dark] .colab-df-convert {\n",
              "      background-color: #3B4455;\n",
              "      fill: #D2E3FC;\n",
              "    }\n",
              "\n",
              "    [theme=dark] .colab-df-convert:hover {\n",
              "      background-color: #434B5C;\n",
              "      box-shadow: 0px 1px 3px 1px rgba(0, 0, 0, 0.15);\n",
              "      filter: drop-shadow(0px 1px 2px rgba(0, 0, 0, 0.3));\n",
              "      fill: #FFFFFF;\n",
              "    }\n",
              "  </style>\n",
              "\n",
              "      <script>\n",
              "        const buttonEl =\n",
              "          document.querySelector('#df-5886c61a-4869-4b22-886e-c93814e0bdcd button.colab-df-convert');\n",
              "        buttonEl.style.display =\n",
              "          google.colab.kernel.accessAllowed ? 'block' : 'none';\n",
              "\n",
              "        async function convertToInteractive(key) {\n",
              "          const element = document.querySelector('#df-5886c61a-4869-4b22-886e-c93814e0bdcd');\n",
              "          const dataTable =\n",
              "            await google.colab.kernel.invokeFunction('convertToInteractive',\n",
              "                                                     [key], {});\n",
              "          if (!dataTable) return;\n",
              "\n",
              "          const docLinkHtml = 'Like what you see? Visit the ' +\n",
              "            '<a target=\"_blank\" href=https://colab.research.google.com/notebooks/data_table.ipynb>data table notebook</a>'\n",
              "            + ' to learn more about interactive tables.';\n",
              "          element.innerHTML = '';\n",
              "          dataTable['output_type'] = 'display_data';\n",
              "          await google.colab.output.renderOutput(dataTable, element);\n",
              "          const docLink = document.createElement('div');\n",
              "          docLink.innerHTML = docLinkHtml;\n",
              "          element.appendChild(docLink);\n",
              "        }\n",
              "      </script>\n",
              "    </div>\n",
              "  </div>\n",
              "  "
            ]
          },
          "metadata": {},
          "execution_count": 188
        }
      ],
      "source": [
        "# join the dfs into a single one\n",
        "\n",
        "# concatenate all df into a single one\n",
        "df = pd.concat([df1, df2]) # it will use the column names  to join by\n",
        "\n",
        "# check dataframes shapes\n",
        "print('the df1 Shape is : ', df1.shape)\n",
        "print('the df2 Shape is : ', df2.shape)\n",
        "print('the new joined Dataframe Shape is : ', df.shape)\n",
        "print('')\n",
        "\n",
        "# visualize the new df\n",
        "print('')\n",
        "print('The output is not what we really wanted as we have NaN values in columns and not all indices are the names...')\n",
        "df"
      ]
    },
    {
      "cell_type": "code",
      "execution_count": 205,
      "metadata": {
        "id": "4evaUxEyX8rx",
        "colab": {
          "base_uri": "https://localhost:8080/"
        },
        "outputId": "c0d27543-8728-4f2b-c1d0-0f67142c7e0a"
      },
      "outputs": [
        {
          "output_type": "stream",
          "name": "stdout",
          "text": [
            "the df1 Shape is :  (5, 3)\n",
            "the df2 Shape is :  (2, 3)\n"
          ]
        }
      ],
      "source": [
        "# to be obtain a homogeneous df we need both dfs to be structured the same\n",
        "# use name column as df index for df2 as df1 did\n",
        "\n",
        "df2 = df2.set_index('name')\n",
        "df2.head()\n"
      ]
    },
    {
      "cell_type": "code",
      "source": [
        "# to reset the indices use .reset_index() method\n",
        "\n",
        "df2.reset_index()"
      ],
      "metadata": {
        "id": "D82EONMqMxUm",
        "colab": {
          "base_uri": "https://localhost:8080/",
          "height": 112
        },
        "outputId": "e54af3c5-03e0-4ebc-bc80-e9599990bc2c"
      },
      "execution_count": 212,
      "outputs": [
        {
          "output_type": "execute_result",
          "data": {
            "text/plain": [
              "       name age    city country\n",
              "0   Matthew  32  London      UK\n",
              "1  Philippe  45  London      UK"
            ],
            "text/html": [
              "\n",
              "  <div id=\"df-68745069-0bf2-40f9-86d7-4029f696bfe5\">\n",
              "    <div class=\"colab-df-container\">\n",
              "      <div>\n",
              "<style scoped>\n",
              "    .dataframe tbody tr th:only-of-type {\n",
              "        vertical-align: middle;\n",
              "    }\n",
              "\n",
              "    .dataframe tbody tr th {\n",
              "        vertical-align: top;\n",
              "    }\n",
              "\n",
              "    .dataframe thead th {\n",
              "        text-align: right;\n",
              "    }\n",
              "</style>\n",
              "<table border=\"1\" class=\"dataframe\">\n",
              "  <thead>\n",
              "    <tr style=\"text-align: right;\">\n",
              "      <th></th>\n",
              "      <th>name</th>\n",
              "      <th>age</th>\n",
              "      <th>city</th>\n",
              "      <th>country</th>\n",
              "    </tr>\n",
              "  </thead>\n",
              "  <tbody>\n",
              "    <tr>\n",
              "      <th>0</th>\n",
              "      <td>Matthew</td>\n",
              "      <td>32</td>\n",
              "      <td>London</td>\n",
              "      <td>UK</td>\n",
              "    </tr>\n",
              "    <tr>\n",
              "      <th>1</th>\n",
              "      <td>Philippe</td>\n",
              "      <td>45</td>\n",
              "      <td>London</td>\n",
              "      <td>UK</td>\n",
              "    </tr>\n",
              "  </tbody>\n",
              "</table>\n",
              "</div>\n",
              "      <button class=\"colab-df-convert\" onclick=\"convertToInteractive('df-68745069-0bf2-40f9-86d7-4029f696bfe5')\"\n",
              "              title=\"Convert this dataframe to an interactive table.\"\n",
              "              style=\"display:none;\">\n",
              "        \n",
              "  <svg xmlns=\"http://www.w3.org/2000/svg\" height=\"24px\"viewBox=\"0 0 24 24\"\n",
              "       width=\"24px\">\n",
              "    <path d=\"M0 0h24v24H0V0z\" fill=\"none\"/>\n",
              "    <path d=\"M18.56 5.44l.94 2.06.94-2.06 2.06-.94-2.06-.94-.94-2.06-.94 2.06-2.06.94zm-11 1L8.5 8.5l.94-2.06 2.06-.94-2.06-.94L8.5 2.5l-.94 2.06-2.06.94zm10 10l.94 2.06.94-2.06 2.06-.94-2.06-.94-.94-2.06-.94 2.06-2.06.94z\"/><path d=\"M17.41 7.96l-1.37-1.37c-.4-.4-.92-.59-1.43-.59-.52 0-1.04.2-1.43.59L10.3 9.45l-7.72 7.72c-.78.78-.78 2.05 0 2.83L4 21.41c.39.39.9.59 1.41.59.51 0 1.02-.2 1.41-.59l7.78-7.78 2.81-2.81c.8-.78.8-2.07 0-2.86zM5.41 20L4 18.59l7.72-7.72 1.47 1.35L5.41 20z\"/>\n",
              "  </svg>\n",
              "      </button>\n",
              "      \n",
              "  <style>\n",
              "    .colab-df-container {\n",
              "      display:flex;\n",
              "      flex-wrap:wrap;\n",
              "      gap: 12px;\n",
              "    }\n",
              "\n",
              "    .colab-df-convert {\n",
              "      background-color: #E8F0FE;\n",
              "      border: none;\n",
              "      border-radius: 50%;\n",
              "      cursor: pointer;\n",
              "      display: none;\n",
              "      fill: #1967D2;\n",
              "      height: 32px;\n",
              "      padding: 0 0 0 0;\n",
              "      width: 32px;\n",
              "    }\n",
              "\n",
              "    .colab-df-convert:hover {\n",
              "      background-color: #E2EBFA;\n",
              "      box-shadow: 0px 1px 2px rgba(60, 64, 67, 0.3), 0px 1px 3px 1px rgba(60, 64, 67, 0.15);\n",
              "      fill: #174EA6;\n",
              "    }\n",
              "\n",
              "    [theme=dark] .colab-df-convert {\n",
              "      background-color: #3B4455;\n",
              "      fill: #D2E3FC;\n",
              "    }\n",
              "\n",
              "    [theme=dark] .colab-df-convert:hover {\n",
              "      background-color: #434B5C;\n",
              "      box-shadow: 0px 1px 3px 1px rgba(0, 0, 0, 0.15);\n",
              "      filter: drop-shadow(0px 1px 2px rgba(0, 0, 0, 0.3));\n",
              "      fill: #FFFFFF;\n",
              "    }\n",
              "  </style>\n",
              "\n",
              "      <script>\n",
              "        const buttonEl =\n",
              "          document.querySelector('#df-68745069-0bf2-40f9-86d7-4029f696bfe5 button.colab-df-convert');\n",
              "        buttonEl.style.display =\n",
              "          google.colab.kernel.accessAllowed ? 'block' : 'none';\n",
              "\n",
              "        async function convertToInteractive(key) {\n",
              "          const element = document.querySelector('#df-68745069-0bf2-40f9-86d7-4029f696bfe5');\n",
              "          const dataTable =\n",
              "            await google.colab.kernel.invokeFunction('convertToInteractive',\n",
              "                                                     [key], {});\n",
              "          if (!dataTable) return;\n",
              "\n",
              "          const docLinkHtml = 'Like what you see? Visit the ' +\n",
              "            '<a target=\"_blank\" href=https://colab.research.google.com/notebooks/data_table.ipynb>data table notebook</a>'\n",
              "            + ' to learn more about interactive tables.';\n",
              "          element.innerHTML = '';\n",
              "          dataTable['output_type'] = 'display_data';\n",
              "          await google.colab.output.renderOutput(dataTable, element);\n",
              "          const docLink = document.createElement('div');\n",
              "          docLink.innerHTML = docLinkHtml;\n",
              "          element.appendChild(docLink);\n",
              "        }\n",
              "      </script>\n",
              "    </div>\n",
              "  </div>\n",
              "  "
            ]
          },
          "metadata": {},
          "execution_count": 212
        }
      ]
    },
    {
      "cell_type": "code",
      "execution_count": 209,
      "metadata": {
        "id": "SCMpegPvXvX5",
        "colab": {
          "base_uri": "https://localhost:8080/",
          "height": 404
        },
        "outputId": "3872ea1c-3497-41fa-f1d4-db75f0779789"
      },
      "outputs": [
        {
          "output_type": "stream",
          "name": "stdout",
          "text": [
            "the df1 Shape is :  (5, 3)\n",
            "the df2 Shape is :  (2, 3)\n",
            "the new joined Dataframe Shape is :  (7, 3)\n",
            "\n",
            "\n",
            "Now we have a homogeneous df\n"
          ]
        },
        {
          "output_type": "execute_result",
          "data": {
            "text/plain": [
              "         age    city  country\n",
              "name                         \n",
              "Jess      30   Paris   France\n",
              "Nick      35  Berlin  Germany\n",
              "Winston   40  Madrid    Spain\n",
              "Tom       27   Paris   France\n",
              "Alex      52  London       UK\n",
              "Matthew   32  London       UK\n",
              "Philippe  45  London       UK"
            ],
            "text/html": [
              "\n",
              "  <div id=\"df-5af3f75c-ed2f-4745-9adc-9e7af25add64\">\n",
              "    <div class=\"colab-df-container\">\n",
              "      <div>\n",
              "<style scoped>\n",
              "    .dataframe tbody tr th:only-of-type {\n",
              "        vertical-align: middle;\n",
              "    }\n",
              "\n",
              "    .dataframe tbody tr th {\n",
              "        vertical-align: top;\n",
              "    }\n",
              "\n",
              "    .dataframe thead th {\n",
              "        text-align: right;\n",
              "    }\n",
              "</style>\n",
              "<table border=\"1\" class=\"dataframe\">\n",
              "  <thead>\n",
              "    <tr style=\"text-align: right;\">\n",
              "      <th></th>\n",
              "      <th>age</th>\n",
              "      <th>city</th>\n",
              "      <th>country</th>\n",
              "    </tr>\n",
              "    <tr>\n",
              "      <th>name</th>\n",
              "      <th></th>\n",
              "      <th></th>\n",
              "      <th></th>\n",
              "    </tr>\n",
              "  </thead>\n",
              "  <tbody>\n",
              "    <tr>\n",
              "      <th>Jess</th>\n",
              "      <td>30</td>\n",
              "      <td>Paris</td>\n",
              "      <td>France</td>\n",
              "    </tr>\n",
              "    <tr>\n",
              "      <th>Nick</th>\n",
              "      <td>35</td>\n",
              "      <td>Berlin</td>\n",
              "      <td>Germany</td>\n",
              "    </tr>\n",
              "    <tr>\n",
              "      <th>Winston</th>\n",
              "      <td>40</td>\n",
              "      <td>Madrid</td>\n",
              "      <td>Spain</td>\n",
              "    </tr>\n",
              "    <tr>\n",
              "      <th>Tom</th>\n",
              "      <td>27</td>\n",
              "      <td>Paris</td>\n",
              "      <td>France</td>\n",
              "    </tr>\n",
              "    <tr>\n",
              "      <th>Alex</th>\n",
              "      <td>52</td>\n",
              "      <td>London</td>\n",
              "      <td>UK</td>\n",
              "    </tr>\n",
              "    <tr>\n",
              "      <th>Matthew</th>\n",
              "      <td>32</td>\n",
              "      <td>London</td>\n",
              "      <td>UK</td>\n",
              "    </tr>\n",
              "    <tr>\n",
              "      <th>Philippe</th>\n",
              "      <td>45</td>\n",
              "      <td>London</td>\n",
              "      <td>UK</td>\n",
              "    </tr>\n",
              "  </tbody>\n",
              "</table>\n",
              "</div>\n",
              "      <button class=\"colab-df-convert\" onclick=\"convertToInteractive('df-5af3f75c-ed2f-4745-9adc-9e7af25add64')\"\n",
              "              title=\"Convert this dataframe to an interactive table.\"\n",
              "              style=\"display:none;\">\n",
              "        \n",
              "  <svg xmlns=\"http://www.w3.org/2000/svg\" height=\"24px\"viewBox=\"0 0 24 24\"\n",
              "       width=\"24px\">\n",
              "    <path d=\"M0 0h24v24H0V0z\" fill=\"none\"/>\n",
              "    <path d=\"M18.56 5.44l.94 2.06.94-2.06 2.06-.94-2.06-.94-.94-2.06-.94 2.06-2.06.94zm-11 1L8.5 8.5l.94-2.06 2.06-.94-2.06-.94L8.5 2.5l-.94 2.06-2.06.94zm10 10l.94 2.06.94-2.06 2.06-.94-2.06-.94-.94-2.06-.94 2.06-2.06.94z\"/><path d=\"M17.41 7.96l-1.37-1.37c-.4-.4-.92-.59-1.43-.59-.52 0-1.04.2-1.43.59L10.3 9.45l-7.72 7.72c-.78.78-.78 2.05 0 2.83L4 21.41c.39.39.9.59 1.41.59.51 0 1.02-.2 1.41-.59l7.78-7.78 2.81-2.81c.8-.78.8-2.07 0-2.86zM5.41 20L4 18.59l7.72-7.72 1.47 1.35L5.41 20z\"/>\n",
              "  </svg>\n",
              "      </button>\n",
              "      \n",
              "  <style>\n",
              "    .colab-df-container {\n",
              "      display:flex;\n",
              "      flex-wrap:wrap;\n",
              "      gap: 12px;\n",
              "    }\n",
              "\n",
              "    .colab-df-convert {\n",
              "      background-color: #E8F0FE;\n",
              "      border: none;\n",
              "      border-radius: 50%;\n",
              "      cursor: pointer;\n",
              "      display: none;\n",
              "      fill: #1967D2;\n",
              "      height: 32px;\n",
              "      padding: 0 0 0 0;\n",
              "      width: 32px;\n",
              "    }\n",
              "\n",
              "    .colab-df-convert:hover {\n",
              "      background-color: #E2EBFA;\n",
              "      box-shadow: 0px 1px 2px rgba(60, 64, 67, 0.3), 0px 1px 3px 1px rgba(60, 64, 67, 0.15);\n",
              "      fill: #174EA6;\n",
              "    }\n",
              "\n",
              "    [theme=dark] .colab-df-convert {\n",
              "      background-color: #3B4455;\n",
              "      fill: #D2E3FC;\n",
              "    }\n",
              "\n",
              "    [theme=dark] .colab-df-convert:hover {\n",
              "      background-color: #434B5C;\n",
              "      box-shadow: 0px 1px 3px 1px rgba(0, 0, 0, 0.15);\n",
              "      filter: drop-shadow(0px 1px 2px rgba(0, 0, 0, 0.3));\n",
              "      fill: #FFFFFF;\n",
              "    }\n",
              "  </style>\n",
              "\n",
              "      <script>\n",
              "        const buttonEl =\n",
              "          document.querySelector('#df-5af3f75c-ed2f-4745-9adc-9e7af25add64 button.colab-df-convert');\n",
              "        buttonEl.style.display =\n",
              "          google.colab.kernel.accessAllowed ? 'block' : 'none';\n",
              "\n",
              "        async function convertToInteractive(key) {\n",
              "          const element = document.querySelector('#df-5af3f75c-ed2f-4745-9adc-9e7af25add64');\n",
              "          const dataTable =\n",
              "            await google.colab.kernel.invokeFunction('convertToInteractive',\n",
              "                                                     [key], {});\n",
              "          if (!dataTable) return;\n",
              "\n",
              "          const docLinkHtml = 'Like what you see? Visit the ' +\n",
              "            '<a target=\"_blank\" href=https://colab.research.google.com/notebooks/data_table.ipynb>data table notebook</a>'\n",
              "            + ' to learn more about interactive tables.';\n",
              "          element.innerHTML = '';\n",
              "          dataTable['output_type'] = 'display_data';\n",
              "          await google.colab.output.renderOutput(dataTable, element);\n",
              "          const docLink = document.createElement('div');\n",
              "          docLink.innerHTML = docLinkHtml;\n",
              "          element.appendChild(docLink);\n",
              "        }\n",
              "      </script>\n",
              "    </div>\n",
              "  </div>\n",
              "  "
            ]
          },
          "metadata": {},
          "execution_count": 209
        }
      ],
      "source": [
        "# join the dfs into a single one\n",
        "\n",
        "# concatenate all df into a single one\n",
        "df = pd.concat([df1, df2]) # it will use the column names  to join by\n",
        "\n",
        "# check dataframes shapes\n",
        "print('the df1 Shape is : ', df1.shape)\n",
        "print('the df2 Shape is : ', df2.shape)\n",
        "print('the new joined Dataframe Shape is : ', df.shape)\n",
        "print('')\n",
        "\n",
        "# visualize the new df\n",
        "print('')\n",
        "print('Now we have a homogeneous df')\n",
        "df"
      ]
    },
    {
      "cell_type": "markdown",
      "source": [
        "## Add columns or rows"
      ],
      "metadata": {
        "id": "cdOAL37p7q5V"
      }
    },
    {
      "cell_type": "code",
      "source": [
        "# add region a column region where all the values will be 'Europe'\n",
        "\n",
        "df['region'] = 'Europe'\n",
        "df"
      ],
      "metadata": {
        "id": "beCG9jQalfDY",
        "colab": {
          "base_uri": "https://localhost:8080/",
          "height": 300
        },
        "outputId": "e7df15cb-a8c4-4478-c4ca-a4240d3ad357"
      },
      "execution_count": 221,
      "outputs": [
        {
          "output_type": "execute_result",
          "data": {
            "text/plain": [
              "         age    city  country salary  region\n",
              "name                                        \n",
              "Jess      30   Paris   France  40000  Europe\n",
              "Nick      35  Berlin  Germany  45000  Europe\n",
              "Winston   40  Madrid    Spain  50000  Europe\n",
              "Tom       27   Paris   France  55000  Europe\n",
              "Alex      52  London       UK  60000  Europe\n",
              "Matthew   32  London       UK  65000  Europe\n",
              "Philippe  45  London       UK  70000  Europe"
            ],
            "text/html": [
              "\n",
              "  <div id=\"df-9ffb8655-d967-43b3-8f3a-4a3e48275a41\">\n",
              "    <div class=\"colab-df-container\">\n",
              "      <div>\n",
              "<style scoped>\n",
              "    .dataframe tbody tr th:only-of-type {\n",
              "        vertical-align: middle;\n",
              "    }\n",
              "\n",
              "    .dataframe tbody tr th {\n",
              "        vertical-align: top;\n",
              "    }\n",
              "\n",
              "    .dataframe thead th {\n",
              "        text-align: right;\n",
              "    }\n",
              "</style>\n",
              "<table border=\"1\" class=\"dataframe\">\n",
              "  <thead>\n",
              "    <tr style=\"text-align: right;\">\n",
              "      <th></th>\n",
              "      <th>age</th>\n",
              "      <th>city</th>\n",
              "      <th>country</th>\n",
              "      <th>salary</th>\n",
              "      <th>region</th>\n",
              "    </tr>\n",
              "    <tr>\n",
              "      <th>name</th>\n",
              "      <th></th>\n",
              "      <th></th>\n",
              "      <th></th>\n",
              "      <th></th>\n",
              "      <th></th>\n",
              "    </tr>\n",
              "  </thead>\n",
              "  <tbody>\n",
              "    <tr>\n",
              "      <th>Jess</th>\n",
              "      <td>30</td>\n",
              "      <td>Paris</td>\n",
              "      <td>France</td>\n",
              "      <td>40000</td>\n",
              "      <td>Europe</td>\n",
              "    </tr>\n",
              "    <tr>\n",
              "      <th>Nick</th>\n",
              "      <td>35</td>\n",
              "      <td>Berlin</td>\n",
              "      <td>Germany</td>\n",
              "      <td>45000</td>\n",
              "      <td>Europe</td>\n",
              "    </tr>\n",
              "    <tr>\n",
              "      <th>Winston</th>\n",
              "      <td>40</td>\n",
              "      <td>Madrid</td>\n",
              "      <td>Spain</td>\n",
              "      <td>50000</td>\n",
              "      <td>Europe</td>\n",
              "    </tr>\n",
              "    <tr>\n",
              "      <th>Tom</th>\n",
              "      <td>27</td>\n",
              "      <td>Paris</td>\n",
              "      <td>France</td>\n",
              "      <td>55000</td>\n",
              "      <td>Europe</td>\n",
              "    </tr>\n",
              "    <tr>\n",
              "      <th>Alex</th>\n",
              "      <td>52</td>\n",
              "      <td>London</td>\n",
              "      <td>UK</td>\n",
              "      <td>60000</td>\n",
              "      <td>Europe</td>\n",
              "    </tr>\n",
              "    <tr>\n",
              "      <th>Matthew</th>\n",
              "      <td>32</td>\n",
              "      <td>London</td>\n",
              "      <td>UK</td>\n",
              "      <td>65000</td>\n",
              "      <td>Europe</td>\n",
              "    </tr>\n",
              "    <tr>\n",
              "      <th>Philippe</th>\n",
              "      <td>45</td>\n",
              "      <td>London</td>\n",
              "      <td>UK</td>\n",
              "      <td>70000</td>\n",
              "      <td>Europe</td>\n",
              "    </tr>\n",
              "  </tbody>\n",
              "</table>\n",
              "</div>\n",
              "      <button class=\"colab-df-convert\" onclick=\"convertToInteractive('df-9ffb8655-d967-43b3-8f3a-4a3e48275a41')\"\n",
              "              title=\"Convert this dataframe to an interactive table.\"\n",
              "              style=\"display:none;\">\n",
              "        \n",
              "  <svg xmlns=\"http://www.w3.org/2000/svg\" height=\"24px\"viewBox=\"0 0 24 24\"\n",
              "       width=\"24px\">\n",
              "    <path d=\"M0 0h24v24H0V0z\" fill=\"none\"/>\n",
              "    <path d=\"M18.56 5.44l.94 2.06.94-2.06 2.06-.94-2.06-.94-.94-2.06-.94 2.06-2.06.94zm-11 1L8.5 8.5l.94-2.06 2.06-.94-2.06-.94L8.5 2.5l-.94 2.06-2.06.94zm10 10l.94 2.06.94-2.06 2.06-.94-2.06-.94-.94-2.06-.94 2.06-2.06.94z\"/><path d=\"M17.41 7.96l-1.37-1.37c-.4-.4-.92-.59-1.43-.59-.52 0-1.04.2-1.43.59L10.3 9.45l-7.72 7.72c-.78.78-.78 2.05 0 2.83L4 21.41c.39.39.9.59 1.41.59.51 0 1.02-.2 1.41-.59l7.78-7.78 2.81-2.81c.8-.78.8-2.07 0-2.86zM5.41 20L4 18.59l7.72-7.72 1.47 1.35L5.41 20z\"/>\n",
              "  </svg>\n",
              "      </button>\n",
              "      \n",
              "  <style>\n",
              "    .colab-df-container {\n",
              "      display:flex;\n",
              "      flex-wrap:wrap;\n",
              "      gap: 12px;\n",
              "    }\n",
              "\n",
              "    .colab-df-convert {\n",
              "      background-color: #E8F0FE;\n",
              "      border: none;\n",
              "      border-radius: 50%;\n",
              "      cursor: pointer;\n",
              "      display: none;\n",
              "      fill: #1967D2;\n",
              "      height: 32px;\n",
              "      padding: 0 0 0 0;\n",
              "      width: 32px;\n",
              "    }\n",
              "\n",
              "    .colab-df-convert:hover {\n",
              "      background-color: #E2EBFA;\n",
              "      box-shadow: 0px 1px 2px rgba(60, 64, 67, 0.3), 0px 1px 3px 1px rgba(60, 64, 67, 0.15);\n",
              "      fill: #174EA6;\n",
              "    }\n",
              "\n",
              "    [theme=dark] .colab-df-convert {\n",
              "      background-color: #3B4455;\n",
              "      fill: #D2E3FC;\n",
              "    }\n",
              "\n",
              "    [theme=dark] .colab-df-convert:hover {\n",
              "      background-color: #434B5C;\n",
              "      box-shadow: 0px 1px 3px 1px rgba(0, 0, 0, 0.15);\n",
              "      filter: drop-shadow(0px 1px 2px rgba(0, 0, 0, 0.3));\n",
              "      fill: #FFFFFF;\n",
              "    }\n",
              "  </style>\n",
              "\n",
              "      <script>\n",
              "        const buttonEl =\n",
              "          document.querySelector('#df-9ffb8655-d967-43b3-8f3a-4a3e48275a41 button.colab-df-convert');\n",
              "        buttonEl.style.display =\n",
              "          google.colab.kernel.accessAllowed ? 'block' : 'none';\n",
              "\n",
              "        async function convertToInteractive(key) {\n",
              "          const element = document.querySelector('#df-9ffb8655-d967-43b3-8f3a-4a3e48275a41');\n",
              "          const dataTable =\n",
              "            await google.colab.kernel.invokeFunction('convertToInteractive',\n",
              "                                                     [key], {});\n",
              "          if (!dataTable) return;\n",
              "\n",
              "          const docLinkHtml = 'Like what you see? Visit the ' +\n",
              "            '<a target=\"_blank\" href=https://colab.research.google.com/notebooks/data_table.ipynb>data table notebook</a>'\n",
              "            + ' to learn more about interactive tables.';\n",
              "          element.innerHTML = '';\n",
              "          dataTable['output_type'] = 'display_data';\n",
              "          await google.colab.output.renderOutput(dataTable, element);\n",
              "          const docLink = document.createElement('div');\n",
              "          docLink.innerHTML = docLinkHtml;\n",
              "          element.appendChild(docLink);\n",
              "        }\n",
              "      </script>\n",
              "    </div>\n",
              "  </div>\n",
              "  "
            ]
          },
          "metadata": {},
          "execution_count": 221
        }
      ]
    },
    {
      "cell_type": "code",
      "source": [
        "# add a column salary, with respective values\n",
        "# please keep in mind that the length has to be the same\n",
        "\n",
        "salary = ['40000', '45000', '50000', '55000', '60000', '65000', '70000'] # the list has to have the same nb of element as the nb of rows\n",
        "\n",
        "print('the length of salary is: ', len(salary))\n",
        "# if the length of salary is NOT the same as the nb of rows, python will give an error ...\n",
        "print('')\n",
        "\n",
        "df['salary']= salary\n",
        "\n",
        "print(df.shape)\n",
        "df"
      ],
      "metadata": {
        "id": "cykZ_PfvllnZ",
        "colab": {
          "base_uri": "https://localhost:8080/",
          "height": 352
        },
        "outputId": "719c4fdf-575a-4d7e-fc17-c5aba75be28a"
      },
      "execution_count": 223,
      "outputs": [
        {
          "output_type": "stream",
          "name": "stdout",
          "text": [
            "the length of salary is:  7\n",
            "\n",
            "(7, 5)\n"
          ]
        },
        {
          "output_type": "execute_result",
          "data": {
            "text/plain": [
              "         age    city  country  region salary\n",
              "name                                        \n",
              "Jess      30   Paris   France  Europe  40000\n",
              "Nick      35  Berlin  Germany  Europe  45000\n",
              "Winston   40  Madrid    Spain  Europe  50000\n",
              "Tom       27   Paris   France  Europe  55000\n",
              "Alex      52  London       UK  Europe  60000\n",
              "Matthew   32  London       UK  Europe  65000\n",
              "Philippe  45  London       UK  Europe  70000"
            ],
            "text/html": [
              "\n",
              "  <div id=\"df-10acbc6f-191f-469b-b448-c31f2023bf8d\">\n",
              "    <div class=\"colab-df-container\">\n",
              "      <div>\n",
              "<style scoped>\n",
              "    .dataframe tbody tr th:only-of-type {\n",
              "        vertical-align: middle;\n",
              "    }\n",
              "\n",
              "    .dataframe tbody tr th {\n",
              "        vertical-align: top;\n",
              "    }\n",
              "\n",
              "    .dataframe thead th {\n",
              "        text-align: right;\n",
              "    }\n",
              "</style>\n",
              "<table border=\"1\" class=\"dataframe\">\n",
              "  <thead>\n",
              "    <tr style=\"text-align: right;\">\n",
              "      <th></th>\n",
              "      <th>age</th>\n",
              "      <th>city</th>\n",
              "      <th>country</th>\n",
              "      <th>region</th>\n",
              "      <th>salary</th>\n",
              "    </tr>\n",
              "    <tr>\n",
              "      <th>name</th>\n",
              "      <th></th>\n",
              "      <th></th>\n",
              "      <th></th>\n",
              "      <th></th>\n",
              "      <th></th>\n",
              "    </tr>\n",
              "  </thead>\n",
              "  <tbody>\n",
              "    <tr>\n",
              "      <th>Jess</th>\n",
              "      <td>30</td>\n",
              "      <td>Paris</td>\n",
              "      <td>France</td>\n",
              "      <td>Europe</td>\n",
              "      <td>40000</td>\n",
              "    </tr>\n",
              "    <tr>\n",
              "      <th>Nick</th>\n",
              "      <td>35</td>\n",
              "      <td>Berlin</td>\n",
              "      <td>Germany</td>\n",
              "      <td>Europe</td>\n",
              "      <td>45000</td>\n",
              "    </tr>\n",
              "    <tr>\n",
              "      <th>Winston</th>\n",
              "      <td>40</td>\n",
              "      <td>Madrid</td>\n",
              "      <td>Spain</td>\n",
              "      <td>Europe</td>\n",
              "      <td>50000</td>\n",
              "    </tr>\n",
              "    <tr>\n",
              "      <th>Tom</th>\n",
              "      <td>27</td>\n",
              "      <td>Paris</td>\n",
              "      <td>France</td>\n",
              "      <td>Europe</td>\n",
              "      <td>55000</td>\n",
              "    </tr>\n",
              "    <tr>\n",
              "      <th>Alex</th>\n",
              "      <td>52</td>\n",
              "      <td>London</td>\n",
              "      <td>UK</td>\n",
              "      <td>Europe</td>\n",
              "      <td>60000</td>\n",
              "    </tr>\n",
              "    <tr>\n",
              "      <th>Matthew</th>\n",
              "      <td>32</td>\n",
              "      <td>London</td>\n",
              "      <td>UK</td>\n",
              "      <td>Europe</td>\n",
              "      <td>65000</td>\n",
              "    </tr>\n",
              "    <tr>\n",
              "      <th>Philippe</th>\n",
              "      <td>45</td>\n",
              "      <td>London</td>\n",
              "      <td>UK</td>\n",
              "      <td>Europe</td>\n",
              "      <td>70000</td>\n",
              "    </tr>\n",
              "  </tbody>\n",
              "</table>\n",
              "</div>\n",
              "      <button class=\"colab-df-convert\" onclick=\"convertToInteractive('df-10acbc6f-191f-469b-b448-c31f2023bf8d')\"\n",
              "              title=\"Convert this dataframe to an interactive table.\"\n",
              "              style=\"display:none;\">\n",
              "        \n",
              "  <svg xmlns=\"http://www.w3.org/2000/svg\" height=\"24px\"viewBox=\"0 0 24 24\"\n",
              "       width=\"24px\">\n",
              "    <path d=\"M0 0h24v24H0V0z\" fill=\"none\"/>\n",
              "    <path d=\"M18.56 5.44l.94 2.06.94-2.06 2.06-.94-2.06-.94-.94-2.06-.94 2.06-2.06.94zm-11 1L8.5 8.5l.94-2.06 2.06-.94-2.06-.94L8.5 2.5l-.94 2.06-2.06.94zm10 10l.94 2.06.94-2.06 2.06-.94-2.06-.94-.94-2.06-.94 2.06-2.06.94z\"/><path d=\"M17.41 7.96l-1.37-1.37c-.4-.4-.92-.59-1.43-.59-.52 0-1.04.2-1.43.59L10.3 9.45l-7.72 7.72c-.78.78-.78 2.05 0 2.83L4 21.41c.39.39.9.59 1.41.59.51 0 1.02-.2 1.41-.59l7.78-7.78 2.81-2.81c.8-.78.8-2.07 0-2.86zM5.41 20L4 18.59l7.72-7.72 1.47 1.35L5.41 20z\"/>\n",
              "  </svg>\n",
              "      </button>\n",
              "      \n",
              "  <style>\n",
              "    .colab-df-container {\n",
              "      display:flex;\n",
              "      flex-wrap:wrap;\n",
              "      gap: 12px;\n",
              "    }\n",
              "\n",
              "    .colab-df-convert {\n",
              "      background-color: #E8F0FE;\n",
              "      border: none;\n",
              "      border-radius: 50%;\n",
              "      cursor: pointer;\n",
              "      display: none;\n",
              "      fill: #1967D2;\n",
              "      height: 32px;\n",
              "      padding: 0 0 0 0;\n",
              "      width: 32px;\n",
              "    }\n",
              "\n",
              "    .colab-df-convert:hover {\n",
              "      background-color: #E2EBFA;\n",
              "      box-shadow: 0px 1px 2px rgba(60, 64, 67, 0.3), 0px 1px 3px 1px rgba(60, 64, 67, 0.15);\n",
              "      fill: #174EA6;\n",
              "    }\n",
              "\n",
              "    [theme=dark] .colab-df-convert {\n",
              "      background-color: #3B4455;\n",
              "      fill: #D2E3FC;\n",
              "    }\n",
              "\n",
              "    [theme=dark] .colab-df-convert:hover {\n",
              "      background-color: #434B5C;\n",
              "      box-shadow: 0px 1px 3px 1px rgba(0, 0, 0, 0.15);\n",
              "      filter: drop-shadow(0px 1px 2px rgba(0, 0, 0, 0.3));\n",
              "      fill: #FFFFFF;\n",
              "    }\n",
              "  </style>\n",
              "\n",
              "      <script>\n",
              "        const buttonEl =\n",
              "          document.querySelector('#df-10acbc6f-191f-469b-b448-c31f2023bf8d button.colab-df-convert');\n",
              "        buttonEl.style.display =\n",
              "          google.colab.kernel.accessAllowed ? 'block' : 'none';\n",
              "\n",
              "        async function convertToInteractive(key) {\n",
              "          const element = document.querySelector('#df-10acbc6f-191f-469b-b448-c31f2023bf8d');\n",
              "          const dataTable =\n",
              "            await google.colab.kernel.invokeFunction('convertToInteractive',\n",
              "                                                     [key], {});\n",
              "          if (!dataTable) return;\n",
              "\n",
              "          const docLinkHtml = 'Like what you see? Visit the ' +\n",
              "            '<a target=\"_blank\" href=https://colab.research.google.com/notebooks/data_table.ipynb>data table notebook</a>'\n",
              "            + ' to learn more about interactive tables.';\n",
              "          element.innerHTML = '';\n",
              "          dataTable['output_type'] = 'display_data';\n",
              "          await google.colab.output.renderOutput(dataTable, element);\n",
              "          const docLink = document.createElement('div');\n",
              "          docLink.innerHTML = docLinkHtml;\n",
              "          element.appendChild(docLink);\n",
              "        }\n",
              "      </script>\n",
              "    </div>\n",
              "  </div>\n",
              "  "
            ]
          },
          "metadata": {},
          "execution_count": 223
        }
      ]
    },
    {
      "cell_type": "code",
      "source": [
        "# add a new row\n",
        "df.loc['John']= [40, 'New York','USA', 'North America', '75000']\n",
        "df"
      ],
      "metadata": {
        "id": "a6aaUu4x9QZP",
        "colab": {
          "base_uri": "https://localhost:8080/",
          "height": 332
        },
        "outputId": "cf5a4b3e-3410-4fa7-dea4-d5bbc95a7b06"
      },
      "execution_count": 224,
      "outputs": [
        {
          "output_type": "execute_result",
          "data": {
            "text/plain": [
              "         age      city  country         region salary\n",
              "name                                                 \n",
              "Jess      30     Paris   France         Europe  40000\n",
              "Nick      35    Berlin  Germany         Europe  45000\n",
              "Winston   40    Madrid    Spain         Europe  50000\n",
              "Tom       27     Paris   France         Europe  55000\n",
              "Alex      52    London       UK         Europe  60000\n",
              "Matthew   32    London       UK         Europe  65000\n",
              "Philippe  45    London       UK         Europe  70000\n",
              "John      40  New York      USA  North America  75000"
            ],
            "text/html": [
              "\n",
              "  <div id=\"df-5563a5e4-3b20-4bb8-aeac-1bf798e1f7e6\">\n",
              "    <div class=\"colab-df-container\">\n",
              "      <div>\n",
              "<style scoped>\n",
              "    .dataframe tbody tr th:only-of-type {\n",
              "        vertical-align: middle;\n",
              "    }\n",
              "\n",
              "    .dataframe tbody tr th {\n",
              "        vertical-align: top;\n",
              "    }\n",
              "\n",
              "    .dataframe thead th {\n",
              "        text-align: right;\n",
              "    }\n",
              "</style>\n",
              "<table border=\"1\" class=\"dataframe\">\n",
              "  <thead>\n",
              "    <tr style=\"text-align: right;\">\n",
              "      <th></th>\n",
              "      <th>age</th>\n",
              "      <th>city</th>\n",
              "      <th>country</th>\n",
              "      <th>region</th>\n",
              "      <th>salary</th>\n",
              "    </tr>\n",
              "    <tr>\n",
              "      <th>name</th>\n",
              "      <th></th>\n",
              "      <th></th>\n",
              "      <th></th>\n",
              "      <th></th>\n",
              "      <th></th>\n",
              "    </tr>\n",
              "  </thead>\n",
              "  <tbody>\n",
              "    <tr>\n",
              "      <th>Jess</th>\n",
              "      <td>30</td>\n",
              "      <td>Paris</td>\n",
              "      <td>France</td>\n",
              "      <td>Europe</td>\n",
              "      <td>40000</td>\n",
              "    </tr>\n",
              "    <tr>\n",
              "      <th>Nick</th>\n",
              "      <td>35</td>\n",
              "      <td>Berlin</td>\n",
              "      <td>Germany</td>\n",
              "      <td>Europe</td>\n",
              "      <td>45000</td>\n",
              "    </tr>\n",
              "    <tr>\n",
              "      <th>Winston</th>\n",
              "      <td>40</td>\n",
              "      <td>Madrid</td>\n",
              "      <td>Spain</td>\n",
              "      <td>Europe</td>\n",
              "      <td>50000</td>\n",
              "    </tr>\n",
              "    <tr>\n",
              "      <th>Tom</th>\n",
              "      <td>27</td>\n",
              "      <td>Paris</td>\n",
              "      <td>France</td>\n",
              "      <td>Europe</td>\n",
              "      <td>55000</td>\n",
              "    </tr>\n",
              "    <tr>\n",
              "      <th>Alex</th>\n",
              "      <td>52</td>\n",
              "      <td>London</td>\n",
              "      <td>UK</td>\n",
              "      <td>Europe</td>\n",
              "      <td>60000</td>\n",
              "    </tr>\n",
              "    <tr>\n",
              "      <th>Matthew</th>\n",
              "      <td>32</td>\n",
              "      <td>London</td>\n",
              "      <td>UK</td>\n",
              "      <td>Europe</td>\n",
              "      <td>65000</td>\n",
              "    </tr>\n",
              "    <tr>\n",
              "      <th>Philippe</th>\n",
              "      <td>45</td>\n",
              "      <td>London</td>\n",
              "      <td>UK</td>\n",
              "      <td>Europe</td>\n",
              "      <td>70000</td>\n",
              "    </tr>\n",
              "    <tr>\n",
              "      <th>John</th>\n",
              "      <td>40</td>\n",
              "      <td>New York</td>\n",
              "      <td>USA</td>\n",
              "      <td>North America</td>\n",
              "      <td>75000</td>\n",
              "    </tr>\n",
              "  </tbody>\n",
              "</table>\n",
              "</div>\n",
              "      <button class=\"colab-df-convert\" onclick=\"convertToInteractive('df-5563a5e4-3b20-4bb8-aeac-1bf798e1f7e6')\"\n",
              "              title=\"Convert this dataframe to an interactive table.\"\n",
              "              style=\"display:none;\">\n",
              "        \n",
              "  <svg xmlns=\"http://www.w3.org/2000/svg\" height=\"24px\"viewBox=\"0 0 24 24\"\n",
              "       width=\"24px\">\n",
              "    <path d=\"M0 0h24v24H0V0z\" fill=\"none\"/>\n",
              "    <path d=\"M18.56 5.44l.94 2.06.94-2.06 2.06-.94-2.06-.94-.94-2.06-.94 2.06-2.06.94zm-11 1L8.5 8.5l.94-2.06 2.06-.94-2.06-.94L8.5 2.5l-.94 2.06-2.06.94zm10 10l.94 2.06.94-2.06 2.06-.94-2.06-.94-.94-2.06-.94 2.06-2.06.94z\"/><path d=\"M17.41 7.96l-1.37-1.37c-.4-.4-.92-.59-1.43-.59-.52 0-1.04.2-1.43.59L10.3 9.45l-7.72 7.72c-.78.78-.78 2.05 0 2.83L4 21.41c.39.39.9.59 1.41.59.51 0 1.02-.2 1.41-.59l7.78-7.78 2.81-2.81c.8-.78.8-2.07 0-2.86zM5.41 20L4 18.59l7.72-7.72 1.47 1.35L5.41 20z\"/>\n",
              "  </svg>\n",
              "      </button>\n",
              "      \n",
              "  <style>\n",
              "    .colab-df-container {\n",
              "      display:flex;\n",
              "      flex-wrap:wrap;\n",
              "      gap: 12px;\n",
              "    }\n",
              "\n",
              "    .colab-df-convert {\n",
              "      background-color: #E8F0FE;\n",
              "      border: none;\n",
              "      border-radius: 50%;\n",
              "      cursor: pointer;\n",
              "      display: none;\n",
              "      fill: #1967D2;\n",
              "      height: 32px;\n",
              "      padding: 0 0 0 0;\n",
              "      width: 32px;\n",
              "    }\n",
              "\n",
              "    .colab-df-convert:hover {\n",
              "      background-color: #E2EBFA;\n",
              "      box-shadow: 0px 1px 2px rgba(60, 64, 67, 0.3), 0px 1px 3px 1px rgba(60, 64, 67, 0.15);\n",
              "      fill: #174EA6;\n",
              "    }\n",
              "\n",
              "    [theme=dark] .colab-df-convert {\n",
              "      background-color: #3B4455;\n",
              "      fill: #D2E3FC;\n",
              "    }\n",
              "\n",
              "    [theme=dark] .colab-df-convert:hover {\n",
              "      background-color: #434B5C;\n",
              "      box-shadow: 0px 1px 3px 1px rgba(0, 0, 0, 0.15);\n",
              "      filter: drop-shadow(0px 1px 2px rgba(0, 0, 0, 0.3));\n",
              "      fill: #FFFFFF;\n",
              "    }\n",
              "  </style>\n",
              "\n",
              "      <script>\n",
              "        const buttonEl =\n",
              "          document.querySelector('#df-5563a5e4-3b20-4bb8-aeac-1bf798e1f7e6 button.colab-df-convert');\n",
              "        buttonEl.style.display =\n",
              "          google.colab.kernel.accessAllowed ? 'block' : 'none';\n",
              "\n",
              "        async function convertToInteractive(key) {\n",
              "          const element = document.querySelector('#df-5563a5e4-3b20-4bb8-aeac-1bf798e1f7e6');\n",
              "          const dataTable =\n",
              "            await google.colab.kernel.invokeFunction('convertToInteractive',\n",
              "                                                     [key], {});\n",
              "          if (!dataTable) return;\n",
              "\n",
              "          const docLinkHtml = 'Like what you see? Visit the ' +\n",
              "            '<a target=\"_blank\" href=https://colab.research.google.com/notebooks/data_table.ipynb>data table notebook</a>'\n",
              "            + ' to learn more about interactive tables.';\n",
              "          element.innerHTML = '';\n",
              "          dataTable['output_type'] = 'display_data';\n",
              "          await google.colab.output.renderOutput(dataTable, element);\n",
              "          const docLink = document.createElement('div');\n",
              "          docLink.innerHTML = docLinkHtml;\n",
              "          element.appendChild(docLink);\n",
              "        }\n",
              "      </script>\n",
              "    </div>\n",
              "  </div>\n",
              "  "
            ]
          },
          "metadata": {},
          "execution_count": 224
        }
      ]
    },
    {
      "cell_type": "markdown",
      "source": [
        "## Modify the df"
      ],
      "metadata": {
        "id": "Ksid4CP_D3Ce"
      }
    },
    {
      "cell_type": "code",
      "source": [
        "# Philippe moved to Paris (==> 'city') in France (==> 'country') and we want to update the df\n",
        "\n",
        "# modify the df with .loc method\n",
        "\n",
        "df.loc['Philippe', ['city', 'country']] = ['Paris', 'France']\n",
        "df"
      ],
      "metadata": {
        "id": "vBsA8cZEBf66",
        "colab": {
          "base_uri": "https://localhost:8080/",
          "height": 332
        },
        "outputId": "26a45320-92f8-4862-c5e2-2211ac9dbbda"
      },
      "execution_count": 225,
      "outputs": [
        {
          "output_type": "execute_result",
          "data": {
            "text/plain": [
              "         age      city  country         region salary\n",
              "name                                                 \n",
              "Jess      30     Paris   France         Europe  40000\n",
              "Nick      35    Berlin  Germany         Europe  45000\n",
              "Winston   40    Madrid    Spain         Europe  50000\n",
              "Tom       27     Paris   France         Europe  55000\n",
              "Alex      52    London       UK         Europe  60000\n",
              "Matthew   32    London       UK         Europe  65000\n",
              "Philippe  45     Paris   France         Europe  70000\n",
              "John      40  New York      USA  North America  75000"
            ],
            "text/html": [
              "\n",
              "  <div id=\"df-758320a5-f194-4487-a759-027458693fbe\">\n",
              "    <div class=\"colab-df-container\">\n",
              "      <div>\n",
              "<style scoped>\n",
              "    .dataframe tbody tr th:only-of-type {\n",
              "        vertical-align: middle;\n",
              "    }\n",
              "\n",
              "    .dataframe tbody tr th {\n",
              "        vertical-align: top;\n",
              "    }\n",
              "\n",
              "    .dataframe thead th {\n",
              "        text-align: right;\n",
              "    }\n",
              "</style>\n",
              "<table border=\"1\" class=\"dataframe\">\n",
              "  <thead>\n",
              "    <tr style=\"text-align: right;\">\n",
              "      <th></th>\n",
              "      <th>age</th>\n",
              "      <th>city</th>\n",
              "      <th>country</th>\n",
              "      <th>region</th>\n",
              "      <th>salary</th>\n",
              "    </tr>\n",
              "    <tr>\n",
              "      <th>name</th>\n",
              "      <th></th>\n",
              "      <th></th>\n",
              "      <th></th>\n",
              "      <th></th>\n",
              "      <th></th>\n",
              "    </tr>\n",
              "  </thead>\n",
              "  <tbody>\n",
              "    <tr>\n",
              "      <th>Jess</th>\n",
              "      <td>30</td>\n",
              "      <td>Paris</td>\n",
              "      <td>France</td>\n",
              "      <td>Europe</td>\n",
              "      <td>40000</td>\n",
              "    </tr>\n",
              "    <tr>\n",
              "      <th>Nick</th>\n",
              "      <td>35</td>\n",
              "      <td>Berlin</td>\n",
              "      <td>Germany</td>\n",
              "      <td>Europe</td>\n",
              "      <td>45000</td>\n",
              "    </tr>\n",
              "    <tr>\n",
              "      <th>Winston</th>\n",
              "      <td>40</td>\n",
              "      <td>Madrid</td>\n",
              "      <td>Spain</td>\n",
              "      <td>Europe</td>\n",
              "      <td>50000</td>\n",
              "    </tr>\n",
              "    <tr>\n",
              "      <th>Tom</th>\n",
              "      <td>27</td>\n",
              "      <td>Paris</td>\n",
              "      <td>France</td>\n",
              "      <td>Europe</td>\n",
              "      <td>55000</td>\n",
              "    </tr>\n",
              "    <tr>\n",
              "      <th>Alex</th>\n",
              "      <td>52</td>\n",
              "      <td>London</td>\n",
              "      <td>UK</td>\n",
              "      <td>Europe</td>\n",
              "      <td>60000</td>\n",
              "    </tr>\n",
              "    <tr>\n",
              "      <th>Matthew</th>\n",
              "      <td>32</td>\n",
              "      <td>London</td>\n",
              "      <td>UK</td>\n",
              "      <td>Europe</td>\n",
              "      <td>65000</td>\n",
              "    </tr>\n",
              "    <tr>\n",
              "      <th>Philippe</th>\n",
              "      <td>45</td>\n",
              "      <td>Paris</td>\n",
              "      <td>France</td>\n",
              "      <td>Europe</td>\n",
              "      <td>70000</td>\n",
              "    </tr>\n",
              "    <tr>\n",
              "      <th>John</th>\n",
              "      <td>40</td>\n",
              "      <td>New York</td>\n",
              "      <td>USA</td>\n",
              "      <td>North America</td>\n",
              "      <td>75000</td>\n",
              "    </tr>\n",
              "  </tbody>\n",
              "</table>\n",
              "</div>\n",
              "      <button class=\"colab-df-convert\" onclick=\"convertToInteractive('df-758320a5-f194-4487-a759-027458693fbe')\"\n",
              "              title=\"Convert this dataframe to an interactive table.\"\n",
              "              style=\"display:none;\">\n",
              "        \n",
              "  <svg xmlns=\"http://www.w3.org/2000/svg\" height=\"24px\"viewBox=\"0 0 24 24\"\n",
              "       width=\"24px\">\n",
              "    <path d=\"M0 0h24v24H0V0z\" fill=\"none\"/>\n",
              "    <path d=\"M18.56 5.44l.94 2.06.94-2.06 2.06-.94-2.06-.94-.94-2.06-.94 2.06-2.06.94zm-11 1L8.5 8.5l.94-2.06 2.06-.94-2.06-.94L8.5 2.5l-.94 2.06-2.06.94zm10 10l.94 2.06.94-2.06 2.06-.94-2.06-.94-.94-2.06-.94 2.06-2.06.94z\"/><path d=\"M17.41 7.96l-1.37-1.37c-.4-.4-.92-.59-1.43-.59-.52 0-1.04.2-1.43.59L10.3 9.45l-7.72 7.72c-.78.78-.78 2.05 0 2.83L4 21.41c.39.39.9.59 1.41.59.51 0 1.02-.2 1.41-.59l7.78-7.78 2.81-2.81c.8-.78.8-2.07 0-2.86zM5.41 20L4 18.59l7.72-7.72 1.47 1.35L5.41 20z\"/>\n",
              "  </svg>\n",
              "      </button>\n",
              "      \n",
              "  <style>\n",
              "    .colab-df-container {\n",
              "      display:flex;\n",
              "      flex-wrap:wrap;\n",
              "      gap: 12px;\n",
              "    }\n",
              "\n",
              "    .colab-df-convert {\n",
              "      background-color: #E8F0FE;\n",
              "      border: none;\n",
              "      border-radius: 50%;\n",
              "      cursor: pointer;\n",
              "      display: none;\n",
              "      fill: #1967D2;\n",
              "      height: 32px;\n",
              "      padding: 0 0 0 0;\n",
              "      width: 32px;\n",
              "    }\n",
              "\n",
              "    .colab-df-convert:hover {\n",
              "      background-color: #E2EBFA;\n",
              "      box-shadow: 0px 1px 2px rgba(60, 64, 67, 0.3), 0px 1px 3px 1px rgba(60, 64, 67, 0.15);\n",
              "      fill: #174EA6;\n",
              "    }\n",
              "\n",
              "    [theme=dark] .colab-df-convert {\n",
              "      background-color: #3B4455;\n",
              "      fill: #D2E3FC;\n",
              "    }\n",
              "\n",
              "    [theme=dark] .colab-df-convert:hover {\n",
              "      background-color: #434B5C;\n",
              "      box-shadow: 0px 1px 3px 1px rgba(0, 0, 0, 0.15);\n",
              "      filter: drop-shadow(0px 1px 2px rgba(0, 0, 0, 0.3));\n",
              "      fill: #FFFFFF;\n",
              "    }\n",
              "  </style>\n",
              "\n",
              "      <script>\n",
              "        const buttonEl =\n",
              "          document.querySelector('#df-758320a5-f194-4487-a759-027458693fbe button.colab-df-convert');\n",
              "        buttonEl.style.display =\n",
              "          google.colab.kernel.accessAllowed ? 'block' : 'none';\n",
              "\n",
              "        async function convertToInteractive(key) {\n",
              "          const element = document.querySelector('#df-758320a5-f194-4487-a759-027458693fbe');\n",
              "          const dataTable =\n",
              "            await google.colab.kernel.invokeFunction('convertToInteractive',\n",
              "                                                     [key], {});\n",
              "          if (!dataTable) return;\n",
              "\n",
              "          const docLinkHtml = 'Like what you see? Visit the ' +\n",
              "            '<a target=\"_blank\" href=https://colab.research.google.com/notebooks/data_table.ipynb>data table notebook</a>'\n",
              "            + ' to learn more about interactive tables.';\n",
              "          element.innerHTML = '';\n",
              "          dataTable['output_type'] = 'display_data';\n",
              "          await google.colab.output.renderOutput(dataTable, element);\n",
              "          const docLink = document.createElement('div');\n",
              "          docLink.innerHTML = docLinkHtml;\n",
              "          element.appendChild(docLink);\n",
              "        }\n",
              "      </script>\n",
              "    </div>\n",
              "  </div>\n",
              "  "
            ]
          },
          "metadata": {},
          "execution_count": 225
        }
      ]
    },
    {
      "cell_type": "code",
      "source": [
        "# Philippe moved back to London, in UK and even got a promotion and we want to update the df\n",
        "\n",
        "# modify df with .iloc method\n",
        "\n",
        "# the row of 'Philipp' hase the index 6\n",
        "# the indicies for 'city', 'country' and 'salary' columns are : 1, 2, 4 \n",
        "\n",
        "df.iloc[6, [1, 2, 4]]= ['London', 'UK', '80000'] \n",
        "\n",
        "df"
      ],
      "metadata": {
        "id": "SR-kgJjkCJH9",
        "colab": {
          "base_uri": "https://localhost:8080/",
          "height": 332
        },
        "outputId": "31625082-f5b9-45db-f0af-476835e5e4a3"
      },
      "execution_count": 226,
      "outputs": [
        {
          "output_type": "execute_result",
          "data": {
            "text/plain": [
              "         age      city  country         region salary\n",
              "name                                                 \n",
              "Jess      30     Paris   France         Europe  40000\n",
              "Nick      35    Berlin  Germany         Europe  45000\n",
              "Winston   40    Madrid    Spain         Europe  50000\n",
              "Tom       27     Paris   France         Europe  55000\n",
              "Alex      52    London       UK         Europe  60000\n",
              "Matthew   32    London       UK         Europe  65000\n",
              "Philippe  45    London       UK         Europe  80000\n",
              "John      40  New York      USA  North America  75000"
            ],
            "text/html": [
              "\n",
              "  <div id=\"df-ca30b3f9-4aab-4a18-9e47-c1e6dc1739d3\">\n",
              "    <div class=\"colab-df-container\">\n",
              "      <div>\n",
              "<style scoped>\n",
              "    .dataframe tbody tr th:only-of-type {\n",
              "        vertical-align: middle;\n",
              "    }\n",
              "\n",
              "    .dataframe tbody tr th {\n",
              "        vertical-align: top;\n",
              "    }\n",
              "\n",
              "    .dataframe thead th {\n",
              "        text-align: right;\n",
              "    }\n",
              "</style>\n",
              "<table border=\"1\" class=\"dataframe\">\n",
              "  <thead>\n",
              "    <tr style=\"text-align: right;\">\n",
              "      <th></th>\n",
              "      <th>age</th>\n",
              "      <th>city</th>\n",
              "      <th>country</th>\n",
              "      <th>region</th>\n",
              "      <th>salary</th>\n",
              "    </tr>\n",
              "    <tr>\n",
              "      <th>name</th>\n",
              "      <th></th>\n",
              "      <th></th>\n",
              "      <th></th>\n",
              "      <th></th>\n",
              "      <th></th>\n",
              "    </tr>\n",
              "  </thead>\n",
              "  <tbody>\n",
              "    <tr>\n",
              "      <th>Jess</th>\n",
              "      <td>30</td>\n",
              "      <td>Paris</td>\n",
              "      <td>France</td>\n",
              "      <td>Europe</td>\n",
              "      <td>40000</td>\n",
              "    </tr>\n",
              "    <tr>\n",
              "      <th>Nick</th>\n",
              "      <td>35</td>\n",
              "      <td>Berlin</td>\n",
              "      <td>Germany</td>\n",
              "      <td>Europe</td>\n",
              "      <td>45000</td>\n",
              "    </tr>\n",
              "    <tr>\n",
              "      <th>Winston</th>\n",
              "      <td>40</td>\n",
              "      <td>Madrid</td>\n",
              "      <td>Spain</td>\n",
              "      <td>Europe</td>\n",
              "      <td>50000</td>\n",
              "    </tr>\n",
              "    <tr>\n",
              "      <th>Tom</th>\n",
              "      <td>27</td>\n",
              "      <td>Paris</td>\n",
              "      <td>France</td>\n",
              "      <td>Europe</td>\n",
              "      <td>55000</td>\n",
              "    </tr>\n",
              "    <tr>\n",
              "      <th>Alex</th>\n",
              "      <td>52</td>\n",
              "      <td>London</td>\n",
              "      <td>UK</td>\n",
              "      <td>Europe</td>\n",
              "      <td>60000</td>\n",
              "    </tr>\n",
              "    <tr>\n",
              "      <th>Matthew</th>\n",
              "      <td>32</td>\n",
              "      <td>London</td>\n",
              "      <td>UK</td>\n",
              "      <td>Europe</td>\n",
              "      <td>65000</td>\n",
              "    </tr>\n",
              "    <tr>\n",
              "      <th>Philippe</th>\n",
              "      <td>45</td>\n",
              "      <td>London</td>\n",
              "      <td>UK</td>\n",
              "      <td>Europe</td>\n",
              "      <td>80000</td>\n",
              "    </tr>\n",
              "    <tr>\n",
              "      <th>John</th>\n",
              "      <td>40</td>\n",
              "      <td>New York</td>\n",
              "      <td>USA</td>\n",
              "      <td>North America</td>\n",
              "      <td>75000</td>\n",
              "    </tr>\n",
              "  </tbody>\n",
              "</table>\n",
              "</div>\n",
              "      <button class=\"colab-df-convert\" onclick=\"convertToInteractive('df-ca30b3f9-4aab-4a18-9e47-c1e6dc1739d3')\"\n",
              "              title=\"Convert this dataframe to an interactive table.\"\n",
              "              style=\"display:none;\">\n",
              "        \n",
              "  <svg xmlns=\"http://www.w3.org/2000/svg\" height=\"24px\"viewBox=\"0 0 24 24\"\n",
              "       width=\"24px\">\n",
              "    <path d=\"M0 0h24v24H0V0z\" fill=\"none\"/>\n",
              "    <path d=\"M18.56 5.44l.94 2.06.94-2.06 2.06-.94-2.06-.94-.94-2.06-.94 2.06-2.06.94zm-11 1L8.5 8.5l.94-2.06 2.06-.94-2.06-.94L8.5 2.5l-.94 2.06-2.06.94zm10 10l.94 2.06.94-2.06 2.06-.94-2.06-.94-.94-2.06-.94 2.06-2.06.94z\"/><path d=\"M17.41 7.96l-1.37-1.37c-.4-.4-.92-.59-1.43-.59-.52 0-1.04.2-1.43.59L10.3 9.45l-7.72 7.72c-.78.78-.78 2.05 0 2.83L4 21.41c.39.39.9.59 1.41.59.51 0 1.02-.2 1.41-.59l7.78-7.78 2.81-2.81c.8-.78.8-2.07 0-2.86zM5.41 20L4 18.59l7.72-7.72 1.47 1.35L5.41 20z\"/>\n",
              "  </svg>\n",
              "      </button>\n",
              "      \n",
              "  <style>\n",
              "    .colab-df-container {\n",
              "      display:flex;\n",
              "      flex-wrap:wrap;\n",
              "      gap: 12px;\n",
              "    }\n",
              "\n",
              "    .colab-df-convert {\n",
              "      background-color: #E8F0FE;\n",
              "      border: none;\n",
              "      border-radius: 50%;\n",
              "      cursor: pointer;\n",
              "      display: none;\n",
              "      fill: #1967D2;\n",
              "      height: 32px;\n",
              "      padding: 0 0 0 0;\n",
              "      width: 32px;\n",
              "    }\n",
              "\n",
              "    .colab-df-convert:hover {\n",
              "      background-color: #E2EBFA;\n",
              "      box-shadow: 0px 1px 2px rgba(60, 64, 67, 0.3), 0px 1px 3px 1px rgba(60, 64, 67, 0.15);\n",
              "      fill: #174EA6;\n",
              "    }\n",
              "\n",
              "    [theme=dark] .colab-df-convert {\n",
              "      background-color: #3B4455;\n",
              "      fill: #D2E3FC;\n",
              "    }\n",
              "\n",
              "    [theme=dark] .colab-df-convert:hover {\n",
              "      background-color: #434B5C;\n",
              "      box-shadow: 0px 1px 3px 1px rgba(0, 0, 0, 0.15);\n",
              "      filter: drop-shadow(0px 1px 2px rgba(0, 0, 0, 0.3));\n",
              "      fill: #FFFFFF;\n",
              "    }\n",
              "  </style>\n",
              "\n",
              "      <script>\n",
              "        const buttonEl =\n",
              "          document.querySelector('#df-ca30b3f9-4aab-4a18-9e47-c1e6dc1739d3 button.colab-df-convert');\n",
              "        buttonEl.style.display =\n",
              "          google.colab.kernel.accessAllowed ? 'block' : 'none';\n",
              "\n",
              "        async function convertToInteractive(key) {\n",
              "          const element = document.querySelector('#df-ca30b3f9-4aab-4a18-9e47-c1e6dc1739d3');\n",
              "          const dataTable =\n",
              "            await google.colab.kernel.invokeFunction('convertToInteractive',\n",
              "                                                     [key], {});\n",
              "          if (!dataTable) return;\n",
              "\n",
              "          const docLinkHtml = 'Like what you see? Visit the ' +\n",
              "            '<a target=\"_blank\" href=https://colab.research.google.com/notebooks/data_table.ipynb>data table notebook</a>'\n",
              "            + ' to learn more about interactive tables.';\n",
              "          element.innerHTML = '';\n",
              "          dataTable['output_type'] = 'display_data';\n",
              "          await google.colab.output.renderOutput(dataTable, element);\n",
              "          const docLink = document.createElement('div');\n",
              "          docLink.innerHTML = docLinkHtml;\n",
              "          element.appendChild(docLink);\n",
              "        }\n",
              "      </script>\n",
              "    </div>\n",
              "  </div>\n",
              "  "
            ]
          },
          "metadata": {},
          "execution_count": 226
        }
      ]
    },
    {
      "cell_type": "markdown",
      "source": [
        "## Explore df"
      ],
      "metadata": {
        "id": "6XtJyKUF8H5r"
      }
    },
    {
      "cell_type": "code",
      "execution_count": 227,
      "metadata": {
        "id": "yseGtfbScVfi",
        "colab": {
          "base_uri": "https://localhost:8080/"
        },
        "outputId": "ceb54b93-38d0-4891-ad94-f0b629289ae9"
      },
      "outputs": [
        {
          "output_type": "stream",
          "name": "stdout",
          "text": [
            "<class 'pandas.core.frame.DataFrame'>\n",
            "Index: 8 entries, Jess to John\n",
            "Data columns (total 5 columns):\n",
            " #   Column   Non-Null Count  Dtype \n",
            "---  ------   --------------  ----- \n",
            " 0   age      8 non-null      object\n",
            " 1   city     8 non-null      object\n",
            " 2   country  8 non-null      object\n",
            " 3   region   8 non-null      object\n",
            " 4   salary   8 non-null      object\n",
            "dtypes: object(5)\n",
            "memory usage: 684.0+ bytes\n"
          ]
        }
      ],
      "source": [
        "# general info of df\n",
        "# have a closer look at the output...\n",
        "# Dtype indicates you the data type containing in the columns\n",
        "# have a closer look at Dtype of 'age' and 'city'\n",
        "\n",
        "df.info()"
      ]
    },
    {
      "cell_type": "code",
      "execution_count": 228,
      "metadata": {
        "id": "QvQMEv9_coSn",
        "colab": {
          "base_uri": "https://localhost:8080/"
        },
        "outputId": "c482b256-0712-479d-94f9-6086d1b5e118"
      },
      "outputs": [
        {
          "output_type": "stream",
          "name": "stdout",
          "text": [
            "<class 'pandas.core.frame.DataFrame'>\n",
            "Index: 8 entries, Jess to John\n",
            "Data columns (total 5 columns):\n",
            " #   Column   Non-Null Count  Dtype \n",
            "---  ------   --------------  ----- \n",
            " 0   age      8 non-null      int64 \n",
            " 1   city     8 non-null      object\n",
            " 2   country  8 non-null      object\n",
            " 3   region   8 non-null      object\n",
            " 4   salary   8 non-null      int64 \n",
            "dtypes: int64(2), object(3)\n",
            "memory usage: 684.0+ bytes\n"
          ]
        }
      ],
      "source": [
        "# salary and age are perceived as object dtype, but we want it as numeric\n",
        "\n",
        "# convert column of a DataFrame\n",
        "df[\"age\"] = pd.to_numeric(df[\"age\"])\n",
        "df[\"salary\"] = pd.to_numeric(df.salary)\n",
        "\n",
        "# check again the general information of the df and see the difference\n",
        "df.info()"
      ]
    },
    {
      "cell_type": "code",
      "execution_count": 229,
      "metadata": {
        "id": "gltC1Y6Pcx6Q",
        "colab": {
          "base_uri": "https://localhost:8080/",
          "height": 300
        },
        "outputId": "bf70cb82-898d-4ad5-9267-be5a394f56df"
      },
      "outputs": [
        {
          "output_type": "execute_result",
          "data": {
            "text/plain": [
              "             age        salary\n",
              "count   8.000000      8.000000\n",
              "mean   37.625000  58750.000000\n",
              "std     8.296944  14078.859532\n",
              "min    27.000000  40000.000000\n",
              "25%    31.500000  48750.000000\n",
              "50%    37.500000  57500.000000\n",
              "75%    41.250000  67500.000000\n",
              "max    52.000000  80000.000000"
            ],
            "text/html": [
              "\n",
              "  <div id=\"df-884801cd-f885-408b-9175-a6cfa1edef28\">\n",
              "    <div class=\"colab-df-container\">\n",
              "      <div>\n",
              "<style scoped>\n",
              "    .dataframe tbody tr th:only-of-type {\n",
              "        vertical-align: middle;\n",
              "    }\n",
              "\n",
              "    .dataframe tbody tr th {\n",
              "        vertical-align: top;\n",
              "    }\n",
              "\n",
              "    .dataframe thead th {\n",
              "        text-align: right;\n",
              "    }\n",
              "</style>\n",
              "<table border=\"1\" class=\"dataframe\">\n",
              "  <thead>\n",
              "    <tr style=\"text-align: right;\">\n",
              "      <th></th>\n",
              "      <th>age</th>\n",
              "      <th>salary</th>\n",
              "    </tr>\n",
              "  </thead>\n",
              "  <tbody>\n",
              "    <tr>\n",
              "      <th>count</th>\n",
              "      <td>8.000000</td>\n",
              "      <td>8.000000</td>\n",
              "    </tr>\n",
              "    <tr>\n",
              "      <th>mean</th>\n",
              "      <td>37.625000</td>\n",
              "      <td>58750.000000</td>\n",
              "    </tr>\n",
              "    <tr>\n",
              "      <th>std</th>\n",
              "      <td>8.296944</td>\n",
              "      <td>14078.859532</td>\n",
              "    </tr>\n",
              "    <tr>\n",
              "      <th>min</th>\n",
              "      <td>27.000000</td>\n",
              "      <td>40000.000000</td>\n",
              "    </tr>\n",
              "    <tr>\n",
              "      <th>25%</th>\n",
              "      <td>31.500000</td>\n",
              "      <td>48750.000000</td>\n",
              "    </tr>\n",
              "    <tr>\n",
              "      <th>50%</th>\n",
              "      <td>37.500000</td>\n",
              "      <td>57500.000000</td>\n",
              "    </tr>\n",
              "    <tr>\n",
              "      <th>75%</th>\n",
              "      <td>41.250000</td>\n",
              "      <td>67500.000000</td>\n",
              "    </tr>\n",
              "    <tr>\n",
              "      <th>max</th>\n",
              "      <td>52.000000</td>\n",
              "      <td>80000.000000</td>\n",
              "    </tr>\n",
              "  </tbody>\n",
              "</table>\n",
              "</div>\n",
              "      <button class=\"colab-df-convert\" onclick=\"convertToInteractive('df-884801cd-f885-408b-9175-a6cfa1edef28')\"\n",
              "              title=\"Convert this dataframe to an interactive table.\"\n",
              "              style=\"display:none;\">\n",
              "        \n",
              "  <svg xmlns=\"http://www.w3.org/2000/svg\" height=\"24px\"viewBox=\"0 0 24 24\"\n",
              "       width=\"24px\">\n",
              "    <path d=\"M0 0h24v24H0V0z\" fill=\"none\"/>\n",
              "    <path d=\"M18.56 5.44l.94 2.06.94-2.06 2.06-.94-2.06-.94-.94-2.06-.94 2.06-2.06.94zm-11 1L8.5 8.5l.94-2.06 2.06-.94-2.06-.94L8.5 2.5l-.94 2.06-2.06.94zm10 10l.94 2.06.94-2.06 2.06-.94-2.06-.94-.94-2.06-.94 2.06-2.06.94z\"/><path d=\"M17.41 7.96l-1.37-1.37c-.4-.4-.92-.59-1.43-.59-.52 0-1.04.2-1.43.59L10.3 9.45l-7.72 7.72c-.78.78-.78 2.05 0 2.83L4 21.41c.39.39.9.59 1.41.59.51 0 1.02-.2 1.41-.59l7.78-7.78 2.81-2.81c.8-.78.8-2.07 0-2.86zM5.41 20L4 18.59l7.72-7.72 1.47 1.35L5.41 20z\"/>\n",
              "  </svg>\n",
              "      </button>\n",
              "      \n",
              "  <style>\n",
              "    .colab-df-container {\n",
              "      display:flex;\n",
              "      flex-wrap:wrap;\n",
              "      gap: 12px;\n",
              "    }\n",
              "\n",
              "    .colab-df-convert {\n",
              "      background-color: #E8F0FE;\n",
              "      border: none;\n",
              "      border-radius: 50%;\n",
              "      cursor: pointer;\n",
              "      display: none;\n",
              "      fill: #1967D2;\n",
              "      height: 32px;\n",
              "      padding: 0 0 0 0;\n",
              "      width: 32px;\n",
              "    }\n",
              "\n",
              "    .colab-df-convert:hover {\n",
              "      background-color: #E2EBFA;\n",
              "      box-shadow: 0px 1px 2px rgba(60, 64, 67, 0.3), 0px 1px 3px 1px rgba(60, 64, 67, 0.15);\n",
              "      fill: #174EA6;\n",
              "    }\n",
              "\n",
              "    [theme=dark] .colab-df-convert {\n",
              "      background-color: #3B4455;\n",
              "      fill: #D2E3FC;\n",
              "    }\n",
              "\n",
              "    [theme=dark] .colab-df-convert:hover {\n",
              "      background-color: #434B5C;\n",
              "      box-shadow: 0px 1px 3px 1px rgba(0, 0, 0, 0.15);\n",
              "      filter: drop-shadow(0px 1px 2px rgba(0, 0, 0, 0.3));\n",
              "      fill: #FFFFFF;\n",
              "    }\n",
              "  </style>\n",
              "\n",
              "      <script>\n",
              "        const buttonEl =\n",
              "          document.querySelector('#df-884801cd-f885-408b-9175-a6cfa1edef28 button.colab-df-convert');\n",
              "        buttonEl.style.display =\n",
              "          google.colab.kernel.accessAllowed ? 'block' : 'none';\n",
              "\n",
              "        async function convertToInteractive(key) {\n",
              "          const element = document.querySelector('#df-884801cd-f885-408b-9175-a6cfa1edef28');\n",
              "          const dataTable =\n",
              "            await google.colab.kernel.invokeFunction('convertToInteractive',\n",
              "                                                     [key], {});\n",
              "          if (!dataTable) return;\n",
              "\n",
              "          const docLinkHtml = 'Like what you see? Visit the ' +\n",
              "            '<a target=\"_blank\" href=https://colab.research.google.com/notebooks/data_table.ipynb>data table notebook</a>'\n",
              "            + ' to learn more about interactive tables.';\n",
              "          element.innerHTML = '';\n",
              "          dataTable['output_type'] = 'display_data';\n",
              "          await google.colab.output.renderOutput(dataTable, element);\n",
              "          const docLink = document.createElement('div');\n",
              "          docLink.innerHTML = docLinkHtml;\n",
              "          element.appendChild(docLink);\n",
              "        }\n",
              "      </script>\n",
              "    </div>\n",
              "  </div>\n",
              "  "
            ]
          },
          "metadata": {},
          "execution_count": 229
        }
      ],
      "source": [
        "# use .describe() method to have an brief overview of general statisctics \n",
        "\n",
        "df.describe()"
      ]
    },
    {
      "cell_type": "code",
      "execution_count": 230,
      "metadata": {
        "id": "YE3QM_BhYrHs",
        "colab": {
          "base_uri": "https://localhost:8080/"
        },
        "outputId": "d82e6988-3765-4205-82af-28842dfd3715"
      },
      "outputs": [
        {
          "output_type": "execute_result",
          "data": {
            "text/plain": [
              "array(['Paris', 'Berlin', 'Madrid', 'London', 'New York'], dtype=object)"
            ]
          },
          "metadata": {},
          "execution_count": 230
        }
      ],
      "source": [
        "# distinct cities with method .unique()\n",
        "\n",
        "df.city.unique()"
      ]
    },
    {
      "cell_type": "code",
      "execution_count": 231,
      "metadata": {
        "id": "Rn6swduVY9o6",
        "colab": {
          "base_uri": "https://localhost:8080/"
        },
        "outputId": "bfb26a1e-c18d-43e2-bc0d-5c8a00c789f7"
      },
      "outputs": [
        {
          "output_type": "execute_result",
          "data": {
            "text/plain": [
              "5"
            ]
          },
          "metadata": {},
          "execution_count": 231
        }
      ],
      "source": [
        "# number of distinct cities\n",
        "len(df['city'].unique())"
      ]
    },
    {
      "cell_type": "markdown",
      "metadata": {
        "id": "8dRDNJTZbKGx"
      },
      "source": [
        "## Groupby"
      ]
    },
    {
      "cell_type": "markdown",
      "source": [
        "More about groupby method in pandas https://pandas.pydata.org/docs/reference/api/pandas.DataFrame.groupby.html"
      ],
      "metadata": {
        "id": "ERNOF46jQHUj"
      }
    },
    {
      "cell_type": "code",
      "execution_count": 232,
      "metadata": {
        "id": "lLkDe2Q-bPZb",
        "colab": {
          "base_uri": "https://localhost:8080/"
        },
        "outputId": "29c43093-0ec3-4dc2-e456-d12e64acecb4"
      },
      "outputs": [
        {
          "output_type": "execute_result",
          "data": {
            "text/plain": [
              "city\n",
              "Berlin      35.0\n",
              "London      43.0\n",
              "Madrid      40.0\n",
              "New York    40.0\n",
              "Paris       28.5\n",
              "Name: age, dtype: float64"
            ]
          },
          "metadata": {},
          "execution_count": 232
        }
      ],
      "source": [
        "# check the mean age by city\n",
        "df.groupby(by=[\"city\"])['age'].mean()"
      ]
    },
    {
      "cell_type": "code",
      "execution_count": 233,
      "metadata": {
        "id": "Cjqu7rrhZzrc",
        "colab": {
          "base_uri": "https://localhost:8080/"
        },
        "outputId": "80292480-1e9f-4928-a897-48eedc0e12e7"
      },
      "outputs": [
        {
          "output_type": "execute_result",
          "data": {
            "text/plain": [
              "city\n",
              "Berlin       45000\n",
              "London      205000\n",
              "Madrid       50000\n",
              "New York     75000\n",
              "Paris        95000\n",
              "Name: salary, dtype: int64"
            ]
          },
          "metadata": {},
          "execution_count": 233
        }
      ],
      "source": [
        "# check the total salary by city\n",
        "df.groupby(by=[\"city\"])['salary'].sum()"
      ]
    },
    {
      "cell_type": "code",
      "source": [
        "# check how many city we have by country\n",
        "df.groupby(by=[\"country\"])['city'].count()"
      ],
      "metadata": {
        "id": "h42ADRKYQWkF",
        "colab": {
          "base_uri": "https://localhost:8080/"
        },
        "outputId": "b86a5832-42c4-4524-d00b-4518023795cf"
      },
      "execution_count": 234,
      "outputs": [
        {
          "output_type": "execute_result",
          "data": {
            "text/plain": [
              "country\n",
              "France     2\n",
              "Germany    1\n",
              "Spain      1\n",
              "UK         3\n",
              "USA        1\n",
              "Name: city, dtype: int64"
            ]
          },
          "metadata": {},
          "execution_count": 234
        }
      ]
    },
    {
      "cell_type": "code",
      "execution_count": 235,
      "metadata": {
        "id": "5Ygrjq15eHcb",
        "colab": {
          "base_uri": "https://localhost:8080/"
        },
        "outputId": "38ae90e6-e9d6-4d90-aec5-d44d00647296"
      },
      "outputs": [
        {
          "output_type": "execute_result",
          "data": {
            "text/plain": [
              "region         country\n",
              "Europe         France     47500.000000\n",
              "               Germany    45000.000000\n",
              "               Spain      50000.000000\n",
              "               UK         68333.333333\n",
              "North America  USA        75000.000000\n",
              "Name: salary, dtype: float64"
            ]
          },
          "metadata": {},
          "execution_count": 235
        }
      ],
      "source": [
        "# group by 2 variables\n",
        "\n",
        "df.groupby(by=['region', \"country\"])['salary'].mean()"
      ]
    },
    {
      "cell_type": "markdown",
      "metadata": {
        "id": "Iaab7nlWe-43"
      },
      "source": [
        "## Pivot"
      ]
    },
    {
      "cell_type": "markdown",
      "source": [
        "Create a spreadsheet-style pivot table as a DataFrame.\n",
        "\n",
        "The levels in the pivot table will be stored in MultiIndex objects (hierarchical indexes) on the index and columns of the result DataFrame"
      ],
      "metadata": {
        "id": "ETOwQZXnIWvk"
      }
    },
    {
      "cell_type": "markdown",
      "source": [
        "More about pivot function in python https://pandas.pydata.org/docs/reference/api/pandas.pivot_table.html"
      ],
      "metadata": {
        "id": "inZ1PdfsIYVl"
      }
    },
    {
      "cell_type": "code",
      "execution_count": 236,
      "metadata": {
        "id": "EmV20Ha_eIy6",
        "colab": {
          "base_uri": "https://localhost:8080/",
          "height": 366
        },
        "outputId": "15e3d12d-446f-47af-dc68-a208a6f89781"
      },
      "outputs": [
        {
          "output_type": "stream",
          "name": "stdout",
          "text": [
            "the dataframe we will want to pivot..\n",
            "\n"
          ]
        },
        {
          "output_type": "execute_result",
          "data": {
            "text/plain": [
              "     Box Color   Size  Qty  Weigth\n",
              "0   wood   red  small    1       2\n",
              "1   wood   red  large    2       4\n",
              "2   wood   red  large    2       5\n",
              "3   wood  blue  small    3       5\n",
              "4   wood  blue  small    3       6\n",
              "5  paper   red  large    4       6\n",
              "6  paper   red  small    5       8\n",
              "7  paper  blue  small    6       9\n",
              "8  paper  blue  large    7       9"
            ],
            "text/html": [
              "\n",
              "  <div id=\"df-466a6129-3a7f-4de2-b0ac-3cbe6655d9ec\">\n",
              "    <div class=\"colab-df-container\">\n",
              "      <div>\n",
              "<style scoped>\n",
              "    .dataframe tbody tr th:only-of-type {\n",
              "        vertical-align: middle;\n",
              "    }\n",
              "\n",
              "    .dataframe tbody tr th {\n",
              "        vertical-align: top;\n",
              "    }\n",
              "\n",
              "    .dataframe thead th {\n",
              "        text-align: right;\n",
              "    }\n",
              "</style>\n",
              "<table border=\"1\" class=\"dataframe\">\n",
              "  <thead>\n",
              "    <tr style=\"text-align: right;\">\n",
              "      <th></th>\n",
              "      <th>Box</th>\n",
              "      <th>Color</th>\n",
              "      <th>Size</th>\n",
              "      <th>Qty</th>\n",
              "      <th>Weigth</th>\n",
              "    </tr>\n",
              "  </thead>\n",
              "  <tbody>\n",
              "    <tr>\n",
              "      <th>0</th>\n",
              "      <td>wood</td>\n",
              "      <td>red</td>\n",
              "      <td>small</td>\n",
              "      <td>1</td>\n",
              "      <td>2</td>\n",
              "    </tr>\n",
              "    <tr>\n",
              "      <th>1</th>\n",
              "      <td>wood</td>\n",
              "      <td>red</td>\n",
              "      <td>large</td>\n",
              "      <td>2</td>\n",
              "      <td>4</td>\n",
              "    </tr>\n",
              "    <tr>\n",
              "      <th>2</th>\n",
              "      <td>wood</td>\n",
              "      <td>red</td>\n",
              "      <td>large</td>\n",
              "      <td>2</td>\n",
              "      <td>5</td>\n",
              "    </tr>\n",
              "    <tr>\n",
              "      <th>3</th>\n",
              "      <td>wood</td>\n",
              "      <td>blue</td>\n",
              "      <td>small</td>\n",
              "      <td>3</td>\n",
              "      <td>5</td>\n",
              "    </tr>\n",
              "    <tr>\n",
              "      <th>4</th>\n",
              "      <td>wood</td>\n",
              "      <td>blue</td>\n",
              "      <td>small</td>\n",
              "      <td>3</td>\n",
              "      <td>6</td>\n",
              "    </tr>\n",
              "    <tr>\n",
              "      <th>5</th>\n",
              "      <td>paper</td>\n",
              "      <td>red</td>\n",
              "      <td>large</td>\n",
              "      <td>4</td>\n",
              "      <td>6</td>\n",
              "    </tr>\n",
              "    <tr>\n",
              "      <th>6</th>\n",
              "      <td>paper</td>\n",
              "      <td>red</td>\n",
              "      <td>small</td>\n",
              "      <td>5</td>\n",
              "      <td>8</td>\n",
              "    </tr>\n",
              "    <tr>\n",
              "      <th>7</th>\n",
              "      <td>paper</td>\n",
              "      <td>blue</td>\n",
              "      <td>small</td>\n",
              "      <td>6</td>\n",
              "      <td>9</td>\n",
              "    </tr>\n",
              "    <tr>\n",
              "      <th>8</th>\n",
              "      <td>paper</td>\n",
              "      <td>blue</td>\n",
              "      <td>large</td>\n",
              "      <td>7</td>\n",
              "      <td>9</td>\n",
              "    </tr>\n",
              "  </tbody>\n",
              "</table>\n",
              "</div>\n",
              "      <button class=\"colab-df-convert\" onclick=\"convertToInteractive('df-466a6129-3a7f-4de2-b0ac-3cbe6655d9ec')\"\n",
              "              title=\"Convert this dataframe to an interactive table.\"\n",
              "              style=\"display:none;\">\n",
              "        \n",
              "  <svg xmlns=\"http://www.w3.org/2000/svg\" height=\"24px\"viewBox=\"0 0 24 24\"\n",
              "       width=\"24px\">\n",
              "    <path d=\"M0 0h24v24H0V0z\" fill=\"none\"/>\n",
              "    <path d=\"M18.56 5.44l.94 2.06.94-2.06 2.06-.94-2.06-.94-.94-2.06-.94 2.06-2.06.94zm-11 1L8.5 8.5l.94-2.06 2.06-.94-2.06-.94L8.5 2.5l-.94 2.06-2.06.94zm10 10l.94 2.06.94-2.06 2.06-.94-2.06-.94-.94-2.06-.94 2.06-2.06.94z\"/><path d=\"M17.41 7.96l-1.37-1.37c-.4-.4-.92-.59-1.43-.59-.52 0-1.04.2-1.43.59L10.3 9.45l-7.72 7.72c-.78.78-.78 2.05 0 2.83L4 21.41c.39.39.9.59 1.41.59.51 0 1.02-.2 1.41-.59l7.78-7.78 2.81-2.81c.8-.78.8-2.07 0-2.86zM5.41 20L4 18.59l7.72-7.72 1.47 1.35L5.41 20z\"/>\n",
              "  </svg>\n",
              "      </button>\n",
              "      \n",
              "  <style>\n",
              "    .colab-df-container {\n",
              "      display:flex;\n",
              "      flex-wrap:wrap;\n",
              "      gap: 12px;\n",
              "    }\n",
              "\n",
              "    .colab-df-convert {\n",
              "      background-color: #E8F0FE;\n",
              "      border: none;\n",
              "      border-radius: 50%;\n",
              "      cursor: pointer;\n",
              "      display: none;\n",
              "      fill: #1967D2;\n",
              "      height: 32px;\n",
              "      padding: 0 0 0 0;\n",
              "      width: 32px;\n",
              "    }\n",
              "\n",
              "    .colab-df-convert:hover {\n",
              "      background-color: #E2EBFA;\n",
              "      box-shadow: 0px 1px 2px rgba(60, 64, 67, 0.3), 0px 1px 3px 1px rgba(60, 64, 67, 0.15);\n",
              "      fill: #174EA6;\n",
              "    }\n",
              "\n",
              "    [theme=dark] .colab-df-convert {\n",
              "      background-color: #3B4455;\n",
              "      fill: #D2E3FC;\n",
              "    }\n",
              "\n",
              "    [theme=dark] .colab-df-convert:hover {\n",
              "      background-color: #434B5C;\n",
              "      box-shadow: 0px 1px 3px 1px rgba(0, 0, 0, 0.15);\n",
              "      filter: drop-shadow(0px 1px 2px rgba(0, 0, 0, 0.3));\n",
              "      fill: #FFFFFF;\n",
              "    }\n",
              "  </style>\n",
              "\n",
              "      <script>\n",
              "        const buttonEl =\n",
              "          document.querySelector('#df-466a6129-3a7f-4de2-b0ac-3cbe6655d9ec button.colab-df-convert');\n",
              "        buttonEl.style.display =\n",
              "          google.colab.kernel.accessAllowed ? 'block' : 'none';\n",
              "\n",
              "        async function convertToInteractive(key) {\n",
              "          const element = document.querySelector('#df-466a6129-3a7f-4de2-b0ac-3cbe6655d9ec');\n",
              "          const dataTable =\n",
              "            await google.colab.kernel.invokeFunction('convertToInteractive',\n",
              "                                                     [key], {});\n",
              "          if (!dataTable) return;\n",
              "\n",
              "          const docLinkHtml = 'Like what you see? Visit the ' +\n",
              "            '<a target=\"_blank\" href=https://colab.research.google.com/notebooks/data_table.ipynb>data table notebook</a>'\n",
              "            + ' to learn more about interactive tables.';\n",
              "          element.innerHTML = '';\n",
              "          dataTable['output_type'] = 'display_data';\n",
              "          await google.colab.output.renderOutput(dataTable, element);\n",
              "          const docLink = document.createElement('div');\n",
              "          docLink.innerHTML = docLinkHtml;\n",
              "          element.appendChild(docLink);\n",
              "        }\n",
              "      </script>\n",
              "    </div>\n",
              "  </div>\n",
              "  "
            ]
          },
          "metadata": {},
          "execution_count": 236
        }
      ],
      "source": [
        "# create a table that contains data about some packaging\n",
        "\n",
        "# the Box can be of wood or paper\n",
        "# in colors red or blue\n",
        "# of size small or large\n",
        "# with thier respective quantity and weight\n",
        "\n",
        "table = pd.DataFrame({\"Box\": [\"wood\", \"wood\", \"wood\", \"wood\", \"wood\",\n",
        "                         \"paper\", \"paper\", \"paper\", \"paper\"],\n",
        "                   \"Color\": [\"red\", \"red\", \"red\", \"blue\", \"blue\",\n",
        "                         \"red\", \"red\", \"blue\", \"blue\"],\n",
        "                   \"Size\": [\"small\", \"large\", \"large\", \"small\",\n",
        "                         \"small\", \"large\", \"small\", \"small\",\n",
        "                         \"large\"],\n",
        "                   \"Qty\": [1, 2, 2, 3, 3, 4, 5, 6, 7],\n",
        "                   \"Weigth\": [2, 4, 5, 5, 6, 6, 8, 9, 9]})\n",
        "\n",
        "print('the dataframe we will want to pivot..')\n",
        "print('')\n",
        "table"
      ]
    },
    {
      "cell_type": "code",
      "source": [
        "# import numpy module that help to work with numerical datatypes\n",
        "\n",
        "import numpy as np"
      ],
      "metadata": {
        "id": "uQCkFye9_Rrn"
      },
      "execution_count": 237,
      "outputs": []
    },
    {
      "cell_type": "markdown",
      "source": [
        "MOre about numpy package https://numpy.org/"
      ],
      "metadata": {
        "id": "Fsil3Mql_SZ5"
      }
    },
    {
      "cell_type": "code",
      "execution_count": 238,
      "metadata": {
        "id": "fI5V4JMQfC_O",
        "colab": {
          "base_uri": "https://localhost:8080/",
          "height": 206
        },
        "outputId": "46c7c5bf-9c92-4226-bf64-548712be610c"
      },
      "outputs": [
        {
          "output_type": "execute_result",
          "data": {
            "text/plain": [
              "Size         large  small\n",
              "Box   Color              \n",
              "paper blue     7.0    6.0\n",
              "      red      4.0    5.0\n",
              "wood  blue     NaN    6.0\n",
              "      red      4.0    1.0"
            ],
            "text/html": [
              "\n",
              "  <div id=\"df-1b24214d-3cb6-448a-b4aa-a9a3de1f1656\">\n",
              "    <div class=\"colab-df-container\">\n",
              "      <div>\n",
              "<style scoped>\n",
              "    .dataframe tbody tr th:only-of-type {\n",
              "        vertical-align: middle;\n",
              "    }\n",
              "\n",
              "    .dataframe tbody tr th {\n",
              "        vertical-align: top;\n",
              "    }\n",
              "\n",
              "    .dataframe thead th {\n",
              "        text-align: right;\n",
              "    }\n",
              "</style>\n",
              "<table border=\"1\" class=\"dataframe\">\n",
              "  <thead>\n",
              "    <tr style=\"text-align: right;\">\n",
              "      <th></th>\n",
              "      <th>Size</th>\n",
              "      <th>large</th>\n",
              "      <th>small</th>\n",
              "    </tr>\n",
              "    <tr>\n",
              "      <th>Box</th>\n",
              "      <th>Color</th>\n",
              "      <th></th>\n",
              "      <th></th>\n",
              "    </tr>\n",
              "  </thead>\n",
              "  <tbody>\n",
              "    <tr>\n",
              "      <th rowspan=\"2\" valign=\"top\">paper</th>\n",
              "      <th>blue</th>\n",
              "      <td>7.0</td>\n",
              "      <td>6.0</td>\n",
              "    </tr>\n",
              "    <tr>\n",
              "      <th>red</th>\n",
              "      <td>4.0</td>\n",
              "      <td>5.0</td>\n",
              "    </tr>\n",
              "    <tr>\n",
              "      <th rowspan=\"2\" valign=\"top\">wood</th>\n",
              "      <th>blue</th>\n",
              "      <td>NaN</td>\n",
              "      <td>6.0</td>\n",
              "    </tr>\n",
              "    <tr>\n",
              "      <th>red</th>\n",
              "      <td>4.0</td>\n",
              "      <td>1.0</td>\n",
              "    </tr>\n",
              "  </tbody>\n",
              "</table>\n",
              "</div>\n",
              "      <button class=\"colab-df-convert\" onclick=\"convertToInteractive('df-1b24214d-3cb6-448a-b4aa-a9a3de1f1656')\"\n",
              "              title=\"Convert this dataframe to an interactive table.\"\n",
              "              style=\"display:none;\">\n",
              "        \n",
              "  <svg xmlns=\"http://www.w3.org/2000/svg\" height=\"24px\"viewBox=\"0 0 24 24\"\n",
              "       width=\"24px\">\n",
              "    <path d=\"M0 0h24v24H0V0z\" fill=\"none\"/>\n",
              "    <path d=\"M18.56 5.44l.94 2.06.94-2.06 2.06-.94-2.06-.94-.94-2.06-.94 2.06-2.06.94zm-11 1L8.5 8.5l.94-2.06 2.06-.94-2.06-.94L8.5 2.5l-.94 2.06-2.06.94zm10 10l.94 2.06.94-2.06 2.06-.94-2.06-.94-.94-2.06-.94 2.06-2.06.94z\"/><path d=\"M17.41 7.96l-1.37-1.37c-.4-.4-.92-.59-1.43-.59-.52 0-1.04.2-1.43.59L10.3 9.45l-7.72 7.72c-.78.78-.78 2.05 0 2.83L4 21.41c.39.39.9.59 1.41.59.51 0 1.02-.2 1.41-.59l7.78-7.78 2.81-2.81c.8-.78.8-2.07 0-2.86zM5.41 20L4 18.59l7.72-7.72 1.47 1.35L5.41 20z\"/>\n",
              "  </svg>\n",
              "      </button>\n",
              "      \n",
              "  <style>\n",
              "    .colab-df-container {\n",
              "      display:flex;\n",
              "      flex-wrap:wrap;\n",
              "      gap: 12px;\n",
              "    }\n",
              "\n",
              "    .colab-df-convert {\n",
              "      background-color: #E8F0FE;\n",
              "      border: none;\n",
              "      border-radius: 50%;\n",
              "      cursor: pointer;\n",
              "      display: none;\n",
              "      fill: #1967D2;\n",
              "      height: 32px;\n",
              "      padding: 0 0 0 0;\n",
              "      width: 32px;\n",
              "    }\n",
              "\n",
              "    .colab-df-convert:hover {\n",
              "      background-color: #E2EBFA;\n",
              "      box-shadow: 0px 1px 2px rgba(60, 64, 67, 0.3), 0px 1px 3px 1px rgba(60, 64, 67, 0.15);\n",
              "      fill: #174EA6;\n",
              "    }\n",
              "\n",
              "    [theme=dark] .colab-df-convert {\n",
              "      background-color: #3B4455;\n",
              "      fill: #D2E3FC;\n",
              "    }\n",
              "\n",
              "    [theme=dark] .colab-df-convert:hover {\n",
              "      background-color: #434B5C;\n",
              "      box-shadow: 0px 1px 3px 1px rgba(0, 0, 0, 0.15);\n",
              "      filter: drop-shadow(0px 1px 2px rgba(0, 0, 0, 0.3));\n",
              "      fill: #FFFFFF;\n",
              "    }\n",
              "  </style>\n",
              "\n",
              "      <script>\n",
              "        const buttonEl =\n",
              "          document.querySelector('#df-1b24214d-3cb6-448a-b4aa-a9a3de1f1656 button.colab-df-convert');\n",
              "        buttonEl.style.display =\n",
              "          google.colab.kernel.accessAllowed ? 'block' : 'none';\n",
              "\n",
              "        async function convertToInteractive(key) {\n",
              "          const element = document.querySelector('#df-1b24214d-3cb6-448a-b4aa-a9a3de1f1656');\n",
              "          const dataTable =\n",
              "            await google.colab.kernel.invokeFunction('convertToInteractive',\n",
              "                                                     [key], {});\n",
              "          if (!dataTable) return;\n",
              "\n",
              "          const docLinkHtml = 'Like what you see? Visit the ' +\n",
              "            '<a target=\"_blank\" href=https://colab.research.google.com/notebooks/data_table.ipynb>data table notebook</a>'\n",
              "            + ' to learn more about interactive tables.';\n",
              "          element.innerHTML = '';\n",
              "          dataTable['output_type'] = 'display_data';\n",
              "          await google.colab.output.renderOutput(dataTable, element);\n",
              "          const docLink = document.createElement('div');\n",
              "          docLink.innerHTML = docLinkHtml;\n",
              "          element.appendChild(docLink);\n",
              "        }\n",
              "      </script>\n",
              "    </div>\n",
              "  </div>\n",
              "  "
            ]
          },
          "metadata": {},
          "execution_count": 238
        }
      ],
      "source": [
        "# pivot table dataframe, to get the sum of Qty by Box and Color (rows), and split by Size (columns)\n",
        "\n",
        "pivot = pd.pivot_table(table, # data to pivot\n",
        "                       index=['Box', 'Color'], # Grouper, Keys to group by on the pivot table index.\n",
        "                       columns=['Size'], # Keys to group by on the pivot table column., will be the columns value\n",
        "                       values='Qty', # column to aggregate\n",
        "                       aggfunc= np.sum)# the aggregation function is the sum ==> np.sum (we will use sum function from numpy package)\n",
        "\n",
        "pivot"
      ]
    },
    {
      "cell_type": "markdown",
      "source": [
        "## DataFrame Practice ***"
      ],
      "metadata": {
        "id": "GimcEwZddelu"
      }
    },
    {
      "cell_type": "markdown",
      "source": [
        "### Assignment 1"
      ],
      "metadata": {
        "id": "_-nzzLzH5EkI"
      }
    },
    {
      "cell_type": "code",
      "source": [
        "# create a variable called \"data\" with a dictionnary (*** with {} syntax ***) and print it out\n",
        "\n",
        "# 1s key:value pair : 'Name':['Jai', 'Princi', 'Gaurav', 'Anuj']\n",
        "# 2nd key:value pair : 'Age':[27, 24, 22, 32]\n",
        "# 3rd key:value pair : 'Address':['Delhi', 'Kanpur', 'Kanpur', 'Delhi']\n",
        "# 4th key:value pair : 'Country': ['India', 'India', 'India', 'India']\n",
        "# 5th key;value pair : 'Qualification':['Phd', 'MA', 'MCA', 'Phd']\n",
        "\n",
        "# your code here...\n",
        "\n",
        "data = {'Name':['Jai', 'Princi', 'Gaurav', 'Anuj'],\n",
        "        'Age':[27, 24, 22, 32],\n",
        "        'Address':['Delhi', 'Kanpur', 'Kanpur', 'Delhi'],\n",
        "        'Country': ['India', 'India', 'India', 'India'],\n",
        "        'Qualification':['Phd', 'MA', 'MCA', 'Phd']}\n",
        "data\n",
        "\n"
      ],
      "metadata": {
        "id": "Ck2SCc3FKggz",
        "colab": {
          "base_uri": "https://localhost:8080/"
        },
        "outputId": "0bc2627b-6800-419f-fdd2-25d659aead0c"
      },
      "execution_count": 239,
      "outputs": [
        {
          "output_type": "execute_result",
          "data": {
            "text/plain": [
              "{'Name': ['Jai', 'Princi', 'Gaurav', 'Anuj'],\n",
              " 'Age': [27, 24, 22, 32],\n",
              " 'Address': ['Delhi', 'Kanpur', 'Kanpur', 'Delhi'],\n",
              " 'Country': ['India', 'India', 'India', 'India'],\n",
              " 'Qualification': ['Phd', 'MA', 'MCA', 'Phd']}"
            ]
          },
          "metadata": {},
          "execution_count": 239
        }
      ]
    },
    {
      "cell_type": "code",
      "source": [
        "#@title Display Solution 1\n",
        "\n",
        "# Define a dictionary containing employee data\n",
        "data = {'Name':['Jai', 'Princi', 'Gaurav', 'Anuj'],\n",
        "        'Age':[27, 24, 22, 32],\n",
        "        'Address':['Delhi', 'Kanpur', 'Kanpur', 'Delhi'],\n",
        "        'Country': ['India', 'India', 'India', 'India'],\n",
        "        'Qualification':['Phd', 'MA', 'MCA', 'Phd']}\n",
        "\n",
        "data"
      ],
      "metadata": {
        "id": "hbVjzUCsKuHQ",
        "cellView": "form",
        "colab": {
          "base_uri": "https://localhost:8080/"
        },
        "outputId": "62aefe37-ab4a-4d7d-928e-24d6fac9fe4b"
      },
      "execution_count": 240,
      "outputs": [
        {
          "output_type": "execute_result",
          "data": {
            "text/plain": [
              "{'Name': ['Jai', 'Princi', 'Gaurav', 'Anuj'],\n",
              " 'Age': [27, 24, 22, 32],\n",
              " 'Address': ['Delhi', 'Kanpur', 'Kanpur', 'Delhi'],\n",
              " 'Country': ['India', 'India', 'India', 'India'],\n",
              " 'Qualification': ['Phd', 'MA', 'MCA', 'Phd']}"
            ]
          },
          "metadata": {},
          "execution_count": 240
        }
      ]
    },
    {
      "cell_type": "markdown",
      "source": [
        "### Assignment 2"
      ],
      "metadata": {
        "id": "zT4HdbHp5G4a"
      }
    },
    {
      "cell_type": "code",
      "source": [
        "# create a dataframe 'df1' from dictionary \"data\"\n",
        "\n",
        "# don't forget to import pandas package as pd \n",
        "\n",
        "# import pandas as pd\n",
        "\n",
        "# display the dataframe\n",
        "\n",
        "# your code here ...\n",
        "\n",
        "import pandas as pd\n",
        "df1 = pd.DataFrame(data)\n",
        "df1\n",
        "\n"
      ],
      "metadata": {
        "id": "5JNrb-5DLiyY",
        "colab": {
          "base_uri": "https://localhost:8080/",
          "height": 175
        },
        "outputId": "5cd89084-8aca-4763-8f9c-32764367bcdc"
      },
      "execution_count": 241,
      "outputs": [
        {
          "output_type": "execute_result",
          "data": {
            "text/plain": [
              "     Name  Age Address Country Qualification\n",
              "0     Jai   27   Delhi   India           Phd\n",
              "1  Princi   24  Kanpur   India            MA\n",
              "2  Gaurav   22  Kanpur   India           MCA\n",
              "3    Anuj   32   Delhi   India           Phd"
            ],
            "text/html": [
              "\n",
              "  <div id=\"df-ecbb0af7-adc2-45df-a968-cf7ea084dd69\">\n",
              "    <div class=\"colab-df-container\">\n",
              "      <div>\n",
              "<style scoped>\n",
              "    .dataframe tbody tr th:only-of-type {\n",
              "        vertical-align: middle;\n",
              "    }\n",
              "\n",
              "    .dataframe tbody tr th {\n",
              "        vertical-align: top;\n",
              "    }\n",
              "\n",
              "    .dataframe thead th {\n",
              "        text-align: right;\n",
              "    }\n",
              "</style>\n",
              "<table border=\"1\" class=\"dataframe\">\n",
              "  <thead>\n",
              "    <tr style=\"text-align: right;\">\n",
              "      <th></th>\n",
              "      <th>Name</th>\n",
              "      <th>Age</th>\n",
              "      <th>Address</th>\n",
              "      <th>Country</th>\n",
              "      <th>Qualification</th>\n",
              "    </tr>\n",
              "  </thead>\n",
              "  <tbody>\n",
              "    <tr>\n",
              "      <th>0</th>\n",
              "      <td>Jai</td>\n",
              "      <td>27</td>\n",
              "      <td>Delhi</td>\n",
              "      <td>India</td>\n",
              "      <td>Phd</td>\n",
              "    </tr>\n",
              "    <tr>\n",
              "      <th>1</th>\n",
              "      <td>Princi</td>\n",
              "      <td>24</td>\n",
              "      <td>Kanpur</td>\n",
              "      <td>India</td>\n",
              "      <td>MA</td>\n",
              "    </tr>\n",
              "    <tr>\n",
              "      <th>2</th>\n",
              "      <td>Gaurav</td>\n",
              "      <td>22</td>\n",
              "      <td>Kanpur</td>\n",
              "      <td>India</td>\n",
              "      <td>MCA</td>\n",
              "    </tr>\n",
              "    <tr>\n",
              "      <th>3</th>\n",
              "      <td>Anuj</td>\n",
              "      <td>32</td>\n",
              "      <td>Delhi</td>\n",
              "      <td>India</td>\n",
              "      <td>Phd</td>\n",
              "    </tr>\n",
              "  </tbody>\n",
              "</table>\n",
              "</div>\n",
              "      <button class=\"colab-df-convert\" onclick=\"convertToInteractive('df-ecbb0af7-adc2-45df-a968-cf7ea084dd69')\"\n",
              "              title=\"Convert this dataframe to an interactive table.\"\n",
              "              style=\"display:none;\">\n",
              "        \n",
              "  <svg xmlns=\"http://www.w3.org/2000/svg\" height=\"24px\"viewBox=\"0 0 24 24\"\n",
              "       width=\"24px\">\n",
              "    <path d=\"M0 0h24v24H0V0z\" fill=\"none\"/>\n",
              "    <path d=\"M18.56 5.44l.94 2.06.94-2.06 2.06-.94-2.06-.94-.94-2.06-.94 2.06-2.06.94zm-11 1L8.5 8.5l.94-2.06 2.06-.94-2.06-.94L8.5 2.5l-.94 2.06-2.06.94zm10 10l.94 2.06.94-2.06 2.06-.94-2.06-.94-.94-2.06-.94 2.06-2.06.94z\"/><path d=\"M17.41 7.96l-1.37-1.37c-.4-.4-.92-.59-1.43-.59-.52 0-1.04.2-1.43.59L10.3 9.45l-7.72 7.72c-.78.78-.78 2.05 0 2.83L4 21.41c.39.39.9.59 1.41.59.51 0 1.02-.2 1.41-.59l7.78-7.78 2.81-2.81c.8-.78.8-2.07 0-2.86zM5.41 20L4 18.59l7.72-7.72 1.47 1.35L5.41 20z\"/>\n",
              "  </svg>\n",
              "      </button>\n",
              "      \n",
              "  <style>\n",
              "    .colab-df-container {\n",
              "      display:flex;\n",
              "      flex-wrap:wrap;\n",
              "      gap: 12px;\n",
              "    }\n",
              "\n",
              "    .colab-df-convert {\n",
              "      background-color: #E8F0FE;\n",
              "      border: none;\n",
              "      border-radius: 50%;\n",
              "      cursor: pointer;\n",
              "      display: none;\n",
              "      fill: #1967D2;\n",
              "      height: 32px;\n",
              "      padding: 0 0 0 0;\n",
              "      width: 32px;\n",
              "    }\n",
              "\n",
              "    .colab-df-convert:hover {\n",
              "      background-color: #E2EBFA;\n",
              "      box-shadow: 0px 1px 2px rgba(60, 64, 67, 0.3), 0px 1px 3px 1px rgba(60, 64, 67, 0.15);\n",
              "      fill: #174EA6;\n",
              "    }\n",
              "\n",
              "    [theme=dark] .colab-df-convert {\n",
              "      background-color: #3B4455;\n",
              "      fill: #D2E3FC;\n",
              "    }\n",
              "\n",
              "    [theme=dark] .colab-df-convert:hover {\n",
              "      background-color: #434B5C;\n",
              "      box-shadow: 0px 1px 3px 1px rgba(0, 0, 0, 0.15);\n",
              "      filter: drop-shadow(0px 1px 2px rgba(0, 0, 0, 0.3));\n",
              "      fill: #FFFFFF;\n",
              "    }\n",
              "  </style>\n",
              "\n",
              "      <script>\n",
              "        const buttonEl =\n",
              "          document.querySelector('#df-ecbb0af7-adc2-45df-a968-cf7ea084dd69 button.colab-df-convert');\n",
              "        buttonEl.style.display =\n",
              "          google.colab.kernel.accessAllowed ? 'block' : 'none';\n",
              "\n",
              "        async function convertToInteractive(key) {\n",
              "          const element = document.querySelector('#df-ecbb0af7-adc2-45df-a968-cf7ea084dd69');\n",
              "          const dataTable =\n",
              "            await google.colab.kernel.invokeFunction('convertToInteractive',\n",
              "                                                     [key], {});\n",
              "          if (!dataTable) return;\n",
              "\n",
              "          const docLinkHtml = 'Like what you see? Visit the ' +\n",
              "            '<a target=\"_blank\" href=https://colab.research.google.com/notebooks/data_table.ipynb>data table notebook</a>'\n",
              "            + ' to learn more about interactive tables.';\n",
              "          element.innerHTML = '';\n",
              "          dataTable['output_type'] = 'display_data';\n",
              "          await google.colab.output.renderOutput(dataTable, element);\n",
              "          const docLink = document.createElement('div');\n",
              "          docLink.innerHTML = docLinkHtml;\n",
              "          element.appendChild(docLink);\n",
              "        }\n",
              "      </script>\n",
              "    </div>\n",
              "  </div>\n",
              "  "
            ]
          },
          "metadata": {},
          "execution_count": 241
        }
      ]
    },
    {
      "cell_type": "code",
      "source": [
        "#@title Display solution 2\n",
        "\n",
        "import pandas as pd\n",
        "\n",
        "# Convert the dictionary into DataFrame and call it df1\n",
        "df1 = pd.DataFrame(data)\n",
        "\n",
        "df1"
      ],
      "metadata": {
        "id": "XVUjwFTmLkuJ",
        "colab": {
          "base_uri": "https://localhost:8080/",
          "height": 175
        },
        "outputId": "ce137a6b-5928-43fc-df4e-a6d4080125d4"
      },
      "execution_count": 243,
      "outputs": [
        {
          "output_type": "execute_result",
          "data": {
            "text/plain": [
              "     Name  Age Address Country Qualification\n",
              "0     Jai   27   Delhi   India           Phd\n",
              "1  Princi   24  Kanpur   India            MA\n",
              "2  Gaurav   22  Kanpur   India           MCA\n",
              "3    Anuj   32   Delhi   India           Phd"
            ],
            "text/html": [
              "\n",
              "  <div id=\"df-3587e902-805e-4616-b6a6-5f16a73e2f39\">\n",
              "    <div class=\"colab-df-container\">\n",
              "      <div>\n",
              "<style scoped>\n",
              "    .dataframe tbody tr th:only-of-type {\n",
              "        vertical-align: middle;\n",
              "    }\n",
              "\n",
              "    .dataframe tbody tr th {\n",
              "        vertical-align: top;\n",
              "    }\n",
              "\n",
              "    .dataframe thead th {\n",
              "        text-align: right;\n",
              "    }\n",
              "</style>\n",
              "<table border=\"1\" class=\"dataframe\">\n",
              "  <thead>\n",
              "    <tr style=\"text-align: right;\">\n",
              "      <th></th>\n",
              "      <th>Name</th>\n",
              "      <th>Age</th>\n",
              "      <th>Address</th>\n",
              "      <th>Country</th>\n",
              "      <th>Qualification</th>\n",
              "    </tr>\n",
              "  </thead>\n",
              "  <tbody>\n",
              "    <tr>\n",
              "      <th>0</th>\n",
              "      <td>Jai</td>\n",
              "      <td>27</td>\n",
              "      <td>Delhi</td>\n",
              "      <td>India</td>\n",
              "      <td>Phd</td>\n",
              "    </tr>\n",
              "    <tr>\n",
              "      <th>1</th>\n",
              "      <td>Princi</td>\n",
              "      <td>24</td>\n",
              "      <td>Kanpur</td>\n",
              "      <td>India</td>\n",
              "      <td>MA</td>\n",
              "    </tr>\n",
              "    <tr>\n",
              "      <th>2</th>\n",
              "      <td>Gaurav</td>\n",
              "      <td>22</td>\n",
              "      <td>Kanpur</td>\n",
              "      <td>India</td>\n",
              "      <td>MCA</td>\n",
              "    </tr>\n",
              "    <tr>\n",
              "      <th>3</th>\n",
              "      <td>Anuj</td>\n",
              "      <td>32</td>\n",
              "      <td>Delhi</td>\n",
              "      <td>India</td>\n",
              "      <td>Phd</td>\n",
              "    </tr>\n",
              "  </tbody>\n",
              "</table>\n",
              "</div>\n",
              "      <button class=\"colab-df-convert\" onclick=\"convertToInteractive('df-3587e902-805e-4616-b6a6-5f16a73e2f39')\"\n",
              "              title=\"Convert this dataframe to an interactive table.\"\n",
              "              style=\"display:none;\">\n",
              "        \n",
              "  <svg xmlns=\"http://www.w3.org/2000/svg\" height=\"24px\"viewBox=\"0 0 24 24\"\n",
              "       width=\"24px\">\n",
              "    <path d=\"M0 0h24v24H0V0z\" fill=\"none\"/>\n",
              "    <path d=\"M18.56 5.44l.94 2.06.94-2.06 2.06-.94-2.06-.94-.94-2.06-.94 2.06-2.06.94zm-11 1L8.5 8.5l.94-2.06 2.06-.94-2.06-.94L8.5 2.5l-.94 2.06-2.06.94zm10 10l.94 2.06.94-2.06 2.06-.94-2.06-.94-.94-2.06-.94 2.06-2.06.94z\"/><path d=\"M17.41 7.96l-1.37-1.37c-.4-.4-.92-.59-1.43-.59-.52 0-1.04.2-1.43.59L10.3 9.45l-7.72 7.72c-.78.78-.78 2.05 0 2.83L4 21.41c.39.39.9.59 1.41.59.51 0 1.02-.2 1.41-.59l7.78-7.78 2.81-2.81c.8-.78.8-2.07 0-2.86zM5.41 20L4 18.59l7.72-7.72 1.47 1.35L5.41 20z\"/>\n",
              "  </svg>\n",
              "      </button>\n",
              "      \n",
              "  <style>\n",
              "    .colab-df-container {\n",
              "      display:flex;\n",
              "      flex-wrap:wrap;\n",
              "      gap: 12px;\n",
              "    }\n",
              "\n",
              "    .colab-df-convert {\n",
              "      background-color: #E8F0FE;\n",
              "      border: none;\n",
              "      border-radius: 50%;\n",
              "      cursor: pointer;\n",
              "      display: none;\n",
              "      fill: #1967D2;\n",
              "      height: 32px;\n",
              "      padding: 0 0 0 0;\n",
              "      width: 32px;\n",
              "    }\n",
              "\n",
              "    .colab-df-convert:hover {\n",
              "      background-color: #E2EBFA;\n",
              "      box-shadow: 0px 1px 2px rgba(60, 64, 67, 0.3), 0px 1px 3px 1px rgba(60, 64, 67, 0.15);\n",
              "      fill: #174EA6;\n",
              "    }\n",
              "\n",
              "    [theme=dark] .colab-df-convert {\n",
              "      background-color: #3B4455;\n",
              "      fill: #D2E3FC;\n",
              "    }\n",
              "\n",
              "    [theme=dark] .colab-df-convert:hover {\n",
              "      background-color: #434B5C;\n",
              "      box-shadow: 0px 1px 3px 1px rgba(0, 0, 0, 0.15);\n",
              "      filter: drop-shadow(0px 1px 2px rgba(0, 0, 0, 0.3));\n",
              "      fill: #FFFFFF;\n",
              "    }\n",
              "  </style>\n",
              "\n",
              "      <script>\n",
              "        const buttonEl =\n",
              "          document.querySelector('#df-3587e902-805e-4616-b6a6-5f16a73e2f39 button.colab-df-convert');\n",
              "        buttonEl.style.display =\n",
              "          google.colab.kernel.accessAllowed ? 'block' : 'none';\n",
              "\n",
              "        async function convertToInteractive(key) {\n",
              "          const element = document.querySelector('#df-3587e902-805e-4616-b6a6-5f16a73e2f39');\n",
              "          const dataTable =\n",
              "            await google.colab.kernel.invokeFunction('convertToInteractive',\n",
              "                                                     [key], {});\n",
              "          if (!dataTable) return;\n",
              "\n",
              "          const docLinkHtml = 'Like what you see? Visit the ' +\n",
              "            '<a target=\"_blank\" href=https://colab.research.google.com/notebooks/data_table.ipynb>data table notebook</a>'\n",
              "            + ' to learn more about interactive tables.';\n",
              "          element.innerHTML = '';\n",
              "          dataTable['output_type'] = 'display_data';\n",
              "          await google.colab.output.renderOutput(dataTable, element);\n",
              "          const docLink = document.createElement('div');\n",
              "          docLink.innerHTML = docLinkHtml;\n",
              "          element.appendChild(docLink);\n",
              "        }\n",
              "      </script>\n",
              "    </div>\n",
              "  </div>\n",
              "  "
            ]
          },
          "metadata": {},
          "execution_count": 243
        }
      ]
    },
    {
      "cell_type": "markdown",
      "source": [
        "### Assignment 3"
      ],
      "metadata": {
        "id": "DKH2o6lU5Jf7"
      }
    },
    {
      "cell_type": "code",
      "source": [
        "# display the first 2 rows of df1\n",
        "\n",
        "# your code here\n",
        "\n",
        "df1[:2]"
      ],
      "metadata": {
        "id": "EWYP7I17MpLW",
        "colab": {
          "base_uri": "https://localhost:8080/",
          "height": 112
        },
        "outputId": "2dd12789-ec74-4b62-86a3-0f588dfaca60"
      },
      "execution_count": 246,
      "outputs": [
        {
          "output_type": "execute_result",
          "data": {
            "text/plain": [
              "     Name  Age Address Country Qualification\n",
              "0     Jai   27   Delhi   India           Phd\n",
              "1  Princi   24  Kanpur   India            MA"
            ],
            "text/html": [
              "\n",
              "  <div id=\"df-908999bd-f766-40dc-b567-bcc860406a96\">\n",
              "    <div class=\"colab-df-container\">\n",
              "      <div>\n",
              "<style scoped>\n",
              "    .dataframe tbody tr th:only-of-type {\n",
              "        vertical-align: middle;\n",
              "    }\n",
              "\n",
              "    .dataframe tbody tr th {\n",
              "        vertical-align: top;\n",
              "    }\n",
              "\n",
              "    .dataframe thead th {\n",
              "        text-align: right;\n",
              "    }\n",
              "</style>\n",
              "<table border=\"1\" class=\"dataframe\">\n",
              "  <thead>\n",
              "    <tr style=\"text-align: right;\">\n",
              "      <th></th>\n",
              "      <th>Name</th>\n",
              "      <th>Age</th>\n",
              "      <th>Address</th>\n",
              "      <th>Country</th>\n",
              "      <th>Qualification</th>\n",
              "    </tr>\n",
              "  </thead>\n",
              "  <tbody>\n",
              "    <tr>\n",
              "      <th>0</th>\n",
              "      <td>Jai</td>\n",
              "      <td>27</td>\n",
              "      <td>Delhi</td>\n",
              "      <td>India</td>\n",
              "      <td>Phd</td>\n",
              "    </tr>\n",
              "    <tr>\n",
              "      <th>1</th>\n",
              "      <td>Princi</td>\n",
              "      <td>24</td>\n",
              "      <td>Kanpur</td>\n",
              "      <td>India</td>\n",
              "      <td>MA</td>\n",
              "    </tr>\n",
              "  </tbody>\n",
              "</table>\n",
              "</div>\n",
              "      <button class=\"colab-df-convert\" onclick=\"convertToInteractive('df-908999bd-f766-40dc-b567-bcc860406a96')\"\n",
              "              title=\"Convert this dataframe to an interactive table.\"\n",
              "              style=\"display:none;\">\n",
              "        \n",
              "  <svg xmlns=\"http://www.w3.org/2000/svg\" height=\"24px\"viewBox=\"0 0 24 24\"\n",
              "       width=\"24px\">\n",
              "    <path d=\"M0 0h24v24H0V0z\" fill=\"none\"/>\n",
              "    <path d=\"M18.56 5.44l.94 2.06.94-2.06 2.06-.94-2.06-.94-.94-2.06-.94 2.06-2.06.94zm-11 1L8.5 8.5l.94-2.06 2.06-.94-2.06-.94L8.5 2.5l-.94 2.06-2.06.94zm10 10l.94 2.06.94-2.06 2.06-.94-2.06-.94-.94-2.06-.94 2.06-2.06.94z\"/><path d=\"M17.41 7.96l-1.37-1.37c-.4-.4-.92-.59-1.43-.59-.52 0-1.04.2-1.43.59L10.3 9.45l-7.72 7.72c-.78.78-.78 2.05 0 2.83L4 21.41c.39.39.9.59 1.41.59.51 0 1.02-.2 1.41-.59l7.78-7.78 2.81-2.81c.8-.78.8-2.07 0-2.86zM5.41 20L4 18.59l7.72-7.72 1.47 1.35L5.41 20z\"/>\n",
              "  </svg>\n",
              "      </button>\n",
              "      \n",
              "  <style>\n",
              "    .colab-df-container {\n",
              "      display:flex;\n",
              "      flex-wrap:wrap;\n",
              "      gap: 12px;\n",
              "    }\n",
              "\n",
              "    .colab-df-convert {\n",
              "      background-color: #E8F0FE;\n",
              "      border: none;\n",
              "      border-radius: 50%;\n",
              "      cursor: pointer;\n",
              "      display: none;\n",
              "      fill: #1967D2;\n",
              "      height: 32px;\n",
              "      padding: 0 0 0 0;\n",
              "      width: 32px;\n",
              "    }\n",
              "\n",
              "    .colab-df-convert:hover {\n",
              "      background-color: #E2EBFA;\n",
              "      box-shadow: 0px 1px 2px rgba(60, 64, 67, 0.3), 0px 1px 3px 1px rgba(60, 64, 67, 0.15);\n",
              "      fill: #174EA6;\n",
              "    }\n",
              "\n",
              "    [theme=dark] .colab-df-convert {\n",
              "      background-color: #3B4455;\n",
              "      fill: #D2E3FC;\n",
              "    }\n",
              "\n",
              "    [theme=dark] .colab-df-convert:hover {\n",
              "      background-color: #434B5C;\n",
              "      box-shadow: 0px 1px 3px 1px rgba(0, 0, 0, 0.15);\n",
              "      filter: drop-shadow(0px 1px 2px rgba(0, 0, 0, 0.3));\n",
              "      fill: #FFFFFF;\n",
              "    }\n",
              "  </style>\n",
              "\n",
              "      <script>\n",
              "        const buttonEl =\n",
              "          document.querySelector('#df-908999bd-f766-40dc-b567-bcc860406a96 button.colab-df-convert');\n",
              "        buttonEl.style.display =\n",
              "          google.colab.kernel.accessAllowed ? 'block' : 'none';\n",
              "\n",
              "        async function convertToInteractive(key) {\n",
              "          const element = document.querySelector('#df-908999bd-f766-40dc-b567-bcc860406a96');\n",
              "          const dataTable =\n",
              "            await google.colab.kernel.invokeFunction('convertToInteractive',\n",
              "                                                     [key], {});\n",
              "          if (!dataTable) return;\n",
              "\n",
              "          const docLinkHtml = 'Like what you see? Visit the ' +\n",
              "            '<a target=\"_blank\" href=https://colab.research.google.com/notebooks/data_table.ipynb>data table notebook</a>'\n",
              "            + ' to learn more about interactive tables.';\n",
              "          element.innerHTML = '';\n",
              "          dataTable['output_type'] = 'display_data';\n",
              "          await google.colab.output.renderOutput(dataTable, element);\n",
              "          const docLink = document.createElement('div');\n",
              "          docLink.innerHTML = docLinkHtml;\n",
              "          element.appendChild(docLink);\n",
              "        }\n",
              "      </script>\n",
              "    </div>\n",
              "  </div>\n",
              "  "
            ]
          },
          "metadata": {},
          "execution_count": 246
        }
      ]
    },
    {
      "cell_type": "code",
      "source": [
        "#@title Display Solution 3\n",
        "\n",
        "# display the first 2 rows of df1\n",
        "\n",
        "df1.head(2)"
      ],
      "metadata": {
        "id": "b5OyVrxcMtIc",
        "colab": {
          "base_uri": "https://localhost:8080/",
          "height": 112
        },
        "outputId": "6b862536-191f-4fb0-a2d4-9a3b84babbc6"
      },
      "execution_count": 247,
      "outputs": [
        {
          "output_type": "execute_result",
          "data": {
            "text/plain": [
              "     Name  Age Address Country Qualification\n",
              "0     Jai   27   Delhi   India           Phd\n",
              "1  Princi   24  Kanpur   India            MA"
            ],
            "text/html": [
              "\n",
              "  <div id=\"df-a9619f3c-cbae-45ad-8d2a-86cf904108ba\">\n",
              "    <div class=\"colab-df-container\">\n",
              "      <div>\n",
              "<style scoped>\n",
              "    .dataframe tbody tr th:only-of-type {\n",
              "        vertical-align: middle;\n",
              "    }\n",
              "\n",
              "    .dataframe tbody tr th {\n",
              "        vertical-align: top;\n",
              "    }\n",
              "\n",
              "    .dataframe thead th {\n",
              "        text-align: right;\n",
              "    }\n",
              "</style>\n",
              "<table border=\"1\" class=\"dataframe\">\n",
              "  <thead>\n",
              "    <tr style=\"text-align: right;\">\n",
              "      <th></th>\n",
              "      <th>Name</th>\n",
              "      <th>Age</th>\n",
              "      <th>Address</th>\n",
              "      <th>Country</th>\n",
              "      <th>Qualification</th>\n",
              "    </tr>\n",
              "  </thead>\n",
              "  <tbody>\n",
              "    <tr>\n",
              "      <th>0</th>\n",
              "      <td>Jai</td>\n",
              "      <td>27</td>\n",
              "      <td>Delhi</td>\n",
              "      <td>India</td>\n",
              "      <td>Phd</td>\n",
              "    </tr>\n",
              "    <tr>\n",
              "      <th>1</th>\n",
              "      <td>Princi</td>\n",
              "      <td>24</td>\n",
              "      <td>Kanpur</td>\n",
              "      <td>India</td>\n",
              "      <td>MA</td>\n",
              "    </tr>\n",
              "  </tbody>\n",
              "</table>\n",
              "</div>\n",
              "      <button class=\"colab-df-convert\" onclick=\"convertToInteractive('df-a9619f3c-cbae-45ad-8d2a-86cf904108ba')\"\n",
              "              title=\"Convert this dataframe to an interactive table.\"\n",
              "              style=\"display:none;\">\n",
              "        \n",
              "  <svg xmlns=\"http://www.w3.org/2000/svg\" height=\"24px\"viewBox=\"0 0 24 24\"\n",
              "       width=\"24px\">\n",
              "    <path d=\"M0 0h24v24H0V0z\" fill=\"none\"/>\n",
              "    <path d=\"M18.56 5.44l.94 2.06.94-2.06 2.06-.94-2.06-.94-.94-2.06-.94 2.06-2.06.94zm-11 1L8.5 8.5l.94-2.06 2.06-.94-2.06-.94L8.5 2.5l-.94 2.06-2.06.94zm10 10l.94 2.06.94-2.06 2.06-.94-2.06-.94-.94-2.06-.94 2.06-2.06.94z\"/><path d=\"M17.41 7.96l-1.37-1.37c-.4-.4-.92-.59-1.43-.59-.52 0-1.04.2-1.43.59L10.3 9.45l-7.72 7.72c-.78.78-.78 2.05 0 2.83L4 21.41c.39.39.9.59 1.41.59.51 0 1.02-.2 1.41-.59l7.78-7.78 2.81-2.81c.8-.78.8-2.07 0-2.86zM5.41 20L4 18.59l7.72-7.72 1.47 1.35L5.41 20z\"/>\n",
              "  </svg>\n",
              "      </button>\n",
              "      \n",
              "  <style>\n",
              "    .colab-df-container {\n",
              "      display:flex;\n",
              "      flex-wrap:wrap;\n",
              "      gap: 12px;\n",
              "    }\n",
              "\n",
              "    .colab-df-convert {\n",
              "      background-color: #E8F0FE;\n",
              "      border: none;\n",
              "      border-radius: 50%;\n",
              "      cursor: pointer;\n",
              "      display: none;\n",
              "      fill: #1967D2;\n",
              "      height: 32px;\n",
              "      padding: 0 0 0 0;\n",
              "      width: 32px;\n",
              "    }\n",
              "\n",
              "    .colab-df-convert:hover {\n",
              "      background-color: #E2EBFA;\n",
              "      box-shadow: 0px 1px 2px rgba(60, 64, 67, 0.3), 0px 1px 3px 1px rgba(60, 64, 67, 0.15);\n",
              "      fill: #174EA6;\n",
              "    }\n",
              "\n",
              "    [theme=dark] .colab-df-convert {\n",
              "      background-color: #3B4455;\n",
              "      fill: #D2E3FC;\n",
              "    }\n",
              "\n",
              "    [theme=dark] .colab-df-convert:hover {\n",
              "      background-color: #434B5C;\n",
              "      box-shadow: 0px 1px 3px 1px rgba(0, 0, 0, 0.15);\n",
              "      filter: drop-shadow(0px 1px 2px rgba(0, 0, 0, 0.3));\n",
              "      fill: #FFFFFF;\n",
              "    }\n",
              "  </style>\n",
              "\n",
              "      <script>\n",
              "        const buttonEl =\n",
              "          document.querySelector('#df-a9619f3c-cbae-45ad-8d2a-86cf904108ba button.colab-df-convert');\n",
              "        buttonEl.style.display =\n",
              "          google.colab.kernel.accessAllowed ? 'block' : 'none';\n",
              "\n",
              "        async function convertToInteractive(key) {\n",
              "          const element = document.querySelector('#df-a9619f3c-cbae-45ad-8d2a-86cf904108ba');\n",
              "          const dataTable =\n",
              "            await google.colab.kernel.invokeFunction('convertToInteractive',\n",
              "                                                     [key], {});\n",
              "          if (!dataTable) return;\n",
              "\n",
              "          const docLinkHtml = 'Like what you see? Visit the ' +\n",
              "            '<a target=\"_blank\" href=https://colab.research.google.com/notebooks/data_table.ipynb>data table notebook</a>'\n",
              "            + ' to learn more about interactive tables.';\n",
              "          element.innerHTML = '';\n",
              "          dataTable['output_type'] = 'display_data';\n",
              "          await google.colab.output.renderOutput(dataTable, element);\n",
              "          const docLink = document.createElement('div');\n",
              "          docLink.innerHTML = docLinkHtml;\n",
              "          element.appendChild(docLink);\n",
              "        }\n",
              "      </script>\n",
              "    </div>\n",
              "  </div>\n",
              "  "
            ]
          },
          "metadata": {},
          "execution_count": 247
        }
      ]
    },
    {
      "cell_type": "markdown",
      "source": [
        "### Assignment 4"
      ],
      "metadata": {
        "id": "Y78eiOGS5MYE"
      }
    },
    {
      "cell_type": "code",
      "source": [
        "# display the last row of the df1\n",
        "\n",
        "# your code here ...\n",
        "\n",
        "df1[-1:]"
      ],
      "metadata": {
        "id": "5IMpy0KmM4vf",
        "colab": {
          "base_uri": "https://localhost:8080/",
          "height": 81
        },
        "outputId": "759f847e-b6d5-46aa-f30a-6c655dc46964"
      },
      "execution_count": 251,
      "outputs": [
        {
          "output_type": "execute_result",
          "data": {
            "text/plain": [
              "   Name  Age Address Country Qualification\n",
              "3  Anuj   32   Delhi   India           Phd"
            ],
            "text/html": [
              "\n",
              "  <div id=\"df-03a97816-51e0-4a78-b05a-2aaf5f54dadc\">\n",
              "    <div class=\"colab-df-container\">\n",
              "      <div>\n",
              "<style scoped>\n",
              "    .dataframe tbody tr th:only-of-type {\n",
              "        vertical-align: middle;\n",
              "    }\n",
              "\n",
              "    .dataframe tbody tr th {\n",
              "        vertical-align: top;\n",
              "    }\n",
              "\n",
              "    .dataframe thead th {\n",
              "        text-align: right;\n",
              "    }\n",
              "</style>\n",
              "<table border=\"1\" class=\"dataframe\">\n",
              "  <thead>\n",
              "    <tr style=\"text-align: right;\">\n",
              "      <th></th>\n",
              "      <th>Name</th>\n",
              "      <th>Age</th>\n",
              "      <th>Address</th>\n",
              "      <th>Country</th>\n",
              "      <th>Qualification</th>\n",
              "    </tr>\n",
              "  </thead>\n",
              "  <tbody>\n",
              "    <tr>\n",
              "      <th>3</th>\n",
              "      <td>Anuj</td>\n",
              "      <td>32</td>\n",
              "      <td>Delhi</td>\n",
              "      <td>India</td>\n",
              "      <td>Phd</td>\n",
              "    </tr>\n",
              "  </tbody>\n",
              "</table>\n",
              "</div>\n",
              "      <button class=\"colab-df-convert\" onclick=\"convertToInteractive('df-03a97816-51e0-4a78-b05a-2aaf5f54dadc')\"\n",
              "              title=\"Convert this dataframe to an interactive table.\"\n",
              "              style=\"display:none;\">\n",
              "        \n",
              "  <svg xmlns=\"http://www.w3.org/2000/svg\" height=\"24px\"viewBox=\"0 0 24 24\"\n",
              "       width=\"24px\">\n",
              "    <path d=\"M0 0h24v24H0V0z\" fill=\"none\"/>\n",
              "    <path d=\"M18.56 5.44l.94 2.06.94-2.06 2.06-.94-2.06-.94-.94-2.06-.94 2.06-2.06.94zm-11 1L8.5 8.5l.94-2.06 2.06-.94-2.06-.94L8.5 2.5l-.94 2.06-2.06.94zm10 10l.94 2.06.94-2.06 2.06-.94-2.06-.94-.94-2.06-.94 2.06-2.06.94z\"/><path d=\"M17.41 7.96l-1.37-1.37c-.4-.4-.92-.59-1.43-.59-.52 0-1.04.2-1.43.59L10.3 9.45l-7.72 7.72c-.78.78-.78 2.05 0 2.83L4 21.41c.39.39.9.59 1.41.59.51 0 1.02-.2 1.41-.59l7.78-7.78 2.81-2.81c.8-.78.8-2.07 0-2.86zM5.41 20L4 18.59l7.72-7.72 1.47 1.35L5.41 20z\"/>\n",
              "  </svg>\n",
              "      </button>\n",
              "      \n",
              "  <style>\n",
              "    .colab-df-container {\n",
              "      display:flex;\n",
              "      flex-wrap:wrap;\n",
              "      gap: 12px;\n",
              "    }\n",
              "\n",
              "    .colab-df-convert {\n",
              "      background-color: #E8F0FE;\n",
              "      border: none;\n",
              "      border-radius: 50%;\n",
              "      cursor: pointer;\n",
              "      display: none;\n",
              "      fill: #1967D2;\n",
              "      height: 32px;\n",
              "      padding: 0 0 0 0;\n",
              "      width: 32px;\n",
              "    }\n",
              "\n",
              "    .colab-df-convert:hover {\n",
              "      background-color: #E2EBFA;\n",
              "      box-shadow: 0px 1px 2px rgba(60, 64, 67, 0.3), 0px 1px 3px 1px rgba(60, 64, 67, 0.15);\n",
              "      fill: #174EA6;\n",
              "    }\n",
              "\n",
              "    [theme=dark] .colab-df-convert {\n",
              "      background-color: #3B4455;\n",
              "      fill: #D2E3FC;\n",
              "    }\n",
              "\n",
              "    [theme=dark] .colab-df-convert:hover {\n",
              "      background-color: #434B5C;\n",
              "      box-shadow: 0px 1px 3px 1px rgba(0, 0, 0, 0.15);\n",
              "      filter: drop-shadow(0px 1px 2px rgba(0, 0, 0, 0.3));\n",
              "      fill: #FFFFFF;\n",
              "    }\n",
              "  </style>\n",
              "\n",
              "      <script>\n",
              "        const buttonEl =\n",
              "          document.querySelector('#df-03a97816-51e0-4a78-b05a-2aaf5f54dadc button.colab-df-convert');\n",
              "        buttonEl.style.display =\n",
              "          google.colab.kernel.accessAllowed ? 'block' : 'none';\n",
              "\n",
              "        async function convertToInteractive(key) {\n",
              "          const element = document.querySelector('#df-03a97816-51e0-4a78-b05a-2aaf5f54dadc');\n",
              "          const dataTable =\n",
              "            await google.colab.kernel.invokeFunction('convertToInteractive',\n",
              "                                                     [key], {});\n",
              "          if (!dataTable) return;\n",
              "\n",
              "          const docLinkHtml = 'Like what you see? Visit the ' +\n",
              "            '<a target=\"_blank\" href=https://colab.research.google.com/notebooks/data_table.ipynb>data table notebook</a>'\n",
              "            + ' to learn more about interactive tables.';\n",
              "          element.innerHTML = '';\n",
              "          dataTable['output_type'] = 'display_data';\n",
              "          await google.colab.output.renderOutput(dataTable, element);\n",
              "          const docLink = document.createElement('div');\n",
              "          docLink.innerHTML = docLinkHtml;\n",
              "          element.appendChild(docLink);\n",
              "        }\n",
              "      </script>\n",
              "    </div>\n",
              "  </div>\n",
              "  "
            ]
          },
          "metadata": {},
          "execution_count": 251
        }
      ]
    },
    {
      "cell_type": "code",
      "source": [
        "#@title Display Solution 4\n",
        "\n",
        "df1.tail(1)"
      ],
      "metadata": {
        "id": "VUDV3miSM9Lt",
        "colab": {
          "base_uri": "https://localhost:8080/",
          "height": 81
        },
        "outputId": "6f4fce26-1e83-46cc-b948-e7befb26d8bb"
      },
      "execution_count": 252,
      "outputs": [
        {
          "output_type": "execute_result",
          "data": {
            "text/plain": [
              "   Name  Age Address Country Qualification\n",
              "3  Anuj   32   Delhi   India           Phd"
            ],
            "text/html": [
              "\n",
              "  <div id=\"df-0986d143-16bf-45ac-aea3-06f49c72ed96\">\n",
              "    <div class=\"colab-df-container\">\n",
              "      <div>\n",
              "<style scoped>\n",
              "    .dataframe tbody tr th:only-of-type {\n",
              "        vertical-align: middle;\n",
              "    }\n",
              "\n",
              "    .dataframe tbody tr th {\n",
              "        vertical-align: top;\n",
              "    }\n",
              "\n",
              "    .dataframe thead th {\n",
              "        text-align: right;\n",
              "    }\n",
              "</style>\n",
              "<table border=\"1\" class=\"dataframe\">\n",
              "  <thead>\n",
              "    <tr style=\"text-align: right;\">\n",
              "      <th></th>\n",
              "      <th>Name</th>\n",
              "      <th>Age</th>\n",
              "      <th>Address</th>\n",
              "      <th>Country</th>\n",
              "      <th>Qualification</th>\n",
              "    </tr>\n",
              "  </thead>\n",
              "  <tbody>\n",
              "    <tr>\n",
              "      <th>3</th>\n",
              "      <td>Anuj</td>\n",
              "      <td>32</td>\n",
              "      <td>Delhi</td>\n",
              "      <td>India</td>\n",
              "      <td>Phd</td>\n",
              "    </tr>\n",
              "  </tbody>\n",
              "</table>\n",
              "</div>\n",
              "      <button class=\"colab-df-convert\" onclick=\"convertToInteractive('df-0986d143-16bf-45ac-aea3-06f49c72ed96')\"\n",
              "              title=\"Convert this dataframe to an interactive table.\"\n",
              "              style=\"display:none;\">\n",
              "        \n",
              "  <svg xmlns=\"http://www.w3.org/2000/svg\" height=\"24px\"viewBox=\"0 0 24 24\"\n",
              "       width=\"24px\">\n",
              "    <path d=\"M0 0h24v24H0V0z\" fill=\"none\"/>\n",
              "    <path d=\"M18.56 5.44l.94 2.06.94-2.06 2.06-.94-2.06-.94-.94-2.06-.94 2.06-2.06.94zm-11 1L8.5 8.5l.94-2.06 2.06-.94-2.06-.94L8.5 2.5l-.94 2.06-2.06.94zm10 10l.94 2.06.94-2.06 2.06-.94-2.06-.94-.94-2.06-.94 2.06-2.06.94z\"/><path d=\"M17.41 7.96l-1.37-1.37c-.4-.4-.92-.59-1.43-.59-.52 0-1.04.2-1.43.59L10.3 9.45l-7.72 7.72c-.78.78-.78 2.05 0 2.83L4 21.41c.39.39.9.59 1.41.59.51 0 1.02-.2 1.41-.59l7.78-7.78 2.81-2.81c.8-.78.8-2.07 0-2.86zM5.41 20L4 18.59l7.72-7.72 1.47 1.35L5.41 20z\"/>\n",
              "  </svg>\n",
              "      </button>\n",
              "      \n",
              "  <style>\n",
              "    .colab-df-container {\n",
              "      display:flex;\n",
              "      flex-wrap:wrap;\n",
              "      gap: 12px;\n",
              "    }\n",
              "\n",
              "    .colab-df-convert {\n",
              "      background-color: #E8F0FE;\n",
              "      border: none;\n",
              "      border-radius: 50%;\n",
              "      cursor: pointer;\n",
              "      display: none;\n",
              "      fill: #1967D2;\n",
              "      height: 32px;\n",
              "      padding: 0 0 0 0;\n",
              "      width: 32px;\n",
              "    }\n",
              "\n",
              "    .colab-df-convert:hover {\n",
              "      background-color: #E2EBFA;\n",
              "      box-shadow: 0px 1px 2px rgba(60, 64, 67, 0.3), 0px 1px 3px 1px rgba(60, 64, 67, 0.15);\n",
              "      fill: #174EA6;\n",
              "    }\n",
              "\n",
              "    [theme=dark] .colab-df-convert {\n",
              "      background-color: #3B4455;\n",
              "      fill: #D2E3FC;\n",
              "    }\n",
              "\n",
              "    [theme=dark] .colab-df-convert:hover {\n",
              "      background-color: #434B5C;\n",
              "      box-shadow: 0px 1px 3px 1px rgba(0, 0, 0, 0.15);\n",
              "      filter: drop-shadow(0px 1px 2px rgba(0, 0, 0, 0.3));\n",
              "      fill: #FFFFFF;\n",
              "    }\n",
              "  </style>\n",
              "\n",
              "      <script>\n",
              "        const buttonEl =\n",
              "          document.querySelector('#df-0986d143-16bf-45ac-aea3-06f49c72ed96 button.colab-df-convert');\n",
              "        buttonEl.style.display =\n",
              "          google.colab.kernel.accessAllowed ? 'block' : 'none';\n",
              "\n",
              "        async function convertToInteractive(key) {\n",
              "          const element = document.querySelector('#df-0986d143-16bf-45ac-aea3-06f49c72ed96');\n",
              "          const dataTable =\n",
              "            await google.colab.kernel.invokeFunction('convertToInteractive',\n",
              "                                                     [key], {});\n",
              "          if (!dataTable) return;\n",
              "\n",
              "          const docLinkHtml = 'Like what you see? Visit the ' +\n",
              "            '<a target=\"_blank\" href=https://colab.research.google.com/notebooks/data_table.ipynb>data table notebook</a>'\n",
              "            + ' to learn more about interactive tables.';\n",
              "          element.innerHTML = '';\n",
              "          dataTable['output_type'] = 'display_data';\n",
              "          await google.colab.output.renderOutput(dataTable, element);\n",
              "          const docLink = document.createElement('div');\n",
              "          docLink.innerHTML = docLinkHtml;\n",
              "          element.appendChild(docLink);\n",
              "        }\n",
              "      </script>\n",
              "    </div>\n",
              "  </div>\n",
              "  "
            ]
          },
          "metadata": {},
          "execution_count": 252
        }
      ]
    },
    {
      "cell_type": "markdown",
      "source": [
        "### Assignment 5"
      ],
      "metadata": {
        "id": "R7Ci0uvU5O64"
      }
    },
    {
      "cell_type": "code",
      "source": [
        "# what are the dimensions of df1\n",
        "\n",
        "# your code here...\n",
        "\n",
        "df1.shape"
      ],
      "metadata": {
        "id": "ZLE-vvqXNEEQ",
        "colab": {
          "base_uri": "https://localhost:8080/"
        },
        "outputId": "192cd8a9-fc25-4b73-812e-2f2b90835a35"
      },
      "execution_count": 255,
      "outputs": [
        {
          "output_type": "execute_result",
          "data": {
            "text/plain": [
              "(4, 5)"
            ]
          },
          "metadata": {},
          "execution_count": 255
        }
      ]
    },
    {
      "cell_type": "code",
      "source": [
        "#@title Display Solution 5\n",
        "\n",
        "# what are the dimensions of df1\n",
        "\n",
        "df1.shape"
      ],
      "metadata": {
        "id": "4ndeXkVxNHRZ"
      },
      "execution_count": null,
      "outputs": []
    },
    {
      "cell_type": "markdown",
      "source": [
        "### Assignment 6"
      ],
      "metadata": {
        "id": "TyZREfW65Rc8"
      }
    },
    {
      "cell_type": "code",
      "source": [
        "# how many rows the df1 have ?\n",
        "\n",
        "# your code here...\n",
        "\n",
        "df1.shape[0]"
      ],
      "metadata": {
        "id": "BNElze5tNNd7",
        "colab": {
          "base_uri": "https://localhost:8080/"
        },
        "outputId": "9dced72c-f757-4ee4-f38d-5d7ca11c3b7d"
      },
      "execution_count": 257,
      "outputs": [
        {
          "output_type": "execute_result",
          "data": {
            "text/plain": [
              "4"
            ]
          },
          "metadata": {},
          "execution_count": 257
        }
      ]
    },
    {
      "cell_type": "code",
      "source": [
        "#@title Display Solution 6\n",
        "\n",
        "# how many rows ?\n",
        "\n",
        "print(len(df1))\n",
        "\n",
        "# OR ...\n",
        "\n",
        "df1.shape[0]\n"
      ],
      "metadata": {
        "id": "RGxr9pTUNSHZ"
      },
      "execution_count": null,
      "outputs": []
    },
    {
      "cell_type": "markdown",
      "source": [
        "### Assignment 7"
      ],
      "metadata": {
        "id": "VN6U40jk5TdH"
      }
    },
    {
      "cell_type": "code",
      "source": [
        "# how many columns\n",
        "\n",
        "# your code here ...\n",
        "\n",
        "df1.shape[1]"
      ],
      "metadata": {
        "id": "irc8-kylNf8S",
        "colab": {
          "base_uri": "https://localhost:8080/"
        },
        "outputId": "2a923fcb-fa98-4a89-c124-f0d741ada7e7"
      },
      "execution_count": 258,
      "outputs": [
        {
          "output_type": "execute_result",
          "data": {
            "text/plain": [
              "5"
            ]
          },
          "metadata": {},
          "execution_count": 258
        }
      ]
    },
    {
      "cell_type": "code",
      "source": [
        "#@title Display Solution 7\n",
        "\n",
        "# how many columns\n",
        "\n",
        "print(df1.shape[1])\n",
        "\n",
        "# or \n",
        "\n",
        "len(df1.columns)"
      ],
      "metadata": {
        "id": "L-zQAhgVNiyO"
      },
      "execution_count": null,
      "outputs": []
    },
    {
      "cell_type": "markdown",
      "source": [
        "### Assignment 8"
      ],
      "metadata": {
        "id": "_9p5rmqz5WBe"
      }
    },
    {
      "cell_type": "code",
      "source": [
        "# what are the names of the columns\n",
        "\n",
        "# your code here ...\n",
        "\n",
        "df1.columns"
      ],
      "metadata": {
        "id": "k0I9WeR9N3BI",
        "colab": {
          "base_uri": "https://localhost:8080/"
        },
        "outputId": "7071bc98-8097-458e-d11a-81fbe66f2618"
      },
      "execution_count": 259,
      "outputs": [
        {
          "output_type": "execute_result",
          "data": {
            "text/plain": [
              "Index(['Name', 'Age', 'Address', 'Country', 'Qualification'], dtype='object')"
            ]
          },
          "metadata": {},
          "execution_count": 259
        }
      ]
    },
    {
      "cell_type": "code",
      "source": [
        "#@title Display Solution 8\n",
        "\n",
        "# what are the name of the columns\n",
        "\n",
        "df1.columns"
      ],
      "metadata": {
        "id": "ny_IhL20N43m"
      },
      "execution_count": null,
      "outputs": []
    },
    {
      "cell_type": "markdown",
      "source": [
        "### Assignment 9"
      ],
      "metadata": {
        "id": "gsRWqggO5YM8"
      }
    },
    {
      "cell_type": "code",
      "source": [
        "# return the name of the second columns (the outcomu shoud be 'Age')\n",
        "\n",
        "# your code here ...\n",
        "\n",
        "df1.columns[1]"
      ],
      "metadata": {
        "id": "nDYKxYCBODpg",
        "colab": {
          "base_uri": "https://localhost:8080/",
          "height": 35
        },
        "outputId": "71f728f2-9580-4f70-c415-03887ce564eb"
      },
      "execution_count": 261,
      "outputs": [
        {
          "output_type": "execute_result",
          "data": {
            "text/plain": [
              "'Age'"
            ],
            "application/vnd.google.colaboratory.intrinsic+json": {
              "type": "string"
            }
          },
          "metadata": {},
          "execution_count": 261
        }
      ]
    },
    {
      "cell_type": "code",
      "source": [
        "#@title Display Solution 9\n",
        "\n",
        "# return the name of the second columns (in Python logic)\n",
        "\n",
        "df1.columns[1]"
      ],
      "metadata": {
        "id": "SkQlN37wOHmB"
      },
      "execution_count": null,
      "outputs": []
    },
    {
      "cell_type": "markdown",
      "source": [
        "### Locations & Slicing"
      ],
      "metadata": {
        "id": "r1-KCvcKOZSY"
      }
    },
    {
      "cell_type": "markdown",
      "source": [
        "### Assignment 10"
      ],
      "metadata": {
        "id": "ejKpeIs85a8l"
      }
    },
    {
      "cell_type": "code",
      "source": [
        "###  Locations -----------\n",
        "\n",
        "# access the 2nd row (with .iloc) (in python logic)\n",
        "# !!! don't forget the indexation starting from 0 !!!\n",
        "\n",
        "# your code here ....\n",
        "\n",
        "df1.iloc[1]"
      ],
      "metadata": {
        "id": "laHH7hA3Odfv",
        "colab": {
          "base_uri": "https://localhost:8080/"
        },
        "outputId": "70cd378d-358c-4947-9f65-adf0b75dfc6e"
      },
      "execution_count": 263,
      "outputs": [
        {
          "output_type": "execute_result",
          "data": {
            "text/plain": [
              "Name             Princi\n",
              "Age                  24\n",
              "Address          Kanpur\n",
              "Country           India\n",
              "Qualification        MA\n",
              "Name: 1, dtype: object"
            ]
          },
          "metadata": {},
          "execution_count": 263
        }
      ]
    },
    {
      "cell_type": "code",
      "source": [
        "#@title Display Solution 10\n",
        "\n",
        "# access the 2nd row\n",
        "\n",
        "print('the whole dataframe...')\n",
        "print(df1)\n",
        "print('')\n",
        "print('the 2nd row...at index 1...')\n",
        "df1.iloc[1]"
      ],
      "metadata": {
        "id": "nTM-4cDZOjfl",
        "colab": {
          "base_uri": "https://localhost:8080/"
        },
        "outputId": "b13867ff-6d4c-493b-f5b0-ae4494b412a3"
      },
      "execution_count": 264,
      "outputs": [
        {
          "output_type": "stream",
          "name": "stdout",
          "text": [
            "the whole dataframe...\n",
            "     Name  Age Address Country Qualification\n",
            "0     Jai   27   Delhi   India           Phd\n",
            "1  Princi   24  Kanpur   India            MA\n",
            "2  Gaurav   22  Kanpur   India           MCA\n",
            "3    Anuj   32   Delhi   India           Phd\n",
            "\n",
            "the 2nd row...at index 1...\n"
          ]
        },
        {
          "output_type": "execute_result",
          "data": {
            "text/plain": [
              "Name             Princi\n",
              "Age                  24\n",
              "Address          Kanpur\n",
              "Country           India\n",
              "Qualification        MA\n",
              "Name: 1, dtype: object"
            ]
          },
          "metadata": {},
          "execution_count": 264
        }
      ]
    },
    {
      "cell_type": "markdown",
      "source": [
        "### Assignment 11"
      ],
      "metadata": {
        "id": "YKUT0gyE5cz0"
      }
    },
    {
      "cell_type": "code",
      "source": [
        "# return the data with .iloc as below..\n",
        "\n",
        "'''\n",
        "Age  Adress \n",
        "24   Kanpur\n",
        "22   Kanpur\n",
        "'''\n",
        "\n",
        "# your code here..."
      ],
      "metadata": {
        "id": "qYgKSeCnO8Y9"
      },
      "execution_count": null,
      "outputs": []
    },
    {
      "cell_type": "code",
      "source": [
        "#@title Display Solution 11\n",
        "\n",
        "# return the data with .iloc\n",
        "\n",
        "'''\n",
        "Age  Adress \n",
        "24   Kanpur\n",
        "22   Kanpur\n",
        "'''\n",
        "\n",
        "df1.iloc[1:3, 1:3]"
      ],
      "metadata": {
        "id": "WWqXTZdmO_R4",
        "cellView": "form"
      },
      "execution_count": null,
      "outputs": []
    },
    {
      "cell_type": "markdown",
      "source": [
        "### Assignment 12"
      ],
      "metadata": {
        "id": "5dlajHs_5fr9"
      }
    },
    {
      "cell_type": "code",
      "source": [
        "# return the data with .iloc as below ...\n",
        "\n",
        "'''\n",
        "Name  Age \n",
        "Jay   27\n",
        "Anuj  32\n",
        "'''\n",
        "\n",
        "# your code here...\n"
      ],
      "metadata": {
        "id": "8dVE-xcxQFFw"
      },
      "execution_count": null,
      "outputs": []
    },
    {
      "cell_type": "code",
      "source": [
        "#@title Display Solution 12\n",
        "\n",
        "# return the data with .iloc\n",
        "\n",
        "'''\n",
        "Name  Age \n",
        "Jay   27\n",
        "Anuj  32\n",
        "'''\n",
        "\n",
        "\n",
        "df1.iloc[[0, -1], [0,1]]"
      ],
      "metadata": {
        "id": "kUqkUu8SQT2a",
        "cellView": "form"
      },
      "execution_count": null,
      "outputs": []
    },
    {
      "cell_type": "markdown",
      "source": [
        "### Assignment 13"
      ],
      "metadata": {
        "id": "NyAjSuco5itD"
      }
    },
    {
      "cell_type": "code",
      "source": [
        "# return 'Qualification' for rows from 'Jai' to 'Anuj' with .loc \n",
        "\n",
        "# don't forget to reset the index by using column 'Name' (*** .set_index() ***)\n",
        "\n",
        "# your code here..."
      ],
      "metadata": {
        "id": "FTurB5eqPfFM"
      },
      "execution_count": null,
      "outputs": []
    },
    {
      "cell_type": "code",
      "source": [
        "#@title Display Solution 13\n",
        "\n",
        "# return qualification for 'Jai' to 'Anuj' with .loc (!!! reset the index)\n",
        "\n",
        "print(df1)\n",
        "\n",
        "print('')\n",
        "\n",
        "# reset index\n",
        "df1 = df1.set_index('Name')\n",
        "\n",
        "# 'Qualification' for rows from 'Jai' to 'Anuj' with .loc \n",
        "df1.loc['Jai':'Anuj', 'Qualification']\n"
      ],
      "metadata": {
        "id": "LenGjne0PjD9",
        "cellView": "form"
      },
      "execution_count": null,
      "outputs": []
    },
    {
      "cell_type": "markdown",
      "source": [
        "### Assignment 14"
      ],
      "metadata": {
        "id": "GeKpisxz5m-K"
      }
    },
    {
      "cell_type": "code",
      "source": [
        "# return the Qualification and Address for 'Jai' , 'Anuj', 'Gaurav' with .loc\n",
        "\n",
        "# your code here ...\n"
      ],
      "metadata": {
        "id": "exiLcd-HSLu0"
      },
      "execution_count": null,
      "outputs": []
    },
    {
      "cell_type": "code",
      "source": [
        "#@title Display Solution 14\n",
        "\n",
        "# return the Qualification and Address for 'Jai' , 'Anuj', 'Gaurav' with .loc\n",
        "\n",
        "\n",
        "df1.loc[['Jai' , 'Anuj', 'Gaurav'], ['Qualification', 'Address']]"
      ],
      "metadata": {
        "id": "x62nPf_FSQM0",
        "cellView": "form"
      },
      "execution_count": null,
      "outputs": []
    },
    {
      "cell_type": "markdown",
      "source": [
        "### Filtering"
      ],
      "metadata": {
        "id": "JcOqOEImTHyx"
      }
    },
    {
      "cell_type": "markdown",
      "source": [
        "## Assignment 15"
      ],
      "metadata": {
        "id": "yC0udtAk5poF"
      }
    },
    {
      "cell_type": "code",
      "source": [
        "####  Filter -------------\n",
        "\n",
        "# access only the data where Qualification is Phd\n",
        "\n",
        "# your code here ...\n"
      ],
      "metadata": {
        "id": "7zS_dMQ9SjGn"
      },
      "execution_count": null,
      "outputs": []
    },
    {
      "cell_type": "code",
      "source": [
        "#@title Display Solution 15\n",
        "\n",
        "# access only the data where Qualification is Phd\n",
        "\n",
        "\n",
        "df1[df1['Qualification'] == 'Phd']"
      ],
      "metadata": {
        "id": "WTSE7Ev5SnFh",
        "cellView": "form"
      },
      "execution_count": null,
      "outputs": []
    },
    {
      "cell_type": "markdown",
      "source": [
        "### Join dataframes"
      ],
      "metadata": {
        "id": "l-TJHO8fTDhn"
      }
    },
    {
      "cell_type": "markdown",
      "source": [
        "### Assignment 16"
      ],
      "metadata": {
        "id": "23_EZFIn5r0r"
      }
    },
    {
      "cell_type": "code",
      "source": [
        "#### Join dfs ---------\n",
        "\n",
        "# create another dataframe df2\n",
        "\n",
        "# Define a dictionary called 'data' containing employee information\n",
        "data = {'Name':['Matt', 'Joe'],\n",
        "        'Age':[65, 43 ],\n",
        "        'Address':['Monge', 'Chatelet'],\n",
        "        'Country' : ['France', 'France'],\n",
        "        'Qualification':[ 'MCA', 'Phd']}\n",
        " \n",
        "# Convert the dictionary into DataFrame and call it df2\n",
        "\n",
        "# your code here ...\n"
      ],
      "metadata": {
        "id": "opNOR0hXTGxa"
      },
      "execution_count": null,
      "outputs": []
    },
    {
      "cell_type": "code",
      "source": [
        "#@title Display Solution 16\n",
        "\n",
        "# Define a dictionary containing employee data\n",
        "data = {'Name':['Matt', 'Joe'],\n",
        "        'Age':[65, 43 ],\n",
        "        'Address':['Monge', 'Chatelet'],\n",
        "        'Country' : ['France', 'France'],\n",
        "        'Qualification':[ 'MCA', 'Phd']}\n",
        "\n",
        "# Load the data into DataFrame and call it df2\n",
        "df2 = pd.DataFrame(data)\n",
        "\n",
        "# visualize the new df2\n",
        "df2"
      ],
      "metadata": {
        "id": "l126o6SfTT6m",
        "cellView": "form"
      },
      "execution_count": null,
      "outputs": []
    },
    {
      "cell_type": "markdown",
      "source": [
        "### Assignment 17"
      ],
      "metadata": {
        "id": "5I9lcuaJ5u1D"
      }
    },
    {
      "cell_type": "code",
      "source": [
        "# joinf df1 and df2 into a new dataframe df\n",
        "\n",
        "# ...keep in mind that the 2 dataframes are not structured in the same manner\n",
        "# ...for convinience, visualize the 2 df in diferent code cells, in order to compare them..\n",
        "\n",
        "# ...first, you'll need to harmonise the dfs structure, so we reset the index of df2 (by specifying that column Name should be used as an index)\n",
        "\n",
        "# your code here\n"
      ],
      "metadata": {
        "id": "NCmjJSWLT6HR"
      },
      "execution_count": null,
      "outputs": []
    },
    {
      "cell_type": "code",
      "source": [
        "#@title Display Solution 17\n",
        "\n",
        "\n",
        "# joinf df1 and df2 into a new dataframe df\n",
        "\n",
        "# keep in mind that the 2 dataframes are not structured in the same manner\n",
        "# df1 uses as index the column Name\n",
        "# df2 don't use column Name as a index ==> .set_index('Name)\n",
        "\n",
        "# ...for convinience, visualize the 2 df in diferent code cells, in order to compare them..\n",
        "\n",
        "# first, we need to harmonise the dfs structure, so we reset the index of df2(by specifying that column Name should be used as an index)\n",
        "df2 = df2.set_index('Name')\n",
        "\n",
        "# now you're ready to join the 2 dfs\n",
        "df = pd.concat([df1, df2]) # it will use the column names  to join by\n",
        "\n",
        "df"
      ],
      "metadata": {
        "id": "x09xQH3yUphM",
        "cellView": "form"
      },
      "execution_count": null,
      "outputs": []
    },
    {
      "cell_type": "markdown",
      "source": [
        "### Assignment 18"
      ],
      "metadata": {
        "id": "8DXxKkwy5xG2"
      }
    },
    {
      "cell_type": "code",
      "source": [
        "# check the dimension of the new joined df\n",
        "\n",
        "# your code here"
      ],
      "metadata": {
        "id": "3SMJFg39T7_4"
      },
      "execution_count": null,
      "outputs": []
    },
    {
      "cell_type": "code",
      "source": [
        "#@title Display Solution 18\n",
        "\n",
        "# check the dimension of the new joined df\n",
        "\n",
        "df.shape"
      ],
      "metadata": {
        "id": "GhrbfHJHUww_",
        "cellView": "form"
      },
      "execution_count": null,
      "outputs": []
    },
    {
      "cell_type": "markdown",
      "source": [
        "### Assignment 19"
      ],
      "metadata": {
        "id": "3vXfYcdo5zC3"
      }
    },
    {
      "cell_type": "code",
      "source": [
        "#### Modify df2 ----------\n",
        "\n",
        "# add a new row ['Calib', '34', 'Monge', 'France', 'Phd'] ==> (with .loc)\n",
        "# check again the dimensions of the modified df\n",
        "\n",
        "# your code here ...\n"
      ],
      "metadata": {
        "id": "AfW5lBUGUCYL"
      },
      "execution_count": null,
      "outputs": []
    },
    {
      "cell_type": "code",
      "source": [
        "#@title Display Solution 19\n",
        "\n",
        "# add a new row ['Calib', '34', 'Monge', 'Phd']\n",
        "\n",
        "df.loc['Calib']= ['34', 'Monge', 'France', 'Phd']\n",
        "\n",
        "# check again the dimensions of the modified df\n",
        "print(df.shape)\n",
        "\n",
        "df\n",
        "\n"
      ],
      "metadata": {
        "id": "U7MKISr_U1Y3",
        "cellView": "form"
      },
      "execution_count": null,
      "outputs": []
    },
    {
      "cell_type": "markdown",
      "source": [
        "### Assignment 20"
      ],
      "metadata": {
        "id": "-g0og0kc51K_"
      }
    },
    {
      "cell_type": "code",
      "source": [
        "# Matt has changed the address from 'Monge' to 'LA Défense' or 'La Défense' \n",
        "\n",
        "# update the dataframe accordingly using  .iloc method for 'LA Défense' \n",
        "## ==> you'll need to locate the indices (numeric) where: row = 'Matt', and column='Address'\n",
        "# visualize the output after update\n",
        "\n",
        "# and using  .loc method for 'La Defense'\n",
        "# visualize the output after update\n",
        "\n",
        "# your code here..."
      ],
      "metadata": {
        "id": "dX0NWudMUI6u"
      },
      "execution_count": null,
      "outputs": []
    },
    {
      "cell_type": "code",
      "source": [
        "#@title Display Solution 20\n",
        "\n",
        "# update the dataframe accordingly using  .iloc method for 'LA Defense'\n",
        "\n",
        "df.iloc[4,1] = 'LA Defense'\n",
        "# check if you got the wanted output\n",
        "print(df)\n",
        "print('')\n",
        "\n",
        "# and using  .loc method for 'La Defense'\n",
        "df.loc['Matt', 'Address']= 'La Defense'\n",
        "# check if you got the wanted output\n",
        "print(df)\n",
        "print('')\n"
      ],
      "metadata": {
        "id": "ZmKwLtmsU3OH",
        "cellView": "form"
      },
      "execution_count": null,
      "outputs": []
    },
    {
      "cell_type": "markdown",
      "source": [
        "### Explore df, convert columns Dtype"
      ],
      "metadata": {
        "id": "YJRceUHbUTcD"
      }
    },
    {
      "cell_type": "markdown",
      "source": [
        "### Assignment 21"
      ],
      "metadata": {
        "id": "7l5HAkhU53n6"
      }
    },
    {
      "cell_type": "code",
      "source": [
        "#### Explore df ------------\n",
        "\n",
        "# what data types are the columns ==> use .info() method\n",
        "# convert Age into a numeric Dtype\n",
        "\n",
        "# your code here\n"
      ],
      "metadata": {
        "id": "mXeSU9a5UN_3"
      },
      "execution_count": null,
      "outputs": []
    },
    {
      "cell_type": "code",
      "source": [
        "#@title Display Solution 21\n",
        "\n",
        "# general info of df ==> have a closer look at \"Age\" column ..\n",
        "\n",
        "df.info()"
      ],
      "metadata": {
        "id": "9ksYhRnGU5NI",
        "cellView": "form"
      },
      "execution_count": null,
      "outputs": []
    },
    {
      "cell_type": "code",
      "source": [
        "#@title Display Solution 21.1\n",
        "\n",
        "# when executing df.info() you can see that the column 'Age' has a data type (Dtype) as 'object' (think of it as a string)\n",
        "\n",
        "# if in the future we'll want to do some calculations with column 'Age' we need to to convert it to a numeric data type\n",
        "# convert column of a DataFrame\n",
        "df[\"Age\"] = pd.to_numeric(df[\"Age\"])\n",
        "\n",
        "# check again the Dtypes\n",
        "df.info()"
      ],
      "metadata": {
        "cellView": "form",
        "id": "Uh4-6hjOjamJ"
      },
      "execution_count": null,
      "outputs": []
    },
    {
      "cell_type": "markdown",
      "source": [
        "### Groupby"
      ],
      "metadata": {
        "id": "YTUB1nbqVBKD"
      }
    },
    {
      "cell_type": "markdown",
      "source": [
        "### Assignment 22"
      ],
      "metadata": {
        "id": "qKR4SypJ57-_"
      }
    },
    {
      "cell_type": "code",
      "source": [
        "#### Groupby -----------\n",
        "\n",
        "# what's the average age of people by Qualification  ==> use .groupby method\n",
        "\n",
        "# your code here\n"
      ],
      "metadata": {
        "id": "JnFE8KS9UYTl"
      },
      "execution_count": null,
      "outputs": []
    },
    {
      "cell_type": "code",
      "source": [
        "#@title Display Solution 22\n",
        "\n",
        "#check the mean age by city\n",
        "df.groupby(by=[\"Qualification\"])['Age'].mean()"
      ],
      "metadata": {
        "id": "lEDeBft9U8o4",
        "cellView": "form"
      },
      "execution_count": null,
      "outputs": []
    },
    {
      "cell_type": "markdown",
      "source": [
        "### Assignment 23"
      ],
      "metadata": {
        "id": "79NlF34ykr0u"
      }
    },
    {
      "cell_type": "code",
      "source": [
        "#### Groupby -----------\n",
        "\n",
        "# what's the average age of people that have the  'Qualification' == 'Phd' \n",
        "# you can do it in 2 steps...\n",
        "\n",
        "# step 1\n",
        "\n",
        "# first, you'll nedd to filter the data of those that have a 'Phd' and save it into a new dataframed called 'filtered'\n",
        "# visualize the new df 'filtered'\n",
        "\n",
        "# step 2\n",
        "\n",
        "# then use .groupby method on the filter data\n",
        "\n",
        "# your code here"
      ],
      "metadata": {
        "id": "mFwkTdCYkx-a"
      },
      "execution_count": null,
      "outputs": []
    },
    {
      "cell_type": "code",
      "source": [
        "#@title Display Solution 23.1\n",
        "\n",
        "filtered = df[df['Qualification']== 'Phd']\n",
        "filtered"
      ],
      "metadata": {
        "id": "hCIFkzT4kyi9",
        "cellView": "form"
      },
      "execution_count": null,
      "outputs": []
    },
    {
      "cell_type": "code",
      "source": [
        "#@title Display Solution 23.2\n",
        "\n",
        "# step 2....\n",
        "\n",
        "# use .groupby method on the filter data\n",
        "filtered.groupby(by=[\"Qualification\"])['Age'].mean()"
      ],
      "metadata": {
        "id": "s9f9XPQQmivt",
        "cellView": "form"
      },
      "execution_count": null,
      "outputs": []
    },
    {
      "cell_type": "markdown",
      "source": [
        "### Pivot"
      ],
      "metadata": {
        "id": "yT_U3i53VRoQ"
      }
    },
    {
      "cell_type": "markdown",
      "source": [
        "### Assignment 24"
      ],
      "metadata": {
        "id": "oOOIK5vA5-vH"
      }
    },
    {
      "cell_type": "code",
      "source": [
        "#### Pivot -----------\n",
        "\n",
        "# create a pivot table called 'pivot_table'\n",
        "#  where rows are the Adresses, \n",
        "#       columns their Qualifications, \n",
        "#                and values in the pivot table is the mean age\n",
        "\n",
        "## hint\n",
        "# first import numpy package as np as below\n",
        "\n",
        "import numpy as np\n",
        "\n",
        "# use pd.pivot_table() with necessary arguments\n",
        "\n",
        "# your code here ..."
      ],
      "metadata": {
        "id": "c4u4Z8dDz-pI"
      },
      "execution_count": null,
      "outputs": []
    },
    {
      "cell_type": "code",
      "source": [
        "#@title Display Solution 24\n",
        "\n",
        "pivot_table = pd.pivot_table(df, # data to pivot\n",
        "                       # where rows are the Addresses and names\n",
        "                       index=['Address'], # Grouper, Keys to group by on the pivot table index.\n",
        "                       # columns their Qualification\n",
        "                       columns='Qualification', # column to aggregate\n",
        "                       # and values in the pivot table is the  age\n",
        "                       values=['Age'], # Keys to group by on the pivot table column., will be the columns value\n",
        "                       # and you want the avg of the value age (meaning the aggregation function ==> mean)\n",
        "                       aggfunc=np.mean)# the aggregation function\n",
        "\n",
        "pivot_table"
      ],
      "metadata": {
        "id": "rSZFcb0PVAKc",
        "cellView": "form"
      },
      "execution_count": null,
      "outputs": []
    },
    {
      "cell_type": "markdown",
      "source": [
        "### Assignment 25"
      ],
      "metadata": {
        "id": "2jzUV7gaVuf7"
      }
    },
    {
      "cell_type": "code",
      "source": [
        "#### Pivot -----------\n",
        "\n",
        "# create a pivot table called 'pivot_table'\n",
        "#  where rows are the Country AND Address, \n",
        "#       columns their qualifications, \n",
        "#                and values in the pivot table is the mean age\n",
        "\n",
        "## hint\n",
        "# first import numpy package as np as below\n",
        "\n",
        "import numpy as np\n",
        "\n",
        "# use pd.pivot_table() with necessary arguments\n",
        "\n",
        "# your code here ..."
      ],
      "metadata": {
        "id": "P6aNEPG0skj1"
      },
      "execution_count": null,
      "outputs": []
    },
    {
      "cell_type": "code",
      "source": [
        "df"
      ],
      "metadata": {
        "id": "-sWJOqdlWHi6"
      },
      "execution_count": null,
      "outputs": []
    },
    {
      "cell_type": "code",
      "source": [
        "#@title Display Solution 25\n",
        "\n",
        "pivot_table = pd.pivot_table(df, # data to pivot\n",
        "                       # where rows are the qualifications and names\n",
        "                       index=['Country', 'Address'], # Grouper, Keys to group by on the pivot table index.\n",
        "                       # columns their Addresses\n",
        "                       columns='Qualification', # column to aggregate\n",
        "                       # and values in the pivot table is the  age\n",
        "                       values=['Age'], # Keys to group by on the pivot table column., will be the columns value\n",
        "                       # and you want the avg of the value age (meaning the aggregation function ==> mean)\n",
        "                       aggfunc=np.mean)# the aggregation function\n",
        "\n",
        "pivot_table"
      ],
      "metadata": {
        "id": "6sfyXgaxsPQv",
        "cellView": "form"
      },
      "execution_count": null,
      "outputs": []
    },
    {
      "cell_type": "markdown",
      "metadata": {
        "id": "6eKEbOwah5gZ"
      },
      "source": [
        "# 11 Loops"
      ]
    },
    {
      "cell_type": "markdown",
      "source": [
        "##  FOR"
      ],
      "metadata": {
        "id": "Ib4sbLHfdskF"
      }
    },
    {
      "cell_type": "markdown",
      "source": [
        "A **for** loop is used for iterating over a sequence (that is either a list, a tuple, a dictionary, a set, or a string).\n",
        "\n",
        "With the FOR loop we can execute a set of statements, once for each item in a list, tuple, set etc"
      ],
      "metadata": {
        "id": "cTJf_Fr7eLQe"
      }
    },
    {
      "cell_type": "code",
      "execution_count": null,
      "metadata": {
        "id": "NZ0yzBqufPxX"
      },
      "outputs": [],
      "source": [
        "# visualize code execution\n",
        "# https://pythontutor.com/python-debugger.html\n",
        "\n",
        "# create a list of groceries\n",
        "groceries = ['Apple','Orange', 'Banana', 'Apple' ,'Kiwi', 'Apple']\n",
        "\n",
        "groceries"
      ]
    },
    {
      "cell_type": "markdown",
      "source": [
        "the syntax of a 'for loop':\n",
        "\n",
        "\n",
        "**for** element **in** list:   \n",
        " _____*do something *\n",
        "\n",
        "It's like saying : for each element in the list, do something with it\n",
        "\n",
        "\n",
        "\n",
        "\n",
        "\n"
      ],
      "metadata": {
        "id": "W8OhPgNtfSP1"
      }
    },
    {
      "cell_type": "code",
      "source": [
        "# iterate through list to access/print each element of the list\n",
        "for item in groceries:\n",
        "    print(item)"
      ],
      "metadata": {
        "id": "F54uHz-1euAL"
      },
      "execution_count": null,
      "outputs": []
    },
    {
      "cell_type": "code",
      "source": [
        "# we can iterate with condition\n",
        "# we want to iterate our list, and to print out only 'Apple'\n",
        "\n",
        "# if element == 'Apple' then...\n",
        "# print out the value of the element and message '==> This is an apple'\n",
        "# else, print out the value of the element and the message '==> This is NOT an apple'\n",
        "\n",
        "for fruit in groceries:\n",
        "  if fruit == 'Apple':\n",
        "      print(fruit, '== > This is an apple')\n",
        "  else:\n",
        "    print(fruit, '==> This is NOT an apple')\n"
      ],
      "metadata": {
        "id": "giCEv6vFuYl6"
      },
      "execution_count": null,
      "outputs": []
    },
    {
      "cell_type": "code",
      "source": [
        "# we can iterate with condition through numeric values\n",
        "\n",
        "numbers = [-2, 4, -1, 8, 10]\n",
        "\n",
        "# if element is positive then...\n",
        "# devide each element in the list by 2\n",
        "# else, print that this number is not positive\n",
        "\n",
        "for number in numbers:\n",
        "  if number > 0:\n",
        "      print(number/2)\n",
        "  else:\n",
        "    print('this number is not positive')"
      ],
      "metadata": {
        "id": "cQs4Oqw7hpnV"
      },
      "execution_count": null,
      "outputs": []
    },
    {
      "cell_type": "code",
      "source": [
        "# we can iterate through a chain of strings\n",
        "\n",
        "string = 'ilovepython'\n",
        "\n",
        "# Python will think of this string as a list that contains the characters of the string...\n",
        "\n",
        "for letter in string:\n",
        "  print(letter)\n"
      ],
      "metadata": {
        "id": "TyK4fmiZuIiK"
      },
      "execution_count": null,
      "outputs": []
    },
    {
      "cell_type": "code",
      "source": [
        "# iterate through a chain of strings and do something (with condition...)\n",
        "\n",
        "vowels = ['a', 'e', 'i', 'o', 'u']\n",
        "\n",
        "# iterate through the string 'ilovepython' and if the letter is a vowel then print it in CAPITALS with function upper()\n",
        "for letter in string:\n",
        "  if letter in vowels:\n",
        "    print(letter.upper())\n",
        "  else:\n",
        "    print(letter)"
      ],
      "metadata": {
        "id": "uYNFXnikubKg"
      },
      "execution_count": null,
      "outputs": []
    },
    {
      "cell_type": "markdown",
      "source": [
        "Nested LIsts"
      ],
      "metadata": {
        "id": "tf-3sMEHuFzy"
      }
    },
    {
      "cell_type": "code",
      "execution_count": null,
      "metadata": {
        "id": "69oherPCiP-B"
      },
      "outputs": [],
      "source": [
        "# iterate through nested lists\n",
        "\n",
        "fruit_list = [['Apple', 4],['Orange', 2],['Banana', 6],['Kiwi', 5], ['Apple', 6], ['Apple', 12]]\n",
        "fruit_list"
      ]
    },
    {
      "cell_type": "code",
      "execution_count": null,
      "metadata": {
        "id": "elKUPogujRdk"
      },
      "outputs": [],
      "source": [
        "# access 1 element from the second item (\"2\")\n",
        "fruit_list[1][1]"
      ]
    },
    {
      "cell_type": "code",
      "source": [
        "# return 'Banana:\n",
        "\n",
        "# fruit_list[???] # the element  ['Banana', 6]\n",
        "\n",
        "fruit_list[2][0] # only the sub_element 'Banana'"
      ],
      "metadata": {
        "id": "H89NzsWdjo1E"
      },
      "execution_count": null,
      "outputs": []
    },
    {
      "cell_type": "code",
      "execution_count": null,
      "metadata": {
        "id": "bH79QaIvjKGF"
      },
      "outputs": [],
      "source": [
        "# iterate through a nested list\n",
        "# here an element is a list, with 2 items each ==> the fruit and the quantity\n",
        "\n",
        "for element in fruit_list:\n",
        "    print(element)"
      ]
    },
    {
      "cell_type": "code",
      "source": [
        "# iterate through a nested list\n",
        "# and to access the quantity of each fruit (==> the fruite has index 0, and quntity has index 1)\n",
        "\n",
        "for element in fruit_list:\n",
        "    print(element[1])"
      ],
      "metadata": {
        "id": "TEbYTy9xbgdP"
      },
      "execution_count": null,
      "outputs": []
    },
    {
      "cell_type": "code",
      "source": [
        "# iterate through a list with condition..\n",
        "\n",
        "# we want to access only fruits that are Apple\n",
        "\n",
        "# iterate the fruit_list\n",
        "for sublist in fruit_list: # for each element from the fruit_list called \"sublist\"\n",
        "  if sublist[0]== 'Apple': # if 1st element from the list (==> i.e index=0)\n",
        "    print(sublist) # print the sublist"
      ],
      "metadata": {
        "id": "hxPWeL8Gc3nw"
      },
      "execution_count": null,
      "outputs": []
    },
    {
      "cell_type": "code",
      "execution_count": null,
      "metadata": {
        "id": "S5EUd2mRjKxx"
      },
      "outputs": [],
      "source": [
        "# sometimes you'll need to access each element in a nested list and store them in a flat list (regular list) \n",
        "\n",
        "# iterate through nested lists\n",
        "# accesst each element and store it as a flat list\n",
        "# the expected output: ['Apple', 4, 'Orange', 2, 'Banana', 6, 'Kiwi', 5]\n",
        "\n",
        "# create a copy of fruit_list called copy_list wtth copy() function\n",
        "\n",
        "copy_list = fruit_list.copy()\n",
        "print(copy_list)\n",
        "print('')"
      ]
    },
    {
      "cell_type": "code",
      "source": [
        "# first, create an empty list called 'flat list' , where we'll store all elements\n",
        "\n",
        "flat_list = [] # empty list\n",
        "print(flat_list)\n",
        "print('')"
      ],
      "metadata": {
        "id": "I4lqcDZd52P7"
      },
      "execution_count": null,
      "outputs": []
    },
    {
      "cell_type": "code",
      "source": [
        "# we will iterate the list (copy_list), by accessing the sublist from this list\n",
        "# we wil ieterate through the sublist, to access each item form the sublist\n",
        "\n",
        "for sublist in copy_list: # iterate the sublists from the list\n",
        "    print(sublist) # at each iteration print the sublist\n",
        "    for item in sublist:   # then iterate through the sublist to acces each item in the sublist     \n",
        "        flat_list.append(item) # the append the iterated item to the flat_list\n",
        "\n",
        "print('')\n",
        "print(\"the final flat_list will look like: \", flat_list )"
      ],
      "metadata": {
        "id": "Ebeen44l58jq"
      },
      "execution_count": null,
      "outputs": []
    },
    {
      "cell_type": "markdown",
      "source": [
        "## WHILE"
      ],
      "metadata": {
        "id": "t1slvTG7dvpV"
      }
    },
    {
      "cell_type": "markdown",
      "source": [
        "With the while loop we can execute a set of statements as long as a condition is true"
      ],
      "metadata": {
        "id": "5ZUMaT2ise3T"
      }
    },
    {
      "cell_type": "code",
      "source": [
        "# as long i is less then 10, print i\n",
        "\n",
        "i = 1\n",
        "while i < 10:\n",
        "  print(i)\n",
        "  i += 1 # increment by 1"
      ],
      "metadata": {
        "id": "OO_qBHHor_M2"
      },
      "execution_count": null,
      "outputs": []
    },
    {
      "cell_type": "code",
      "source": [
        "# exit when i gets to 4\n",
        "\n",
        "i = 1\n",
        "while i < 10:\n",
        "  print(i)\n",
        "  if i == 4:\n",
        "    break\n",
        "  i += 1"
      ],
      "metadata": {
        "id": "XP6EspmVwtKa"
      },
      "execution_count": null,
      "outputs": []
    },
    {
      "cell_type": "markdown",
      "source": [
        "## Loops Practice ***"
      ],
      "metadata": {
        "id": "zfVPNcX9xCiF"
      }
    },
    {
      "cell_type": "markdown",
      "source": [
        "### FOR loops"
      ],
      "metadata": {
        "id": "fy0CWwmGwKnS"
      }
    },
    {
      "cell_type": "markdown",
      "source": [
        "You can use the following link visualize the code execution of the workflow\n",
        "https://pythontutor.com/python-debugger.html"
      ],
      "metadata": {
        "id": "vcQEKYGaze6e"
      }
    },
    {
      "cell_type": "markdown",
      "source": [
        "#### Assignment 1"
      ],
      "metadata": {
        "id": "nCns74RCwoso"
      }
    },
    {
      "cell_type": "code",
      "source": [
        "# Create a list \"departments\"\n",
        "\n",
        "departments = [\"Finance\", \"Human Ressources\", \"Finance\", \"Collection\", \"IT\", 'Finance']\n",
        "\n",
        "# write a code (using FOR loop),  to iterate through the list 'departments'\n",
        "\n",
        "# ...steps ...\n",
        "# create the list 'departments' \n",
        "# iterate through the list 'departments\n",
        "# and print out each element called 'department' of this list\n",
        "\n",
        "# your code here...."
      ],
      "metadata": {
        "id": "gnX60iQxy8IG"
      },
      "execution_count": null,
      "outputs": []
    },
    {
      "cell_type": "code",
      "source": [
        "#@title Display Solution 1\n",
        "\n",
        "departments = [\"Finance\", \"Human Ressources\", \"Finance\", \"Collection\", \"IT\", 'Finance']\n",
        "\n",
        "for department in departments:\n",
        "  print(department)\n",
        "\n"
      ],
      "metadata": {
        "id": "3kb-E6ByxVgH",
        "cellView": "form"
      },
      "execution_count": null,
      "outputs": []
    },
    {
      "cell_type": "markdown",
      "source": [
        "#### Assignment 2"
      ],
      "metadata": {
        "id": "JLPM8w_KyPFF"
      }
    },
    {
      "cell_type": "code",
      "source": [
        "# if the element \"department\" is 'Finance'... then...\n",
        "# print out the value of this element but in CAPITALS (using the .upper() method) \n",
        "\n",
        "# your code here ...\n"
      ],
      "metadata": {
        "id": "Cqu4f-p4yKuf"
      },
      "execution_count": null,
      "outputs": []
    },
    {
      "cell_type": "code",
      "source": [
        "#@title Display Solution 2\n",
        "\n",
        "for department in departments:\n",
        "  if department == 'Finance':\n",
        "    print(department.upper())"
      ],
      "metadata": {
        "id": "at0YH29izCdy",
        "cellView": "form"
      },
      "execution_count": null,
      "outputs": []
    },
    {
      "cell_type": "markdown",
      "source": [
        "#### Assignment 3"
      ],
      "metadata": {
        "id": "1s5KCUUG0KFu"
      }
    },
    {
      "cell_type": "code",
      "source": [
        "# iterate through nested lists ----\n",
        "\n",
        "# create a nested list \"departments_staff\" \n",
        "# where you'd like to store data of departments name\n",
        "# and the number of people in each department\n",
        "\n",
        "departments_staff = [['Finance', 14],['IT', 4],['Human Ressources', 6],['Collection', 2], ['Finance', 6]]\n",
        "\n",
        "# visualize the created list"
      ],
      "metadata": {
        "id": "EEsNC6uN0QYz"
      },
      "execution_count": null,
      "outputs": []
    },
    {
      "cell_type": "code",
      "source": [
        "#@title Display Solution 3\n",
        "\n",
        "# create a nested list \"departments_staff\"\n",
        "departments_staff = [['Finance', 14],['IT', 4],['Human Ressources', 6],['Collection', 2], ['Finance', 6]]\n",
        "\n",
        "# visualize the created list\n",
        "departments_staff"
      ],
      "metadata": {
        "id": "TzyMM-mc0TMt",
        "cellView": "form"
      },
      "execution_count": null,
      "outputs": []
    },
    {
      "cell_type": "markdown",
      "source": [
        "#### Assignment 4"
      ],
      "metadata": {
        "id": "aD6EUED51lfe"
      }
    },
    {
      "cell_type": "code",
      "source": [
        "# access to the element that concerns 'IT'\n",
        "# and check out the number of persons in 'IT' department\n",
        "\n",
        "# your code here...\n"
      ],
      "metadata": {
        "id": "kw5h_UrX1pon"
      },
      "execution_count": null,
      "outputs": []
    },
    {
      "cell_type": "code",
      "source": [
        "#@title Display Solution 4\n",
        "\n",
        "print('The number of persons in IT department: ',  departments_staff[1][1])"
      ],
      "metadata": {
        "cellView": "form",
        "id": "6VJAhfMa1qyy"
      },
      "execution_count": null,
      "outputs": []
    },
    {
      "cell_type": "markdown",
      "source": [
        "#### Assignment 5"
      ],
      "metadata": {
        "id": "dNLnbHYTkvwv"
      }
    },
    {
      "cell_type": "code",
      "source": [
        "# iterate through a list with condition..\n",
        "\n",
        "# how many Bananas do we have in fruit_list ? \n",
        "# ...use FOR loop to access the sublist that have \"Banana\" in it ..\n",
        "\n",
        "# your code here..."
      ],
      "metadata": {
        "id": "FIoz8ewWk0ml"
      },
      "execution_count": null,
      "outputs": []
    },
    {
      "cell_type": "code",
      "source": [
        "#@title Display Solution 5\n",
        "\n",
        "# iterate the fruit_list\n",
        "for sublist in fruit_list: # for each element from the fruit_list called \"sublist\"\n",
        "  if sublist[0]== 'Banana': # if 1st element from the list (==> i.e index=0)\n",
        "    print(sublist[1]) # print the sublist"
      ],
      "metadata": {
        "cellView": "form",
        "id": "JbUE4dQfk2Do"
      },
      "execution_count": null,
      "outputs": []
    },
    {
      "cell_type": "markdown",
      "source": [
        "#### Assignment 6"
      ],
      "metadata": {
        "id": "0WXiwvSa2fJh"
      }
    },
    {
      "cell_type": "code",
      "source": [
        "# create a copy of departments_staff called copy_list wtth copy() function\n",
        "\n",
        "copy_list = departments_staff.copy()\n",
        "print(copy_list)\n",
        "print('')\n",
        "\n",
        "# create an empty list where we'll store all elements and print it out\n",
        "\n",
        "flat_list = [] # empty list\n",
        "\n",
        "# iterate throught the nested list with FOR loop to access the sublists\n",
        "# ....access the items from the sublist\n",
        "# ....and then append this items to the flat_list\n",
        "\n",
        "# visualise the obtained flat list"
      ],
      "metadata": {
        "id": "uU0aIN8u2kS0"
      },
      "execution_count": null,
      "outputs": []
    },
    {
      "cell_type": "code",
      "source": [
        "#@title Display Solution 6\n",
        "\n",
        "# creat an empty list where we'll store all elements\n",
        "flat_list = [] # empty list\n",
        "print(flat_list)\n",
        "print('')\n",
        "\n",
        "# iterate throught the nested list with FOR loop to access the sublists\n",
        "for sublist in copy_list: # FOR loop to access the sublists\n",
        "    for item in sublist: # ....access the items from the sublist\n",
        "        flat_list.append(item) # ....and then append this items to the flat_list\n",
        "\n",
        "# visualise the obtained flat list\n",
        "flat_list"
      ],
      "metadata": {
        "cellView": "form",
        "id": "QPP7Clj4jjT5"
      },
      "execution_count": null,
      "outputs": []
    },
    {
      "cell_type": "markdown",
      "metadata": {
        "id": "et9L2zSBIg2B"
      },
      "source": [
        "# 12.&nbsp;Functions"
      ]
    },
    {
      "cell_type": "markdown",
      "source": [
        "A function is a block of code which only runs when it is called.\n",
        "\n",
        "You can pass data, known as parameters, into a function.\n",
        "\n",
        "A function can return data as a result."
      ],
      "metadata": {
        "id": "_SRANGfNyX38"
      }
    },
    {
      "cell_type": "markdown",
      "source": [
        "More about functions https://www.w3schools.com/python/python_functions.asp"
      ],
      "metadata": {
        "id": "WgDA6MVmyYya"
      }
    },
    {
      "cell_type": "code",
      "execution_count": null,
      "metadata": {
        "id": "siK6KnwfIjEG"
      },
      "outputs": [],
      "source": [
        "# create a function called operation\n",
        "# the syntax of a function is the keyword def, name of the function, the parameters to use, and the action of the function\n",
        "\n",
        "# write a function operation, when given the parameter x, would add + 2.6 to it, and then devided by 5.5\n",
        "# store the output int a variable \"result\"\n",
        "# and print out the output\n",
        "\n",
        "def operation(x):\n",
        "    result = (x + 2.6)/5.5\n",
        "    print(round(result, 2))\n",
        "\n",
        "\n",
        "# try your new function by giving values to arguments\n",
        "operation(10)\n"
      ]
    },
    {
      "cell_type": "markdown",
      "metadata": {
        "id": "gkowOQa65cmv"
      },
      "source": [
        "**Body Mass Indicator ==> BMI**"
      ]
    },
    {
      "cell_type": "code",
      "execution_count": null,
      "metadata": {
        "id": "2CcJwiOOJ2vV"
      },
      "outputs": [],
      "source": [
        "# compute body fat\n",
        "\n",
        "height = 66.2 # in inches (devide cm by 2,54)\n",
        "weight = 147.7 # in pounds (multiply kg by 2,205))\n",
        "\n",
        "# CALCULATE YOUR BODY MASS INDEX (BMI)\n",
        "bmi = round((weight/(height**2)  * 703), 2) # conversion factor of 703\n",
        "bmi"
      ]
    },
    {
      "cell_type": "code",
      "execution_count": null,
      "metadata": {
        "id": "9XDQgGcy46L-"
      },
      "outputs": [],
      "source": [
        "# create a function called bmi that would automatically compte the body fat \n",
        "\n",
        "# arguments needed to be passed during the function call : height and weight\n",
        "# the function will remeber the order of the arguments=>=  1st: height, 2nd : weight\n",
        "\n",
        "def bmi(height,weight):\n",
        "  bmi= round((weight/(height**2)  * 703), 2) \n",
        "  print('your Body Mass Index is ', round(bmi, 2))"
      ]
    },
    {
      "cell_type": "code",
      "execution_count": null,
      "metadata": {
        "id": "jfiI_Z8H5STy"
      },
      "outputs": [],
      "source": [
        "# when will call the function \"bmi\"...\n",
        "# in parathesis specify the arguments : height and weight with their respective values..\n",
        "\n",
        "\n",
        "# try your new function by giving values to arguments\n",
        "bmi(height=65,weight=140)"
      ]
    },
    {
      "cell_type": "code",
      "execution_count": null,
      "metadata": {
        "id": "zePBBlC15M6w"
      },
      "outputs": [],
      "source": [
        "# if we don't write the arguments name ....\n",
        "# python will understand that 1st '60' is the height\n",
        "# and 2nd '140' is the weight\n",
        "\n",
        "\n",
        "# try your new function by giving values to arguments\n",
        "bmi(65, 140)"
      ]
    },
    {
      "cell_type": "markdown",
      "metadata": {
        "id": "Vhx3iKza5thE"
      },
      "source": [
        "**Body Fat Percentage (BFP) for women**"
      ]
    },
    {
      "cell_type": "code",
      "execution_count": null,
      "metadata": {
        "id": "UgzoGwG5LU8v"
      },
      "outputs": [],
      "source": [
        "# let's create a more specific function \"bfp_women\" ..\n",
        "# where we'll return  the body fat percentage for women\n",
        "# the formula to compute the the bfp for women : (<<coefficient>> * bmi) + (<<coefficient>> * age) - 5.4\n",
        "# the metrics that are taken into account are the bmi and the age\n",
        "# and the respective coefficients 1.20, 0.23 and - 5.4 use to assess the bfp for women\n",
        "\n",
        "# write the function called 'bfp_women' with keyword def (from definition...)\n",
        "def bfp_women(bmi, age): # give the argument of the function (here bmi and age)\n",
        "  body_fat_pct = (1.20 * bmi) + (0.23 * age) - 5.4 # the formula of bfp\n",
        "  print(body_fat_pct) # and ask to return the outcome of 'body_fat_pct'\n",
        "\n",
        "# try your new function by giving values to arguments\n",
        "bfp_women(bmi= 18.3, age = 30)"
      ]
    },
    {
      "cell_type": "markdown",
      "metadata": {
        "id": "UTVeRB4Q52MI"
      },
      "source": [
        "**BFP diagnos caclulator for women**\n"
      ]
    },
    {
      "cell_type": "markdown",
      "source": [
        "*To assess if the BFP is in the norms we will a calculater by writing a function called `bfp_women_diagnosis` that will do the diagnosis automatically for us*"
      ],
      "metadata": {
        "id": "EvrB5CsGr1w_"
      }
    },
    {
      "cell_type": "markdown",
      "metadata": {
        "id": "y9EleC05PeVJ"
      },
      "source": [
        "Women diagnosis:\n",
        "\n",
        "*For 20-40 yrs old range:*\n",
        ">  \n",
        "\n",
        "*   Underfat: under 21 %,\n",
        "*   Healthy: 21-33 %\n",
        "*   Overweight: 33-39 %\n",
        "*   Obese: Over 39 %\n",
        "\n",
        "\n",
        "*For 41-60 yrs old range:*\n",
        "\n",
        "> \n",
        "\n",
        "* Underfat: under 23 %\n",
        "* Healthy: 23-35 %\n",
        "* Overweight : 35-40 %\n",
        "* Obese: over 40 %\n",
        "\n",
        "\n",
        "*For 61-79 yrs old range:*\n",
        "\n",
        "> \n",
        "\n",
        "* Underfat: under 24 %\n",
        "* Healthy: 24-36 %\n",
        "* Overweight: 36-42%\n",
        "* Obese: over 42 %"
      ]
    },
    {
      "cell_type": "code",
      "execution_count": null,
      "metadata": {
        "id": "S-PEaNEiPypE"
      },
      "outputs": [],
      "source": [
        "def bfp_women_diagnosis(height, weight, age):\n",
        "  bmi = (weight/(height**2) ) * 703\n",
        "  body_fat_pct = round(((1.20 * bmi) + (0.23 * age) - 5.4),2)\n",
        "\n",
        "# For the women within the range 20-40 y.o.\n",
        "  if age <=40:\n",
        "    # within the range 20-40 y.o. if body_fat_pct under 21\n",
        "     if body_fat_pct < 21:\n",
        "        print('your BFP is: ',  body_fat_pct, \"you are underfat\")\n",
        "    # within the range 20-40 y.o. if body_fat_pct between 21 and 33\n",
        "     elif body_fat_pct >= 21 and body_fat_pct < 33:\n",
        "        print('your BFP is: ',  body_fat_pct, \"you are healthy\")\n",
        "    # within the range 20-40 y.o. if body_fat_pct between 33 and 40\n",
        "     elif body_fat_pct >= 33 and body_fat_pct < 40:\n",
        "        print('your BFP is: ',  body_fat_pct, \"you are overweight\")\n",
        "    # within the range 20-40 y.o. if body_fat_pct over 39\n",
        "     else : \n",
        "        print('your BFP  is: ',  body_fat_pct, \"you are obese\")\n",
        "\n",
        "# For the women within the range 41-60 y.o.\n",
        "  if age > 40 and age <=60:\n",
        "     if body_fat_pct < 23:\n",
        "        print('your BFP is: ',  body_fat_pct, \"you are underfat\")\n",
        "     elif body_fat_pct >= 23 and body_fat_pct < 35:\n",
        "        print('your BFP is: ',  body_fat_pct, \"you are healthy\")\n",
        "     elif body_fat_pct >= 35 and body_fat_pct < 40:\n",
        "        print('your BFP is: ',  body_fat_pct, \"you are overweight\")\n",
        "     else : \n",
        "        print('your BFP  is: ',  body_fat_pct, \"you are obese\")\n",
        "\n",
        "# For the women within the range 60-79 y.o.\n",
        "  if age > 60:\n",
        "     if body_fat_pct < 24:\n",
        "        print('your BFP is: ',  body_fat_pct, \"you are underfat\")\n",
        "     elif body_fat_pct >= 24 and body_fat_pct < 36:\n",
        "        print('your BFP  is: ',  body_fat_pct, \"you are healthy\")\n",
        "     elif body_fat_pct >= 36 and body_fat_pct < 42:\n",
        "        print('your BFP  is: ',  body_fat_pct, \"you are healthy\")\n",
        "     else : \n",
        "        print('your BFP  is: ',  body_fat_pct, \"you are obese\")\n"
      ]
    },
    {
      "cell_type": "code",
      "source": [
        "bfp_women_diagnosis(66.2, 147.7, 40)"
      ],
      "metadata": {
        "id": "k86oVLNUG3K7"
      },
      "execution_count": null,
      "outputs": []
    },
    {
      "cell_type": "markdown",
      "metadata": {
        "id": "m-kpbX8f6CJX"
      },
      "source": [
        "**Body Fat Percentage for men**"
      ]
    },
    {
      "cell_type": "code",
      "execution_count": null,
      "metadata": {
        "id": "nRRlQL81NdoY"
      },
      "outputs": [],
      "source": [
        "def bfp_men(height, weight, age):\n",
        "  bmi  = (weight/(height**2) ) * 703\n",
        "  body_fat_pct = (1.20 * bmi) + (0.23 * age) - 16.2\n",
        "  print(round(body_fat_pct,2))\n",
        "\n",
        "bfp_men(height= 69, weight= 170, age = 40)"
      ]
    },
    {
      "cell_type": "markdown",
      "metadata": {
        "id": "Y5i03TgBKlab"
      },
      "source": [
        "\n",
        "Here are the standard metrics for **Men** diagnosis:\n",
        "\n",
        "For 20-40 yrs old range : \n",
        "\n",
        "> \n",
        "* Underfat: under 8 %\n",
        "* Healthy: 8-19 %\n",
        "* Overweight: 19-25 %\n",
        "* Obese: over 25%\n",
        "\n",
        "For 41-60 yrs old range:\n",
        "\n",
        "> \n",
        "* Underfat: under 11%\n",
        "* Healthy: 11-22%\n",
        "* Overweight: 22-27%\n",
        "* Obese: over 27%\n",
        "\n",
        "For 61-79 yrs old range:\n",
        "\n",
        "> \n",
        "* Underfat: under 13%\n",
        "* Healthy: 13-25%\n",
        "* Overweight: 25-30%\n",
        "* Obese: over 30%\n",
        "\n",
        "\n",
        " \n",
        " "
      ]
    },
    {
      "cell_type": "markdown",
      "metadata": {
        "id": "sX_gBua_UoVP"
      },
      "source": [
        "## Function Practice ***"
      ]
    },
    {
      "cell_type": "markdown",
      "source": [
        "### Assignment 1"
      ],
      "metadata": {
        "id": "uC-T7pVVK7Ym"
      }
    },
    {
      "cell_type": "code",
      "source": [
        "# Write a function called \"bfp_men_diagnosis\" \n",
        "#  that would calculate the bfp for men and would do the diagnosis \n",
        "# please use use the stardard metrics specific to MEN from below\n",
        "\n",
        "''' def bfp_men_diagnosis(height, weight, age):  \n",
        "          bmi  = (weight/(height**2) ) * 703\n",
        "          body_fat_pct = (1.20 * bmi) + (0.23 * age) - 16.2\n",
        "          ... ---------...\n",
        "          ... ---------...\n",
        "          ....\n",
        "'''\n",
        "\n",
        "# try your new function \"bfp_men_diagnosis\"  by giving some values to function arguments \n",
        "# bfp_men_diagnosis(height = '...', weight = '...', age = '...') ==> it has to be in inches, pound\n",
        "\n",
        "# ...your code here"
      ],
      "metadata": {
        "id": "zUkdKsQgLNLX"
      },
      "execution_count": null,
      "outputs": []
    },
    {
      "cell_type": "code",
      "source": [
        "#@title Display Solution 1\n",
        "\n",
        "def bfp_men_diagnosis(height, weight, age):\n",
        "    bmi = (weight/(height**2) ) * 703\n",
        "    body_fat_pct = round((1.20 * bmi) + (0.23 * age) - 16.2, 2)\n",
        "\n",
        "   # For men within the range 20-40 y.o.\n",
        "    if age <=40:\n",
        "      # within the range 20-40 y.o. if body_fat_pct under 8\n",
        "        if body_fat_pct < 8:\n",
        "            print('your BFP is: ',  body_fat_pct, \"you are underfat\")\n",
        "      # within the range 20-40 y.o. if body_fat_pct is between 8 and 19\n",
        "        elif body_fat_pct >= 8 and body_fat_pct < 19:\n",
        "            print('your BFP is: ',  body_fat_pct, \"you are healthy\")\n",
        "        # within the range 20-40 y.o. if body_fat_pct is between 19 and 25\n",
        "        elif body_fat_pct >= 19 and body_fat_pct < 25:\n",
        "            print('your BFP is: ',  body_fat_pct, \"you are overweight\")\n",
        "        # within the range 20-40 y.o. if body_fat_pct over 25\n",
        "        else : \n",
        "            print('your BFP  is: ',  body_fat_pct, \"you are obese\")\n",
        "\n",
        "  # For men within the range 41-60 y.o.\n",
        "    if age > 40 and age <=60:\n",
        "        if body_fat_pct < 11:\n",
        "            print('your BFP is: ',  body_fat_pct, \"you are underfat\")\n",
        "        elif body_fat_pct >= 11 and body_fat_pct < 22:\n",
        "            print('your BFP is: ',  body_fat_pct, \"you are healthy\")\n",
        "        elif body_fat_pct >= 22 and body_fat_pct < 27:\n",
        "            print('your BFP is: ',  body_fat_pct, \"you are overweight\")\n",
        "        else : \n",
        "            print('your BFP  is: ',  body_fat_pct, \"you are obese\")\n",
        "\n",
        "    #  For men within the range 60-79 y.o.  \n",
        "    if age > 60:\n",
        "        if body_fat_pct < 13:\n",
        "            print('your BFP is: ',  body_fat_pct, \"you are underfat\")\n",
        "        elif body_fat_pct >= 13 and body_fat_pct < 25:\n",
        "            print('your BFP  is: ',  body_fat_pct, \"you are healthy\")\n",
        "        elif body_fat_pct >= 25 and body_fat_pct < 30:\n",
        "            print('your BFP  is: ',  body_fat_pct, \"you are healthy\")\n",
        "        else : \n",
        "            print('your BFP  is: ',  body_fat_pct, \"you are obese\")\n",
        "\n",
        "# try your new function \"bfp_men_diagnosis\"  by giving some values to function arguments \n",
        "bfp_men_diagnosis(height = 76, weight = 160, age = 50)"
      ],
      "metadata": {
        "cellView": "form",
        "id": "NCmmudaxIjjM"
      },
      "execution_count": null,
      "outputs": []
    },
    {
      "cell_type": "markdown",
      "source": [
        "### Assignment 2"
      ],
      "metadata": {
        "id": "bWyNfT6NKx7b"
      }
    },
    {
      "cell_type": "code",
      "execution_count": null,
      "metadata": {
        "id": "ftjDqT04USdQ"
      },
      "outputs": [],
      "source": [
        "# Write a function **bfp_diagnosis()**\n",
        "# that would calculate the bfp would do tha diagnosis, no matter women or men giving arguments (height= , weight= , age = , gender = )\n",
        "\n",
        "# use the function that you created previously << bfp_men_diagnosis(height, weight, age) >> IF gender == 'M'\n",
        "# use the function that you created previously << bfp_women_diagnosis(height, weight, age) >> if gender == 'F' (with 'ELIF'..)\n",
        "# 'ELSE\" ==> print('not specified')\n",
        "\n",
        "# try your new function bfp_diagnosis() by giving vlues to arguments (height= , weight= , age = , gender = )\n",
        "\n",
        "# your code here ..."
      ]
    },
    {
      "cell_type": "code",
      "source": [
        "#@title Display Solution 6\n",
        "\n",
        "\n",
        "def bfp_diagnosis(height, weight, age, gender):\n",
        "\n",
        "    if gender == 'M':        # IF gender == 'M'\n",
        "      # use the function that you created previously << bfp_men_diagnosis(height, weight, age) \n",
        "       print(bfp_men_diagnosis(height, weight, age))\n",
        "\n",
        "    elif gender == 'F':    # if gender == 'F'\n",
        "\n",
        "     # use the function that you created previously << bfp_women_diagnosis(height, weight, age) \n",
        "      print(bfp_women_diagnosis(height, weight, age))\n",
        "      \n",
        "    else:\n",
        "      print('not specified')\n",
        "\n",
        "\n",
        "\n",
        "# try your new function bfp_diagnosis() by giving vlues to arguments (height= , weight= , age = , gender = )\n",
        "bfp_diagnosis(66.2, 147.7, 40, gender= 'F')"
      ],
      "metadata": {
        "cellView": "form",
        "id": "j0EWW0o_IqDG"
      },
      "execution_count": null,
      "outputs": []
    },
    {
      "cell_type": "code",
      "source": [],
      "metadata": {
        "id": "vDF8GoW7bhI_"
      },
      "execution_count": null,
      "outputs": []
    }
  ],
  "metadata": {
    "colab": {
      "provenance": [],
      "toc_visible": true,
      "collapsed_sections": [
        "t1slvTG7dvpV"
      ],
      "include_colab_link": true
    },
    "kernelspec": {
      "display_name": "Python 3 (ipykernel)",
      "language": "python",
      "name": "python3"
    },
    "language_info": {
      "codemirror_mode": {
        "name": "ipython",
        "version": 3
      },
      "file_extension": ".py",
      "mimetype": "text/x-python",
      "name": "python",
      "nbconvert_exporter": "python",
      "pygments_lexer": "ipython3",
      "version": "3.9.7"
    }
  },
  "nbformat": 4,
  "nbformat_minor": 0
}